{
  "cells": [
    {
      "cell_type": "code",
      "execution_count": 12,
      "metadata": {
        "id": "mxlxV_v2KHD3",
        "colab": {
          "base_uri": "https://localhost:8080/"
        },
        "outputId": "b205e135-87c9-47c9-f7fa-d74fd1bd3983"
      },
      "outputs": [
        {
          "output_type": "stream",
          "name": "stdout",
          "text": [
            "/content\n",
            "/content/recohut\n",
            "Initialized empty Git repository in /content/recohut/.git/\n",
            "remote: Enumerating objects: 358, done.\u001b[K\n",
            "remote: Counting objects: 100% (36/36), done.\u001b[K\n",
            "remote: Compressing objects: 100% (28/28), done.\u001b[K\n",
            "remote: Total 358 (delta 4), reused 22 (delta 4), pack-reused 322\u001b[K\n",
            "Receiving objects: 100% (358/358), 364.94 KiB | 3.12 MiB/s, done.\n",
            "Resolving deltas: 100% (160/160), done.\n",
            "From https://github.com/RecoHut-Projects/recohut\n",
            " * branch            S341976    -> FETCH_HEAD\n",
            " * [new branch]      S341976    -> origin/S341976\n",
            "Branch 'S341976' set up to track remote branch 'S341976' from 'origin'.\n",
            "Switched to a new branch 'S341976'\n"
          ]
        }
      ],
      "source": [
        "#hide\n",
        "project_name = \"recohut\"; branch = \"S341976\"; account = \"RecoHut-Projects\"\n",
        "%cd /content\n",
        "!rm -r \"{project_name}\"\n",
        "import os\n",
        "project_path = os.path.join('/content', project_name)\n",
        "if not os.path.exists(project_path):\n",
        "    !pip install -q nbdev\n",
        "    !cp -r /content/drive/MyDrive/git_credentials/. ~\n",
        "    path = \"/content/\" + project_name; \n",
        "    !mkdir \"{path}\"\n",
        "    %cd \"{path}\"\n",
        "    !git init\n",
        "    !git remote add origin https://github.com/\"{account}\"/\"{project_name}\".git\n",
        "    !git pull origin \"{branch}\"\n",
        "    !git checkout \"{branch}\"\n",
        "    !pip install -q -e .\n",
        "else:\n",
        "    %cd \"{project_path}\""
      ]
    },
    {
      "cell_type": "code",
      "execution_count": 1,
      "metadata": {
        "id": "fycOO2OxKHEF"
      },
      "outputs": [],
      "source": [
        "# default_exp transforms.aggregate"
      ]
    },
    {
      "cell_type": "markdown",
      "metadata": {
        "id": "sB1CMZ8HKHEI"
      },
      "source": [
        "# Aggregate\n",
        "> Aggregation of records."
      ]
    },
    {
      "cell_type": "code",
      "execution_count": 1,
      "metadata": {
        "id": "fXARJb2xKHEQ"
      },
      "outputs": [],
      "source": [
        "#hide\n",
        "from nbdev.showdoc import *"
      ]
    },
    {
      "cell_type": "code",
      "execution_count": 2,
      "metadata": {
        "id": "2fvEbSw7KHES"
      },
      "outputs": [],
      "source": [
        "#export\n",
        "import numpy as np\n",
        "import pandas as pd"
      ]
    },
    {
      "cell_type": "code",
      "source": [
        "#export\n",
        "def simple_aggregate(data,\n",
        "                     drop_duplicates=True,\n",
        "                     by='AFFINITY',\n",
        "                     aggregation='mean',\n",
        "                     weights=None,\n",
        "                     half_life=None,\n",
        "                     ):\n",
        "  \n",
        "  if drop_duplicates:\n",
        "    data = data.drop_duplicates()\n",
        "  \n",
        "  if by in data.columns:\n",
        "\n",
        "    if weights:\n",
        "      data = data.replace({by:weights})\n",
        "\n",
        "    if half_life:\n",
        "      t_ref = pd.to_datetime(data['TIMESTAMP']).max()\n",
        "      data[by] = data.apply(lambda x: x[by] * np.power(0.5, (t_ref - pd.to_datetime(x['TIMESTAMP'])).days / half_life), axis=1)\n",
        "\n",
        "    data = data.groupby(['USERID', 'ITEMID']).agg({by: aggregation}).reset_index()\n",
        "\n",
        "  else:\n",
        "\n",
        "    data[by] = 1\n",
        "    data = data.groupby(['USERID', 'ITEMID']).agg({by: 'count'}).reset_index()\n",
        "\n",
        "  return data"
      ],
      "metadata": {
        "id": "bKarkdU3dLm6"
      },
      "execution_count": 3,
      "outputs": []
    },
    {
      "cell_type": "code",
      "execution_count": 4,
      "metadata": {
        "id": "mQlGoGnBKHEV",
        "outputId": "99df5342-3d64-4c5b-c50e-bd8eb8325e3a",
        "colab": {
          "base_uri": "https://localhost:8080/"
        }
      },
      "outputs": [
        {
          "output_type": "stream",
          "name": "stdout",
          "text": [
            "Author: Sparsh A.\n",
            "\n",
            "Last updated: 2021-12-18 06:58:48\n",
            "\n",
            "Compiler    : GCC 7.5.0\n",
            "OS          : Linux\n",
            "Release     : 5.4.104+\n",
            "Machine     : x86_64\n",
            "Processor   : x86_64\n",
            "CPU cores   : 2\n",
            "Architecture: 64bit\n",
            "\n",
            "pandas : 1.1.5\n",
            "numpy  : 1.19.5\n",
            "IPython: 5.5.0\n",
            "\n"
          ]
        }
      ],
      "source": [
        "#hide\n",
        "!pip install -q watermark\n",
        "%reload_ext watermark\n",
        "%watermark -a \"Sparsh A.\" -m -iv -u -t -d"
      ]
    }
  ],
  "metadata": {
    "kernelspec": {
      "display_name": "Python 3",
      "name": "python3"
    },
    "colab": {
      "name": "Module Template (Simple)",
      "provenance": [],
      "collapsed_sections": []
    }
  },
  "nbformat": 4,
  "nbformat_minor": 0
}