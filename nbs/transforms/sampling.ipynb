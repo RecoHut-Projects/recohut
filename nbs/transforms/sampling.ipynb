{
  "cells": [
    {
      "cell_type": "code",
      "execution_count": null,
      "metadata": {
        "id": "fycOO2OxKHEF"
      },
      "outputs": [],
      "source": [
        "# default_exp transforms.sampling"
      ]
    },
    {
      "cell_type": "markdown",
      "metadata": {
        "id": "sB1CMZ8HKHEI"
      },
      "source": [
        "# Sampling\n",
        "> Data sampling methods."
      ]
    },
    {
      "cell_type": "code",
      "execution_count": null,
      "metadata": {
        "id": "fXARJb2xKHEQ"
      },
      "outputs": [],
      "source": [
        "#hide\n",
        "from nbdev.showdoc import *"
      ]
    },
    {
      "cell_type": "code",
      "execution_count": null,
      "metadata": {
        "id": "2fvEbSw7KHES"
      },
      "outputs": [],
      "source": [
        "#export\n",
        "import numpy as np\n",
        "import pandas as pd"
      ]
    },
    {
      "cell_type": "code",
      "source": [
        "#export\n",
        "def simple_negative_sampling(data,\n",
        "                             num_negatives=4,\n",
        "                             binarization=False,\n",
        "                             feedback_column='RATING'):\n",
        "  \n",
        "  # Get a list of all Item IDs\n",
        "  all_itemsIds = data['ITEMID'].unique()\n",
        "\n",
        "  # Placeholders that will hold the data\n",
        "  users, items, labels = [], [], []\n",
        "\n",
        "  if binarization:\n",
        "    data.loc[:,feedback_column] = 1\n",
        "\n",
        "  user_item_set = set(zip(data['USERID'], data['ITEMID'], data[feedback_column]))\n",
        "\n",
        "  for (u, i, r) in user_item_set:\n",
        "    users.append(u)\n",
        "    items.append(i)\n",
        "    labels.append(r)\n",
        "    for _ in range(num_negatives):\n",
        "      # randomly select an item\n",
        "      negative_item = np.random.choice(all_itemsIds) \n",
        "      # check that the user has not interacted with this item\n",
        "      while (u, negative_item) in user_item_set:\n",
        "          negative_item = np.random.choice(all_itemsIds)\n",
        "      users.append(u)\n",
        "      items.append(negative_item)\n",
        "      labels.append(0) # items not interacted with are negative\n",
        "  ns_data = pd.DataFrame(list(zip(users, items, labels)),\n",
        "                         columns=['USERID','ITEMID',feedback_column])\n",
        "  return ns_data"
      ],
      "metadata": {
        "id": "bKarkdU3dLm6"
      },
      "execution_count": null,
      "outputs": []
    },
    {
      "cell_type": "code",
      "execution_count": null,
      "metadata": {
        "id": "mQlGoGnBKHEV",
        "outputId": "17b1d2ba-2398-45aa-e1d6-0d0ca8d99f5e",
        "colab": {
          "base_uri": "https://localhost:8080/"
        }
      },
      "outputs": [
        {
          "output_type": "stream",
          "name": "stdout",
          "text": [
            "Author: Sparsh A.\n",
            "\n",
            "Last updated: 2021-12-18 08:41:40\n",
            "\n",
            "Compiler    : GCC 7.5.0\n",
            "OS          : Linux\n",
            "Release     : 5.4.104+\n",
            "Machine     : x86_64\n",
            "Processor   : x86_64\n",
            "CPU cores   : 2\n",
            "Architecture: 64bit\n",
            "\n",
            "numpy  : 1.19.5\n",
            "pandas : 1.1.5\n",
            "IPython: 5.5.0\n",
            "\n"
          ]
        }
      ],
      "source": [
        "#hide\n",
        "!pip install -q watermark\n",
        "%reload_ext watermark\n",
        "%watermark -a \"Sparsh A.\" -m -iv -u -t -d"
      ]
    }
  ],
  "metadata": {
    "kernelspec": {
      "display_name": "Python 3",
      "name": "python3"
    },
    "colab": {
      "name": "M345347 | Transforms > Sampling",
      "provenance": [],
      "collapsed_sections": []
    }
  },
  "nbformat": 4,
  "nbformat_minor": 0
}