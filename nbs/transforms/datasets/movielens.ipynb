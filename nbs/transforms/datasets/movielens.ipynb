{
  "cells": [
    {
      "cell_type": "code",
      "execution_count": null,
      "metadata": {
        "id": "fycOO2OxKHEF"
      },
      "outputs": [],
      "source": [
        "# default_exp transforms.datasets.movielens"
      ]
    },
    {
      "cell_type": "markdown",
      "metadata": {
        "id": "sB1CMZ8HKHEI"
      },
      "source": [
        "# MovieLens Dataset Transformation\n",
        "> Implementation of transformation functions specific to movielens datasets."
      ]
    },
    {
      "cell_type": "code",
      "execution_count": null,
      "metadata": {
        "id": "fXARJb2xKHEQ"
      },
      "outputs": [],
      "source": [
        "#hide\n",
        "from nbdev.showdoc import *"
      ]
    },
    {
      "cell_type": "code",
      "execution_count": null,
      "metadata": {
        "id": "2fvEbSw7KHES"
      },
      "outputs": [],
      "source": [
        "#export\n",
        "import pandas as pd\n",
        "import numpy as np\n",
        "import random\n",
        "from tqdm import tqdm\n",
        "from collections import defaultdict"
      ]
    },
    {
      "cell_type": "code",
      "source": [
        "#export\n",
        "def sparseFeature(feat, feat_num, embed_dim=4):\n",
        "    \"\"\"\n",
        "    create dictionary for sparse feature\n",
        "    :param feat: feature name\n",
        "    :param feat_num: the total number of sparse features that do not repeat\n",
        "    :param embed_dim: embedding dimension\n",
        "    :return:\n",
        "    \"\"\"\n",
        "    return {'feat': feat, 'feat_num': feat_num, 'embed_dim': embed_dim}"
      ],
      "metadata": {
        "id": "uSltCFrxvUr-"
      },
      "execution_count": null,
      "outputs": []
    },
    {
      "cell_type": "code",
      "source": [
        "#export\n",
        "def create_ml_1m_dataset(file, trans_score=2, embed_dim=8, test_neg_num=100):\n",
        "    \"\"\"\n",
        "    :param file: A string. dataset path.\n",
        "    :param trans_score: A scalar. Greater than it is 1, and less than it is 0.\n",
        "    :param embed_dim: A scalar. latent factor.\n",
        "    :param test_neg_num: A scalar. The number of test negative samples\n",
        "    :return: user_num, item_num, train_df, test_df\n",
        "    \"\"\"\n",
        "    print('==========Data Preprocess Start=============')\n",
        "    data_df = pd.read_csv(file, sep=\"::\", engine='python',\n",
        "                          names=['user_id', 'item_id', 'label', 'Timestamp'])\n",
        "    # filtering\n",
        "    data_df['item_count'] = data_df.groupby('item_id')['item_id'].transform('count')\n",
        "    data_df = data_df[data_df.item_count >= 5]\n",
        "    # trans score\n",
        "    data_df = data_df[data_df.label >= trans_score]\n",
        "    # sort\n",
        "    data_df = data_df.sort_values(by=['user_id', 'Timestamp'])\n",
        "    # split dataset and negative sampling\n",
        "    print('============Negative Sampling===============')\n",
        "    train_data, val_data, test_data = defaultdict(list), defaultdict(list), defaultdict(list)\n",
        "    item_id_max = data_df['item_id'].max()\n",
        "    for user_id, df in tqdm(data_df[['user_id', 'item_id']].groupby('user_id')):\n",
        "        pos_list = df['item_id'].tolist()\n",
        "\n",
        "        def gen_neg():\n",
        "            neg = pos_list[0]\n",
        "            while neg in set(pos_list):\n",
        "                neg = random.randint(1, item_id_max)\n",
        "            return neg\n",
        "\n",
        "        neg_list = [gen_neg() for i in range(len(pos_list) + test_neg_num)]\n",
        "        for i in range(1, len(pos_list)):\n",
        "            hist_i = pos_list[:i]\n",
        "            if i == len(pos_list) - 1:\n",
        "                test_data['user_id'].append(user_id)\n",
        "                test_data['pos_id'].append(pos_list[i])\n",
        "                test_data['neg_id'].append(neg_list[i:])\n",
        "            elif i == len(pos_list) - 2:\n",
        "                val_data['user_id'].append(user_id)\n",
        "                val_data['pos_id'].append(pos_list[i])\n",
        "                val_data['neg_id'].append(neg_list[i])\n",
        "            else:\n",
        "                train_data['user_id'].append(user_id)\n",
        "                train_data['pos_id'].append(pos_list[i])\n",
        "                train_data['neg_id'].append(neg_list[i])\n",
        "    # feature columns\n",
        "    user_num, item_num = data_df['user_id'].max() + 1, data_df['item_id'].max() + 1\n",
        "    feat_col = [sparseFeature('user_id', user_num, embed_dim),\n",
        "                sparseFeature('item_id', item_num, embed_dim)]\n",
        "    # shuffle\n",
        "    random.shuffle(train_data)\n",
        "    random.shuffle(val_data)\n",
        "    train = [np.array(train_data['user_id']), np.array(train_data['pos_id']),\n",
        "               np.array(train_data['neg_id'])]\n",
        "    val = [np.array(val_data['user_id']), np.array(val_data['pos_id']),\n",
        "             np.array(val_data['neg_id'])]\n",
        "    test = [np.array(test_data['user_id']), np.array(test_data['pos_id']),\n",
        "              np.array(test_data['neg_id'])]\n",
        "    print('============Data Preprocess End=============')\n",
        "    return feat_col, train, val, test"
      ],
      "metadata": {
        "id": "bKarkdU3dLm6"
      },
      "execution_count": null,
      "outputs": []
    },
    {
      "cell_type": "code",
      "source": [
        "!wget -q --show-progress https://files.grouplens.org/datasets/movielens/ml-1m.zip\n",
        "!unzip ml-1m.zip"
      ],
      "metadata": {
        "colab": {
          "base_uri": "https://localhost:8080/"
        },
        "id": "dH-FXufswIjE",
        "outputId": "5920936c-5487-4c1b-ebd0-0f803f1f58d5"
      },
      "execution_count": null,
      "outputs": [
        {
          "output_type": "stream",
          "name": "stdout",
          "text": [
            "ml-1m.zip           100%[===================>]   5.64M  3.71MB/s    in 1.5s    \n",
            "Archive:  ml-1m.zip\n",
            "   creating: ml-1m/\n",
            "  inflating: ml-1m/movies.dat        \n",
            "  inflating: ml-1m/ratings.dat       \n",
            "  inflating: ml-1m/README            \n",
            "  inflating: ml-1m/users.dat         \n"
          ]
        }
      ]
    },
    {
      "cell_type": "code",
      "source": [
        "file = 'ml-1m/ratings.dat'\n",
        "trans_score = 1\n",
        "test_neg_num = 100\n",
        "embed_dim = 64\n",
        "\n",
        "feature_columns, train, val, test = create_ml_1m_dataset(file, trans_score, embed_dim, test_neg_num)"
      ],
      "metadata": {
        "colab": {
          "base_uri": "https://localhost:8080/"
        },
        "id": "kP-Mv7LenpXC",
        "outputId": "b9e94da2-2762-480b-a3ec-1b154398a2b4"
      },
      "execution_count": null,
      "outputs": [
        {
          "output_type": "stream",
          "name": "stdout",
          "text": [
            "==========Data Preprocess Start=============\n",
            "============Negative Sampling===============\n"
          ]
        },
        {
          "output_type": "stream",
          "name": "stderr",
          "text": [
            "100%|██████████| 6040/6040 [00:44<00:00, 134.33it/s]\n"
          ]
        },
        {
          "output_type": "stream",
          "name": "stdout",
          "text": [
            "============Data Preprocess End=============\n"
          ]
        }
      ]
    },
    {
      "cell_type": "code",
      "source": [
        "feature_columns"
      ],
      "metadata": {
        "colab": {
          "base_uri": "https://localhost:8080/"
        },
        "id": "ZnDbg1AKwMia",
        "outputId": "f5eb4349-9a03-4ae3-a20c-ecfb9b03af5c"
      },
      "execution_count": null,
      "outputs": [
        {
          "output_type": "execute_result",
          "data": {
            "text/plain": [
              "[{'embed_dim': 64, 'feat': 'user_id', 'feat_num': 6041},\n",
              " {'embed_dim': 64, 'feat': 'item_id', 'feat_num': 3953}]"
            ]
          },
          "metadata": {},
          "execution_count": 28
        }
      ]
    },
    {
      "cell_type": "code",
      "source": [
        "train"
      ],
      "metadata": {
        "colab": {
          "base_uri": "https://localhost:8080/"
        },
        "id": "kJOoiCcUweAk",
        "outputId": "a62e91ff-01ad-4b6b-ef2a-36d5405a2042"
      },
      "execution_count": null,
      "outputs": [
        {
          "output_type": "execute_result",
          "data": {
            "text/plain": [
              "[array([   1,    1,    1, ..., 6040, 6040, 6040]),\n",
              " array([1270, 1721, 1022, ..., 2917, 1921, 1784]),\n",
              " array([2152, 1229, 3617, ..., 2960, 3686, 1569])]"
            ]
          },
          "metadata": {},
          "execution_count": 29
        }
      ]
    },
    {
      "cell_type": "code",
      "source": [
        "val"
      ],
      "metadata": {
        "colab": {
          "base_uri": "https://localhost:8080/"
        },
        "id": "uE_DIybvwd6j",
        "outputId": "23873d6f-ed1f-47ad-d33a-909c40eac7b2"
      },
      "execution_count": null,
      "outputs": [
        {
          "output_type": "execute_result",
          "data": {
            "text/plain": [
              "[array([   1,    2,    3, ..., 6038, 6039, 6040]),\n",
              " array([1907, 1544, 3868, ..., 2700, 1204,  161]),\n",
              " array([3132, 1812,  271, ..., 1697, 2718, 3572])]"
            ]
          },
          "metadata": {},
          "execution_count": 30
        }
      ]
    },
    {
      "cell_type": "code",
      "source": [
        "test"
      ],
      "metadata": {
        "colab": {
          "base_uri": "https://localhost:8080/"
        },
        "id": "ALW-YMkHwd2N",
        "outputId": "15b7bcb3-c7e0-4b9e-9af8-f9a4f05b002d"
      },
      "execution_count": null,
      "outputs": [
        {
          "output_type": "execute_result",
          "data": {
            "text/plain": [
              "[array([   1,    2,    3, ..., 6038, 6039, 6040]),\n",
              " array([  48, 1917, 2081, ..., 1183, 1254, 1221]),\n",
              " array([[ 426, 1915, 2201, ..., 1687, 2916, 1266],\n",
              "        [3294, 2362,  167, ..., 1322, 2715, 3013],\n",
              "        [2973, 3000, 1832, ...,  514, 2845, 1901],\n",
              "        ...,\n",
              "        [1258,  335, 3638, ..., 3582, 2221,  763],\n",
              "        [1767, 2924,  691, ..., 1624, 2493,  371],\n",
              "        [1106, 3048, 1940, ..., 3520, 2102, 2275]])]"
            ]
          },
          "metadata": {},
          "execution_count": 31
        }
      ]
    },
    {
      "cell_type": "code",
      "execution_count": null,
      "metadata": {
        "id": "mQlGoGnBKHEV",
        "outputId": "d13522b8-8f0f-4457-97b8-011918e07b6e",
        "colab": {
          "base_uri": "https://localhost:8080/"
        }
      },
      "outputs": [
        {
          "output_type": "stream",
          "name": "stdout",
          "text": [
            "Author: Sparsh A.\n",
            "\n",
            "Last updated: 2021-12-20 07:34:27\n",
            "\n",
            "Compiler    : GCC 7.5.0\n",
            "OS          : Linux\n",
            "Release     : 5.4.104+\n",
            "Machine     : x86_64\n",
            "Processor   : x86_64\n",
            "CPU cores   : 2\n",
            "Architecture: 64bit\n",
            "\n",
            "pandas : 1.1.5\n",
            "torch  : 1.10.0+cu111\n",
            "google : 2.0.3\n",
            "IPython: 5.5.0\n",
            "numpy  : 1.19.5\n",
            "\n"
          ]
        }
      ],
      "source": [
        "#hide\n",
        "!pip install -q watermark\n",
        "%reload_ext watermark\n",
        "%watermark -a \"Sparsh A.\" -m -iv -u -t -d"
      ]
    }
  ],
  "metadata": {
    "kernelspec": {
      "display_name": "Python 3",
      "name": "python3"
    },
    "colab": {
      "name": "M120868 | transforms > datasets > movielens",
      "provenance": [],
      "collapsed_sections": []
    }
  },
  "nbformat": 4,
  "nbformat_minor": 0
}