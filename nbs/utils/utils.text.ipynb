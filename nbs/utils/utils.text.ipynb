{
  "cells": [
    {
      "cell_type": "code",
      "execution_count": null,
      "metadata": {
        "id": "fycOO2OxKHEF"
      },
      "outputs": [],
      "source": [
        "# default_exp utils.text"
      ]
    },
    {
      "cell_type": "markdown",
      "metadata": {
        "id": "1KypvcFZI64_"
      },
      "source": [
        "# Text utils\n",
        "> Implementation of text utilities."
      ]
    },
    {
      "cell_type": "code",
      "execution_count": null,
      "metadata": {
        "id": "RGwuVx5oI65E"
      },
      "outputs": [],
      "source": [
        "#hide\n",
        "from nbdev.showdoc import *\n",
        "from fastcore.nb_imports import *\n",
        "from fastcore.test import *"
      ]
    },
    {
      "cell_type": "code",
      "source": [
        "#export\n",
        "import re\n",
        "import nltk\n",
        "from nltk.corpus import stopwords"
      ],
      "metadata": {
        "id": "kgV29YlqFzPf"
      },
      "execution_count": null,
      "outputs": []
    },
    {
      "cell_type": "code",
      "source": [
        "#export\n",
        "nltk.download('stopwords', quiet=True)\n",
        "stopword = set(stopwords.words('english'))"
      ],
      "metadata": {
        "id": "SDR3sdsJF1QZ"
      },
      "execution_count": null,
      "outputs": []
    },
    {
      "cell_type": "markdown",
      "source": [
        "## text_clean"
      ],
      "metadata": {
        "id": "OFo9Sj18GKVm"
      }
    },
    {
      "cell_type": "code",
      "source": [
        "#export\n",
        "def text_clean(txt):\n",
        "  txt = re.sub('[^A-Za-z0-9]+', ' ', txt)\n",
        "  txt = txt.lower()\n",
        "  pattern = re.compile(r'\\b(' + r'|'.join(stopword) + r')\\b\\s*')\n",
        "  txt = pattern.sub(' ', txt)\n",
        "  txt = ' '.join(txt.split())\n",
        "  return txt"
      ],
      "metadata": {
        "id": "htT87jrrstJI"
      },
      "execution_count": null,
      "outputs": []
    },
    {
      "cell_type": "markdown",
      "source": [
        "Example"
      ],
      "metadata": {
        "id": "pV84fw8BGHW3"
      }
    },
    {
      "cell_type": "code",
      "source": [
        "text_clean(\"Guns N' Roses Popular Card Tee Shirt for Pretty Lady XXL Red\")"
      ],
      "metadata": {
        "colab": {
          "base_uri": "https://localhost:8080/",
          "height": 35
        },
        "id": "PzIw_j_pFQa9",
        "outputId": "6719a09e-cc27-41e8-b9cb-9bd960ab352e"
      },
      "execution_count": null,
      "outputs": [
        {
          "output_type": "execute_result",
          "data": {
            "application/vnd.google.colaboratory.intrinsic+json": {
              "type": "string"
            },
            "text/plain": [
              "'guns n roses popular card tee shirt pretty lady xxl red'"
            ]
          },
          "metadata": {},
          "execution_count": 110
        }
      ]
    }
  ],
  "metadata": {
    "colab": {
      "collapsed_sections": [],
      "name": "utils > text",
      "provenance": [],
      "mount_file_id": "1FEZmnoLGIsTsGiK2gi1TsIHLAaWCXF_a",
      "authorship_tag": "ABX9TyPy3wQ5kyXY3m0m+uaRBr+Y"
    },
    "kernelspec": {
      "display_name": "Python 3",
      "name": "python3"
    },
    "language_info": {
      "name": "python"
    }
  },
  "nbformat": 4,
  "nbformat_minor": 0
}