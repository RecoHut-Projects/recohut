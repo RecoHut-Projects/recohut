{
  "cells": [
    {
      "cell_type": "code",
      "execution_count": null,
      "metadata": {
        "id": "_EVG9vmKkXNE"
      },
      "outputs": [],
      "source": [
        "# default_exp utils.normalize"
      ]
    },
    {
      "cell_type": "markdown",
      "metadata": {
        "id": "SrUf0GrakXNO"
      },
      "source": [
        "# Normalize\n",
        "> Data normalization methods."
      ]
    },
    {
      "cell_type": "code",
      "execution_count": null,
      "metadata": {
        "id": "c3dkQwA5kXNT"
      },
      "outputs": [],
      "source": [
        "#hide\n",
        "from nbdev.showdoc import *"
      ]
    },
    {
      "cell_type": "code",
      "execution_count": null,
      "metadata": {
        "id": "pUF7oIC5kXNW"
      },
      "outputs": [],
      "source": [
        "#export\n",
        "def simple_normalize(data, method='minmax', target_column='RATING'):\n",
        "\n",
        "  zscore = lambda x: (x - x.mean()) / x.std()\n",
        "  minmax = lambda x: (x - x.min()) / (x.max() - x.min())\n",
        "\n",
        "  if method=='minmax':\n",
        "    norm = data.groupby('USERID')[target_column].transform(minmax)\n",
        "  elif method=='zscore':\n",
        "    norm = data.groupby('USERID')[target_column].transform(zscore)\n",
        "  \n",
        "  data.loc[:,target_column] = norm\n",
        "  \n",
        "  return data"
      ]
    },
    {
      "cell_type": "code",
      "execution_count": null,
      "metadata": {
        "id": "zkx5esK0kXNY",
        "outputId": "441f6f15-040c-495d-b59d-944363f20a4f"
      },
      "outputs": [
        {
          "name": "stdout",
          "output_type": "stream",
          "text": [
            "Author: Sparsh A.\n",
            "\n",
            "Last updated: 2021-12-18 08:35:26\n",
            "\n",
            "Compiler    : GCC 7.5.0\n",
            "OS          : Linux\n",
            "Release     : 5.4.104+\n",
            "Machine     : x86_64\n",
            "Processor   : x86_64\n",
            "CPU cores   : 2\n",
            "Architecture: 64bit\n",
            "\n",
            "IPython: 5.5.0\n",
            "\n"
          ]
        }
      ],
      "source": [
        "#hide\n",
        "!pip install -q watermark\n",
        "%reload_ext watermark\n",
        "%watermark -a \"Sparsh A.\" -m -iv -u -t -d"
      ]
    }
  ],
  "metadata": {
    "kernelspec": {
      "display_name": "Python 3",
      "name": "python3"
    },
    "colab": {
      "name": "transforms.normalize.ipynb",
      "provenance": []
    }
  },
  "nbformat": 4,
  "nbformat_minor": 0
}