{
  "cells": [
    {
      "cell_type": "code",
      "execution_count": null,
      "metadata": {
        "id": "AT9V_gMKMPnH"
      },
      "outputs": [],
      "source": [
        "# default_exp utils.datetime"
      ]
    },
    {
      "cell_type": "markdown",
      "metadata": {
        "id": "lU2HYqBZMPnQ"
      },
      "source": [
        "# Datetime\n",
        "> Implementation of date and time utilities."
      ]
    },
    {
      "cell_type": "code",
      "execution_count": null,
      "metadata": {
        "id": "udMZuvn9MPnX"
      },
      "outputs": [],
      "source": [
        "#hide\n",
        "from nbdev.showdoc import *\n",
        "from fastcore.nb_imports import *\n",
        "from fastcore.test import *"
      ]
    },
    {
      "cell_type": "code",
      "execution_count": null,
      "metadata": {
        "id": "g11BxwKZMPna"
      },
      "outputs": [],
      "source": [
        "#export\n",
        "import pandas as pd"
      ]
    },
    {
      "cell_type": "markdown",
      "metadata": {
        "id": "s0GbLGUsMPnd"
      },
      "source": [
        "## convert_to_unix"
      ]
    },
    {
      "cell_type": "code",
      "source": [
        "#export\n",
        "def convert_to_unix(s: pd.Series):\n",
        "    return (s - pd.Timestamp(\"1970-01-01\")) // pd.Timedelta('1s')"
      ],
      "metadata": {
        "id": "RQvlzsrpMZ5u"
      },
      "execution_count": null,
      "outputs": []
    }
  ],
  "metadata": {
    "kernelspec": {
      "display_name": "Python 3",
      "name": "python3"
    },
    "colab": {
      "name": "utils > datetime",
      "provenance": []
    }
  },
  "nbformat": 4,
  "nbformat_minor": 0
}