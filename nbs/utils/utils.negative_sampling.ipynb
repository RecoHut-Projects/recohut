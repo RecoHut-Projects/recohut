{
  "cells": [
    {
      "cell_type": "code",
      "execution_count": null,
      "metadata": {
        "id": "FOM2LAkKgKtK"
      },
      "outputs": [],
      "source": [
        "# default_exp utils.negative_sampling"
      ]
    },
    {
      "cell_type": "markdown",
      "metadata": {
        "id": "WUU8WtK2gKtT"
      },
      "source": [
        "# Negative Sampling\n",
        "> Implementation of utilities for negative sampling."
      ]
    },
    {
      "cell_type": "code",
      "execution_count": null,
      "metadata": {
        "id": "RGwuVx5oI65E"
      },
      "outputs": [],
      "source": [
        "#hide\n",
        "from nbdev.showdoc import *\n",
        "from fastcore.nb_imports import *\n",
        "from fastcore.test import *"
      ]
    },
    {
      "cell_type": "code",
      "source": [
        "#export\n",
        "import random"
      ],
      "metadata": {
        "id": "CgIFPn9fiQMP"
      },
      "execution_count": null,
      "outputs": []
    },
    {
      "cell_type": "code",
      "source": [
        "#export\n",
        "def random_neg_sample(item_set, item_size):\n",
        "    item = random.randint(1, item_size - 1)\n",
        "    while item in item_set:\n",
        "        item = random.randint(1, item_size - 1)\n",
        "    return item"
      ],
      "metadata": {
        "id": "NCEyh6LfiJjq"
      },
      "execution_count": null,
      "outputs": []
    },
    {
      "cell_type": "markdown",
      "source": [
        "Tests"
      ],
      "metadata": {
        "id": "nsi0G--Uk1k5"
      }
    },
    {
      "cell_type": "code",
      "source": [
        "item_set = [1,2,3,4,5]\n",
        "item_size = 10\n",
        "random.seed(32)\n",
        "neg_item = random_neg_sample(item_set, item_size)\n",
        "\n",
        "test_eq(neg_item, 8)"
      ],
      "metadata": {
        "id": "7R1sNtfyiQn8"
      },
      "execution_count": null,
      "outputs": []
    },
    {
      "cell_type": "code",
      "source": [
        "item_set = [1,2,3,4,5,5]\n",
        "item_size = 10\n",
        "random.seed(45)\n",
        "neg_item = random_neg_sample(item_set, item_size)\n",
        "\n",
        "test_eq(neg_item, 7)"
      ],
      "metadata": {
        "id": "uBS1g6-uimoL"
      },
      "execution_count": null,
      "outputs": []
    },
    {
      "cell_type": "code",
      "source": [
        "item_set = [1,2,3,4,5]\n",
        "item_size = -1\n",
        "random.seed(45)\n",
        "\n",
        "test_fail(lambda: random_neg_sample(item_set, item_size), contains=\"empty range for randrange() (1,-1, -2)\")"
      ],
      "metadata": {
        "id": "8zjJCzrgiqD1"
      },
      "execution_count": null,
      "outputs": []
    },
    {
      "cell_type": "code",
      "execution_count": null,
      "metadata": {
        "colab": {
          "base_uri": "https://localhost:8080/"
        },
        "outputId": "1d36c816-27dc-41fa-911b-0f0e3f1f9e6e",
        "id": "rCCO7rdnkqsC"
      },
      "outputs": [
        {
          "output_type": "stream",
          "name": "stdout",
          "text": [
            "PIL.Image 7.1.2\n",
            "numpy     1.19.5\n",
            "Sparsh A. \n",
            "last updated: 2022-01-22 06:56:30 \n",
            "\n",
            "recohut 0.0.11\n",
            "\n",
            "compiler   : GCC 7.5.0\n",
            "system     : Linux\n",
            "release    : 5.4.144+\n",
            "machine    : x86_64\n",
            "processor  : x86_64\n",
            "CPU cores  : 2\n",
            "interpreter: 64bit\n"
          ]
        }
      ],
      "source": [
        "#hide\n",
        "%reload_ext watermark\n",
        "%watermark -a \"Sparsh A.\" -m -iv -u -t -d -p recohut"
      ]
    }
  ],
  "metadata": {
    "kernelspec": {
      "display_name": "Python 3",
      "name": "python3"
    },
    "colab": {
      "name": "utils > negative_sampling",
      "provenance": []
    }
  },
  "nbformat": 4,
  "nbformat_minor": 0
}