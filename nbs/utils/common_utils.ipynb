{
  "cells": [
    {
      "cell_type": "code",
      "execution_count": null,
      "metadata": {
        "id": "fycOO2OxKHEF"
      },
      "outputs": [],
      "source": [
        "# default_exp utils.common_utils"
      ]
    },
    {
      "cell_type": "markdown",
      "metadata": {
        "id": "0SLaUtHMzJ8B"
      },
      "source": [
        "# Common utils\n",
        "> A collection of utilities often used."
      ]
    },
    {
      "cell_type": "code",
      "execution_count": null,
      "metadata": {
        "id": "G5OqSbCezJ8H"
      },
      "outputs": [],
      "source": [
        "#hide\n",
        "from nbdev.showdoc import *"
      ]
    },
    {
      "cell_type": "code",
      "execution_count": null,
      "metadata": {
        "id": "Rw_AsBzQzJ8L"
      },
      "outputs": [],
      "source": [
        "#export\n",
        "import sys\n",
        "import ssl\n",
        "import os.path as osp\n",
        "from six.moves import urllib\n",
        "import errno\n",
        "import tarfile\n",
        "import zipfile\n",
        "import bz2\n",
        "import gzip"
      ]
    },
    {
      "cell_type": "markdown",
      "source": [
        "## Download"
      ],
      "metadata": {
        "id": "qTTHB2VnCTrx"
      }
    },
    {
      "cell_type": "code",
      "source": [
        "#exporti\n",
        "def makedirs(path):\n",
        "    try:\n",
        "        os.makedirs(osp.expanduser(osp.normpath(path)))\n",
        "    except OSError as e:\n",
        "        if e.errno != errno.EEXIST and osp.isdir(path):\n",
        "            raise e"
      ],
      "metadata": {
        "id": "RwAlG2u6Amlx"
      },
      "execution_count": null,
      "outputs": []
    },
    {
      "cell_type": "code",
      "source": [
        "#export\n",
        "def wget_download(url, savepath):\n",
        "    import wget\n",
        "    wget.download(url, str(savepath))"
      ],
      "metadata": {
        "id": "HUg0cQZDUYuE"
      },
      "execution_count": null,
      "outputs": []
    },
    {
      "cell_type": "code",
      "source": [
        "#export\n",
        "def download_url(url: str, folder: str, log: bool = True):\n",
        "    r\"\"\"Downloads the content of an URL to a specific folder.\n",
        "    Args:\n",
        "        url (string): The url.\n",
        "        folder (string): The folder.\n",
        "        log (bool, optional): If :obj:`False`, will not print anything to the\n",
        "            console. (default: :obj:`True`)\n",
        "    \"\"\"\n",
        "\n",
        "    filename = url.rpartition('/')[2]\n",
        "    filename = filename if filename[0] == '?' else filename.split('?')[0]\n",
        "    path = osp.join(folder, filename)\n",
        "\n",
        "    if osp.exists(path):  # pragma: no cover\n",
        "        if log:\n",
        "            print(f'Using existing file {filename}', file=sys.stderr)\n",
        "        return path\n",
        "\n",
        "    if log:\n",
        "        print(f'Downloading {url}', file=sys.stderr)\n",
        "\n",
        "    makedirs(folder)\n",
        "\n",
        "    context = ssl._create_unverified_context()\n",
        "    data = urllib.request.urlopen(url, context=context)\n",
        "\n",
        "    with open(path, 'wb') as f:\n",
        "        f.write(data.read())\n",
        "\n",
        "    return path"
      ],
      "metadata": {
        "id": "7gDP_WlbSAgU"
      },
      "execution_count": null,
      "outputs": []
    },
    {
      "cell_type": "code",
      "source": [
        "download_url('https://files.grouplens.org/datasets/movielens/ml-1m.zip',\n",
        "             './data/bronze')"
      ],
      "metadata": {
        "colab": {
          "base_uri": "https://localhost:8080/",
          "height": 53
        },
        "id": "sUFwHSRySDdx",
        "outputId": "bed61c04-1592-40b6-e939-6a622aad84c7"
      },
      "execution_count": null,
      "outputs": [
        {
          "output_type": "stream",
          "name": "stderr",
          "text": [
            "Downloading https://files.grouplens.org/datasets/movielens/ml-1m.zip\n"
          ]
        },
        {
          "output_type": "execute_result",
          "data": {
            "application/vnd.google.colaboratory.intrinsic+json": {
              "type": "string"
            },
            "text/plain": [
              "'./data/bronze/ml-1m.zip'"
            ]
          },
          "metadata": {},
          "execution_count": 72
        }
      ]
    },
    {
      "cell_type": "code",
      "source": [
        "!tree ./data"
      ],
      "metadata": {
        "colab": {
          "base_uri": "https://localhost:8080/"
        },
        "id": "0PX3luZNBseO",
        "outputId": "35eae691-5f7d-47b1-b561-2355be738c01"
      },
      "execution_count": null,
      "outputs": [
        {
          "output_type": "stream",
          "name": "stdout",
          "text": [
            "./data\n",
            "└── bronze\n",
            "    └── ml-1m.zip\n",
            "\n",
            "1 directory, 1 file\n"
          ]
        }
      ]
    },
    {
      "cell_type": "code",
      "source": [
        "!tree --du -h -C ./data"
      ],
      "metadata": {
        "colab": {
          "base_uri": "https://localhost:8080/"
        },
        "id": "VuELgtGNWyWm",
        "outputId": "e0c6b860-5287-4bf7-bf42-53a46077ceba"
      },
      "execution_count": null,
      "outputs": [
        {
          "output_type": "stream",
          "name": "stdout",
          "text": [
            "\u001b[01;34m./data\u001b[00m\n",
            "├── [ 24M]  \u001b[01;34mbronze\u001b[00m\n",
            "│   └── [ 24M]  \u001b[01;34mml-1m\u001b[00m\n",
            "│       ├── [167K]  movies.dat\n",
            "│       ├── [ 23M]  ratings.dat\n",
            "│       ├── [5.4K]  README\n",
            "│       └── [131K]  users.dat\n",
            "└── [3.0M]  \u001b[01;34msilver\u001b[00m\n",
            "    └── [3.0M]  \u001b[01;34mml-1m_min_rating0-min_uc5-min_sc5-splitleave_one_out\u001b[00m\n",
            "        └── [3.0M]  dataset.pkl\n",
            "\n",
            "  27M used in 4 directories, 5 files\n"
          ]
        }
      ]
    },
    {
      "cell_type": "markdown",
      "source": [
        "---"
      ],
      "metadata": {
        "id": "Hdx74RpHCMy0"
      }
    },
    {
      "cell_type": "markdown",
      "source": [
        "## Extract"
      ],
      "metadata": {
        "id": "zj1ForoKCJYf"
      }
    },
    {
      "cell_type": "code",
      "source": [
        "#exporti\n",
        "def maybe_log(path, log=True):\n",
        "    if log:\n",
        "        print(f'Extracting {path}', file=sys.stderr)"
      ],
      "metadata": {
        "id": "nJ8Ak66XCjPx"
      },
      "execution_count": null,
      "outputs": []
    },
    {
      "cell_type": "code",
      "source": [
        "#export\n",
        "def extract_tar(path: str, folder: str, mode: str = 'r:gz', log: bool = True):\n",
        "    r\"\"\"Extracts a tar archive to a specific folder.\n",
        "    Args:\n",
        "        path (string): The path to the tar archive.\n",
        "        folder (string): The folder.\n",
        "        mode (string, optional): The compression mode. (default: :obj:`\"r:gz\"`)\n",
        "        log (bool, optional): If :obj:`False`, will not print anything to the\n",
        "            console. (default: :obj:`True`)\n",
        "    \"\"\"\n",
        "    maybe_log(path, log)\n",
        "    with tarfile.open(path, mode) as f:\n",
        "        f.extractall(folder)"
      ],
      "metadata": {
        "id": "EUpIu9cbC2N4"
      },
      "execution_count": null,
      "outputs": []
    },
    {
      "cell_type": "code",
      "source": [
        "#export\n",
        "def extract_zip(path: str, folder: str, log: bool = True):\n",
        "    r\"\"\"Extracts a zip archive to a specific folder.\n",
        "    Args:\n",
        "        path (string): The path to the tar archive.\n",
        "        folder (string): The folder.\n",
        "        log (bool, optional): If :obj:`False`, will not print anything to the\n",
        "            console. (default: :obj:`True`)\n",
        "    \"\"\"\n",
        "    maybe_log(path, log)\n",
        "    with zipfile.ZipFile(path, 'r') as f:\n",
        "        f.extractall(folder)"
      ],
      "metadata": {
        "id": "fN2iZVBSC1D-"
      },
      "execution_count": null,
      "outputs": []
    },
    {
      "cell_type": "code",
      "source": [
        "#export\n",
        "def extract_bz2(path: str, folder: str, log: bool = True):\n",
        "    r\"\"\"Extracts a bz2 archive to a specific folder.\n",
        "    Args:\n",
        "        path (string): The path to the tar archive.\n",
        "        folder (string): The folder.\n",
        "        log (bool, optional): If :obj:`False`, will not print anything to the\n",
        "            console. (default: :obj:`True`)\n",
        "    \"\"\"\n",
        "    maybe_log(path, log)\n",
        "    path = osp.abspath(path)\n",
        "    with bz2.open(path, 'r') as r:\n",
        "        with open(osp.join(folder, '.'.join(path.split('.')[:-1])), 'wb') as w:\n",
        "            w.write(r.read())"
      ],
      "metadata": {
        "id": "5hpwoo2UC0OY"
      },
      "execution_count": null,
      "outputs": []
    },
    {
      "cell_type": "code",
      "source": [
        "#export\n",
        "def extract_gz(path: str, folder: str, log: bool = True):\n",
        "    r\"\"\"Extracts a gz archive to a specific folder.\n",
        "    Args:\n",
        "        path (string): The path to the tar archive.\n",
        "        folder (string): The folder.\n",
        "        log (bool, optional): If :obj:`False`, will not print anything to the\n",
        "            console. (default: :obj:`True`)\n",
        "    \"\"\"\n",
        "    maybe_log(path, log)\n",
        "    path = osp.abspath(path)\n",
        "    with gzip.open(path, 'r') as r:\n",
        "        with open(osp.join(folder, '.'.join(path.split('.')[:-1])), 'wb') as w:\n",
        "            w.write(r.read())"
      ],
      "metadata": {
        "id": "F9mjZ2-fCzLX"
      },
      "execution_count": null,
      "outputs": []
    },
    {
      "cell_type": "markdown",
      "source": [
        "---"
      ],
      "metadata": {
        "id": "e7GjCMiHCLuF"
      }
    },
    {
      "cell_type": "code",
      "execution_count": null,
      "metadata": {
        "outputId": "856952cf-39e6-42f9-c15e-b5008f313339",
        "colab": {
          "base_uri": "https://localhost:8080/"
        },
        "id": "PCaOy2bkDRbt"
      },
      "outputs": [
        {
          "output_type": "stream",
          "name": "stdout",
          "text": [
            "Author: Sparsh A.\n",
            "\n",
            "Last updated: 2021-12-21 12:52:30\n",
            "\n",
            "Compiler    : GCC 7.5.0\n",
            "OS          : Linux\n",
            "Release     : 5.4.104+\n",
            "Machine     : x86_64\n",
            "Processor   : x86_64\n",
            "CPU cores   : 2\n",
            "Architecture: 64bit\n",
            "\n",
            "sys    : 3.7.12 (default, Sep 10 2021, 00:21:48) \n",
            "[GCC 7.5.0]\n",
            "google : 2.0.3\n",
            "numpy  : 1.19.5\n",
            "pandas : 1.1.5\n",
            "tarfile: 0.9.0\n",
            "six    : 1.15.0\n",
            "IPython: 5.5.0\n",
            "\n"
          ]
        }
      ],
      "source": [
        "#hide\n",
        "%reload_ext watermark\n",
        "%watermark -a \"Sparsh A.\" -m -iv -u -t -d"
      ]
    }
  ],
  "metadata": {
    "kernelspec": {
      "display_name": "Python 3",
      "name": "python3"
    },
    "colab": {
      "name": "M518482 | utils > common_utils",
      "provenance": [],
      "collapsed_sections": []
    }
  },
  "nbformat": 4,
  "nbformat_minor": 0
}