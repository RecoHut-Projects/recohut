{
  "cells": [
    {
      "cell_type": "code",
      "execution_count": null,
      "metadata": {
        "id": "P4MMnHKfSQI2"
      },
      "outputs": [],
      "source": [
        "# default_exp utils.common_utils"
      ]
    },
    {
      "cell_type": "markdown",
      "metadata": {
        "id": "BXdV_HWgSQJE"
      },
      "source": [
        "# Common utils\n",
        "> A collection of utilities often used."
      ]
    },
    {
      "cell_type": "code",
      "execution_count": null,
      "metadata": {
        "id": "jgDkVP5iSQJK"
      },
      "outputs": [],
      "source": [
        "#hide\n",
        "from nbdev.showdoc import *"
      ]
    },
    {
      "cell_type": "code",
      "execution_count": null,
      "metadata": {
        "id": "fauzDy5PSQJO"
      },
      "outputs": [],
      "source": [
        "#export\n",
        "import sys\n",
        "import os\n",
        "import ssl\n",
        "import os.path as osp\n",
        "from six.moves import urllib\n",
        "import errno\n",
        "import tarfile\n",
        "import zipfile\n",
        "import bz2\n",
        "import gzip\n",
        "import pandas as pd\n",
        "from tabulate import tabulate"
      ]
    },
    {
      "cell_type": "markdown",
      "metadata": {
        "id": "N9dqNtFaSQJR"
      },
      "source": [
        "## Download"
      ]
    },
    {
      "cell_type": "code",
      "execution_count": null,
      "metadata": {
        "id": "yK8bua-jSQJS"
      },
      "outputs": [],
      "source": [
        "#exporti\n",
        "def makedirs(path):\n",
        "    try:\n",
        "        os.makedirs(osp.expanduser(osp.normpath(path)))\n",
        "    except OSError as e:\n",
        "        if e.errno != errno.EEXIST and osp.isdir(path):\n",
        "            raise e"
      ]
    },
    {
      "cell_type": "code",
      "execution_count": null,
      "metadata": {
        "id": "zwXVkw6ESQJT"
      },
      "outputs": [],
      "source": [
        "#export\n",
        "def wget_download(url, savepath):\n",
        "    import wget\n",
        "    wget.download(url, str(savepath))"
      ]
    },
    {
      "cell_type": "code",
      "execution_count": null,
      "metadata": {
        "id": "QcDFtqOZSQJV"
      },
      "outputs": [],
      "source": [
        "#export\n",
        "def download_url(url: str, folder: str, log: bool = True):\n",
        "    r\"\"\"Downloads the content of an URL to a specific folder.\n",
        "    Args:\n",
        "        url (string): The url.\n",
        "        folder (string): The folder.\n",
        "        log (bool, optional): If :obj:`False`, will not print anything to the\n",
        "            console. (default: :obj:`True`)\n",
        "    \"\"\"\n",
        "\n",
        "    filename = url.rpartition('/')[2]\n",
        "    filename = filename if filename[0] == '?' else filename.split('?')[0]\n",
        "    path = osp.join(folder, filename)\n",
        "\n",
        "    if osp.exists(path):  # pragma: no cover\n",
        "        if log:\n",
        "            print(f'Using existing file {filename}', file=sys.stderr)\n",
        "        return path\n",
        "\n",
        "    if log:\n",
        "        print(f'Downloading {url}', file=sys.stderr)\n",
        "\n",
        "    makedirs(folder)\n",
        "\n",
        "    context = ssl._create_unverified_context()\n",
        "    data = urllib.request.urlopen(url, context=context)\n",
        "\n",
        "    with open(path, 'wb') as f:\n",
        "        f.write(data.read())\n",
        "\n",
        "    return path"
      ]
    },
    {
      "cell_type": "code",
      "execution_count": null,
      "metadata": {
        "id": "Q8jN5ykOSQJX",
        "outputId": "c95a10c0-8e4a-4669-c382-118392e45184"
      },
      "outputs": [
        {
          "name": "stderr",
          "output_type": "stream",
          "text": [
            "Downloading https://files.grouplens.org/datasets/movielens/ml-1m.zip\n"
          ]
        },
        {
          "data": {
            "text/plain": [
              "'./data/bronze/ml-1m.zip'"
            ]
          },
          "execution_count": null,
          "metadata": {},
          "output_type": "execute_result"
        }
      ],
      "source": [
        "download_url('https://files.grouplens.org/datasets/movielens/ml-1m.zip',\n",
        "             './data/bronze')"
      ]
    },
    {
      "cell_type": "code",
      "execution_count": null,
      "metadata": {
        "id": "mN60_8GASQJb",
        "outputId": "151259e8-5685-494d-d90f-19c47fcafc7a"
      },
      "outputs": [
        {
          "name": "stdout",
          "output_type": "stream",
          "text": [
            "./data\n",
            "└── bronze\n",
            "    └── ml-1m.zip\n",
            "\n",
            "1 directory, 1 file\n"
          ]
        }
      ],
      "source": [
        "!tree ./data"
      ]
    },
    {
      "cell_type": "code",
      "execution_count": null,
      "metadata": {
        "id": "A1G7H4nMSQJd",
        "outputId": "8f42086b-c5f0-43d6-bd09-c2940d30b602"
      },
      "outputs": [
        {
          "name": "stdout",
          "output_type": "stream",
          "text": [
            "\u001b[01;34m./data\u001b[00m\n",
            "├── [ 24M]  \u001b[01;34mbronze\u001b[00m\n",
            "│   └── [ 24M]  \u001b[01;34mml-1m\u001b[00m\n",
            "│       ├── [167K]  movies.dat\n",
            "│       ├── [ 23M]  ratings.dat\n",
            "│       ├── [5.4K]  README\n",
            "│       └── [131K]  users.dat\n",
            "└── [3.0M]  \u001b[01;34msilver\u001b[00m\n",
            "    └── [3.0M]  \u001b[01;34mml-1m_min_rating0-min_uc5-min_sc5-splitleave_one_out\u001b[00m\n",
            "        └── [3.0M]  dataset.pkl\n",
            "\n",
            "  27M used in 4 directories, 5 files\n"
          ]
        }
      ],
      "source": [
        "!tree --du -h -C ./data"
      ]
    },
    {
      "cell_type": "markdown",
      "metadata": {
        "id": "aZWqbKj8SQJd"
      },
      "source": [
        "---"
      ]
    },
    {
      "cell_type": "markdown",
      "metadata": {
        "id": "ep4La_OmSQJe"
      },
      "source": [
        "## Extract"
      ]
    },
    {
      "cell_type": "code",
      "execution_count": null,
      "metadata": {
        "id": "SJAiDPM7SQJf"
      },
      "outputs": [],
      "source": [
        "#exporti\n",
        "def maybe_log(path, log=True):\n",
        "    if log:\n",
        "        print(f'Extracting {path}', file=sys.stderr)"
      ]
    },
    {
      "cell_type": "code",
      "execution_count": null,
      "metadata": {
        "id": "AWYtRKRGSQJf"
      },
      "outputs": [],
      "source": [
        "#export\n",
        "def extract_tar(path: str, folder: str, mode: str = 'r:gz', log: bool = True):\n",
        "    r\"\"\"Extracts a tar archive to a specific folder.\n",
        "    Args:\n",
        "        path (string): The path to the tar archive.\n",
        "        folder (string): The folder.\n",
        "        mode (string, optional): The compression mode. (default: :obj:`\"r:gz\"`)\n",
        "        log (bool, optional): If :obj:`False`, will not print anything to the\n",
        "            console. (default: :obj:`True`)\n",
        "    \"\"\"\n",
        "    maybe_log(path, log)\n",
        "    with tarfile.open(path, mode) as f:\n",
        "        f.extractall(folder)"
      ]
    },
    {
      "cell_type": "code",
      "execution_count": null,
      "metadata": {
        "id": "s63yidW-SQJg"
      },
      "outputs": [],
      "source": [
        "#export\n",
        "def extract_zip(path: str, folder: str, log: bool = True):\n",
        "    r\"\"\"Extracts a zip archive to a specific folder.\n",
        "    Args:\n",
        "        path (string): The path to the tar archive.\n",
        "        folder (string): The folder.\n",
        "        log (bool, optional): If :obj:`False`, will not print anything to the\n",
        "            console. (default: :obj:`True`)\n",
        "    \"\"\"\n",
        "    maybe_log(path, log)\n",
        "    with zipfile.ZipFile(path, 'r') as f:\n",
        "        f.extractall(folder)"
      ]
    },
    {
      "cell_type": "code",
      "execution_count": null,
      "metadata": {
        "id": "wk-bZwlLSQJh"
      },
      "outputs": [],
      "source": [
        "#export\n",
        "def extract_bz2(path: str, folder: str, log: bool = True):\n",
        "    r\"\"\"Extracts a bz2 archive to a specific folder.\n",
        "    Args:\n",
        "        path (string): The path to the tar archive.\n",
        "        folder (string): The folder.\n",
        "        log (bool, optional): If :obj:`False`, will not print anything to the\n",
        "            console. (default: :obj:`True`)\n",
        "    \"\"\"\n",
        "    maybe_log(path, log)\n",
        "    path = osp.abspath(path)\n",
        "    with bz2.open(path, 'r') as r:\n",
        "        with open(osp.join(folder, '.'.join(path.split('.')[:-1])), 'wb') as w:\n",
        "            w.write(r.read())"
      ]
    },
    {
      "cell_type": "code",
      "execution_count": null,
      "metadata": {
        "id": "gEW37TJoSQJh"
      },
      "outputs": [],
      "source": [
        "#export\n",
        "def extract_gz(path: str, folder: str, log: bool = True):\n",
        "    r\"\"\"Extracts a gz archive to a specific folder.\n",
        "    Args:\n",
        "        path (string): The path to the tar archive.\n",
        "        folder (string): The folder.\n",
        "        log (bool, optional): If :obj:`False`, will not print anything to the\n",
        "            console. (default: :obj:`True`)\n",
        "    \"\"\"\n",
        "    maybe_log(path, log)\n",
        "    path = osp.abspath(path)\n",
        "    with gzip.open(path, 'r') as r:\n",
        "        with open(osp.join(folder, '.'.join(path.split('.')[:-1])), 'wb') as w:\n",
        "            w.write(r.read())"
      ]
    },
    {
      "cell_type": "markdown",
      "metadata": {
        "id": "LPjsVRMsSQJi"
      },
      "source": [
        "## Tabulate"
      ]
    },
    {
      "cell_type": "code",
      "execution_count": null,
      "metadata": {
        "id": "DDCuIj-gSQJi"
      },
      "outputs": [],
      "source": [
        "#export\n",
        "def print_result_as_table(results, tag=None):\n",
        "    \"\"\"Print results as a table.\"\"\"\n",
        "    eval_infos = set()\n",
        "    for result in results:\n",
        "        eval_infos.update(result.keys())\n",
        "    eval_infos = list(eval_infos)\n",
        "    print(\"-\" * 80)\n",
        "    if tag is not None:\n",
        "        print(tag)\n",
        "    for result in results:\n",
        "        for eval_info in eval_infos:\n",
        "            if eval_info not in result:\n",
        "                result[eval_info] = \"--\"\n",
        "    df = pd.DataFrame(results)\n",
        "    df = df.set_index(\"model\")\n",
        "    df = df.T\n",
        "    print(tabulate(df, headers=df.columns, tablefmt=\"psql\"))\n",
        "    print(\"-\" * 80)"
      ]
    },
    {
      "cell_type": "code",
      "execution_count": null,
      "metadata": {
        "id": "tKgy91lcSQJj",
        "outputId": "1f078e69-6f66-44cb-970d-658507d4cc69"
      },
      "outputs": [
        {
          "name": "stdout",
          "output_type": "stream",
          "text": [
            "--------------------------------------------------------------------------------\n",
            "+------+------+-------+\n",
            "|      | MF   |   NCF |\n",
            "|------+------+-------|\n",
            "| MRR  | 0.35 |  0.42 |\n",
            "| nDCG | --   |  0.25 |\n",
            "+------+------+-------+\n",
            "--------------------------------------------------------------------------------\n"
          ]
        }
      ],
      "source": [
        "results = [{'model':'MF', 'MRR':.35},\n",
        "           {'model':'NCF', 'MRR':.42, 'nDCG':.25}]\n",
        "\n",
        "print_result_as_table(results)"
      ]
    },
    {
      "cell_type": "markdown",
      "source": [
        "## Listing"
      ],
      "metadata": {
        "id": "xX45-J2oSxne"
      }
    },
    {
      "cell_type": "code",
      "source": [
        "#export\n",
        "def list_files(startpath):\n",
        "    \"\"\"\n",
        "    Util function to print the nested structure of a directory\n",
        "    \"\"\"\n",
        "    for root, dirs, files in os.walk(startpath):\n",
        "        level = root.replace(startpath, \"\").count(os.sep)\n",
        "        indent = \" \" * 4 * (level)\n",
        "        print(\"{}{}/\".format(indent, os.path.basename(root)))\n",
        "        subindent = \" \" * 4 * (level + 1)\n",
        "        for f in files:\n",
        "            print(\"{}{}\".format(subindent, f))"
      ],
      "metadata": {
        "id": "d2BEzRB2S5WX"
      },
      "execution_count": null,
      "outputs": []
    },
    {
      "cell_type": "code",
      "source": [
        "list_files('./sample_data')"
      ],
      "metadata": {
        "colab": {
          "base_uri": "https://localhost:8080/"
        },
        "id": "at2Cr6vGR9Fa",
        "outputId": "0c80f926-f1db-4ce0-bffe-42a5be2099b3"
      },
      "execution_count": null,
      "outputs": [
        {
          "output_type": "stream",
          "name": "stdout",
          "text": [
            "sample_data/\n",
            "    README.md\n",
            "    anscombe.json\n",
            "    california_housing_train.csv\n",
            "    california_housing_test.csv\n",
            "    mnist_test.csv\n",
            "    mnist_train_small.csv\n"
          ]
        }
      ]
    },
    {
      "cell_type": "code",
      "execution_count": null,
      "metadata": {
        "id": "C9udygszSQJk",
        "outputId": "f59dbb2f-3a84-43f0-f912-f99c8aa5732d"
      },
      "outputs": [
        {
          "name": "stdout",
          "output_type": "stream",
          "text": [
            "Author: Sparsh A.\n",
            "\n",
            "Last updated: 2021-12-21 12:52:30\n",
            "\n",
            "Compiler    : GCC 7.5.0\n",
            "OS          : Linux\n",
            "Release     : 5.4.104+\n",
            "Machine     : x86_64\n",
            "Processor   : x86_64\n",
            "CPU cores   : 2\n",
            "Architecture: 64bit\n",
            "\n",
            "sys    : 3.7.12 (default, Sep 10 2021, 00:21:48) \n",
            "[GCC 7.5.0]\n",
            "google : 2.0.3\n",
            "numpy  : 1.19.5\n",
            "pandas : 1.1.5\n",
            "tarfile: 0.9.0\n",
            "six    : 1.15.0\n",
            "IPython: 5.5.0\n",
            "\n"
          ]
        }
      ],
      "source": [
        "#hide\n",
        "%reload_ext watermark\n",
        "%watermark -a \"Sparsh A.\" -m -iv -u -t -d"
      ]
    }
  ],
  "metadata": {
    "kernelspec": {
      "display_name": "Python 3",
      "name": "python3"
    },
    "colab": {
      "name": "common_utils.ipynb",
      "provenance": []
    }
  },
  "nbformat": 4,
  "nbformat_minor": 0
}