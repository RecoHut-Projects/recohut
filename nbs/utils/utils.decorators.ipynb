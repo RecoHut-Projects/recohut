{
  "cells": [
    {
      "cell_type": "markdown",
      "source": [
        "# Decorators\n",
        "> Implementation of decorator wrapper-functions in python"
      ],
      "metadata": {
        "id": "dZpusREP_Syx"
      }
    },
    {
      "cell_type": "code",
      "source": [
        "#export\n",
        "import time\n",
        "\n",
        "from functools import wraps\n",
        "from math import trunc"
      ],
      "metadata": {
        "id": "mB6HQsI2_B8z"
      },
      "execution_count": null,
      "outputs": []
    },
    {
      "cell_type": "markdown",
      "source": [
        "## Timer"
      ],
      "metadata": {
        "id": "6BhxqHg1_atW"
      }
    },
    {
      "cell_type": "code",
      "execution_count": null,
      "metadata": {
        "id": "lIYdn1woOS1n"
      },
      "outputs": [],
      "source": [
        "#export\n",
        "def timer(text=''):\n",
        "    \"\"\"Decorator, prints execution time of the function decorated.\n",
        "    Args:\n",
        "        text (string): text to print before time display.\n",
        "    Examples:\n",
        "        >>> @timer(text=\"Greetings took \")\n",
        "        ... def say_hi():\n",
        "        ...    time.sleep(1)\n",
        "        ...    print(\"Hey! What's up!\")\n",
        "        ...\n",
        "        >>> say_hi()\n",
        "        Hey! What's up!\n",
        "        Greetings took 1 sec\n",
        "    \"\"\"\n",
        "    def decorator(func):\n",
        "\n",
        "        @wraps(func)\n",
        "        def wrapper(*args, **kwargs):\n",
        "            start = time.time()\n",
        "            result = func(*args, **kwargs)\n",
        "            end = time.time()\n",
        "\n",
        "            hours = trunc((end - start) / 3600)\n",
        "            minutes = trunc((end - start) / 60) - hours*60\n",
        "            seconds = round((end - start) % 60)\n",
        "\n",
        "            if hours > 1:\n",
        "                print(text + '{} hours {} min and {} sec'.format(hours, minutes, seconds))\n",
        "            elif hours == 1:\n",
        "                print(text + '{} hour {} min and {} sec'.format(hours, minutes, seconds))\n",
        "            elif minutes >= 1:\n",
        "                print(text + '{} min and {} sec'.format(minutes, seconds))\n",
        "            else:\n",
        "                print(text + '{} sec'.format(seconds))\n",
        "\n",
        "            return result\n",
        "        return wrapper\n",
        "\n",
        "    return decorator"
      ]
    },
    {
      "cell_type": "code",
      "source": [
        "@timer(text='testing took ')\n",
        "def test(x):\n",
        "    x**=4\n",
        "    time.sleep(3)\n",
        "    return x"
      ],
      "metadata": {
        "id": "Y1ez63c--V8J"
      },
      "execution_count": null,
      "outputs": []
    },
    {
      "cell_type": "code",
      "source": [
        "x = test(10)"
      ],
      "metadata": {
        "id": "h_d09LP6-gQ5",
        "outputId": "e7d43836-27a7-491f-ac89-e83143fb8a8b",
        "colab": {
          "base_uri": "https://localhost:8080/"
        }
      },
      "execution_count": null,
      "outputs": [
        {
          "output_type": "stream",
          "name": "stdout",
          "text": [
            "testing took 3 sec\n"
          ]
        }
      ]
    }
  ],
  "metadata": {
    "colab": {
      "name": "utils > decorators",
      "provenance": []
    },
    "kernelspec": {
      "display_name": "Python 3",
      "name": "python3"
    }
  },
  "nbformat": 4,
  "nbformat_minor": 0
}