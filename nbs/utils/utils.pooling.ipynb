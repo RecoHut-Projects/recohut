{
  "cells": [
    {
      "cell_type": "code",
      "execution_count": null,
      "metadata": {
        "id": "FOM2LAkKgKtK"
      },
      "outputs": [],
      "source": [
        "# default_exp utils.pooling"
      ]
    },
    {
      "cell_type": "markdown",
      "metadata": {
        "id": "WUU8WtK2gKtT"
      },
      "source": [
        "# Pooling\n",
        "> Implementation of utilities for pooling."
      ]
    },
    {
      "cell_type": "code",
      "execution_count": null,
      "metadata": {
        "id": "RGwuVx5oI65E"
      },
      "outputs": [],
      "source": [
        "#hide\n",
        "from nbdev.showdoc import *\n",
        "from fastcore.nb_imports import *\n",
        "from fastcore.test import *"
      ]
    },
    {
      "cell_type": "markdown",
      "source": [
        "## kmax pooling"
      ],
      "metadata": {
        "id": "aIDZcSXkw7d3"
      }
    },
    {
      "cell_type": "code",
      "source": [
        "def kmax_pooling(x, dim, k):\n",
        "    index = x.topk(k, dim=dim)[1].sort(dim=dim)[0]\n",
        "    return x.gather(dim, index).squeeze(dim)"
      ],
      "metadata": {
        "id": "BhXRPOdsvDpt"
      },
      "execution_count": null,
      "outputs": []
    },
    {
      "cell_type": "markdown",
      "source": [
        "Tests"
      ],
      "metadata": {
        "id": "ciPnkcdTxCVU"
      }
    },
    {
      "cell_type": "code",
      "source": [
        "#hide\n",
        "import torch"
      ],
      "metadata": {
        "id": "wDhCoZ3ixmYm"
      },
      "execution_count": null,
      "outputs": []
    },
    {
      "cell_type": "code",
      "source": [
        "x = torch.tensor([[8, 7, 8, 7, 9],\n",
        "                  [6, 3, 5, 9, 7]])\n",
        "output = kmax_pooling(x, dim=1, k=3)\n",
        "expected_output = torch.tensor([[8, 8, 9], \n",
        "                                [6, 9, 7]])\n",
        "\n",
        "test_eq(output, expected_output)"
      ],
      "metadata": {
        "id": "MDCinKOLvTxU"
      },
      "execution_count": null,
      "outputs": []
    },
    {
      "cell_type": "markdown",
      "source": [
        "## avg pooling"
      ],
      "metadata": {
        "id": "CCk_XYJxw_8q"
      }
    },
    {
      "cell_type": "code",
      "source": [
        "def avg_pooling(x, dim):\n",
        "    return x.sum(dim=dim)/x.size(dim)"
      ],
      "metadata": {
        "id": "hs8BbhQjvIOq"
      },
      "execution_count": null,
      "outputs": []
    },
    {
      "cell_type": "markdown",
      "source": [
        "Tests"
      ],
      "metadata": {
        "id": "fhDBJyJVyxQK"
      }
    },
    {
      "cell_type": "code",
      "source": [
        "x = torch.tensor([[8, 7, 8, 7, 9],\n",
        "                  [6, 3, 5, 9, 7]])\n",
        "output = avg_pooling(x, dim=1).round()\n",
        "expected_output = torch.tensor([8., 6.])\n",
        "\n",
        "test_eq(output, expected_output)"
      ],
      "metadata": {
        "id": "W-kayjaXwTCC"
      },
      "execution_count": null,
      "outputs": []
    },
    {
      "cell_type": "code",
      "execution_count": null,
      "metadata": {
        "colab": {
          "base_uri": "https://localhost:8080/"
        },
        "outputId": "1d36c816-27dc-41fa-911b-0f0e3f1f9e6e",
        "id": "rCCO7rdnkqsC"
      },
      "outputs": [
        {
          "output_type": "stream",
          "name": "stdout",
          "text": [
            "PIL.Image 7.1.2\n",
            "numpy     1.19.5\n",
            "Sparsh A. \n",
            "last updated: 2022-01-22 06:56:30 \n",
            "\n",
            "recohut 0.0.11\n",
            "\n",
            "compiler   : GCC 7.5.0\n",
            "system     : Linux\n",
            "release    : 5.4.144+\n",
            "machine    : x86_64\n",
            "processor  : x86_64\n",
            "CPU cores  : 2\n",
            "interpreter: 64bit\n"
          ]
        }
      ],
      "source": [
        "#hide\n",
        "%reload_ext watermark\n",
        "%watermark -a \"Sparsh A.\" -m -iv -u -t -d -p recohut"
      ]
    }
  ],
  "metadata": {
    "kernelspec": {
      "display_name": "Python 3",
      "name": "python3"
    },
    "colab": {
      "name": "utils > pooling",
      "provenance": []
    }
  },
  "nbformat": 4,
  "nbformat_minor": 0
}