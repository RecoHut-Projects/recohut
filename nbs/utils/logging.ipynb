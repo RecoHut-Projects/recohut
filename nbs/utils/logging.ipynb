{
  "nbformat": 4,
  "nbformat_minor": 0,
  "metadata": {
    "colab": {
      "name": "_TEMPLATE_ | MODULE",
      "provenance": [],
      "collapsed_sections": [],
      "mount_file_id": "1KoaEnA3OOEGX0wGjKs5S3crr1nCFneBO",
      "authorship_tag": "ABX9TyOQhThha9c0n41FjKWVrQ6h",
      "include_colab_link": true
    },
    "kernelspec": {
      "name": "python3",
      "display_name": "Python 3"
    },
    "language_info": {
      "name": "python"
    }
  },
  "cells": [
    {
      "cell_type": "markdown",
      "metadata": {
        "id": "view-in-github",
        "colab_type": "text"
      },
      "source": [
        "<a href=\"https://colab.research.google.com/github/RecoHut-Projects/recohut/blob/master/nbs/utils/logging.ipynb\" target=\"_parent\"><img src=\"https://colab.research.google.com/assets/colab-badge.svg\" alt=\"Open In Colab\"/></a>"
      ]
    },
    {
      "cell_type": "code",
      "metadata": {
        "id": "LN9hHVN5Vdx7",
        "outputId": "08b7ff7a-20be-411d-8208-f4f2e583d425",
        "colab": {
          "base_uri": "https://localhost:8080/"
        }
      },
      "source": [
        "#hide\n",
        "!pip install -q nbdev \n",
        "!pip install -q git+https://github.com/RecoHut-Projects/recohut"
      ],
      "execution_count": 1,
      "outputs": [
        {
          "output_type": "stream",
          "name": "stdout",
          "text": [
            "\u001b[K     |████████████████████████████████| 46 kB 1.6 MB/s \n",
            "\u001b[K     |████████████████████████████████| 56 kB 3.2 MB/s \n",
            "\u001b[K     |████████████████████████████████| 51 kB 222 kB/s \n",
            "\u001b[?25h  Building wheel for recohut (setup.py) ... \u001b[?25l\u001b[?25hdone\n"
          ]
        }
      ]
    },
    {
      "cell_type": "code",
      "metadata": {
        "id": "tOKNHPSycXF3"
      },
      "source": [
        "# default_exp utils.logging"
      ],
      "execution_count": 2,
      "outputs": []
    },
    {
      "cell_type": "markdown",
      "metadata": {
        "id": "bW5RFfjKcp18"
      },
      "source": [
        "# Logging\n",
        "> A logging utility module."
      ]
    },
    {
      "cell_type": "code",
      "metadata": {
        "id": "vK4l_F5hcpzo"
      },
      "source": [
        "#hide\n",
        "from nbdev.showdoc import *"
      ],
      "execution_count": 3,
      "outputs": []
    },
    {
      "cell_type": "code",
      "metadata": {
        "id": "cKsUFqbY0w7h"
      },
      "source": [
        "#export\n",
        "import os\n",
        "from pathlib import Path\n",
        "import logging"
      ],
      "execution_count": 4,
      "outputs": []
    },
    {
      "cell_type": "code",
      "metadata": {
        "id": "_Zi-6sZeVQJP"
      },
      "source": [
        "#export\n",
        "def set_logger(log_path):\n",
        "    \"\"\"A Python module.\n",
        "\n",
        "    Args:\n",
        "        log_path (str): Path where you want to save the log file\n",
        "    \n",
        "    Examples:\n",
        "        ```python\n",
        "        set_logger('./model_a.log')\n",
        "        logging.info('Model A Logging Test Success')\n",
        "        ```\n",
        "    \"\"\"\n",
        "    log_dir = str(Path(log_path).parent)\n",
        "    if not os.path.exists(log_dir):\n",
        "        os.makedirs(log_dir)\n",
        "\n",
        "    # logs may not show in the file without the two lines\n",
        "    for handler in logging.root.handlers[:]: \n",
        "        logging.root.removeHandler(handler)\n",
        "        \n",
        "    logging.basicConfig(level=logging.INFO,\n",
        "                        format='%(asctime)s P%(process)d %(levelname)s %(message)s',\n",
        "                        handlers=[logging.FileHandler(log_path, mode='w'),\n",
        "                                  logging.StreamHandler()])"
      ],
      "execution_count": 5,
      "outputs": []
    },
    {
      "cell_type": "markdown",
      "metadata": {
        "id": "-hKghXG93d_I"
      },
      "source": [
        "---"
      ]
    },
    {
      "cell_type": "code",
      "metadata": {
        "colab": {
          "base_uri": "https://localhost:8080/"
        },
        "id": "u5GqvhVSfft8",
        "outputId": "43e8966c-258e-4c18-a77d-4745b3712173"
      },
      "source": [
        "import unittest\n",
        "\n",
        "\n",
        "class TestLogger(unittest.TestCase):\n",
        "    def setUp(self):\n",
        "        set_logger('./model_a.log')\n",
        "        logging.info('Model A Logging Test Success')\n",
        "\n",
        "    def testLogger(self):\n",
        "        self.assertTrue(Path('./model_a.log').resolve().is_file())\n",
        "\n",
        "    def test2(self):\n",
        "        self.assertFalse(os.path.getsize('./model_a.log')==0)\n",
        "\n",
        "\n",
        "unittest.main(argv=[''], verbosity=2, exit=False)"
      ],
      "execution_count": 6,
      "outputs": [
        {
          "output_type": "stream",
          "name": "stderr",
          "text": [
            "test2 (__main__.TestLogger) ... 2021-12-05 09:34:23,519 P61 INFO Model A Logging Test Success\n",
            "ok\n",
            "testLogger (__main__.TestLogger) ... 2021-12-05 09:34:23,526 P61 INFO Model A Logging Test Success\n",
            "ok\n",
            "\n",
            "----------------------------------------------------------------------\n",
            "Ran 2 tests in 0.013s\n",
            "\n",
            "OK\n"
          ]
        },
        {
          "output_type": "execute_result",
          "data": {
            "text/plain": [
              "<unittest.main.TestProgram at 0x7ff784310e10>"
            ]
          },
          "metadata": {},
          "execution_count": 6
        }
      ]
    },
    {
      "cell_type": "markdown",
      "metadata": {
        "id": "pAlPFULT1lnQ"
      },
      "source": [
        "---"
      ]
    },
    {
      "cell_type": "code",
      "metadata": {
        "id": "VE1SQdzxZ9EK",
        "colab": {
          "base_uri": "https://localhost:8080/"
        },
        "outputId": "33cac90e-c460-4648-d961-cad49df136d5"
      },
      "source": [
        "#hide-input\n",
        "!pip install -q watermark\n",
        "%reload_ext watermark\n",
        "%watermark -a \"Sparsh A.\" -m -iv -u -t -d"
      ],
      "execution_count": 8,
      "outputs": [
        {
          "output_type": "stream",
          "name": "stdout",
          "text": [
            "Author: Sparsh A.\n",
            "\n",
            "Last updated: 2021-12-05 09:34:45\n",
            "\n",
            "Compiler    : GCC 7.5.0\n",
            "OS          : Linux\n",
            "Release     : 5.4.104+\n",
            "Machine     : x86_64\n",
            "Processor   : x86_64\n",
            "CPU cores   : 2\n",
            "Architecture: 64bit\n",
            "\n",
            "logging: 0.5.1.2\n",
            "IPython: 5.5.0\n",
            "\n"
          ]
        }
      ]
    },
    {
      "cell_type": "markdown",
      "metadata": {
        "id": "YE2WsooxZ9EL"
      },
      "source": [
        "---"
      ]
    }
  ]
}