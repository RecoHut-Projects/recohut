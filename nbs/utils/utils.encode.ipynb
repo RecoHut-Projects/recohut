{
  "cells": [
    {
      "cell_type": "code",
      "execution_count": null,
      "metadata": {
        "id": "AApfOm70qW0U"
      },
      "outputs": [],
      "source": [
        "# default_exp utils.encode"
      ]
    },
    {
      "cell_type": "markdown",
      "metadata": {
        "id": "qjlWb2r1qW0g"
      },
      "source": [
        "# Encode\n",
        "> Encoding methods."
      ]
    },
    {
      "cell_type": "code",
      "execution_count": null,
      "metadata": {
        "id": "gA1z4RV5qW0l"
      },
      "outputs": [],
      "source": [
        "#hide\n",
        "from nbdev.showdoc import *"
      ]
    },
    {
      "cell_type": "code",
      "execution_count": null,
      "metadata": {
        "id": "70YJMZCWqW0m"
      },
      "outputs": [],
      "source": [
        "#export\n",
        "def label_encode(data, col, maps=None):\n",
        "  data = data.copy()\n",
        "  if maps==None:\n",
        "    maps = {}\n",
        "    _unique = data[col].unique()\n",
        "    _map = {old: new for new, old in enumerate(_unique)}\n",
        "    _reverse_map = {new: old for new, old in enumerate(_unique)}\n",
        "    data[col] = data[col].map(_map)\n",
        "    maps[col+'_TO_IDX'] = _map\n",
        "    maps['IDX_TO_'+col] = _reverse_map\n",
        "    return data, maps\n",
        "  else:\n",
        "    data[col] = data[col].map(maps[col+'_TO_IDX'])\n",
        "    data = data[data[col].notna()]\n",
        "    return data"
      ]
    },
    {
      "cell_type": "code",
      "execution_count": null,
      "metadata": {
        "id": "4uiCuvGZqW0o",
        "outputId": "8a001abd-507c-4838-cbb1-165148c1b9e5"
      },
      "outputs": [
        {
          "name": "stdout",
          "output_type": "stream",
          "text": [
            "Author: Sparsh A.\n",
            "\n",
            "Last updated: 2021-12-18 08:35:26\n",
            "\n",
            "Compiler    : GCC 7.5.0\n",
            "OS          : Linux\n",
            "Release     : 5.4.104+\n",
            "Machine     : x86_64\n",
            "Processor   : x86_64\n",
            "CPU cores   : 2\n",
            "Architecture: 64bit\n",
            "\n",
            "IPython: 5.5.0\n",
            "\n"
          ]
        }
      ],
      "source": [
        "#hide\n",
        "!pip install -q watermark\n",
        "%reload_ext watermark\n",
        "%watermark -a \"Sparsh A.\" -m -iv -u -t -d"
      ]
    }
  ],
  "metadata": {
    "kernelspec": {
      "display_name": "Python 3",
      "name": "python3"
    },
    "colab": {
      "name": "transforms.encode.ipynb",
      "provenance": []
    }
  },
  "nbformat": 4,
  "nbformat_minor": 0
}