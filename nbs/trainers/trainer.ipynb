{
 "cells": [
  {
   "cell_type": "code",
   "execution_count": null,
   "metadata": {},
   "outputs": [],
   "source": [
    "# default_exp trainers.trainer"
   ]
  },
  {
   "cell_type": "markdown",
   "metadata": {},
   "source": [
    "# Trainer\n",
    "> Implementation of PyTorch model trainer."
   ]
  },
  {
   "cell_type": "code",
   "execution_count": null,
   "metadata": {},
   "outputs": [],
   "source": [
    "#hide\n",
    "from nbdev.showdoc import *\n",
    "from fastcore.nb_imports import *\n",
    "from fastcore.test import *"
   ]
  },
  {
   "cell_type": "code",
   "execution_count": null,
   "metadata": {},
   "outputs": [],
   "source": [
    "# dataset\n",
    "from recohut.datasets.movielens import ML1mRatingDataset\n",
    "\n",
    "# models\n",
    "from recohut.models.afm import AFM\n",
    "from recohut.models.afn import AFN\n",
    "from recohut.models.autoint import AutoInt\n",
    "from recohut.models.dcn import DCN\n",
    "from recohut.models.deepfm import DeepFM\n",
    "from recohut.models.ffm import FFM\n",
    "from recohut.models.fm import FM\n",
    "from recohut.models.fnfm import FNFM\n",
    "from recohut.models.fnn import FNN\n",
    "from recohut.models.hofm import HOFM\n",
    "from recohut.models.lr import LR\n",
    "from recohut.models.ncf import NCF\n",
    "from recohut.models.nfm import NFM\n",
    "from recohut.models.ncf import NCF\n",
    "from recohut.models.pnn import PNN\n",
    "from recohut.models.wide_and_deep import WideAndDeep\n",
    "from recohut.models.xdeepfm import xDeepFM"
   ]
  },
  {
   "cell_type": "code",
   "execution_count": null,
   "metadata": {},
   "outputs": [
    {
     "name": "stderr",
     "output_type": "stream",
     "text": [
      "Downloading http://files.grouplens.org/datasets/movielens/ml-1m.zip\n",
      "Extracting /content/ML1m/raw/ml-1m.zip\n",
      "Processing...\n",
      "Done!\n"
     ]
    }
   ],
   "source": [
    "ds = ML1mRatingDataset(root='/content/ML1m', min_uc=10, min_sc=5)"
   ]
  },
  {
   "cell_type": "code",
   "execution_count": null,
   "metadata": {},
   "outputs": [],
   "source": [
    "import torch\n",
    "import os\n",
    "import tqdm\n",
    "from sklearn.metrics import roc_auc_score\n",
    "from torch.utils.data import DataLoader"
   ]
  },
  {
   "cell_type": "code",
   "execution_count": null,
   "metadata": {},
   "outputs": [],
   "source": [
    "class Args:\n",
    "    def __init__(self,\n",
    "                 dataset='ml_1m',\n",
    "                 model='wide_and_deep'\n",
    "                 ):\n",
    "        self.dataset = dataset\n",
    "        self.model = model\n",
    "        # dataset\n",
    "        if dataset == 'ml_1m':\n",
    "            self.dataset_root = '/content/ML1m'\n",
    "            self.min_uc = 20\n",
    "            self.min_sc = 20\n",
    "\n",
    "        # model training\n",
    "        self.device = 'cpu' # 'cuda:0'\n",
    "        self.num_workers = 2\n",
    "        self.batch_size = 256\n",
    "        self.lr = 0.001\n",
    "        self.weight_decay = 1e-6\n",
    "        self.save_dir = '/content/chkpt'\n",
    "        self.n_epochs = 2\n",
    "        self.dropout = 0.2\n",
    "        self.log_interval = 100\n",
    "\n",
    "        # model architecture\n",
    "        if model == 'wide_and_deep':\n",
    "            self.embed_dim = 16\n",
    "            self.mlp_dims = (16, 16)\n",
    "        elif model == 'fm':\n",
    "            self.embed_dim = 16\n",
    "        elif model == 'ffm':\n",
    "            self.embed_dim = 4\n",
    "        elif model == 'hofm':\n",
    "            self.embed_dim = 16\n",
    "            self.order = 3\n",
    "        elif model == 'fnn':\n",
    "            self.embed_dim = 16\n",
    "            self.mlp_dims = (16, 16)\n",
    "        elif model == 'ipnn':\n",
    "            self.embed_dim = 16\n",
    "            self.mlp_dims = (16,)\n",
    "            self.method = 'inner'\n",
    "        elif model == 'opnn':\n",
    "            self.embed_dim = 16\n",
    "            self.mlp_dims = (16,)\n",
    "            self.method = 'outer'\n",
    "        elif model == 'dcn':\n",
    "            self.embed_dim = 16\n",
    "            self.num_layers = 3\n",
    "            self.mlp_dims = (16, 16)\n",
    "        elif model == 'nfm':\n",
    "            self.embed_dim = 64\n",
    "            self.mlp_dims = (64,)\n",
    "            self.dropouts = (0.2, 0.2)\n",
    "        elif model == 'ncf':\n",
    "            self.embed_dim = 16\n",
    "            self.mlp_dims = (16, 16)\n",
    "        elif model == 'fnfm':\n",
    "            self.embed_dim = 4\n",
    "            self.mlp_dims = (64,)\n",
    "            self.dropouts = (0.2, 0.2)\n",
    "        elif model == 'deep_fm':\n",
    "            self.embed_dim = 16\n",
    "            self.mlp_dims = (16, 16)\n",
    "        elif model == 'xdeep_fm':\n",
    "            self.embed_dim = 16\n",
    "            self.cross_layer_sizes = (16, 16)\n",
    "            self.split_half = False\n",
    "            self.mlp_dims = (16, 16)\n",
    "        elif model == 'afm':\n",
    "            self.embed_dim = 16\n",
    "            self.attn_size = 16\n",
    "            self.dropouts = (0.2, 0.2)\n",
    "        elif model == 'autoint':\n",
    "            self.embed_dim = 16\n",
    "            self.atten_embed_dim = 64\n",
    "            self.num_heads = 2\n",
    "            self.num_layers = 3\n",
    "            self.mlp_dims = (400, 400)\n",
    "            self.dropouts = (0, 0, 0)\n",
    "        elif model == 'afn':\n",
    "            self.embed_dim = 16\n",
    "            self.LNN_dim = 1500\n",
    "            self.mlp_dims = (400, 400, 400)\n",
    "            self.dropouts = (0, 0, 0)\n",
    "\n",
    "    def get_dataset(self):\n",
    "        if self.dataset == 'ml_1m':\n",
    "            return ML1mRatingDataset(root = self.dataset_root,\n",
    "                                     min_uc = self.min_uc,\n",
    "                                     min_sc = self.min_sc\n",
    "                                     )\n",
    "    \n",
    "    def get_model(self, field_dims, user_field_idx=None, item_field_idx=None):\n",
    "        if self.model == 'wide_and_deep':\n",
    "            return WideAndDeep(field_dims,\n",
    "                               embed_dim=self.embed_dim,\n",
    "                               mlp_dims = self.mlp_dims,\n",
    "                               dropout = self.dropout\n",
    "                               )\n",
    "        elif self.model == 'fm':\n",
    "            return FM(field_dims,\n",
    "                      embed_dim = self.embed_dim\n",
    "                      )\n",
    "        elif self.model == 'lr':\n",
    "            return LR(field_dims\n",
    "                      )\n",
    "        elif self.model == 'ffm':\n",
    "            return FFM(field_dims,\n",
    "                       embed_dim = self.embed_dim\n",
    "                      )\n",
    "        elif self.model == 'hofm':\n",
    "            return HOFM(field_dims,\n",
    "                        embed_dim = self.embed_dim,\n",
    "                        order = self.order\n",
    "                      )\n",
    "        elif self.model == 'fnn':\n",
    "            return FNN(field_dims,\n",
    "                       embed_dim = self.embed_dim,\n",
    "                       mlp_dims = self.mlp_dims,\n",
    "                       dropout = self.dropout\n",
    "                      )\n",
    "        elif self.model == 'ipnn':\n",
    "            return PNN(field_dims,\n",
    "                       embed_dim = self.embed_dim,\n",
    "                       mlp_dims = self.mlp_dims,\n",
    "                       method = self.method,\n",
    "                       dropout = self.dropout\n",
    "                      )\n",
    "        elif self.model == 'opnn':\n",
    "            return PNN(field_dims,\n",
    "                       embed_dim = self.embed_dim,\n",
    "                       mlp_dims = self.mlp_dims,\n",
    "                       method = self.method,\n",
    "                       dropout = self.dropout\n",
    "                      )\n",
    "        elif self.model == 'dcn':\n",
    "            return DCN(field_dims,\n",
    "                       embed_dim = self.embed_dim,\n",
    "                       mlp_dims = self.mlp_dims,\n",
    "                       num_layers = self.num_layers,\n",
    "                       dropout = self.dropout,\n",
    "                      )\n",
    "        elif self.model == 'nfm':\n",
    "            return NFM(field_dims,\n",
    "                       embed_dim = self.embed_dim,\n",
    "                       mlp_dims = self.mlp_dims,\n",
    "                       dropouts = self.dropouts,\n",
    "                      )\n",
    "        elif self.model == 'ncf':\n",
    "            return NCF(field_dims,\n",
    "                       embed_dim = self.embed_dim,\n",
    "                       mlp_dims = self.mlp_dims,\n",
    "                       dropout = self.dropout,\n",
    "                       user_field_idx=user_field_idx,\n",
    "                       item_field_idx=item_field_idx\n",
    "                      )\n",
    "        elif self.model == 'fnfm':\n",
    "            return FNFM(field_dims,\n",
    "                       embed_dim = self.embed_dim,\n",
    "                       mlp_dims = self.mlp_dims,\n",
    "                       dropouts = self.dropouts,\n",
    "                      )\n",
    "        elif self.model == 'deep_fm':\n",
    "            return DeepFM(field_dims,\n",
    "                          embed_dim = self.embed_dim,\n",
    "                          mlp_dims = self.mlp_dims,\n",
    "                          dropout = self.dropout,\n",
    "                      )\n",
    "        elif self.model == 'xdeep_fm':\n",
    "            return xDeepFM(field_dims,\n",
    "                       embed_dim = self.embed_dim,\n",
    "                       mlp_dims = self.mlp_dims,\n",
    "                       dropout = self.dropout,\n",
    "                       cross_layer_sizes = self.cross_layer_sizes,\n",
    "                       split_half = self.split_half,\n",
    "                      )\n",
    "        elif self.model == 'afm':\n",
    "            return AFM(field_dims,\n",
    "                       embed_dim = self.embed_dim,\n",
    "                       dropouts = self.dropouts,\n",
    "                       attn_size = self.attn_size,\n",
    "                      )\n",
    "        elif self.model == 'autoint':\n",
    "            return AutoInt(field_dims,\n",
    "                       embed_dim = self.embed_dim,\n",
    "                       mlp_dims = self.mlp_dims,\n",
    "                       dropouts = self.dropouts,\n",
    "                       atten_embed_dim = self.atten_embed_dim,\n",
    "                       num_heads = self.num_heads,\n",
    "                       num_layers = self.num_layers,\n",
    "                      )\n",
    "        elif self.model == 'afn':\n",
    "            return AFN(field_dims,\n",
    "                       embed_dim = self.embed_dim,\n",
    "                       mlp_dims = self.mlp_dims,\n",
    "                       dropouts = self.dropouts,\n",
    "                       LNN_dim = self.LNN_dim,\n",
    "                      )"
   ]
  },
  {
   "cell_type": "code",
   "execution_count": null,
   "metadata": {},
   "outputs": [],
   "source": [
    "class EarlyStopper(object):\n",
    "\n",
    "    def __init__(self, num_trials, save_path):\n",
    "        self.num_trials = num_trials\n",
    "        self.trial_counter = 0\n",
    "        self.best_accuracy = 0\n",
    "        self.save_path = save_path\n",
    "\n",
    "    def is_continuable(self, model, accuracy):\n",
    "        if accuracy > self.best_accuracy:\n",
    "            self.best_accuracy = accuracy\n",
    "            self.trial_counter = 0\n",
    "            torch.save(model, self.save_path)\n",
    "            return True\n",
    "        elif self.trial_counter + 1 < self.num_trials:\n",
    "            self.trial_counter += 1\n",
    "            return True\n",
    "        else:\n",
    "            return False"
   ]
  },
  {
   "cell_type": "code",
   "execution_count": null,
   "metadata": {},
   "outputs": [],
   "source": [
    "class Trainer:\n",
    "    def __init__(self, args):\n",
    "        device = torch.device(args.device)\n",
    "        # dataset\n",
    "        dataset = args.get_dataset()\n",
    "        # model\n",
    "        model = args.get_model(dataset.field_dims,\n",
    "                               user_field_idx = dataset.user_field_idx,\n",
    "                               item_field_idx = dataset.item_field_idx)\n",
    "        model = model.to(device)\n",
    "        model_name = type(model).__name__\n",
    "        # data split\n",
    "        train_length = int(len(dataset) * 0.8)\n",
    "        valid_length = int(len(dataset) * 0.1)\n",
    "        test_length = len(dataset) - train_length - valid_length\n",
    "        # data loader\n",
    "        train_dataset, valid_dataset, test_dataset = torch.utils.data.random_split(\n",
    "            dataset, (train_length, valid_length, test_length))\n",
    "        train_data_loader = DataLoader(train_dataset, batch_size=args.batch_size, num_workers=args.num_workers)\n",
    "        valid_data_loader = DataLoader(valid_dataset, batch_size=args.batch_size, num_workers=args.num_workers)\n",
    "        test_data_loader = DataLoader(test_dataset, batch_size=args.batch_size, num_workers=args.num_workers)\n",
    "        # handlers\n",
    "        criterion = torch.nn.BCELoss()\n",
    "        optimizer = torch.optim.Adam(params=model.parameters(), lr=args.lr, weight_decay=args.weight_decay)\n",
    "        os.makedirs(args.save_dir, exist_ok=True)\n",
    "        early_stopper = EarlyStopper(num_trials=2, save_path=f'{args.save_dir}/{model_name}.pt')\n",
    "        # training\n",
    "        for epoch_i in range(args.n_epochs):\n",
    "            self._train(model, optimizer, train_data_loader, criterion, device)\n",
    "            auc = self._test(model, valid_data_loader, device)\n",
    "            print('epoch:', epoch_i, 'validation: auc:', auc)\n",
    "            if not early_stopper.is_continuable(model, auc):\n",
    "                print(f'validation: best auc: {early_stopper.best_accuracy}')\n",
    "                break\n",
    "        auc = self._test(model, test_data_loader, device)\n",
    "        print(f'test auc: {auc}')\n",
    "\n",
    "    @staticmethod\n",
    "    def _train(model, optimizer, data_loader, criterion, device, log_interval=100):\n",
    "        model.train()\n",
    "        total_loss = 0\n",
    "        tk0 = tqdm.tqdm(data_loader, smoothing=0, mininterval=1.0)\n",
    "        for i, (fields, target) in enumerate(tk0):\n",
    "            fields, target = fields.to(device), target.to(device)\n",
    "            y = model(fields)\n",
    "            loss = criterion(y, target.float())\n",
    "            model.zero_grad()\n",
    "            loss.backward()\n",
    "            optimizer.step()\n",
    "            total_loss += loss.item()\n",
    "            if (i + 1) % log_interval == 0:\n",
    "                tk0.set_postfix(loss=total_loss / log_interval)\n",
    "                total_loss = 0\n",
    "    \n",
    "    @staticmethod\n",
    "    def _test(model, data_loader, device):\n",
    "        model.eval()\n",
    "        targets, predicts = list(), list()\n",
    "        with torch.no_grad():\n",
    "            for fields, target in tqdm.tqdm(data_loader, smoothing=0, mininterval=1.0):\n",
    "                fields, target = fields.to(device), target.to(device)\n",
    "                y = model(fields)\n",
    "                targets.extend(target.tolist())\n",
    "                predicts.extend(y.tolist())\n",
    "        return roc_auc_score(targets, predicts)"
   ]
  },
  {
   "cell_type": "code",
   "execution_count": null,
   "metadata": {},
   "outputs": [
    {
     "name": "stderr",
     "output_type": "stream",
     "text": [
      "Processing...\n",
      "Done!\n",
      "100%|██████████| 3126/3126 [00:23<00:00, 135.91it/s, loss=0.57]\n",
      "100%|██████████| 391/391 [00:01<00:00, 252.62it/s]\n"
     ]
    },
    {
     "name": "stdout",
     "output_type": "stream",
     "text": [
      "epoch: 0 validation: auc: 0.7781601005135064\n"
     ]
    },
    {
     "name": "stderr",
     "output_type": "stream",
     "text": [
      "100%|██████████| 3126/3126 [00:22<00:00, 137.03it/s, loss=0.557]\n",
      "100%|██████████| 391/391 [00:01<00:00, 259.00it/s]\n"
     ]
    },
    {
     "name": "stdout",
     "output_type": "stream",
     "text": [
      "epoch: 1 validation: auc: 0.7842454181872189\n"
     ]
    },
    {
     "name": "stderr",
     "output_type": "stream",
     "text": [
      "100%|██████████| 391/391 [00:01<00:00, 261.87it/s]\n",
      "Processing...\n"
     ]
    },
    {
     "name": "stdout",
     "output_type": "stream",
     "text": [
      "test auc: 0.783773499847308\n"
     ]
    },
    {
     "name": "stderr",
     "output_type": "stream",
     "text": [
      "Done!\n",
      "100%|██████████| 3126/3126 [00:15<00:00, 200.85it/s, loss=0.587]\n",
      "100%|██████████| 391/391 [00:01<00:00, 277.38it/s]\n"
     ]
    },
    {
     "name": "stdout",
     "output_type": "stream",
     "text": [
      "epoch: 0 validation: auc: 0.7511323978391329\n"
     ]
    },
    {
     "name": "stderr",
     "output_type": "stream",
     "text": [
      "100%|██████████| 3126/3126 [00:15<00:00, 203.24it/s, loss=0.542]\n",
      "100%|██████████| 391/391 [00:01<00:00, 286.19it/s]\n"
     ]
    },
    {
     "name": "stdout",
     "output_type": "stream",
     "text": [
      "epoch: 1 validation: auc: 0.7852232398637453\n"
     ]
    },
    {
     "name": "stderr",
     "output_type": "stream",
     "text": [
      "100%|██████████| 391/391 [00:01<00:00, 286.62it/s]\n",
      "Processing...\n"
     ]
    },
    {
     "name": "stdout",
     "output_type": "stream",
     "text": [
      "test auc: 0.7851983970544512\n"
     ]
    },
    {
     "name": "stderr",
     "output_type": "stream",
     "text": [
      "Done!\n",
      "100%|██████████| 3126/3126 [00:12<00:00, 243.01it/s, loss=0.713]\n",
      "100%|██████████| 391/391 [00:01<00:00, 290.07it/s]\n"
     ]
    },
    {
     "name": "stdout",
     "output_type": "stream",
     "text": [
      "epoch: 0 validation: auc: 0.606845663039941\n"
     ]
    },
    {
     "name": "stderr",
     "output_type": "stream",
     "text": [
      "100%|██████████| 3126/3126 [00:12<00:00, 243.68it/s, loss=0.625]\n",
      "100%|██████████| 391/391 [00:01<00:00, 290.60it/s]\n"
     ]
    },
    {
     "name": "stdout",
     "output_type": "stream",
     "text": [
      "epoch: 1 validation: auc: 0.6962495583229628\n"
     ]
    },
    {
     "name": "stderr",
     "output_type": "stream",
     "text": [
      "100%|██████████| 391/391 [00:01<00:00, 280.21it/s]\n",
      "Processing...\n"
     ]
    },
    {
     "name": "stdout",
     "output_type": "stream",
     "text": [
      "test auc: 0.6917994954031111\n"
     ]
    },
    {
     "name": "stderr",
     "output_type": "stream",
     "text": [
      "Done!\n",
      "100%|██████████| 3126/3126 [00:16<00:00, 189.89it/s, loss=0.639]\n",
      "100%|██████████| 391/391 [00:01<00:00, 275.44it/s]\n"
     ]
    },
    {
     "name": "stdout",
     "output_type": "stream",
     "text": [
      "epoch: 0 validation: auc: 0.6956660360854087\n"
     ]
    },
    {
     "name": "stderr",
     "output_type": "stream",
     "text": [
      "100%|██████████| 3126/3126 [00:16<00:00, 190.43it/s, loss=0.559]\n",
      "100%|██████████| 391/391 [00:01<00:00, 279.32it/s]\n"
     ]
    },
    {
     "name": "stdout",
     "output_type": "stream",
     "text": [
      "epoch: 1 validation: auc: 0.769259926201433\n"
     ]
    },
    {
     "name": "stderr",
     "output_type": "stream",
     "text": [
      "100%|██████████| 391/391 [00:01<00:00, 275.84it/s]\n",
      "Processing...\n"
     ]
    },
    {
     "name": "stdout",
     "output_type": "stream",
     "text": [
      "test auc: 0.7694256825177728\n"
     ]
    },
    {
     "name": "stderr",
     "output_type": "stream",
     "text": [
      "Done!\n",
      "100%|██████████| 3126/3126 [00:23<00:00, 135.66it/s, loss=0.585]\n",
      "100%|██████████| 391/391 [00:01<00:00, 229.47it/s]\n"
     ]
    },
    {
     "name": "stdout",
     "output_type": "stream",
     "text": [
      "epoch: 0 validation: auc: 0.7508361070441243\n"
     ]
    },
    {
     "name": "stderr",
     "output_type": "stream",
     "text": [
      "100%|██████████| 3126/3126 [00:23<00:00, 135.52it/s, loss=0.538]\n",
      "100%|██████████| 391/391 [00:01<00:00, 229.00it/s]\n"
     ]
    },
    {
     "name": "stdout",
     "output_type": "stream",
     "text": [
      "epoch: 1 validation: auc: 0.7867336507526798\n"
     ]
    },
    {
     "name": "stderr",
     "output_type": "stream",
     "text": [
      "100%|██████████| 391/391 [00:01<00:00, 226.59it/s]\n",
      "Processing...\n"
     ]
    },
    {
     "name": "stdout",
     "output_type": "stream",
     "text": [
      "test auc: 0.7849653473859624\n"
     ]
    },
    {
     "name": "stderr",
     "output_type": "stream",
     "text": [
      "Done!\n",
      "100%|██████████| 3126/3126 [00:21<00:00, 146.97it/s, loss=0.554]\n",
      "100%|██████████| 391/391 [00:01<00:00, 272.83it/s]\n"
     ]
    },
    {
     "name": "stdout",
     "output_type": "stream",
     "text": [
      "epoch: 0 validation: auc: 0.7899586086314532\n"
     ]
    },
    {
     "name": "stderr",
     "output_type": "stream",
     "text": [
      "100%|██████████| 3126/3126 [00:21<00:00, 148.00it/s, loss=0.544]\n",
      "100%|██████████| 391/391 [00:01<00:00, 268.07it/s]\n"
     ]
    },
    {
     "name": "stdout",
     "output_type": "stream",
     "text": [
      "epoch: 1 validation: auc: 0.7938707366151592\n"
     ]
    },
    {
     "name": "stderr",
     "output_type": "stream",
     "text": [
      "100%|██████████| 391/391 [00:01<00:00, 267.69it/s]\n",
      "Processing...\n"
     ]
    },
    {
     "name": "stdout",
     "output_type": "stream",
     "text": [
      "test auc: 0.7935777015287597\n"
     ]
    },
    {
     "name": "stderr",
     "output_type": "stream",
     "text": [
      "Done!\n",
      "100%|██████████| 3126/3126 [00:20<00:00, 151.01it/s, loss=0.55]\n",
      "100%|██████████| 391/391 [00:01<00:00, 253.01it/s]\n"
     ]
    },
    {
     "name": "stdout",
     "output_type": "stream",
     "text": [
      "epoch: 0 validation: auc: 0.7901787607777198\n"
     ]
    },
    {
     "name": "stderr",
     "output_type": "stream",
     "text": [
      "100%|██████████| 3126/3126 [00:20<00:00, 151.50it/s, loss=0.536]\n",
      "100%|██████████| 391/391 [00:01<00:00, 258.53it/s]\n"
     ]
    },
    {
     "name": "stdout",
     "output_type": "stream",
     "text": [
      "epoch: 1 validation: auc: 0.7958062417181883\n"
     ]
    },
    {
     "name": "stderr",
     "output_type": "stream",
     "text": [
      "100%|██████████| 391/391 [00:01<00:00, 265.78it/s]\n",
      "Processing...\n"
     ]
    },
    {
     "name": "stdout",
     "output_type": "stream",
     "text": [
      "test auc: 0.7959379435427811\n"
     ]
    },
    {
     "name": "stderr",
     "output_type": "stream",
     "text": [
      "Done!\n",
      "100%|██████████| 3126/3126 [00:21<00:00, 144.98it/s, loss=0.548]\n",
      "100%|██████████| 391/391 [00:01<00:00, 256.43it/s]\n"
     ]
    },
    {
     "name": "stdout",
     "output_type": "stream",
     "text": [
      "epoch: 0 validation: auc: 0.7943316704845618\n"
     ]
    },
    {
     "name": "stderr",
     "output_type": "stream",
     "text": [
      "100%|██████████| 3126/3126 [00:21<00:00, 145.26it/s, loss=0.53]\n",
      "100%|██████████| 391/391 [00:01<00:00, 252.76it/s]\n"
     ]
    },
    {
     "name": "stdout",
     "output_type": "stream",
     "text": [
      "epoch: 1 validation: auc: 0.8027591784990165\n"
     ]
    },
    {
     "name": "stderr",
     "output_type": "stream",
     "text": [
      "100%|██████████| 391/391 [00:01<00:00, 259.79it/s]\n",
      "Processing...\n"
     ]
    },
    {
     "name": "stdout",
     "output_type": "stream",
     "text": [
      "test auc: 0.8016146552653354\n"
     ]
    },
    {
     "name": "stderr",
     "output_type": "stream",
     "text": [
      "Done!\n",
      "100%|██████████| 3126/3126 [00:26<00:00, 116.37it/s, loss=0.537]\n",
      "100%|██████████| 391/391 [00:01<00:00, 240.12it/s]\n"
     ]
    },
    {
     "name": "stdout",
     "output_type": "stream",
     "text": [
      "epoch: 0 validation: auc: 0.7898151214837668\n"
     ]
    },
    {
     "name": "stderr",
     "output_type": "stream",
     "text": [
      "100%|██████████| 3126/3126 [00:26<00:00, 116.92it/s, loss=0.527]\n",
      "100%|██████████| 391/391 [00:01<00:00, 239.57it/s]\n"
     ]
    },
    {
     "name": "stdout",
     "output_type": "stream",
     "text": [
      "epoch: 1 validation: auc: 0.7955138244674892\n"
     ]
    },
    {
     "name": "stderr",
     "output_type": "stream",
     "text": [
      "100%|██████████| 391/391 [00:01<00:00, 240.84it/s]\n",
      "Processing...\n"
     ]
    },
    {
     "name": "stdout",
     "output_type": "stream",
     "text": [
      "test auc: 0.7964998271099959\n"
     ]
    },
    {
     "name": "stderr",
     "output_type": "stream",
     "text": [
      "Done!\n",
      "100%|██████████| 3126/3126 [00:22<00:00, 138.66it/s, loss=0.586]\n",
      "100%|██████████| 391/391 [00:01<00:00, 252.66it/s]\n"
     ]
    },
    {
     "name": "stdout",
     "output_type": "stream",
     "text": [
      "epoch: 0 validation: auc: 0.7631548463451637\n"
     ]
    },
    {
     "name": "stderr",
     "output_type": "stream",
     "text": [
      "100%|██████████| 3126/3126 [00:22<00:00, 137.08it/s, loss=0.551]\n",
      "100%|██████████| 391/391 [00:01<00:00, 251.84it/s]\n"
     ]
    },
    {
     "name": "stdout",
     "output_type": "stream",
     "text": [
      "epoch: 1 validation: auc: 0.7752154803420491\n"
     ]
    },
    {
     "name": "stderr",
     "output_type": "stream",
     "text": [
      "100%|██████████| 391/391 [00:01<00:00, 252.42it/s]\n",
      "Processing...\n"
     ]
    },
    {
     "name": "stdout",
     "output_type": "stream",
     "text": [
      "test auc: 0.7727792981788815\n"
     ]
    },
    {
     "name": "stderr",
     "output_type": "stream",
     "text": [
      "Done!\n",
      "100%|██████████| 3126/3126 [00:23<00:00, 132.24it/s, loss=0.554]\n",
      "100%|██████████| 391/391 [00:01<00:00, 248.61it/s]\n"
     ]
    },
    {
     "name": "stdout",
     "output_type": "stream",
     "text": [
      "epoch: 0 validation: auc: 0.7876433331502086\n"
     ]
    },
    {
     "name": "stderr",
     "output_type": "stream",
     "text": [
      "100%|██████████| 3126/3126 [00:23<00:00, 132.00it/s, loss=0.543]\n",
      "100%|██████████| 391/391 [00:01<00:00, 249.84it/s]\n"
     ]
    },
    {
     "name": "stdout",
     "output_type": "stream",
     "text": [
      "epoch: 1 validation: auc: 0.7923030405914255\n"
     ]
    },
    {
     "name": "stderr",
     "output_type": "stream",
     "text": [
      "100%|██████████| 391/391 [00:01<00:00, 257.83it/s]\n",
      "Processing...\n"
     ]
    },
    {
     "name": "stdout",
     "output_type": "stream",
     "text": [
      "test auc: 0.7930787548185895\n"
     ]
    },
    {
     "name": "stderr",
     "output_type": "stream",
     "text": [
      "Done!\n",
      "100%|██████████| 3126/3126 [00:23<00:00, 133.99it/s, loss=0.61]\n",
      "100%|██████████| 391/391 [00:01<00:00, 250.20it/s]\n"
     ]
    },
    {
     "name": "stdout",
     "output_type": "stream",
     "text": [
      "epoch: 0 validation: auc: 0.7376150945998978\n"
     ]
    },
    {
     "name": "stderr",
     "output_type": "stream",
     "text": [
      "100%|██████████| 3126/3126 [00:23<00:00, 135.18it/s, loss=0.583]\n",
      "100%|██████████| 391/391 [00:01<00:00, 246.25it/s]\n"
     ]
    },
    {
     "name": "stdout",
     "output_type": "stream",
     "text": [
      "epoch: 1 validation: auc: 0.7583206065924306\n"
     ]
    },
    {
     "name": "stderr",
     "output_type": "stream",
     "text": [
      "100%|██████████| 391/391 [00:01<00:00, 245.77it/s]\n",
      "Processing...\n"
     ]
    },
    {
     "name": "stdout",
     "output_type": "stream",
     "text": [
      "test auc: 0.7594084947700983\n"
     ]
    },
    {
     "name": "stderr",
     "output_type": "stream",
     "text": [
      "Done!\n",
      "100%|██████████| 3126/3126 [00:24<00:00, 127.45it/s, loss=0.569]\n",
      "100%|██████████| 391/391 [00:01<00:00, 244.49it/s]\n"
     ]
    },
    {
     "name": "stdout",
     "output_type": "stream",
     "text": [
      "epoch: 0 validation: auc: 0.7806048647711028\n"
     ]
    },
    {
     "name": "stderr",
     "output_type": "stream",
     "text": [
      "100%|██████████| 3126/3126 [00:24<00:00, 128.70it/s, loss=0.554]\n",
      "100%|██████████| 391/391 [00:01<00:00, 246.00it/s]\n"
     ]
    },
    {
     "name": "stdout",
     "output_type": "stream",
     "text": [
      "epoch: 1 validation: auc: 0.7857091265544482\n"
     ]
    },
    {
     "name": "stderr",
     "output_type": "stream",
     "text": [
      "100%|██████████| 391/391 [00:01<00:00, 245.62it/s]\n",
      "Processing...\n"
     ]
    },
    {
     "name": "stdout",
     "output_type": "stream",
     "text": [
      "test auc: 0.7857843263334994\n"
     ]
    },
    {
     "name": "stderr",
     "output_type": "stream",
     "text": [
      "Done!\n",
      "100%|██████████| 3126/3126 [00:30<00:00, 103.68it/s, loss=0.558]\n",
      "100%|██████████| 391/391 [00:01<00:00, 219.06it/s]\n"
     ]
    },
    {
     "name": "stdout",
     "output_type": "stream",
     "text": [
      "epoch: 0 validation: auc: 0.7814674364890849\n"
     ]
    },
    {
     "name": "stderr",
     "output_type": "stream",
     "text": [
      "100%|██████████| 3126/3126 [00:29<00:00, 104.41it/s, loss=0.539]\n",
      "100%|██████████| 391/391 [00:01<00:00, 214.94it/s]\n"
     ]
    },
    {
     "name": "stdout",
     "output_type": "stream",
     "text": [
      "epoch: 1 validation: auc: 0.7899837530572655\n"
     ]
    },
    {
     "name": "stderr",
     "output_type": "stream",
     "text": [
      "100%|██████████| 391/391 [00:01<00:00, 216.12it/s]\n",
      "Processing...\n"
     ]
    },
    {
     "name": "stdout",
     "output_type": "stream",
     "text": [
      "test auc: 0.7863345464272122\n"
     ]
    },
    {
     "name": "stderr",
     "output_type": "stream",
     "text": [
      "Done!\n",
      "100%|██████████| 3126/3126 [00:23<00:00, 133.32it/s, loss=0.606]\n",
      "100%|██████████| 391/391 [00:01<00:00, 244.59it/s]\n"
     ]
    },
    {
     "name": "stdout",
     "output_type": "stream",
     "text": [
      "epoch: 0 validation: auc: 0.7590887701790624\n"
     ]
    },
    {
     "name": "stderr",
     "output_type": "stream",
     "text": [
      "100%|██████████| 3126/3126 [00:23<00:00, 134.06it/s, loss=0.576]\n",
      "100%|██████████| 391/391 [00:01<00:00, 247.06it/s]\n"
     ]
    },
    {
     "name": "stdout",
     "output_type": "stream",
     "text": [
      "epoch: 1 validation: auc: 0.7820711568875622\n"
     ]
    },
    {
     "name": "stderr",
     "output_type": "stream",
     "text": [
      "100%|██████████| 391/391 [00:01<00:00, 247.66it/s]"
     ]
    },
    {
     "name": "stdout",
     "output_type": "stream",
     "text": [
      "test auc: 0.7835448236219698\n"
     ]
    },
    {
     "name": "stderr",
     "output_type": "stream",
     "text": [
      "\n"
     ]
    }
   ],
   "source": [
    "models = [\n",
    "          'wide_and_deep',\n",
    "          'fm',\n",
    "          'lr',\n",
    "          'ffm',\n",
    "          'hofm',\n",
    "          'fnn',\n",
    "          'ipnn',\n",
    "          'opnn',\n",
    "          'dcn',\n",
    "          'nfm',\n",
    "          'ncf',\n",
    "          'fnfm',\n",
    "          'deep_fm',\n",
    "          'xdeep_fm',\n",
    "          'afm',\n",
    "        #   'autoint',\n",
    "        #   'afn'\n",
    "          ]\n",
    "\n",
    "for model in models:\n",
    "    args = Args(model=model)\n",
    "    trainer = Trainer(args)"
   ]
  },
  {
   "cell_type": "code",
   "execution_count": null,
   "metadata": {},
   "outputs": [
    {
     "name": "stderr",
     "output_type": "stream",
     "text": [
      "Processing...\n",
      "Done!\n",
      "100%|██████████| 3126/3126 [00:43<00:00, 72.44it/s, loss=0.551]\n",
      "100%|██████████| 391/391 [00:02<00:00, 171.82it/s]\n"
     ]
    },
    {
     "name": "stdout",
     "output_type": "stream",
     "text": [
      "epoch: 0 validation: auc: 0.7838440329134869\n"
     ]
    },
    {
     "name": "stderr",
     "output_type": "stream",
     "text": [
      "100%|██████████| 3126/3126 [00:42<00:00, 73.24it/s, loss=0.532]\n",
      "100%|██████████| 391/391 [00:02<00:00, 172.49it/s]\n"
     ]
    },
    {
     "name": "stdout",
     "output_type": "stream",
     "text": [
      "epoch: 1 validation: auc: 0.7924653055551055\n"
     ]
    },
    {
     "name": "stderr",
     "output_type": "stream",
     "text": [
      "100%|██████████| 391/391 [00:02<00:00, 169.07it/s]\n",
      "Processing...\n"
     ]
    },
    {
     "name": "stdout",
     "output_type": "stream",
     "text": [
      "test auc: 0.7935854845577758\n"
     ]
    },
    {
     "name": "stderr",
     "output_type": "stream",
     "text": [
      "Done!\n",
      "100%|██████████| 3126/3126 [01:24<00:00, 37.12it/s, loss=0.564]\n",
      "100%|██████████| 391/391 [00:03<00:00, 107.76it/s]\n"
     ]
    },
    {
     "name": "stdout",
     "output_type": "stream",
     "text": [
      "epoch: 0 validation: auc: 0.7796980126749351\n"
     ]
    },
    {
     "name": "stderr",
     "output_type": "stream",
     "text": [
      "100%|██████████| 3126/3126 [01:23<00:00, 37.50it/s, loss=0.547]\n",
      "100%|██████████| 391/391 [00:03<00:00, 108.16it/s]\n"
     ]
    },
    {
     "name": "stdout",
     "output_type": "stream",
     "text": [
      "epoch: 1 validation: auc: 0.7879478169612124\n"
     ]
    },
    {
     "name": "stderr",
     "output_type": "stream",
     "text": [
      "100%|██████████| 391/391 [00:03<00:00, 108.09it/s]"
     ]
    },
    {
     "name": "stdout",
     "output_type": "stream",
     "text": [
      "test auc: 0.7893059350190452\n"
     ]
    },
    {
     "name": "stderr",
     "output_type": "stream",
     "text": [
      "\n"
     ]
    }
   ],
   "source": [
    "models = [\n",
    "          'autoint',\n",
    "          'afn'\n",
    "          ]\n",
    "\n",
    "for model in models:\n",
    "    args = Args(model=model)\n",
    "    trainer = Trainer(args)"
   ]
  },
  {
   "cell_type": "code",
   "execution_count": null,
   "metadata": {},
   "outputs": [
    {
     "name": "stdout",
     "output_type": "stream",
     "text": [
      "\u001b[01;34m/content/chkpt\u001b[00m\n",
      "├── [669K]  AFM.pt\n",
      "├── [ 39M]  AFN.pt\n",
      "├── [1.5M]  AutoInt.pt\n",
      "├── [640K]  DCN.pt\n",
      "├── [676K]  DeepFM.pt\n",
      "├── [355K]  FFM.pt\n",
      "├── [666K]  FM.pt\n",
      "├── [363K]  FNFM.pt\n",
      "├── [636K]  FNN.pt\n",
      "├── [1.3M]  HOFM.pt\n",
      "├── [ 41K]  LR.pt\n",
      "├── [636K]  NCF.pt\n",
      "├── [2.5M]  NFM.pt\n",
      "├── [1.2M]  PNN.pt\n",
      "├── [676K]  WideAndDeep.pt\n",
      "└── [682K]  xDeepFM.pt\n",
      "\n",
      "  51M used in 0 directories, 16 files\n"
     ]
    }
   ],
   "source": [
    "!tree --du -h -C /content/chkpt"
   ]
  },
  {
   "cell_type": "code",
   "execution_count": null,
   "metadata": {},
   "outputs": [],
   "source": []
  }
 ],
 "metadata": {
  "kernelspec": {
   "display_name": "Python 3",
   "name": "python3"
  }
 },
 "nbformat": 4,
 "nbformat_minor": 0
}
