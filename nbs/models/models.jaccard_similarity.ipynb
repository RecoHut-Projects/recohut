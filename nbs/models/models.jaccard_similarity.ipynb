{
  "cells": [
    {
      "cell_type": "code",
      "source": [
        "# default_exp models.jaccard_similarity"
      ],
      "metadata": {
        "id": "KRFhR66uXb4B"
      },
      "execution_count": null,
      "outputs": []
    },
    {
      "cell_type": "markdown",
      "source": [
        "# Jaccard Similarity\n",
        "> Implementation of jaccard similarity based recommender model."
      ],
      "metadata": {
        "id": "PxEc930NY-M6"
      }
    },
    {
      "cell_type": "code",
      "source": [
        "#export\n",
        "import pandas as pd\n",
        "import operator"
      ],
      "metadata": {
        "id": "Oe4Tatl0tiGw"
      },
      "execution_count": null,
      "outputs": []
    },
    {
      "cell_type": "code",
      "source": [
        "#export\n",
        "class JaccardSimilarity:\n",
        "    \"\"\"Using the Jaccard Index, we can retrieve top-k similar items to a given item. \n",
        "    This provides a way to recommend items of a user which are similar to the \n",
        "    items that the user has history with.\n",
        "    \"\"\"\n",
        "    def fit(self, df, user_col='user_id', item_col='item_id'):\n",
        "        self.item_col = item_col\n",
        "        self.item_sets = dict((item, set(users)) for item, users in df.groupby(item_col)[user_col])\n",
        "\n",
        "    def _jaccard(self, item1, item2):\n",
        "        a = self.item_sets[item1]\n",
        "        b = self.item_sets[item2]\n",
        "        intersection = float(len(a.intersection(b)))\n",
        "        return intersection / (len(a) + len(b) - intersection)\n",
        "\n",
        "    def recommend(self, itemid, top_k=5):\n",
        "        jaccard_dict = {x: self._jaccard(x, itemid) for x in self.item_sets}\n",
        "        ranked_items = sorted(jaccard_dict.items(), key=operator.itemgetter(1), reverse=True)[1:top_k+1]\n",
        "        return ranked_items"
      ],
      "metadata": {
        "id": "zovWgHrP1a9u"
      },
      "execution_count": null,
      "outputs": []
    },
    {
      "cell_type": "markdown",
      "source": [
        "Example"
      ],
      "metadata": {
        "id": "k6a8_ZbnsVIU"
      }
    },
    {
      "cell_type": "code",
      "source": [
        "rating_df = pd.read_csv('https://raw.githubusercontent.com/sparsh-ai/rec-data-public/master/ml-other/ml100k_ratings.csv', sep=',', header=0)"
      ],
      "metadata": {
        "id": "5xEe3rbbti9-"
      },
      "execution_count": null,
      "outputs": []
    },
    {
      "cell_type": "code",
      "source": [
        "model = JaccardSimilarity()\n",
        "\n",
        "model.fit(df=rating_df, user_col='userId', item_col='movieId')\n",
        "model.recommend(itemid=10)"
      ],
      "metadata": {
        "id": "bRzIPeYI3YxD",
        "outputId": "98d8b5e7-b712-4e7b-b0ef-1bc0fc7e964f",
        "colab": {
          "base_uri": "https://localhost:8080/"
        }
      },
      "execution_count": null,
      "outputs": [
        {
          "output_type": "execute_result",
          "data": {
            "text/plain": [
              "[(165, 0.46808510638297873),\n",
              " (377, 0.42924528301886794),\n",
              " (380, 0.42857142857142855),\n",
              " (592, 0.4266666666666667),\n",
              " (316, 0.4166666666666667)]"
            ]
          },
          "metadata": {},
          "execution_count": 4
        }
      ]
    }
  ],
  "metadata": {
    "colab": {
      "name": "models > jaccard_similarity",
      "provenance": []
    },
    "kernelspec": {
      "display_name": "Python 3",
      "name": "python3"
    }
  },
  "nbformat": 4,
  "nbformat_minor": 0
}