{
  "cells": [
    {
      "cell_type": "code",
      "execution_count": null,
      "metadata": {
        "id": "EeBUQKvwvS76"
      },
      "outputs": [],
      "source": [
        "# default_exp models.xdeepfm"
      ]
    },
    {
      "cell_type": "markdown",
      "metadata": {
        "id": "T0TNiFMKvS8A"
      },
      "source": [
        "# xDeepFM\n",
        "> A pytorch implementation of Extreme Deep Factorization Machines (xDeepFM).\n",
        "\n",
        "xDeepFM combines the CIN and a classical DNN into one unified model. xDeepFM is able to learn certain bounded-degree feature interactions explicitly; on the other hand, it can learn arbitrary low- and high-order feature interactions implicitly.\n",
        "\n",
        "**The architecture of xDeepFM.**\n",
        "<img src='https://github.com/RecoHut-Stanzas/S021355/raw/main/images/img13.png'>\n",
        "\n",
        "Compressed Interaction Network (CIN) aims to generate feature interactions in an explicit fashion and at the vector-wise level. CIN share some functionalities with convolutional neural networks (CNNs) and recurrent neural networks (RNNs).\n",
        "\n",
        "**Components and architecture of the Compressed Interaction Network (CIN).**\n",
        "<img src='https://github.com/RecoHut-Stanzas/S021355/raw/main/images/img14.png'>\n",
        "\n"
      ]
    },
    {
      "cell_type": "code",
      "execution_count": null,
      "metadata": {
        "id": "fPSQmmQgvS8F"
      },
      "outputs": [],
      "source": [
        "#hide\n",
        "from nbdev.showdoc import *\n",
        "from fastcore.nb_imports import *\n",
        "from fastcore.test import *"
      ]
    },
    {
      "cell_type": "markdown",
      "source": [
        "## v1"
      ],
      "metadata": {
        "id": "02HV98MovcW-"
      }
    },
    {
      "cell_type": "code",
      "source": [
        "#export\n",
        "import torch\n",
        "from torch import nn\n",
        "\n",
        "from recohut.models.layers.embedding import EmbeddingLayer\n",
        "from recohut.models.layers.common import MLP_Layer, LR_Layer\n",
        "from recohut.models.layers.interaction import CompressedInteractionNet\n",
        "\n",
        "from recohut.models.bases.ctr import CTRModel"
      ],
      "metadata": {
        "id": "l9hT_TEfnMy4"
      },
      "execution_count": null,
      "outputs": []
    },
    {
      "cell_type": "code",
      "source": [
        "#export\n",
        "class xDeepFM(CTRModel):\n",
        "    def __init__(self, \n",
        "                 feature_map, \n",
        "                 model_id=\"xDeepFM\",\n",
        "                 task=\"binary_classification\",\n",
        "                 learning_rate=1e-3, \n",
        "                 embedding_initializer=\"torch.nn.init.normal_(std=1e-4)\",\n",
        "                 embedding_dim=10, \n",
        "                 dnn_hidden_units=[64, 64, 64], \n",
        "                 dnn_activations=\"ReLU\",\n",
        "                 cin_layer_units=[16, 16, 16], \n",
        "                 net_dropout=0, \n",
        "                 batch_norm=False, \n",
        "                 **kwargs):\n",
        "        super(xDeepFM, self).__init__(feature_map, \n",
        "                                           model_id=model_id,\n",
        "                                           **kwargs)\n",
        "        self.embedding_layer = EmbeddingLayer(feature_map, embedding_dim)\n",
        "        input_dim = feature_map.num_fields * embedding_dim\n",
        "        self.dnn = MLP_Layer(input_dim=input_dim,\n",
        "                             output_dim=1, \n",
        "                             hidden_units=dnn_hidden_units,\n",
        "                             hidden_activations=dnn_activations,\n",
        "                             output_activation=None, \n",
        "                             dropout_rates=net_dropout, \n",
        "                             batch_norm=batch_norm, \n",
        "                             use_bias=True) \\\n",
        "                   if dnn_hidden_units else None # in case of only CIN used\n",
        "        self.lr_layer = LR_Layer(feature_map, output_activation=None, use_bias=False)\n",
        "        self.cin = CompressedInteractionNet(feature_map.num_fields, cin_layer_units, output_dim=1)\n",
        "        self.output_activation = self.get_final_activation(task)\n",
        "        self.init_weights(embedding_initializer=embedding_initializer)\n",
        "\n",
        "    def forward(self, inputs):\n",
        "        feature_emb = self.embedding_layer(inputs) # list of b x embedding_dim\n",
        "        lr_logit = self.lr_layer(inputs)\n",
        "        cin_logit = self.cin(feature_emb)\n",
        "        if self.dnn is not None:\n",
        "            dnn_logit = self.dnn(feature_emb.flatten(start_dim=1))\n",
        "            y_pred = lr_logit + cin_logit + dnn_logit # LR + CIN + DNN\n",
        "        else:\n",
        "            y_pred = lr_logit + cin_logit # only LR + CIN\n",
        "        if self.output_activation is not None:\n",
        "            y_pred = self.output_activation(y_pred)\n",
        "        return y_pred"
      ],
      "metadata": {
        "id": "bWVxCkXgFpqV"
      },
      "execution_count": null,
      "outputs": []
    },
    {
      "cell_type": "markdown",
      "source": [
        "Example"
      ],
      "metadata": {
        "id": "ueSrnou3nj_M"
      }
    },
    {
      "cell_type": "code",
      "source": [
        "params = {'model_id': 'xDeepFM',\n",
        "              'data_dir': '/content/data',\n",
        "              'model_root': './checkpoints/',\n",
        "              'learning_rate': 1e-3,\n",
        "              'optimizer': 'adamw',\n",
        "              'task': 'binary_classification',\n",
        "              'loss': 'binary_crossentropy',\n",
        "              'metrics': ['logloss', 'AUC'],\n",
        "              'embedding_dim': 10,\n",
        "              'dnn_hidden_units': [500, 500, 500],\n",
        "              'cin_layer_units': [32, 32, 32],\n",
        "              'hidden_activations': 'relu',\n",
        "              'net_dropout': 0,\n",
        "              'batch_size': 64,\n",
        "              'epochs': 3,\n",
        "              'shuffle': True,\n",
        "              'seed': 2019,\n",
        "              'use_hdf5': True,\n",
        "              'workers': 1,\n",
        "              'verbose': 0}"
      ],
      "metadata": {
        "id": "RF7l2_nfFpqO"
      },
      "execution_count": null,
      "outputs": []
    },
    {
      "cell_type": "code",
      "source": [
        "model = xDeepFM(ds.dataset.feature_map, **params)"
      ],
      "metadata": {
        "id": "0YqL4y-dTkRk"
      },
      "execution_count": null,
      "outputs": []
    },
    {
      "cell_type": "code",
      "source": [
        "pl_trainer(model, ds, max_epochs=5)"
      ],
      "metadata": {
        "colab": {
          "base_uri": "https://localhost:8080/",
          "height": 446,
          "referenced_widgets": [
            "e2beefdcd50140a9a47719b49c8afbc1",
            "981e002b9d464ccaa24488bd7e6e3a85",
            "8080cb0a2fde4b1d9cab8fdd4ef30d93",
            "5bc8ba5a337c4b96804be4ed99770ff0",
            "256703f68bd84fd79716ca3a0ae7b1f0",
            "cc2c1da1e8624158b8397c7c2fbfa0a5",
            "d176612d14364a419525463e36025a75",
            "bb1ec22c12b44c5d8e771252d11324d8",
            "44e62af8a84349e9b75d58903833faa0",
            "3f7c8315e1ae496b83f6023bd2eb3e1b",
            "ea55b2abfcf445849b2ec8c9db959a78",
            "88835510e92941f693c0ec00e33f2f19",
            "94d58c9fb8a54de5a0c0fceb5b5444d8",
            "bfcdd0d64bb544eebbe43fd80d9feb2e",
            "888b44b779eb4b1994da0a757d85efad",
            "929703ddf3fb4f01b99976885abb2b58",
            "8fd964da67e8494191b7496435f1b3c4",
            "3d467b88981943c084de184288759393",
            "27536d49f0684ae2920ffad58806efac",
            "3d467c1f204f4ed7b6c1c2f7beee90a8",
            "3644e4eb2fee4d599223abb8f8f0e1ff",
            "1199dcae4c0f4abda6ef67bf6031c68d",
            "915bda10ef3146ae84b4c1b73891abed",
            "b6d72fd169794eff9f94cdf6f64c8a45",
            "c20b24434e754f9d84745e2249950f6b",
            "d6bd349865d546d884a2f8d5460d1a6b",
            "ac835dcb514948e9aeb4ec2d4218f906",
            "92e0bf0ce37c4f1ab119a432d35f8a8c",
            "23731adbfeb14f1984c3a01ea7cf82a2",
            "644a0fe840b44a0c801d2eb8f25816b7",
            "e1f1e9a9799949a1a4855f9bce50bd4e",
            "f932022bb7464b65ab4eab689ae54397",
            "3590e403ed814f60bd4d962b6d3a2962"
          ]
        },
        "outputId": "b9bdc077-f29e-4a3e-9bdd-1af804c3773a",
        "id": "VR6zP_4MTkRl"
      },
      "execution_count": null,
      "outputs": [
        {
          "output_type": "stream",
          "name": "stderr",
          "text": [
            "GPU available: False, used: False\n",
            "TPU available: False, using: 0 TPU cores\n",
            "IPU available: False, using: 0 IPUs\n",
            "\n",
            "  | Name              | Type                     | Params\n",
            "---------------------------------------------------------------\n",
            "0 | embedding_layer   | EmbeddingLayer           | 4.8 K \n",
            "1 | dnn               | MLP_Layer                | 572 K \n",
            "2 | lr_layer          | LR_Layer                 | 476   \n",
            "3 | cin               | CompressedInteractionNet | 35.1 K\n",
            "4 | output_activation | Sigmoid                  | 0     \n",
            "---------------------------------------------------------------\n",
            "612 K     Trainable params\n",
            "0         Non-trainable params\n",
            "612 K     Total params\n",
            "2.449     Total estimated model params size (MB)\n"
          ]
        },
        {
          "output_type": "display_data",
          "data": {
            "application/vnd.jupyter.widget-view+json": {
              "model_id": "e2beefdcd50140a9a47719b49c8afbc1",
              "version_minor": 0,
              "version_major": 2
            },
            "text/plain": [
              "Training: 0it [00:00, ?it/s]"
            ]
          },
          "metadata": {}
        },
        {
          "output_type": "display_data",
          "data": {
            "application/vnd.jupyter.widget-view+json": {
              "model_id": "88835510e92941f693c0ec00e33f2f19",
              "version_minor": 0,
              "version_major": 2
            },
            "text/plain": [
              "Validating: 0it [00:00, ?it/s]"
            ]
          },
          "metadata": {}
        },
        {
          "output_type": "display_data",
          "data": {
            "application/vnd.jupyter.widget-view+json": {
              "model_id": "915bda10ef3146ae84b4c1b73891abed",
              "version_minor": 0,
              "version_major": 2
            },
            "text/plain": [
              "Testing: 0it [00:00, ?it/s]"
            ]
          },
          "metadata": {}
        },
        {
          "output_type": "stream",
          "name": "stdout",
          "text": [
            "--------------------------------------------------------------------------------\n",
            "DATALOADER:0 TEST RESULTS\n",
            "{'Test Metrics': {'AUC': tensor(1.), 'logloss': tensor(0.1219)}}\n",
            "--------------------------------------------------------------------------------\n"
          ]
        },
        {
          "output_type": "execute_result",
          "data": {
            "text/plain": [
              "[{'Test Metrics': {'AUC': tensor(1.), 'logloss': tensor(0.1219)}}]"
            ]
          },
          "metadata": {},
          "execution_count": 106
        }
      ]
    },
    {
      "cell_type": "markdown",
      "source": [
        "## v2"
      ],
      "metadata": {
        "id": "wYPe9Fx4vWqR"
      }
    },
    {
      "cell_type": "code",
      "execution_count": null,
      "metadata": {
        "id": "2a-lqPojvS8G"
      },
      "outputs": [],
      "source": [
        "#export\n",
        "import torch\n",
        "\n",
        "from recohut.models.layers.common import FeaturesEmbedding, FeaturesLinear, MultiLayerPerceptron"
      ]
    },
    {
      "cell_type": "code",
      "execution_count": null,
      "metadata": {
        "id": "op_NDz_GvS8I"
      },
      "outputs": [],
      "source": [
        "#export\n",
        "class CompressedInteractionNetwork(torch.nn.Module):\n",
        "\n",
        "    def __init__(self, input_dim, cross_layer_sizes, split_half=True):\n",
        "        super().__init__()\n",
        "        self.num_layers = len(cross_layer_sizes)\n",
        "        self.split_half = split_half\n",
        "        self.conv_layers = torch.nn.ModuleList()\n",
        "        prev_dim, fc_input_dim = input_dim, 0\n",
        "        for i in range(self.num_layers):\n",
        "            cross_layer_size = cross_layer_sizes[i]\n",
        "            self.conv_layers.append(torch.nn.Conv1d(input_dim * prev_dim, cross_layer_size, 1,\n",
        "                                                    stride=1, dilation=1, bias=True))\n",
        "            if self.split_half and i != self.num_layers - 1:\n",
        "                cross_layer_size //= 2\n",
        "            prev_dim = cross_layer_size\n",
        "            fc_input_dim += prev_dim\n",
        "        self.fc = torch.nn.Linear(fc_input_dim, 1)\n",
        "\n",
        "    def forward(self, x):\n",
        "        \"\"\"\n",
        "        :param x: Float tensor of size ``(batch_size, num_fields, embed_dim)``\n",
        "        \"\"\"\n",
        "        xs = list()\n",
        "        x0, h = x.unsqueeze(2), x\n",
        "        for i in range(self.num_layers):\n",
        "            x = x0 * h.unsqueeze(1)\n",
        "            batch_size, f0_dim, fin_dim, embed_dim = x.shape\n",
        "            x = x.view(batch_size, f0_dim * fin_dim, embed_dim)\n",
        "            x = F.relu(self.conv_layers[i](x))\n",
        "            if self.split_half and i != self.num_layers - 1:\n",
        "                x, h = torch.split(x, x.shape[1] // 2, dim=1)\n",
        "            else:\n",
        "                h = x\n",
        "            xs.append(x)\n",
        "        return self.fc(torch.sum(torch.cat(xs, dim=1), 2))\n",
        "\n",
        "\n",
        "class xDeepFM_v2(torch.nn.Module):\n",
        "    \"\"\"\n",
        "    A pytorch implementation of xDeepFM.\n",
        "    Reference:\n",
        "        J Lian, et al. xDeepFM: Combining Explicit and Implicit Feature Interactions for Recommender Systems, 2018.\n",
        "    \"\"\"\n",
        "\n",
        "    def __init__(self, field_dims, embed_dim, mlp_dims, dropout, cross_layer_sizes, split_half=True):\n",
        "        super().__init__()\n",
        "        self.embedding = FeaturesEmbedding(field_dims, embed_dim)\n",
        "        self.embed_output_dim = len(field_dims) * embed_dim\n",
        "        self.cin = CompressedInteractionNetwork(len(field_dims), cross_layer_sizes, split_half)\n",
        "        self.mlp = MultiLayerPerceptron(self.embed_output_dim, mlp_dims, dropout)\n",
        "        self.linear = FeaturesLinear(field_dims)\n",
        "\n",
        "    def forward(self, x):\n",
        "        \"\"\"\n",
        "        :param x: Long tensor of size ``(batch_size, num_fields)``\n",
        "        \"\"\"\n",
        "        embed_x = self.embedding(x)\n",
        "        x = self.linear(x) + self.cin(embed_x) + self.mlp(embed_x.view(-1, self.embed_output_dim))\n",
        "        return torch.sigmoid(x.squeeze(1))"
      ]
    },
    {
      "cell_type": "markdown",
      "metadata": {
        "id": "cqD_hSJIvS8L"
      },
      "source": [
        "> **References:-**\n",
        "- J Lian, et al. xDeepFM: Combining Explicit and Implicit Feature Interactions for Recommender Systems, 2018.\n",
        "- https://github.com/rixwew/pytorch-fm/blob/master/torchfm/model/xdfm.py"
      ]
    },
    {
      "cell_type": "code",
      "execution_count": null,
      "metadata": {
        "id": "3FwRiLA0vS8M"
      },
      "outputs": [],
      "source": [
        "#hide\n",
        "%reload_ext watermark\n",
        "%watermark -a \"Sparsh A.\" -m -iv -u -t -d -p recohut"
      ]
    }
  ],
  "metadata": {
    "kernelspec": {
      "display_name": "Python 3",
      "name": "python3"
    },
    "colab": {
      "name": "models.xdeepfm.ipynb",
      "provenance": []
    }
  },
  "nbformat": 4,
  "nbformat_minor": 0
}