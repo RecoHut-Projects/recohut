{
  "nbformat": 4,
  "nbformat_minor": 0,
  "metadata": {
    "colab": {
      "name": "M134242 | models > dcn",
      "provenance": [],
      "collapsed_sections": [
        "1KypvcFZI64_"
      ],
      "toc_visible": true,
      "mount_file_id": "1FEZmnoLGIsTsGiK2gi1TsIHLAaWCXF_a",
      "authorship_tag": "ABX9TyOm75uv8WtKEpgFThyMrq9X"
    },
    "kernelspec": {
      "name": "python3",
      "display_name": "Python 3"
    },
    "language_info": {
      "name": "python"
    }
  },
  "cells": [
    {
      "cell_type": "code",
      "execution_count": null,
      "metadata": {
        "id": "fycOO2OxKHEF"
      },
      "outputs": [],
      "source": [
        "# default_exp models.dcn"
      ]
    },
    {
      "cell_type": "markdown",
      "metadata": {
        "id": "1KypvcFZI64_"
      },
      "source": [
        "# DCN\n",
        "> A pytorch implementation of Deep & Cross Network."
      ]
    },
    {
      "cell_type": "code",
      "execution_count": null,
      "metadata": {
        "id": "RGwuVx5oI65E"
      },
      "outputs": [],
      "source": [
        "#hide\n",
        "from nbdev.showdoc import *\n",
        "from fastcore.nb_imports import *\n",
        "from fastcore.test import *"
      ]
    },
    {
      "cell_type": "code",
      "execution_count": null,
      "metadata": {
        "id": "32ibt_XlI65I"
      },
      "outputs": [],
      "source": [
        "#export\n",
        "import torch\n",
        "\n",
        "from recohut.layers.common import FeaturesEmbedding, MultiLayerPerceptron"
      ]
    },
    {
      "cell_type": "code",
      "source": [
        "#export\n",
        "class CrossNetwork(torch.nn.Module):\n",
        "\n",
        "    def __init__(self, input_dim, num_layers):\n",
        "        super().__init__()\n",
        "        self.num_layers = num_layers\n",
        "        self.w = torch.nn.ModuleList([\n",
        "            torch.nn.Linear(input_dim, 1, bias=False) for _ in range(num_layers)\n",
        "        ])\n",
        "        self.b = torch.nn.ParameterList([\n",
        "            torch.nn.Parameter(torch.zeros((input_dim,))) for _ in range(num_layers)\n",
        "        ])\n",
        "\n",
        "    def forward(self, x):\n",
        "        \"\"\"\n",
        "        :param x: Float tensor of size ``(batch_size, num_fields, embed_dim)``\n",
        "        \"\"\"\n",
        "        x0 = x\n",
        "        for i in range(self.num_layers):\n",
        "            xw = self.w[i](x)\n",
        "            x = x0 * xw + self.b[i] + x\n",
        "        return x\n",
        "\n",
        "class DCN(torch.nn.Module):\n",
        "    \"\"\"\n",
        "    A pytorch implementation of Deep & Cross Network.\n",
        "    Reference:\n",
        "        R Wang, et al. Deep & Cross Network for Ad Click Predictions, 2017.\n",
        "    \"\"\"\n",
        "\n",
        "    def __init__(self, field_dims, embed_dim, num_layers, mlp_dims, dropout):\n",
        "        super().__init__()\n",
        "        self.embedding = FeaturesEmbedding(field_dims, embed_dim)\n",
        "        self.embed_output_dim = len(field_dims) * embed_dim\n",
        "        self.cn = CrossNetwork(self.embed_output_dim, num_layers)\n",
        "        self.mlp = MultiLayerPerceptron(self.embed_output_dim, mlp_dims, dropout, output_layer=False)\n",
        "        self.linear = torch.nn.Linear(mlp_dims[-1] + self.embed_output_dim, 1)\n",
        "\n",
        "    def forward(self, x):\n",
        "        \"\"\"\n",
        "        :param x: Long tensor of size ``(batch_size, num_fields)``\n",
        "        \"\"\"\n",
        "        embed_x = self.embedding(x).view(-1, self.embed_output_dim)\n",
        "        x_l1 = self.cn(embed_x)\n",
        "        h_l2 = self.mlp(embed_x)\n",
        "        x_stack = torch.cat([x_l1, h_l2], dim=1)\n",
        "        p = self.linear(x_stack)\n",
        "        return torch.sigmoid(p.squeeze(1))"
      ],
      "metadata": {
        "id": "DchSUXOEK3CT"
      },
      "execution_count": null,
      "outputs": []
    },
    {
      "cell_type": "markdown",
      "source": [
        "> **References:-**\n",
        "- R Wang, et al. Deep & Cross Network for Ad Click Predictions, 2017.\n",
        "- https://github.com/rixwew/pytorch-fm/blob/master/torchfm/model/dcn.py"
      ],
      "metadata": {
        "id": "VmBYJuNFiO3g"
      }
    },
    {
      "cell_type": "code",
      "execution_count": null,
      "metadata": {
        "id": "yXwRDjpKI65c"
      },
      "outputs": [],
      "source": [
        "#hide\n",
        "%reload_ext watermark\n",
        "%watermark -a \"Sparsh A.\" -m -iv -u -t -d -p recohut"
      ]
    }
  ]
}