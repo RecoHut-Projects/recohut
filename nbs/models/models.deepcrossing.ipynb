{
  "cells": [
    {
      "cell_type": "code",
      "execution_count": null,
      "metadata": {
        "id": "fycOO2OxKHEF"
      },
      "outputs": [],
      "source": [
        "# default_exp models.deepcrossing"
      ]
    },
    {
      "cell_type": "markdown",
      "metadata": {
        "id": "sB1CMZ8HKHEI"
      },
      "source": [
        "# DeepCrossing\n",
        "> Implementation of DeepCrossing model in PyTorch.\n",
        "\n",
        "The input of Deep Crossing is a set of individual features that can be either dense or sparse. The important crossing features are discovered implicitly by the networks, which are comprised of an embedding and stacking layer, as well as a cascade of Residual Units.\n",
        "\n",
        "![Untitled](https://github.com/RecoHut-Stanzas/S021355/raw/main/images/img7.png)"
      ]
    },
    {
      "cell_type": "code",
      "execution_count": null,
      "metadata": {
        "id": "gLpnIkxJm4VA"
      },
      "outputs": [],
      "source": [
        "#hide\n",
        "from nbdev.showdoc import *\n",
        "from fastcore.nb_imports import *\n",
        "from fastcore.test import *"
      ]
    },
    {
      "cell_type": "code",
      "source": [
        "#export\n",
        "import torch\n",
        "from torch import nn\n",
        "\n",
        "from recohut.models.layers.embedding import EmbeddingLayer\n",
        "\n",
        "from recohut.models.bases.ctr import CTRModel"
      ],
      "metadata": {
        "id": "l9hT_TEfnMy4"
      },
      "execution_count": null,
      "outputs": []
    },
    {
      "cell_type": "code",
      "source": [
        "#exporti\n",
        "def get_activation(activation):\n",
        "    if isinstance(activation, str):\n",
        "        if activation.lower() == \"relu\":\n",
        "            return nn.ReLU()\n",
        "        elif activation.lower() == \"sigmoid\":\n",
        "            return nn.Sigmoid()\n",
        "        elif activation.lower() == \"tanh\":\n",
        "            return nn.Tanh()\n",
        "        else:\n",
        "            return getattr(nn, activation)()\n",
        "    else:\n",
        "        return activation"
      ],
      "metadata": {
        "id": "Cqgpln7zpXQp"
      },
      "execution_count": null,
      "outputs": []
    },
    {
      "cell_type": "code",
      "source": [
        "#exporti\n",
        "class ResidualBlock(nn.Module):\n",
        "    def __init__(self, \n",
        "                 input_dim, \n",
        "                 hidden_dim, \n",
        "                 hidden_activation=\"ReLU\",\n",
        "                 dropout_rate=0,\n",
        "                 use_residual=True,\n",
        "                 batch_norm=False):\n",
        "        super(ResidualBlock, self).__init__()\n",
        "        self.activation_layer = get_activation(hidden_activation)\n",
        "        self.layer = nn.Sequential(nn.Linear(input_dim, hidden_dim),\n",
        "                                   self.activation_layer,\n",
        "                                   nn.Linear(hidden_dim, input_dim))\n",
        "        self.use_residual = use_residual\n",
        "        self.batch_norm = nn.BatchNorm1d(input_dim) if batch_norm else None\n",
        "        self.dropout = nn.Dropout(dropout_rate) if dropout_rate > 0 else None\n",
        "\n",
        "    def forward(self, X):\n",
        "        X_out = self.layer(X)\n",
        "        if self.use_residual:\n",
        "            X_out = X_out + X\n",
        "        if self.batch_norm is not None:\n",
        "            X_out = self.batch_norm(X_out)\n",
        "        output = self.activation_layer(X_out)\n",
        "        if self.dropout is not None:\n",
        "            output = self.dropout(output)\n",
        "        return output"
      ],
      "metadata": {
        "id": "4bHX9k0_pbjy"
      },
      "execution_count": null,
      "outputs": []
    },
    {
      "cell_type": "code",
      "source": [
        "#export\n",
        "class DeepCrossing(CTRModel):\n",
        "    def __init__(self, \n",
        "                 feature_map, \n",
        "                 model_id=\"DeepCrossing\",\n",
        "                 task=\"binary_classification\",\n",
        "                 learning_rate=1e-3, \n",
        "                 embedding_initializer=\"torch.nn.init.normal_(std=1e-4)\",\n",
        "                 embedding_dim=10, \n",
        "                 residual_blocks=[64, 64, 64],\n",
        "                 hidden_activations=\"ReLU\", \n",
        "                 net_dropout=0, \n",
        "                 batch_norm=False, \n",
        "                 use_residual=True,\n",
        "                 **kwargs):\n",
        "        super(DeepCrossing, self).__init__(feature_map, \n",
        "                                           model_id=model_id,\n",
        "                                           **kwargs)\n",
        "        self.embedding_layer = EmbeddingLayer(feature_map, embedding_dim)\n",
        "        if not isinstance(hidden_activations, list):\n",
        "            hidden_activations = [hidden_activations] * len(residual_blocks)\n",
        "        layers = []\n",
        "        input_dim = feature_map.num_fields * embedding_dim\n",
        "        for hidden_dim, hidden_activation in zip(residual_blocks, hidden_activations):\n",
        "            layers.append(ResidualBlock(input_dim, \n",
        "                                        hidden_dim,\n",
        "                                        hidden_activation,\n",
        "                                        net_dropout,\n",
        "                                        use_residual,\n",
        "                                        batch_norm))\n",
        "        layers.append(nn.Linear(input_dim, 1))\n",
        "        self.crossing_layer = nn.Sequential(*layers) # * used to unpack list\n",
        "        self.output_activation = self.get_final_activation(task)\n",
        "        self.init_weights(embedding_initializer=embedding_initializer)\n",
        "\n",
        "    def forward(self, inputs):\n",
        "        feature_emb = self.embedding_layer(inputs)\n",
        "        y_pred = self.crossing_layer(feature_emb.flatten(start_dim=1))\n",
        "        if self.output_activation is not None:\n",
        "            y_pred = self.output_activation(y_pred)\n",
        "        return y_pred"
      ],
      "metadata": {
        "id": "bWVxCkXgFpqV"
      },
      "execution_count": null,
      "outputs": []
    },
    {
      "cell_type": "markdown",
      "source": [
        "Example"
      ],
      "metadata": {
        "id": "ueSrnou3nj_M"
      }
    },
    {
      "cell_type": "code",
      "source": [
        "params = {'model_id': 'DeepCrossing',\n",
        "              'data_dir': '/content/data',\n",
        "              'model_root': './checkpoints/',\n",
        "              'dnn_hidden_units': [64, 64],\n",
        "              'dnn_activations': \"relu\",\n",
        "              'learning_rate': 1e-3,\n",
        "              'net_dropout': 0,\n",
        "              'batch_norm': False,\n",
        "              'optimizer': 'adamw',\n",
        "              'use_residual': True,\n",
        "              'residual_blocks': [500, 500, 500],\n",
        "              'task': 'binary_classification',\n",
        "              'loss': 'binary_crossentropy',\n",
        "              'metrics': ['logloss', 'AUC'],\n",
        "              'embedding_dim': 10,\n",
        "              'batch_size': 64,\n",
        "              'epochs': 3,\n",
        "              'shuffle': True,\n",
        "              'seed': 2019,\n",
        "              'use_hdf5': True,\n",
        "              'workers': 1,\n",
        "              'verbose': 0}"
      ],
      "metadata": {
        "id": "RF7l2_nfFpqO"
      },
      "execution_count": null,
      "outputs": []
    },
    {
      "cell_type": "code",
      "source": [
        "model = DeepCrossing(ds.dataset.feature_map, **params)"
      ],
      "metadata": {
        "id": "zaRfIMTx6aVM"
      },
      "execution_count": null,
      "outputs": []
    },
    {
      "cell_type": "code",
      "source": [
        "pl_trainer(model, ds, max_epochs=5)"
      ],
      "metadata": {
        "colab": {
          "base_uri": "https://localhost:8080/",
          "height": 443,
          "referenced_widgets": [
            "5618ccfe8fba42eaae1fc7ed54a7abca",
            "59e55a9f4afb4f4bac9cf9dd4cc31779",
            "70c05c68b85d436d8720fb9e94b3745b",
            "3cfdd042bd1747dd955cfe3af198e3e0",
            "5b3fd7d19119401583cd08fbf323c0f5",
            "37641744d3a544ac81e76635184dda13",
            "4d8a73c4321e4a2ba32d6666a05c5e5b",
            "b3ad17a998144ec0a07e024947a7ee61",
            "7b0e522bdcc14e618367407d02d10f1b",
            "5a9b205d25aa4844aae63b46511f7ddc",
            "8472a74a5e8e4ce683b7d5ee62ba54c3",
            "8ce697d5c97549d79c4208dccc7baa08",
            "431e896576e94eebb5338195a689ad12",
            "a4d8026dbfd642edb04426b50c27b713",
            "c2f03875e9a745f4a34a1173186c3b3a",
            "c457322b49d645239c799c4296582540",
            "d1419d02c9fe4f508ca31c82419e5749",
            "d41293d5cdb043298db4db9bd58a5bb9",
            "54dc5b87035144a69efe2fdfb84eaf31",
            "3b98f20d472e4f14b80edc425c62f73c",
            "9f47fba057cc4a5693d4d322fb1e3a63",
            "251649f009614564b20432bc24dc48c5",
            "666c4acdb3a14f7a9d0a3a7277c191c8",
            "d5260454c5bb4193a82f560ba1513302",
            "931d819211a445ca911525d943382f96",
            "185d8ae2ba8c46db934075913b187134",
            "d0c744c37ab94fc898fd68f2e332f5b6",
            "d2d66f2d787f449a8a1e112e5396516d",
            "2312d3ad52294e4ea9994fbc6e5f20ab",
            "79bb27a8adc74a64973dea65993f0b23",
            "cec3c03983324644acdf4bb6fc99ca1b",
            "e9774b34f6274e5cbde9f853e59a6fc7",
            "8629ba55d8f044bea35f6f7e74de5f3f"
          ]
        },
        "id": "CEfU4VyK6aVP",
        "outputId": "c02c68f1-31a8-4071-8daa-49febd19840d"
      },
      "execution_count": null,
      "outputs": [
        {
          "output_type": "stream",
          "name": "stderr",
          "text": [
            "GPU available: False, used: False\n",
            "TPU available: False, using: 0 TPU cores\n",
            "IPU available: False, using: 0 IPUs\n",
            "\n",
            "  | Name              | Type           | Params\n",
            "-----------------------------------------------------\n",
            "0 | embedding_layer   | EmbeddingLayer | 4.8 K \n",
            "1 | crossing_layer    | Sequential     | 422 K \n",
            "2 | output_activation | Sigmoid        | 0     \n",
            "-----------------------------------------------------\n",
            "426 K     Trainable params\n",
            "0         Non-trainable params\n",
            "426 K     Total params\n",
            "1.707     Total estimated model params size (MB)\n"
          ]
        },
        {
          "output_type": "display_data",
          "data": {
            "application/vnd.jupyter.widget-view+json": {
              "model_id": "5618ccfe8fba42eaae1fc7ed54a7abca",
              "version_minor": 0,
              "version_major": 2
            },
            "text/plain": [
              "Training: 0it [00:00, ?it/s]"
            ]
          },
          "metadata": {}
        },
        {
          "output_type": "display_data",
          "data": {
            "application/vnd.jupyter.widget-view+json": {
              "model_id": "8ce697d5c97549d79c4208dccc7baa08",
              "version_minor": 0,
              "version_major": 2
            },
            "text/plain": [
              "Validating: 0it [00:00, ?it/s]"
            ]
          },
          "metadata": {}
        },
        {
          "output_type": "display_data",
          "data": {
            "application/vnd.jupyter.widget-view+json": {
              "model_id": "666c4acdb3a14f7a9d0a3a7277c191c8",
              "version_minor": 0,
              "version_major": 2
            },
            "text/plain": [
              "Testing: 0it [00:00, ?it/s]"
            ]
          },
          "metadata": {}
        },
        {
          "output_type": "stream",
          "name": "stdout",
          "text": [
            "--------------------------------------------------------------------------------\n",
            "DATALOADER:0 TEST RESULTS\n",
            "{'Test Metrics': {'AUC': tensor(1.), 'logloss': tensor(0.0758)}}\n",
            "--------------------------------------------------------------------------------\n"
          ]
        },
        {
          "output_type": "execute_result",
          "data": {
            "text/plain": [
              "[{'Test Metrics': {'AUC': tensor(1.), 'logloss': tensor(0.0758)}}]"
            ]
          },
          "metadata": {},
          "execution_count": 39
        }
      ]
    }
  ],
  "metadata": {
    "kernelspec": {
      "display_name": "Python 3",
      "name": "python3"
    },
    "colab": {
      "name": "M664561 | models > deepcrossing",
      "provenance": [],
      "collapsed_sections": []
    }
  },
  "nbformat": 4,
  "nbformat_minor": 0
}