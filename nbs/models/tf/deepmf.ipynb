{
  "nbformat": 4,
  "nbformat_minor": 0,
  "metadata": {
    "kernelspec": {
      "display_name": "Python 3",
      "name": "python3"
    },
    "colab": {
      "name": "M853129 | Model > Tensorflow > DeepMF Module",
      "provenance": [],
      "collapsed_sections": []
    }
  },
  "cells": [
    {
      "cell_type": "code",
      "metadata": {
        "id": "_HFE-WXOEj4v"
      },
      "source": [
        "# default_exp models.tf.deepmf"
      ],
      "execution_count": null,
      "outputs": []
    },
    {
      "cell_type": "markdown",
      "metadata": {
        "id": "0kJRvN6pEj4w"
      },
      "source": [
        "# DeepMF\n",
        "> Deep Matrix Factorization Model."
      ]
    },
    {
      "cell_type": "code",
      "metadata": {
        "id": "htCNh2vMEj4x"
      },
      "source": [
        "#hide\n",
        "from nbdev.showdoc import *"
      ],
      "execution_count": null,
      "outputs": []
    },
    {
      "cell_type": "code",
      "metadata": {
        "id": "a5CgPmEMEj4x"
      },
      "source": [
        "#export\n",
        "import tensorflow as tf\n",
        "from tensorflow.keras.models import Model\n",
        "from tensorflow.keras.layers import Embedding, Flatten, Input, Dot\n",
        "\n",
        "\n",
        "class DeepMF:\n",
        "    \"\"\"Deep Matrix Factorization.\n",
        "    \"\"\"\n",
        "    def __init__(self, num_users, num_items, latent_dim=20):\n",
        "        self.num_users = num_users\n",
        "        self.num_items = num_items\n",
        "        self.latent_dim = latent_dim\n",
        "\n",
        "    def build(self):\n",
        "        user_input = Input(shape=[1])\n",
        "        user_embedding = Embedding(self.num_users, self.latent_dim)(user_input)\n",
        "        user_vec = Flatten()(user_embedding)\n",
        "\n",
        "        item_input = Input(shape=[1])\n",
        "        item_embedding = Embedding(self.num_items, self.latent_dim)(item_input)\n",
        "        item_vec = Flatten()(item_embedding) \n",
        "                \n",
        "        dot = Dot(axes=1)([item_vec, user_vec])\n",
        "            \n",
        "        model = Model([user_input, item_input], dot)\n",
        "        return model"
      ],
      "execution_count": null,
      "outputs": []
    },
    {
      "cell_type": "code",
      "metadata": {
        "colab": {
          "base_uri": "https://localhost:8080/"
        },
        "id": "XWX7UEnigAmV",
        "outputId": "096ed9e1-fc14-4f45-9246-5818c94c5a51"
      },
      "source": [
        "#hide-input\n",
        "!pip install -q watermark\n",
        "%reload_ext watermark\n",
        "%watermark -a \"Sparsh A.\" -m -iv -u -t -d"
      ],
      "execution_count": null,
      "outputs": [
        {
          "output_type": "stream",
          "name": "stdout",
          "text": [
            "Author: Sparsh A.\n",
            "\n",
            "Last updated: 2021-12-17 07:21:33\n",
            "\n",
            "Compiler    : GCC 7.5.0\n",
            "OS          : Linux\n",
            "Release     : 5.4.104+\n",
            "Machine     : x86_64\n",
            "Processor   : x86_64\n",
            "CPU cores   : 2\n",
            "Architecture: 64bit\n",
            "\n",
            "tensorflow: 2.7.0\n",
            "IPython   : 5.5.0\n",
            "\n"
          ]
        }
      ]
    },
    {
      "cell_type": "markdown",
      "metadata": {
        "id": "I1jluiw4Ej45"
      },
      "source": [
        "---"
      ]
    }
  ]
}