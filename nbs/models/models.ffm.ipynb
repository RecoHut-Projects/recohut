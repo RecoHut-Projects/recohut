{
  "cells": [
    {
      "cell_type": "code",
      "execution_count": null,
      "metadata": {
        "id": "nom9SMVow0HO"
      },
      "outputs": [],
      "source": [
        "# default_exp models.ffm"
      ]
    },
    {
      "cell_type": "markdown",
      "metadata": {
        "id": "9eq_hzyFw0HU"
      },
      "source": [
        "# FFM\n",
        "> A pytorch implementation of Field-aware Factorization Machine.\n",
        "\n",
        "Despite effectiveness, FM can be hindered by its modelling of all feature interactions with the same weight, as not all feature interactions are equally useful and predictive. For example, the interactions with useless features may even introduce noises and adversely degrade the performance.\n",
        "\n",
        "|  | For each | Learn |\n",
        "| --- | --- | --- |\n",
        "| Linear | feature | a weight |\n",
        "| Poly | feature pair | a weight |\n",
        "| FM | feature | a latent vector |\n",
        "| FFM | feature | multiple latent vectors |\n",
        "\n",
        "Field-aware factorization machine (FFM) is an extension to FM. It was originally introduced in [2]. The advantage of FFM over FM is that it uses different factorized latent factors for different groups of features. The \"group\" is called \"field\" in the context of FFM. Putting features into fields resolves the issue that the latent factors shared by features that intuitively represent different categories of information may not well generalize the correlation.\n",
        "\n",
        "FFM addresses this issue by splitting the original latent space into smaller latent spaces specific to the fields of the features.\n",
        "\n",
        "$$\\phi(\\pmb{w}, \\pmb{x}) = w_0 + \\sum\\limits_{i=1}^n w_i x_i + \\sum\\limits_{i=1}^n \\sum\\limits_{j=i + 1}^n \\langle \\mathbf{v}_{i, f_{2}} \\cdot \\mathbf{v}_{j, f_{1}} \\rangle x_i x_j$$"
      ]
    },
    {
      "cell_type": "code",
      "execution_count": null,
      "metadata": {
        "id": "8tsqscCOw0Ha"
      },
      "outputs": [],
      "source": [
        "#hide\n",
        "from nbdev.showdoc import *\n",
        "from fastcore.nb_imports import *\n",
        "from fastcore.test import *"
      ]
    },
    {
      "cell_type": "markdown",
      "source": [
        "## v1"
      ],
      "metadata": {
        "id": "oX7pN2YJw9oJ"
      }
    },
    {
      "cell_type": "code",
      "source": [
        "#export\n",
        "import torch\n",
        "from torch import nn\n",
        "\n",
        "from recohut.models.layers.embedding import EmbeddingLayer\n",
        "from recohut.models.layers.common import LR_Layer\n",
        "\n",
        "from recohut.models.bases.ctr import CTRModel"
      ],
      "metadata": {
        "id": "l9hT_TEfnMy4"
      },
      "execution_count": null,
      "outputs": []
    },
    {
      "cell_type": "code",
      "source": [
        "#export\n",
        "class FFM(CTRModel):\n",
        "    def __init__(self, \n",
        "                 feature_map, \n",
        "                 model_id=\"FFM\",\n",
        "                 task=\"binary_classification\",\n",
        "                 learning_rate=1e-3, \n",
        "                 embedding_initializer=\"torch.nn.init.normal_(std=1e-4)\",\n",
        "                 embedding_dim=2, \n",
        "                 regularizer=None,\n",
        "                 **kwargs):\n",
        "        super(FFM, self).__init__(feature_map, \n",
        "                                           model_id=model_id,\n",
        "                                           **kwargs)\n",
        "        self.num_fields = feature_map.num_fields\n",
        "        self.lr_layer = LR_Layer(feature_map, output_activation=None, use_bias=True)\n",
        "        self.embedding_layers = nn.ModuleList([EmbeddingLayer(feature_map, embedding_dim) \n",
        "                                               for x in range(self.num_fields - 1)]) # (F - 1) x F x bs x dim\n",
        "        self.output_activation = self.get_final_activation(task)\n",
        "        self.init_weights(embedding_initializer=embedding_initializer)\n",
        "\n",
        "    def forward(self, inputs):\n",
        "        lr_out = self.lr_layer(inputs)\n",
        "        field_wise_emb_list = [each_layer(inputs) for each_layer in self.embedding_layers] # (F - 1) list of bs x F x d\n",
        "        ffm_out = self.ffm_interaction(field_wise_emb_list)\n",
        "        y_pred = lr_out + ffm_out\n",
        "        if self.output_activation is not None:\n",
        "            y_pred = self.output_activation(y_pred)\n",
        "        return y_pred\n",
        "\n",
        "    def ffm_interaction(self, field_wise_emb_list):\n",
        "        dot = 0\n",
        "        for i in range(self.num_fields - 1):\n",
        "            for j in range(i + 1, self.num_fields):\n",
        "                v_ij = field_wise_emb_list[j - 1][:, i, :]\n",
        "                v_ji = field_wise_emb_list[i][:, j, :]\n",
        "                dot += torch.sum(v_ij * v_ji, dim=1, keepdim=True)\n",
        "        return dot"
      ],
      "metadata": {
        "id": "bWVxCkXgFpqV"
      },
      "execution_count": null,
      "outputs": []
    },
    {
      "cell_type": "markdown",
      "source": [
        "Example"
      ],
      "metadata": {
        "id": "ueSrnou3nj_M"
      }
    },
    {
      "cell_type": "code",
      "source": [
        "params = {'model_id': 'FFM',\n",
        "              'data_dir': '/content/data',\n",
        "              'model_root': './checkpoints/',\n",
        "              'learning_rate': 1e-3,\n",
        "              'optimizer': 'adamw',\n",
        "              'task': 'binary_classification',\n",
        "              'loss': 'binary_crossentropy',\n",
        "              'metrics': ['logloss', 'AUC'],\n",
        "              'embedding_dim': 2,\n",
        "              'regularizer': 0,\n",
        "              'batch_size': 64,\n",
        "              'epochs': 3,\n",
        "              'shuffle': True,\n",
        "              'seed': 2019,\n",
        "              'use_hdf5': True,\n",
        "              'workers': 1,\n",
        "              'verbose': 0}"
      ],
      "metadata": {
        "id": "RF7l2_nfFpqO"
      },
      "execution_count": null,
      "outputs": []
    },
    {
      "cell_type": "code",
      "source": [
        "model = FFM(ds.dataset.feature_map, **params)"
      ],
      "metadata": {
        "id": "XbnuvWfGWv5N"
      },
      "execution_count": null,
      "outputs": []
    },
    {
      "cell_type": "code",
      "source": [
        "pl_trainer(model, ds, max_epochs=5)"
      ],
      "metadata": {
        "colab": {
          "base_uri": "https://localhost:8080/",
          "height": 411,
          "referenced_widgets": [
            "f98bad8085be4abe8283aacff18d647e",
            "5d558493995c4c14a02b5fc072e67e6c",
            "10eed1af39394b4aa2d7aa05bad664d3",
            "86c25504a76a4b0ea9c50ddbb913798c",
            "4e11b12dab6040b6a7fe0a7dc62d7aa0",
            "5f41be6347e6448183341aab23e8ed77",
            "26a9a5c26cad43458f2107c7e3460c86",
            "1cb499b76fa541b282fbb8f7b014a894",
            "938ab965e101445f90aa300a0fdff369",
            "a45c2233e6944eebacd0a99d5d3fb75d",
            "2b6a69e3a1b14898b16d01889ea1ef56",
            "115f389ead0b4226944fd69754a0d8ff",
            "fae64412d6db4127b3b5dd41356d4665",
            "58325247b20548cba0254aab5b76fb72",
            "7a15bd7a2ed6444f98df78b084b26069",
            "9fa304bed5e047518c3a87010da4fed7",
            "90459331e92a47e88a57ec454c56c189",
            "ebcca2d3a5bd4cd1aba5f26c8f581e4e",
            "ef74ed49682f454ba90b361c0118f30f",
            "54e3a1295e114626a3c64f77ae969abf",
            "8a44aae10784473a88f1a5f8b6fa63cf",
            "99b2d99bf26b4937bb23b0be75f8e261",
            "58268430deca44d1bb6992ea7321dd9e",
            "975d855b67d241dc8560a396d96d8077",
            "af957f22c8114ffe93990e56374aab14",
            "a7cb2984c1244de1a0800248096ba4c2",
            "198049bbaeaa49eda8d92fc7fe9a30b0",
            "f6be23e454bd4fce9824fc8cb248d594",
            "55618a72925f4a7eac87aca2f7a89766",
            "f47cd6bf84f444c283c727e7f9b609b9",
            "24f346c592414ff085b5063e11d18ac4",
            "21d5c8cf04064fccb704fb9c55dc44d2",
            "c57cf578166b49da8000ddc90d3e4e5a"
          ]
        },
        "outputId": "7efcbeb7-64e1-417c-845f-0fadfc4a64a9",
        "id": "gsT__H9DWv5O"
      },
      "execution_count": null,
      "outputs": [
        {
          "output_type": "stream",
          "name": "stderr",
          "text": [
            "GPU available: False, used: False\n",
            "TPU available: False, using: 0 TPU cores\n",
            "IPU available: False, using: 0 IPUs\n",
            "\n",
            "  | Name              | Type       | Params\n",
            "-------------------------------------------------\n",
            "0 | lr_layer          | LR_Layer   | 477   \n",
            "1 | embedding_layers  | ModuleList | 12.4 K\n",
            "2 | output_activation | Sigmoid    | 0     \n",
            "-------------------------------------------------\n",
            "12.9 K    Trainable params\n",
            "0         Non-trainable params\n",
            "12.9 K    Total params\n",
            "0.051     Total estimated model params size (MB)\n"
          ]
        },
        {
          "output_type": "display_data",
          "data": {
            "application/vnd.jupyter.widget-view+json": {
              "model_id": "f98bad8085be4abe8283aacff18d647e",
              "version_minor": 0,
              "version_major": 2
            },
            "text/plain": [
              "Training: 0it [00:00, ?it/s]"
            ]
          },
          "metadata": {}
        },
        {
          "output_type": "display_data",
          "data": {
            "application/vnd.jupyter.widget-view+json": {
              "model_id": "115f389ead0b4226944fd69754a0d8ff",
              "version_minor": 0,
              "version_major": 2
            },
            "text/plain": [
              "Validating: 0it [00:00, ?it/s]"
            ]
          },
          "metadata": {}
        },
        {
          "output_type": "display_data",
          "data": {
            "application/vnd.jupyter.widget-view+json": {
              "model_id": "58268430deca44d1bb6992ea7321dd9e",
              "version_minor": 0,
              "version_major": 2
            },
            "text/plain": [
              "Testing: 0it [00:00, ?it/s]"
            ]
          },
          "metadata": {}
        },
        {
          "output_type": "stream",
          "name": "stdout",
          "text": [
            "--------------------------------------------------------------------------------\n",
            "DATALOADER:0 TEST RESULTS\n",
            "{'Test Metrics': {'AUC': tensor(1.), 'logloss': tensor(0.5025)}}\n",
            "--------------------------------------------------------------------------------\n"
          ]
        },
        {
          "output_type": "execute_result",
          "data": {
            "text/plain": [
              "[{'Test Metrics': {'AUC': tensor(1.), 'logloss': tensor(0.5025)}}]"
            ]
          },
          "metadata": {},
          "execution_count": 125
        }
      ]
    },
    {
      "cell_type": "markdown",
      "source": [
        "## v2"
      ],
      "metadata": {
        "id": "4NGjQnpYw2l5"
      }
    },
    {
      "cell_type": "code",
      "execution_count": null,
      "metadata": {
        "id": "zJtrQg7iw0Hc"
      },
      "outputs": [],
      "source": [
        "#export\n",
        "import numpy as np\n",
        "import torch\n",
        "\n",
        "from recohut.models.layers.common import FeaturesLinear"
      ]
    },
    {
      "cell_type": "code",
      "execution_count": null,
      "metadata": {
        "id": "Uzmh9u0Pw0Hd"
      },
      "outputs": [],
      "source": [
        "#export\n",
        "class FieldAwareFactorizationMachine(torch.nn.Module):\n",
        "\n",
        "    def __init__(self, field_dims, embed_dim):\n",
        "        super().__init__()\n",
        "        self.num_fields = len(field_dims)\n",
        "        self.embeddings = torch.nn.ModuleList([\n",
        "            torch.nn.Embedding(sum(field_dims), embed_dim) for _ in range(self.num_fields)\n",
        "        ])\n",
        "        self.offsets = np.array((0, *np.cumsum(field_dims)[:-1]), dtype=np.long)\n",
        "        for embedding in self.embeddings:\n",
        "            torch.nn.init.xavier_uniform_(embedding.weight.data)\n",
        "\n",
        "    def forward(self, x):\n",
        "        \"\"\"\n",
        "        :param x: Long tensor of size ``(batch_size, num_fields)``\n",
        "        \"\"\"\n",
        "        x = x + x.new_tensor(self.offsets).unsqueeze(0)\n",
        "        xs = [self.embeddings[i](x) for i in range(self.num_fields)]\n",
        "        ix = list()\n",
        "        for i in range(self.num_fields - 1):\n",
        "            for j in range(i + 1, self.num_fields):\n",
        "                ix.append(xs[j][:, i] * xs[i][:, j])\n",
        "        ix = torch.stack(ix, dim=1)\n",
        "        return ix\n",
        "\n",
        "class FFM_v2(torch.nn.Module):\n",
        "    \"\"\"\n",
        "    A pytorch implementation of Field-aware Factorization Machine.\n",
        "    Reference:\n",
        "        Y Juan, et al. Field-aware Factorization Machines for CTR Prediction, 2015.\n",
        "    \"\"\"\n",
        "\n",
        "    def __init__(self, field_dims, embed_dim):\n",
        "        super().__init__()\n",
        "        self.linear = FeaturesLinear(field_dims)\n",
        "        self.ffm = FieldAwareFactorizationMachine(field_dims, embed_dim)\n",
        "\n",
        "    def forward(self, x):\n",
        "        \"\"\"\n",
        "        :param x: Long tensor of size ``(batch_size, num_fields)``\n",
        "        \"\"\"\n",
        "        ffm_term = torch.sum(torch.sum(self.ffm(x), dim=1), dim=1, keepdim=True)\n",
        "        x = self.linear(x) + ffm_term\n",
        "        return torch.sigmoid(x.squeeze(1))"
      ]
    },
    {
      "cell_type": "markdown",
      "metadata": {
        "id": "zn0fxWHXw0Hg"
      },
      "source": [
        "> **References:-**\n",
        "- Y Juan, et al. Field-aware Factorization Machines for CTR Prediction, 2015.\n",
        "- https://github.com/rixwew/pytorch-fm/blob/master/torchfm/model/ffm.py"
      ]
    },
    {
      "cell_type": "code",
      "execution_count": null,
      "metadata": {
        "id": "3QA711_Vw0Hh"
      },
      "outputs": [],
      "source": [
        "#hide\n",
        "%reload_ext watermark\n",
        "%watermark -a \"Sparsh A.\" -m -iv -u -t -d -p recohut"
      ]
    }
  ],
  "metadata": {
    "kernelspec": {
      "display_name": "Python 3",
      "name": "python3"
    },
    "colab": {
      "name": "models.ffm.ipynb",
      "provenance": []
    }
  },
  "nbformat": 4,
  "nbformat_minor": 0
}