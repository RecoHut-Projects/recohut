{
  "cells": [
    {
      "cell_type": "code",
      "execution_count": null,
      "metadata": {
        "id": "fycOO2OxKHEF"
      },
      "outputs": [],
      "source": [
        "# default_exp models.lorentzfm"
      ]
    },
    {
      "cell_type": "markdown",
      "metadata": {
        "id": "sB1CMZ8HKHEI"
      },
      "source": [
        "# LorentzFM\n",
        "> Implementation of LorentzFM model in PyTorch."
      ]
    },
    {
      "cell_type": "code",
      "execution_count": null,
      "metadata": {
        "id": "gLpnIkxJm4VA"
      },
      "outputs": [],
      "source": [
        "#hide\n",
        "from nbdev.showdoc import *\n",
        "from fastcore.nb_imports import *\n",
        "from fastcore.test import *"
      ]
    },
    {
      "cell_type": "code",
      "source": [
        "#export\n",
        "import torch\n",
        "from torch import nn\n",
        "\n",
        "from recohut.models.layers.embedding import EmbeddingLayer\n",
        "from recohut.models.layers.interaction import InnerProductLayer\n",
        "\n",
        "from recohut.models.bases.ctr import CTRModel"
      ],
      "metadata": {
        "id": "l9hT_TEfnMy4"
      },
      "execution_count": null,
      "outputs": []
    },
    {
      "cell_type": "code",
      "source": [
        "#export\n",
        "class LorentzFM(CTRModel):\n",
        "    def __init__(self, \n",
        "                 feature_map, \n",
        "                 model_id=\"LorentzFM\",\n",
        "                 task=\"binary_classification\",\n",
        "                 learning_rate=1e-3, \n",
        "                 embedding_initializer=\"torch.nn.init.normal_(std=1e-4)\",\n",
        "                 embedding_dim=10,\n",
        "                 embedding_dropout=0,\n",
        "                 regularizer=None, \n",
        "                 **kwargs):\n",
        "        super(LorentzFM, self).__init__(feature_map, \n",
        "                                           model_id=model_id,\n",
        "                                           **kwargs)\n",
        "        self.embedding_layer = EmbeddingLayer(feature_map, embedding_dim)\n",
        "        self.inner_product_layer = InnerProductLayer(feature_map.num_fields, output=\"inner_product\")\n",
        "        self.output_activation = self.get_final_activation(task)\n",
        "        self.init_weights(embedding_initializer=embedding_initializer)\n",
        "\n",
        "    def forward(self, inputs):\n",
        "        feature_emb = self.embedding_layer(inputs) # bs x field x dim\n",
        "        inner_product = self.inner_product_layer(feature_emb) # bs x (field x (field - 1) / 2)\n",
        "        zeroth_components = self.get_zeroth_components(feature_emb) # batch * field\n",
        "        y_pred = self.triangle_pooling(inner_product, zeroth_components) \n",
        "        if self.output_activation is not None:\n",
        "            y_pred = self.output_activation(y_pred)\n",
        "        return y_pred\n",
        "\n",
        "    def get_zeroth_components(self, feature_emb):\n",
        "        '''\n",
        "        compute the 0th component\n",
        "        '''\n",
        "        sum_of_square = torch.sum(feature_emb ** 2, dim=-1) # batch * field\n",
        "        zeroth_components = torch.sqrt(sum_of_square + 1) # beta = 1\n",
        "        return zeroth_components # batch * field\n",
        "\n",
        "    def triangle_pooling(self, inner_product, zeroth_components):\n",
        "        '''\n",
        "        T(u,v) = (1 - <u, v>L - u0 - v0) / (u0 * v0)\n",
        "               = (1 + u0 * v0 - inner_product - u0 - v0) / (u0 * v0)\n",
        "               = 1 + (1 - inner_product - u0 - v0) / (u0 * v0)\n",
        "        '''\n",
        "        num_fields = zeroth_components.size(1)\n",
        "        p, q = zip(*list(combinations(range(num_fields), 2)))\n",
        "        u0, v0 = zeroth_components[:, p], zeroth_components[:, q]  # batch * (f(f-1)/2)\n",
        "        score_tensor = 1 + torch.div(1 - inner_product - u0 - v0, u0 * v0) # batch * (f(f-1)/2)\n",
        "        output = torch.sum(score_tensor, dim=1) # batch * 1\n",
        "        return output"
      ],
      "metadata": {
        "id": "bWVxCkXgFpqV"
      },
      "execution_count": null,
      "outputs": []
    },
    {
      "cell_type": "markdown",
      "source": [
        "Example"
      ],
      "metadata": {
        "id": "ueSrnou3nj_M"
      }
    },
    {
      "cell_type": "code",
      "source": [
        "params = {'model_id': 'LorentzFM',\n",
        "              'data_dir': '/content/data',\n",
        "              'model_root': './checkpoints/',\n",
        "              'learning_rate': 1e-3,\n",
        "              'optimizer': 'adamw',\n",
        "              'task': 'binary_classification',\n",
        "              'loss': 'binary_crossentropy',\n",
        "              'metrics': ['logloss', 'AUC'],\n",
        "              'optimizer': 'adamw',\n",
        "              'regularizer': 0,\n",
        "              'batch_size': 64,\n",
        "              'epochs': 3,\n",
        "              'shuffle': True,\n",
        "              'seed': 2019,\n",
        "              'use_hdf5': True,\n",
        "              'workers': 1,\n",
        "              'verbose': 0}"
      ],
      "metadata": {
        "id": "RF7l2_nfFpqO"
      },
      "execution_count": null,
      "outputs": []
    },
    {
      "cell_type": "code",
      "source": [
        "model = LorentzFM(ds.dataset.feature_map, **params)"
      ],
      "metadata": {
        "id": "0spmAGwWeKS2"
      },
      "execution_count": null,
      "outputs": []
    },
    {
      "cell_type": "code",
      "source": [
        "pl_trainer(model, ds, max_epochs=5)"
      ],
      "metadata": {
        "colab": {
          "base_uri": "https://localhost:8080/",
          "height": 411,
          "referenced_widgets": [
            "eda1d51fea8d40d28d1cd7c267cfdc0e",
            "141281aa131c46ac838217cf54852ebe",
            "083da17ef3064a84857ecdf7b7e0a85e",
            "9f94da6bae754025902272abf48a7a76",
            "97d388741f144cd9a192003b79b8ff2e",
            "e66912f3ca1a4b78963063abe4b0aca6",
            "a12d0c7d97e449af8fb10b0db20c96f8",
            "ed691de46cbc4eadb92a9e247af2f650",
            "c8d90b4eabc540f28dabdb922190e8e3",
            "fa074a7ee1ad49c885444817bc1367a6",
            "74f4090ebd664b93a8a68ba2e7d5cb58",
            "3cd21ab7704044348956bce0bbde0503",
            "bf54d754e66b42efa5c902e60b24bf29",
            "05d0bbc7c4844cb9bf7b7078ff2b4d65",
            "51226108c1cb4dd2a1b4d44b0b4c2c1f",
            "7062d5bc283d4978a46657c19f715d5b",
            "37d641fb402a4832a4cdcda8ae45d513",
            "88982cd9fe0d4b52b202015cfbe932c2",
            "6450becf4187424889a8aaf02362b407",
            "37c14ad3e7f84969aaa576069e8f0271",
            "9360933f54604081a506f3c07602c8e6",
            "75db2f9675e643aaac3ce0ed98450002",
            "e5bc1230723d4390865821e2dc54ba48",
            "8665ccc5d9ce4a3fb2aef1ac89f0c370",
            "71a034d507664789ace55d70bf5c1cc6",
            "5781299f420f47b28a80f1c4856cb29a",
            "7b09704499e348488d1ca292e4b34c1e",
            "f8af38619b4c464bba8307bb8f3cc9f1",
            "0b2edaeb45ff4d81b890fc521156281f",
            "6151caef45ae4a93b47a32d5140df24c",
            "6aefe22f914d4a3885fd2a2045ad76ac",
            "f0ee27e4df264bdaa131b3d59dbdfea3",
            "33271faab598423ba8d9ddce818ea9cd"
          ]
        },
        "outputId": "555ca6c3-d539-4b8b-b85f-b7a79624bdd8",
        "id": "33XV8QJjeKS3"
      },
      "execution_count": null,
      "outputs": [
        {
          "output_type": "stream",
          "name": "stderr",
          "text": [
            "GPU available: False, used: False\n",
            "TPU available: False, using: 0 TPU cores\n",
            "IPU available: False, using: 0 IPUs\n",
            "\n",
            "  | Name                | Type              | Params\n",
            "----------------------------------------------------------\n",
            "0 | embedding_layer     | EmbeddingLayer    | 4.8 K \n",
            "1 | inner_product_layer | InnerProductLayer | 378   \n",
            "2 | output_activation   | Sigmoid           | 0     \n",
            "----------------------------------------------------------\n",
            "4.8 K     Trainable params\n",
            "378       Non-trainable params\n",
            "5.1 K     Total params\n",
            "0.021     Total estimated model params size (MB)\n"
          ]
        },
        {
          "output_type": "display_data",
          "data": {
            "application/vnd.jupyter.widget-view+json": {
              "model_id": "eda1d51fea8d40d28d1cd7c267cfdc0e",
              "version_minor": 0,
              "version_major": 2
            },
            "text/plain": [
              "Training: 0it [00:00, ?it/s]"
            ]
          },
          "metadata": {}
        },
        {
          "output_type": "display_data",
          "data": {
            "application/vnd.jupyter.widget-view+json": {
              "model_id": "3cd21ab7704044348956bce0bbde0503",
              "version_minor": 0,
              "version_major": 2
            },
            "text/plain": [
              "Validating: 0it [00:00, ?it/s]"
            ]
          },
          "metadata": {}
        },
        {
          "output_type": "display_data",
          "data": {
            "application/vnd.jupyter.widget-view+json": {
              "model_id": "e5bc1230723d4390865821e2dc54ba48",
              "version_minor": 0,
              "version_major": 2
            },
            "text/plain": [
              "Testing: 0it [00:00, ?it/s]"
            ]
          },
          "metadata": {}
        },
        {
          "output_type": "stream",
          "name": "stdout",
          "text": [
            "--------------------------------------------------------------------------------\n",
            "DATALOADER:0 TEST RESULTS\n",
            "{'Test Metrics': {'AUC': tensor(1.), 'logloss': tensor(0.5056)}}\n",
            "--------------------------------------------------------------------------------\n"
          ]
        },
        {
          "output_type": "execute_result",
          "data": {
            "text/plain": [
              "[{'Test Metrics': {'AUC': tensor(1.), 'logloss': tensor(0.5056)}}]"
            ]
          },
          "metadata": {},
          "execution_count": 145
        }
      ]
    }
  ],
  "metadata": {
    "kernelspec": {
      "display_name": "Python 3",
      "name": "python3"
    },
    "colab": {
      "name": "models > lorentzfm",
      "provenance": [],
      "collapsed_sections": []
    }
  },
  "nbformat": 4,
  "nbformat_minor": 0
}