{
  "cells": [
    {
      "cell_type": "code",
      "execution_count": null,
      "metadata": {
        "id": "1eUtAwALxd9J"
      },
      "outputs": [],
      "source": [
        "# default_exp models.pnn"
      ]
    },
    {
      "cell_type": "markdown",
      "metadata": {
        "id": "m_a4ZY6Txd9Q"
      },
      "source": [
        "# Product-based Neural Network (PNN)\n",
        "> A pytorch implementation of inner/outer Product Neural Network.\n",
        "\n",
        "PNN uses an embedding layer to learn a distributed representation of the categorical data, a product layer to capture interactive patterns between inter-field categories, and further fully connected layers to explore high-order feature interactions.\n",
        "\n",
        "<img src='https://github.com/RecoHut-Stanzas/S021355/raw/main/images/img8.png'>"
      ]
    },
    {
      "cell_type": "code",
      "execution_count": null,
      "metadata": {
        "id": "QLxnQfT6xd9V"
      },
      "outputs": [],
      "source": [
        "#hide\n",
        "from nbdev.showdoc import *\n",
        "from fastcore.nb_imports import *\n",
        "from fastcore.test import *"
      ]
    },
    {
      "cell_type": "markdown",
      "source": [
        "## v1"
      ],
      "metadata": {
        "id": "4TAnNAbqxj6q"
      }
    },
    {
      "cell_type": "code",
      "source": [
        "#export\n",
        "import torch\n",
        "from torch import nn\n",
        "\n",
        "from recohut.models.layers.embedding import EmbeddingLayer\n",
        "from recohut.models.layers.common import MLP_Layer\n",
        "from recohut.models.layers.interaction import InnerProductLayer\n",
        "\n",
        "from recohut.models.bases.ctr import CTRModel"
      ],
      "metadata": {
        "id": "l9hT_TEfnMy4"
      },
      "execution_count": null,
      "outputs": []
    },
    {
      "cell_type": "code",
      "source": [
        "#export\n",
        "class PNN(CTRModel):\n",
        "    def __init__(self, \n",
        "                 feature_map, \n",
        "                 model_id=\"PNN\",\n",
        "                 task=\"binary_classification\",\n",
        "                 learning_rate=1e-3, \n",
        "                 embedding_initializer=\"torch.nn.init.normal_(std=1e-4)\",\n",
        "                 embedding_dim=10,\n",
        "                 hidden_units=[64, 64, 64], \n",
        "                 hidden_activations=\"ReLU\", \n",
        "                 net_dropout=0, \n",
        "                 batch_norm=False, \n",
        "                 product_type=\"inner\", \n",
        "                 **kwargs):\n",
        "        super(PNN, self).__init__(feature_map, \n",
        "                                           model_id=model_id,\n",
        "                                           **kwargs)\n",
        "        self.embedding_layer = EmbeddingLayer(feature_map, embedding_dim)\n",
        "        if product_type != \"inner\":\n",
        "            raise NotImplementedError(\"product_type={} has not been implemented.\".format(product_type))\n",
        "        self.inner_product_layer = InnerProductLayer(feature_map.num_fields, output=\"inner_product\")\n",
        "        input_dim = int(feature_map.num_fields * (feature_map.num_fields - 1) / 2) \\\n",
        "                  + feature_map.num_fields * embedding_dim\n",
        "        self.dnn = MLP_Layer(input_dim=input_dim,\n",
        "                             output_dim=1, \n",
        "                             hidden_units=hidden_units,\n",
        "                             hidden_activations=hidden_activations,\n",
        "                             output_activation=self.get_final_activation(task),\n",
        "                             dropout_rates=net_dropout, \n",
        "                             batch_norm=batch_norm, \n",
        "                             use_bias=True) \n",
        "        self.init_weights(embedding_initializer=embedding_initializer)\n",
        "\n",
        "    def forward(self, inputs):\n",
        "        feature_emb = self.embedding_layer(inputs)\n",
        "        inner_product_vec = self.inner_product_layer(feature_emb)\n",
        "        dense_input = torch.cat([feature_emb.flatten(start_dim=1), inner_product_vec], dim=1)\n",
        "        y_pred = self.dnn(dense_input)\n",
        "        return y_pred"
      ],
      "metadata": {
        "id": "bWVxCkXgFpqV"
      },
      "execution_count": null,
      "outputs": []
    },
    {
      "cell_type": "code",
      "source": [
        "model = PNN(ds.dataset.feature_map, **params)"
      ],
      "metadata": {
        "id": "xqpWSQovcpk1"
      },
      "execution_count": null,
      "outputs": []
    },
    {
      "cell_type": "code",
      "source": [
        "pl_trainer(model, ds, max_epochs=5)"
      ],
      "metadata": {
        "colab": {
          "base_uri": "https://localhost:8080/",
          "height": 411,
          "referenced_widgets": [
            "cb9cc2d93d9047e88aa2170407b1d267",
            "cfe8342f65c04de4bd163eff37616bcc",
            "b91a1ce38dcb487d9c2b41b657eded49",
            "bc148ab14ac2416195c0be8787da9dc5",
            "25ab230f317a4096be0455c309f88778",
            "80bca4baa57742838a0a7a35def91742",
            "1f47416de31e4b7cb67606832e932b69",
            "05e530dbdfc64e9390f1ee4e6ef4c8d6",
            "fa530d1f71924eecaff2266e94c8d8ba",
            "7cf8a5f800e748008d96856589adfd44",
            "5eeb85da92824198973f5c3b5cd76a82",
            "f99df35967bc4b45add0792e8b92d512",
            "cc608f4e53f5488ba393cdf206522ebc",
            "8e807767cdb14204832960350e4a3e32",
            "e185a3f9fd31401a99d8c335cf2322e6",
            "857f2966f1d34190ac707b488acaf0e7",
            "ca67eedcc7594770a60f28fbc742114e",
            "6313f3b2df39422caa7c3e9e73f5b4a9",
            "b64839440bd94d8fb0afd7c15b089fca",
            "c6f5263dc3dc44ec9ccfe336ba3682fd",
            "fb3b9281371949f7af080eb00e73c2c6",
            "ca02e5236ff84883874d3ae2cc38cc29",
            "359c0e16f0d9446080ca0a92e84ff09b",
            "0f2109c4775e4325bb56f67223d709de",
            "8cfab37d0f4f41f3b524d6d9027e8bd6",
            "59aa86fed8664990bf0a245aeb2dca10",
            "292d3fce800f4b2dba68d0557a8d4186",
            "353311f456814261bc46d0baebdd110f",
            "70a2a87925074a33ba1370f226f7d87a",
            "63be512ba7da4009a3a08fb8e79a3071",
            "fd20f30babf94acf962bb7eb904b5fcd",
            "ce820bd52dd94a20837ee6745590a7c3",
            "b38c8085979a4f78a643d76c8ff363f4"
          ]
        },
        "outputId": "9b1186ff-37a7-4c82-b663-9af4a0db58d4",
        "id": "KZAA4hlIcpk2"
      },
      "execution_count": null,
      "outputs": [
        {
          "output_type": "stream",
          "name": "stderr",
          "text": [
            "GPU available: False, used: False\n",
            "TPU available: False, using: 0 TPU cores\n",
            "IPU available: False, using: 0 IPUs\n",
            "\n",
            "  | Name                | Type              | Params\n",
            "----------------------------------------------------------\n",
            "0 | embedding_layer     | EmbeddingLayer    | 4.8 K \n",
            "1 | inner_product_layer | InnerProductLayer | 378   \n",
            "2 | dnn                 | MLP_Layer         | 250 K \n",
            "----------------------------------------------------------\n",
            "255 K     Trainable params\n",
            "378       Non-trainable params\n",
            "255 K     Total params\n",
            "1.023     Total estimated model params size (MB)\n"
          ]
        },
        {
          "output_type": "display_data",
          "data": {
            "application/vnd.jupyter.widget-view+json": {
              "model_id": "cb9cc2d93d9047e88aa2170407b1d267",
              "version_minor": 0,
              "version_major": 2
            },
            "text/plain": [
              "Training: 0it [00:00, ?it/s]"
            ]
          },
          "metadata": {}
        },
        {
          "output_type": "display_data",
          "data": {
            "application/vnd.jupyter.widget-view+json": {
              "model_id": "f99df35967bc4b45add0792e8b92d512",
              "version_minor": 0,
              "version_major": 2
            },
            "text/plain": [
              "Validating: 0it [00:00, ?it/s]"
            ]
          },
          "metadata": {}
        },
        {
          "output_type": "display_data",
          "data": {
            "application/vnd.jupyter.widget-view+json": {
              "model_id": "359c0e16f0d9446080ca0a92e84ff09b",
              "version_minor": 0,
              "version_major": 2
            },
            "text/plain": [
              "Testing: 0it [00:00, ?it/s]"
            ]
          },
          "metadata": {}
        },
        {
          "output_type": "stream",
          "name": "stdout",
          "text": [
            "--------------------------------------------------------------------------------\n",
            "DATALOADER:0 TEST RESULTS\n",
            "{'Test Metrics': {'AUC': tensor(1.), 'logloss': tensor(0.1413)}}\n",
            "--------------------------------------------------------------------------------\n"
          ]
        },
        {
          "output_type": "execute_result",
          "data": {
            "text/plain": [
              "[{'Test Metrics': {'AUC': tensor(1.), 'logloss': tensor(0.1413)}}]"
            ]
          },
          "metadata": {},
          "execution_count": 140
        }
      ]
    },
    {
      "cell_type": "markdown",
      "source": [
        "Example"
      ],
      "metadata": {
        "id": "ueSrnou3nj_M"
      }
    },
    {
      "cell_type": "code",
      "source": [
        "params = {'model_id': 'PNN',\n",
        "              'data_dir': '/content/data',\n",
        "              'model_root': './checkpoints/',\n",
        "              'learning_rate': 1e-3,\n",
        "              'optimizer': 'adamw',\n",
        "              'task': 'binary_classification',\n",
        "              'loss': 'binary_crossentropy',\n",
        "              'metrics': ['logloss', 'AUC'],\n",
        "              'optimizer': 'adamw',\n",
        "              'hidden_units': [300, 300, 300],\n",
        "              'hidden_activations': 'relu',\n",
        "              'batch_size': 64,\n",
        "              'epochs': 3,\n",
        "              'shuffle': True,\n",
        "              'seed': 2019,\n",
        "              'use_hdf5': True,\n",
        "              'workers': 1,\n",
        "              'verbose': 0}"
      ],
      "metadata": {
        "id": "RF7l2_nfFpqO"
      },
      "execution_count": null,
      "outputs": []
    },
    {
      "cell_type": "markdown",
      "source": [
        "## v2"
      ],
      "metadata": {
        "id": "jGkX-b6LxfR9"
      }
    },
    {
      "cell_type": "code",
      "execution_count": null,
      "metadata": {
        "id": "YZODHI2gxd9X"
      },
      "outputs": [],
      "source": [
        "#export\n",
        "import torch\n",
        "\n",
        "from recohut.models.layers.common import FeaturesEmbedding, FeaturesLinear, MultiLayerPerceptron"
      ]
    },
    {
      "cell_type": "code",
      "execution_count": null,
      "metadata": {
        "id": "_ZuWfKCkxd9Y"
      },
      "outputs": [],
      "source": [
        "#export\n",
        "class InnerProductNetwork(torch.nn.Module):\n",
        "\n",
        "    def forward(self, x):\n",
        "        \"\"\"\n",
        "        :param x: Float tensor of size ``(batch_size, num_fields, embed_dim)``\n",
        "        \"\"\"\n",
        "        num_fields = x.shape[1]\n",
        "        row, col = list(), list()\n",
        "        for i in range(num_fields - 1):\n",
        "            for j in range(i + 1, num_fields):\n",
        "                row.append(i), col.append(j)\n",
        "        return torch.sum(x[:, row] * x[:, col], dim=2)\n",
        "\n",
        "\n",
        "class OuterProductNetwork(torch.nn.Module):\n",
        "\n",
        "    def __init__(self, num_fields, embed_dim, kernel_type='mat'):\n",
        "        super().__init__()\n",
        "        num_ix = num_fields * (num_fields - 1) // 2\n",
        "        if kernel_type == 'mat':\n",
        "            kernel_shape = embed_dim, num_ix, embed_dim\n",
        "        elif kernel_type == 'vec':\n",
        "            kernel_shape = num_ix, embed_dim\n",
        "        elif kernel_type == 'num':\n",
        "            kernel_shape = num_ix, 1\n",
        "        else:\n",
        "            raise ValueError('unknown kernel type: ' + kernel_type)\n",
        "        self.kernel_type = kernel_type\n",
        "        self.kernel = torch.nn.Parameter(torch.zeros(kernel_shape))\n",
        "        torch.nn.init.xavier_uniform_(self.kernel.data)\n",
        "\n",
        "    def forward(self, x):\n",
        "        \"\"\"\n",
        "        :param x: Float tensor of size ``(batch_size, num_fields, embed_dim)``\n",
        "        \"\"\"\n",
        "        num_fields = x.shape[1]\n",
        "        row, col = list(), list()\n",
        "        for i in range(num_fields - 1):\n",
        "            for j in range(i + 1, num_fields):\n",
        "                row.append(i), col.append(j)\n",
        "        p, q = x[:, row], x[:, col]\n",
        "        if self.kernel_type == 'mat':\n",
        "            kp = torch.sum(p.unsqueeze(1) * self.kernel, dim=-1).permute(0, 2, 1)\n",
        "            return torch.sum(kp * q, -1)\n",
        "        else:\n",
        "            return torch.sum(p * q * self.kernel.unsqueeze(0), -1)\n",
        "\n",
        "class PNN_v2(torch.nn.Module):\n",
        "    \"\"\"\n",
        "    A pytorch implementation of inner/outer Product Neural Network.\n",
        "    Reference:\n",
        "        Y Qu, et al. Product-based Neural Networks for User Response Prediction, 2016.\n",
        "    \"\"\"\n",
        "\n",
        "    def __init__(self, field_dims, embed_dim, mlp_dims, dropout, method='inner'):\n",
        "        super().__init__()\n",
        "        num_fields = len(field_dims)\n",
        "        if method == 'inner':\n",
        "            self.pn = InnerProductNetwork()\n",
        "        elif method == 'outer':\n",
        "            self.pn = OuterProductNetwork(num_fields, embed_dim)\n",
        "        else:\n",
        "            raise ValueError('unknown product type: ' + method)\n",
        "        self.embedding = FeaturesEmbedding(field_dims, embed_dim)\n",
        "        self.linear = FeaturesLinear(field_dims, embed_dim)\n",
        "        self.embed_output_dim = num_fields * embed_dim\n",
        "        self.mlp = MultiLayerPerceptron(num_fields * (num_fields - 1) // 2 + self.embed_output_dim, mlp_dims, dropout)\n",
        "\n",
        "    def forward(self, x):\n",
        "        \"\"\"\n",
        "        :param x: Long tensor of size ``(batch_size, num_fields)``\n",
        "        \"\"\"\n",
        "        embed_x = self.embedding(x)\n",
        "        cross_term = self.pn(embed_x)\n",
        "        x = torch.cat([embed_x.view(-1, self.embed_output_dim), cross_term], dim=1)\n",
        "        x = self.mlp(x)\n",
        "        return torch.sigmoid(x.squeeze(1))"
      ]
    },
    {
      "cell_type": "markdown",
      "metadata": {
        "id": "CA0AG-C1xd9b"
      },
      "source": [
        "> **References:-**\n",
        "- Y Qu, et al. Product-based Neural Networks for User Response Prediction, 2016. https://arxiv.org/abs/1611.00144.\n",
        "- https://github.com/rixwew/pytorch-fm/blob/master/torchfm/model/pnn.py"
      ]
    },
    {
      "cell_type": "code",
      "execution_count": null,
      "metadata": {
        "id": "n2Cy9ciFxd9c"
      },
      "outputs": [],
      "source": [
        "#hide\n",
        "%reload_ext watermark\n",
        "%watermark -a \"Sparsh A.\" -m -iv -u -t -d -p recohut"
      ]
    }
  ],
  "metadata": {
    "kernelspec": {
      "display_name": "Python 3",
      "name": "python3"
    },
    "colab": {
      "name": "models.pnn.ipynb",
      "provenance": []
    }
  },
  "nbformat": 4,
  "nbformat_minor": 0
}