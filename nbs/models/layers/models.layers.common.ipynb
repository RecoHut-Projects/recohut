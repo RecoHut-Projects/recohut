{
  "cells": [
    {
      "cell_type": "code",
      "execution_count": null,
      "metadata": {
        "id": "5fRH7VDTA4yl"
      },
      "outputs": [],
      "source": [
        "# default_exp models.layers.common"
      ]
    },
    {
      "cell_type": "markdown",
      "metadata": {
        "id": "H1HAve_uA4yv"
      },
      "source": [
        "# Common Layers\n",
        "> Common layers."
      ]
    },
    {
      "cell_type": "code",
      "execution_count": null,
      "metadata": {
        "id": "wmc1-AZ8A4y0"
      },
      "outputs": [],
      "source": [
        "#hide\n",
        "from nbdev.showdoc import *\n",
        "from fastcore.nb_imports import *\n",
        "from fastcore.test import *"
      ]
    },
    {
      "cell_type": "code",
      "execution_count": null,
      "metadata": {
        "id": "XwZcLjdbA4y3"
      },
      "outputs": [],
      "source": [
        "#export\n",
        "import numpy as np\n",
        "import torch\n",
        "from torch import nn\n",
        "import torch.nn.functional as F"
      ]
    },
    {
      "cell_type": "code",
      "source": [
        "#exporti\n",
        "def get_activation(activation):\n",
        "    if isinstance(activation, str):\n",
        "        if activation.lower() == \"relu\":\n",
        "            return nn.ReLU()\n",
        "        elif activation.lower() == \"sigmoid\":\n",
        "            return nn.Sigmoid()\n",
        "        elif activation.lower() == \"tanh\":\n",
        "            return nn.Tanh()\n",
        "        else:\n",
        "            return getattr(nn, activation)()\n",
        "    else:\n",
        "        return activation"
      ],
      "metadata": {
        "id": "bt1tLgnmLwrZ"
      },
      "execution_count": null,
      "outputs": []
    },
    {
      "cell_type": "code",
      "execution_count": null,
      "metadata": {
        "id": "npMo_vqqA4y4"
      },
      "outputs": [],
      "source": [
        "#export\n",
        "class FeaturesLinear(torch.nn.Module):\n",
        "    \"\"\"\n",
        "    References:\n",
        "        1. https://github.com/rixwew/pytorch-fm/blob/master/torchfm/layer.py\n",
        "    \"\"\"\n",
        "    def __init__(self, field_dims, output_dim=1):\n",
        "        super().__init__()\n",
        "        self.fc = torch.nn.Embedding(sum(field_dims), output_dim)\n",
        "        self.bias = torch.nn.Parameter(torch.zeros((output_dim,)))\n",
        "        self.offsets = np.array((0, *np.cumsum(field_dims)[:-1]), dtype=np.long)\n",
        "\n",
        "    def forward(self, x):\n",
        "        \"\"\"\n",
        "        :param x: Long tensor of size ``(batch_size, num_fields)``\n",
        "        \"\"\"\n",
        "        x = x + x.new_tensor(self.offsets).unsqueeze(0)\n",
        "        return torch.sum(self.fc(x), dim=1) + self.bias"
      ]
    },
    {
      "cell_type": "code",
      "execution_count": null,
      "metadata": {
        "id": "DSDxHTdRA4y7"
      },
      "outputs": [],
      "source": [
        "#export\n",
        "class FeaturesEmbedding(torch.nn.Module):\n",
        "    \"\"\"\n",
        "    References:\n",
        "        1. https://github.com/rixwew/pytorch-fm/blob/master/torchfm/layer.py\n",
        "    \"\"\"\n",
        "    def __init__(self, field_dims, embed_dim):\n",
        "        super().__init__()\n",
        "        self.embedding = torch.nn.Embedding(sum(field_dims), embed_dim)\n",
        "        self.offsets = np.array((0, *np.cumsum(field_dims)[:-1]), dtype=np.long)\n",
        "        torch.nn.init.xavier_uniform_(self.embedding.weight.data)\n",
        "\n",
        "    def forward(self, x):\n",
        "        \"\"\"\n",
        "        :param x: Long tensor of size ``(batch_size, num_fields)``\n",
        "        \"\"\"\n",
        "        x = x + x.new_tensor(self.offsets).unsqueeze(0)\n",
        "        return self.embedding(x)"
      ]
    },
    {
      "cell_type": "code",
      "execution_count": null,
      "metadata": {
        "id": "3qOygByUA4y9"
      },
      "outputs": [],
      "source": [
        "#export\n",
        "class MultiLayerPerceptron(torch.nn.Module):\n",
        "    \"\"\"\n",
        "    References:\n",
        "        1. https://github.com/rixwew/pytorch-fm/blob/master/torchfm/layer.py\n",
        "    \"\"\"\n",
        "    def __init__(self, input_dim, embed_dims, dropout, output_layer=True):\n",
        "        super().__init__()\n",
        "        layers = list()\n",
        "        for embed_dim in embed_dims:\n",
        "            layers.append(torch.nn.Linear(input_dim, embed_dim))\n",
        "            layers.append(torch.nn.BatchNorm1d(embed_dim))\n",
        "            layers.append(torch.nn.ReLU())\n",
        "            layers.append(torch.nn.Dropout(p=dropout))\n",
        "            input_dim = embed_dim\n",
        "        if output_layer:\n",
        "            layers.append(torch.nn.Linear(input_dim, 1))\n",
        "        self.mlp = torch.nn.Sequential(*layers)\n",
        "\n",
        "    def forward(self, x):\n",
        "        \"\"\"\n",
        "        :param x: Float tensor of size ``(batch_size, embed_dim)``\n",
        "        \"\"\"\n",
        "        return self.mlp(x)"
      ]
    },
    {
      "cell_type": "code",
      "source": [
        "#export\n",
        "class MLP_Layer(nn.Module):\n",
        "    def __init__(self, \n",
        "                 input_dim, \n",
        "                 output_dim=None, \n",
        "                 hidden_units=[], \n",
        "                 hidden_activations=\"ReLU\",\n",
        "                 output_activation=None, \n",
        "                 dropout_rates=[], \n",
        "                 batch_norm=False, \n",
        "                 use_bias=True):\n",
        "        super(MLP_Layer, self).__init__()\n",
        "        dense_layers = []\n",
        "        if not isinstance(dropout_rates, list):\n",
        "            dropout_rates = [dropout_rates] * len(hidden_units)\n",
        "        if not isinstance(hidden_activations, list):\n",
        "            hidden_activations = [hidden_activations] * len(hidden_units)\n",
        "        hidden_activations = [get_activation(x) for x in hidden_activations]\n",
        "        hidden_units = [input_dim] + hidden_units\n",
        "        for idx in range(len(hidden_units) - 1):\n",
        "            dense_layers.append(nn.Linear(hidden_units[idx], hidden_units[idx + 1], bias=use_bias))\n",
        "            if batch_norm:\n",
        "                dense_layers.append(nn.BatchNorm1d(hidden_units[idx + 1]))\n",
        "            if hidden_activations[idx]:\n",
        "                dense_layers.append(hidden_activations[idx])\n",
        "            if dropout_rates[idx] > 0:\n",
        "                dense_layers.append(nn.Dropout(p=dropout_rates[idx]))\n",
        "        if output_dim is not None:\n",
        "            dense_layers.append(nn.Linear(hidden_units[-1], output_dim, bias=use_bias))\n",
        "        if output_activation is not None:\n",
        "            dense_layers.append(get_activation(output_activation))\n",
        "        self.dnn = nn.Sequential(*dense_layers) # * used to unpack list\n",
        "    \n",
        "    def forward(self, inputs):\n",
        "        return self.dnn(inputs)"
      ],
      "metadata": {
        "id": "Sz-1l78iLqVn"
      },
      "execution_count": null,
      "outputs": []
    },
    {
      "cell_type": "markdown",
      "source": [
        "Sequence"
      ],
      "metadata": {
        "id": "8jA8DC76BDS1"
      }
    },
    {
      "cell_type": "code",
      "source": [
        "#export\n",
        "class MaskedAveragePooling(nn.Module):\n",
        "    def __init__(self):\n",
        "        super(MaskedAveragePooling, self).__init__()\n",
        "\n",
        "    def forward(self, embedding_matrix):\n",
        "        sum_pooling_matrix = torch.sum(embedding_matrix, dim=1)\n",
        "        non_padding_length = (embedding_matrix != 0).sum(dim=1)\n",
        "        embedding_vec = sum_pooling_matrix / (non_padding_length.float() + 1e-16)\n",
        "        return embedding_vec"
      ],
      "metadata": {
        "id": "4vp7_2udA9qS"
      },
      "execution_count": null,
      "outputs": []
    },
    {
      "cell_type": "code",
      "source": [
        "#export\n",
        "class MaskedSumPooling(nn.Module):\n",
        "    def __init__(self):\n",
        "        super(MaskedSumPooling, self).__init__()\n",
        "\n",
        "    def forward(self, embedding_matrix):\n",
        "        # mask by zeros\n",
        "        return torch.sum(embedding_matrix, dim=1)"
      ],
      "metadata": {
        "id": "q_lxJiKVBGp7"
      },
      "execution_count": null,
      "outputs": []
    },
    {
      "cell_type": "code",
      "source": [
        "#export\n",
        "class KMaxPooling(nn.Module):\n",
        "    def __init__(self, k, dim):\n",
        "        super(KMaxPooling, self).__init__()\n",
        "        self.k = k\n",
        "        self.dim = dim\n",
        "\n",
        "    def forward(self, X):\n",
        "        index = X.topk(self.k, dim=self.dim)[1].sort(dim=self.dim)[0]\n",
        "        output = X.gather(self.dim, index)\n",
        "        return output"
      ],
      "metadata": {
        "id": "HnyITmWdBIen"
      },
      "execution_count": null,
      "outputs": []
    },
    {
      "cell_type": "markdown",
      "source": [
        "> **References**\n",
        "> - https://github.com/xue-pai/FuxiCTR/blob/main/fuxictr/pytorch/layers"
      ],
      "metadata": {
        "id": "RIS5Oenn-ec9"
      }
    },
    {
      "cell_type": "code",
      "execution_count": null,
      "metadata": {
        "colab": {
          "base_uri": "https://localhost:8080/"
        },
        "outputId": "7d62a225-defa-4e70-e194-d8afacd42616",
        "id": "jLYDS7ap-ec9"
      },
      "outputs": [
        {
          "output_type": "stream",
          "name": "stdout",
          "text": [
            "Author: Sparsh A.\n",
            "\n",
            "Last updated: 2022-01-11 12:02:41\n",
            "\n",
            "Compiler    : GCC 7.5.0\n",
            "OS          : Linux\n",
            "Release     : 5.4.144+\n",
            "Machine     : x86_64\n",
            "Processor   : x86_64\n",
            "CPU cores   : 2\n",
            "Architecture: 64bit\n",
            "\n",
            "torch     : 1.10.0+cu111\n",
            "numpy     : 1.19.5\n",
            "PIL       : 7.1.2\n",
            "IPython   : 5.5.0\n",
            "matplotlib: 3.2.2\n",
            "\n"
          ]
        }
      ],
      "source": [
        "#hide\n",
        "%reload_ext watermark\n",
        "%watermark -a \"Sparsh A.\" -m -iv -u -t -d"
      ]
    }
  ],
  "metadata": {
    "kernelspec": {
      "display_name": "Python 3",
      "name": "python3"
    },
    "colab": {
      "name": "models.layers.common.ipynb",
      "provenance": []
    }
  },
  "nbformat": 4,
  "nbformat_minor": 0
}