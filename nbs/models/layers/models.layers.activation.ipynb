{
  "nbformat": 4,
  "nbformat_minor": 0,
  "metadata": {
    "colab": {
      "name": "models > layers > activation",
      "provenance": [],
      "collapsed_sections": [
        "1KypvcFZI64_"
      ],
      "mount_file_id": "1FEZmnoLGIsTsGiK2gi1TsIHLAaWCXF_a",
      "authorship_tag": "ABX9TyOtMA5I8ixV+CeYP5bEFVWa"
    },
    "kernelspec": {
      "name": "python3",
      "display_name": "Python 3"
    },
    "language_info": {
      "name": "python"
    }
  },
  "cells": [
    {
      "cell_type": "code",
      "execution_count": null,
      "metadata": {
        "id": "fycOO2OxKHEF"
      },
      "outputs": [],
      "source": [
        "# default_exp models.layers.activation"
      ]
    },
    {
      "cell_type": "markdown",
      "metadata": {
        "id": "HpmQ2HGl-ecy"
      },
      "source": [
        "# Activation Layers\n",
        "> Implementation of NN activation layers in Pytorch."
      ]
    },
    {
      "cell_type": "code",
      "execution_count": null,
      "metadata": {
        "id": "IOcmGC-Y-ec7"
      },
      "outputs": [],
      "source": [
        "#hide\n",
        "from nbdev.showdoc import *\n",
        "from fastcore.nb_imports import *\n",
        "from fastcore.test import *"
      ]
    },
    {
      "cell_type": "code",
      "execution_count": null,
      "metadata": {
        "id": "nLrLSvzp-ec8"
      },
      "outputs": [],
      "source": [
        "#export\n",
        "import torch\n",
        "from torch import nn"
      ]
    },
    {
      "cell_type": "code",
      "source": [
        "#export\n",
        "class Dice(nn.Module):\n",
        "    def __init__(self, input_dim, eps=1e-9):\n",
        "        super(Dice, self).__init__()\n",
        "        self.bn = nn.BatchNorm1d(input_dim, affine=False, eps=eps, momentum=0.01)\n",
        "        self.alpha = nn.Parameter(torch.zeros(input_dim))\n",
        "\n",
        "    def forward(self, X):\n",
        "        p = torch.sigmoid(self.bn(X))\n",
        "        output = p * X + (1 - p) * self.alpha * X\n",
        "        return output"
      ],
      "metadata": {
        "id": "2L3OyRif-ec8"
      },
      "execution_count": null,
      "outputs": []
    },
    {
      "cell_type": "markdown",
      "source": [
        "> **References**\n",
        "> - https://github.com/xue-pai/FuxiCTR/blob/main/fuxictr/pytorch/layers/activation.py"
      ],
      "metadata": {
        "id": "RIS5Oenn-ec9"
      }
    },
    {
      "cell_type": "code",
      "execution_count": null,
      "metadata": {
        "colab": {
          "base_uri": "https://localhost:8080/"
        },
        "outputId": "2b292293-1360-4cc6-ee05-2ef68e23b953",
        "id": "jLYDS7ap-ec9"
      },
      "outputs": [
        {
          "output_type": "stream",
          "name": "stdout",
          "text": [
            "Author: Sparsh A.\n",
            "\n",
            "Last updated: 2022-01-11 11:52:07\n",
            "\n",
            "Compiler    : GCC 7.5.0\n",
            "OS          : Linux\n",
            "Release     : 5.4.144+\n",
            "Machine     : x86_64\n",
            "Processor   : x86_64\n",
            "CPU cores   : 2\n",
            "Architecture: 64bit\n",
            "\n",
            "torch     : 1.10.0+cu111\n",
            "numpy     : 1.19.5\n",
            "PIL       : 7.1.2\n",
            "IPython   : 5.5.0\n",
            "matplotlib: 3.2.2\n",
            "\n"
          ]
        }
      ],
      "source": [
        "#hide\n",
        "%reload_ext watermark\n",
        "%watermark -a \"Sparsh A.\" -m -iv -u -t -d"
      ]
    }
  ]
}