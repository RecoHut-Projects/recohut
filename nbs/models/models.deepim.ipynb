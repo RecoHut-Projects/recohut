{
  "cells": [
    {
      "cell_type": "code",
      "execution_count": null,
      "metadata": {
        "id": "fycOO2OxKHEF"
      },
      "outputs": [],
      "source": [
        "# default_exp models.deepim"
      ]
    },
    {
      "cell_type": "markdown",
      "metadata": {
        "id": "sB1CMZ8HKHEI"
      },
      "source": [
        "# DeepIM\n",
        "> Implementation of DeepIM model in PyTorch."
      ]
    },
    {
      "cell_type": "code",
      "execution_count": null,
      "metadata": {
        "id": "gLpnIkxJm4VA"
      },
      "outputs": [],
      "source": [
        "#hide\n",
        "from nbdev.showdoc import *\n",
        "from fastcore.nb_imports import *\n",
        "from fastcore.test import *"
      ]
    },
    {
      "cell_type": "code",
      "source": [
        "#export\n",
        "import torch\n",
        "from torch import nn\n",
        "\n",
        "from recohut.models.layers.embedding import EmbeddingLayer\n",
        "from recohut.models.layers.common import MLP_Layer\n",
        "from recohut.models.layers.interaction import InteractionMachine\n",
        "\n",
        "from recohut.models.bases.ctr import CTRModel"
      ],
      "metadata": {
        "id": "l9hT_TEfnMy4"
      },
      "execution_count": null,
      "outputs": []
    },
    {
      "cell_type": "code",
      "source": [
        "#export\n",
        "class DeepIM(CTRModel):\n",
        "    def __init__(self, \n",
        "                 feature_map, \n",
        "                 model_id=\"DeepIM\",\n",
        "                 task=\"binary_classification\",\n",
        "                 learning_rate=1e-3, \n",
        "                 embedding_initializer=\"torch.nn.init.normal_(std=1e-4)\",\n",
        "                 embedding_dim=10, \n",
        "                 im_order=2, \n",
        "                 im_batch_norm=False,\n",
        "                 hidden_units=[64, 64, 64], \n",
        "                 hidden_activations=\"ReLU\", \n",
        "                 net_dropout=0, \n",
        "                 batch_norm=False, \n",
        "                 **kwargs):\n",
        "        super(DeepIM, self).__init__(feature_map, \n",
        "                                           model_id=model_id,\n",
        "                                           **kwargs)\n",
        "        self.embedding_layer = EmbeddingLayer(feature_map, embedding_dim)\n",
        "        self.im_layer = InteractionMachine(embedding_dim, im_order, im_batch_norm)\n",
        "        self.dnn = MLP_Layer(input_dim=embedding_dim * feature_map.num_fields,\n",
        "                             output_dim=1,\n",
        "                             hidden_units=hidden_units,\n",
        "                             hidden_activations=hidden_activations,\n",
        "                             output_activation=None,\n",
        "                             dropout_rates=net_dropout,\n",
        "                             batch_norm=batch_norm) \\\n",
        "                   if hidden_units is not None else None\n",
        "        self.output_activation = self.get_final_activation(task)\n",
        "        self.init_weights(embedding_initializer=embedding_initializer)\n",
        "\n",
        "    def forward(self, inputs):\n",
        "        feature_emb = self.embedding_layer(inputs)\n",
        "        y_pred = self.im_layer(feature_emb)\n",
        "        if self.dnn is not None:\n",
        "            y_pred += self.dnn(feature_emb.flatten(start_dim=1))\n",
        "        if self.output_activation is not None:\n",
        "            y_pred = self.output_activation(y_pred)\n",
        "        return y_pred"
      ],
      "metadata": {
        "id": "bWVxCkXgFpqV"
      },
      "execution_count": null,
      "outputs": []
    },
    {
      "cell_type": "markdown",
      "source": [
        "Example"
      ],
      "metadata": {
        "id": "ueSrnou3nj_M"
      }
    },
    {
      "cell_type": "code",
      "source": [
        "params = {'model_id': 'DeepIM',\n",
        "              'data_dir': '/content/data',\n",
        "              'model_root': './checkpoints/',\n",
        "              'learning_rate': 1e-3,\n",
        "              'optimizer': 'adamw',\n",
        "              'task': 'binary_classification',\n",
        "              'loss': 'binary_crossentropy',\n",
        "              'metrics': ['logloss', 'AUC'],\n",
        "              'embedding_dim': 10,\n",
        "              'im_order': 2,\n",
        "              'im_batch_norm': False,\n",
        "              'hidden_units': [300, 300, 300],\n",
        "              'hidden_activations': 'relu',\n",
        "              'net_regularizer': 0,\n",
        "              'embedding_regularizer': 0,\n",
        "              'net_batch_norm': False,\n",
        "              'net_dropout': 0,\n",
        "              'batch_size': 64,\n",
        "              'epochs': 3,\n",
        "              'shuffle': True,\n",
        "              'seed': 2019,\n",
        "              'use_hdf5': True,\n",
        "              'workers': 1,\n",
        "              'verbose': 0}"
      ],
      "metadata": {
        "id": "RF7l2_nfFpqO"
      },
      "execution_count": null,
      "outputs": []
    },
    {
      "cell_type": "code",
      "source": [
        "model = DeepIM(ds.dataset.feature_map, **params)"
      ],
      "metadata": {
        "id": "OzIj2Nd0VXJ8"
      },
      "execution_count": null,
      "outputs": []
    },
    {
      "cell_type": "code",
      "source": [
        "pl_trainer(model, ds, max_epochs=5)"
      ],
      "metadata": {
        "colab": {
          "base_uri": "https://localhost:8080/",
          "height": 428,
          "referenced_widgets": [
            "8128882e17d2483fbb23152416d91eb7",
            "ef169eccdd4c43128d3755720379c21b",
            "d79e1fc4438540688dea7dcc9a2499f0",
            "6ae096dc13c9431aa8e3a8afcacc8a4c",
            "581af97ce83f4696a58e02fc36cf8a27",
            "ba803ed889b3400d9fd424a92ed8198c",
            "3d2086e9e61d4cf5b1a8c37c46bc6031",
            "0d24393b8c124f0c8b9bc2cc4fcb5196",
            "dfbcbc4bf79e4c24abe80ed061b13b2a",
            "a7632429fe464e3cb4887e7f82340abb",
            "e53e0a1c84c742afb88ed0f491894253",
            "dfd9cc7aa1c94cc5ad031fa74bcfcf24",
            "259fa7b822aa437e941b0c61f9b93e3d",
            "8eec207eb66148a2a7ea9b9c39aba073",
            "2d8b20520bde4e3396e67186e65c86d4",
            "32f77ae23fdb4c0980e044f688fd3d3c",
            "08a123e3771943e4adf7776fc81ef395",
            "ae47492d9e8641bb956f1fa59c7f496c",
            "7274c2dc261e48afb50793424ec6c13b",
            "a6065fbf325244d785d2c6f7bef076cc",
            "846f96ad931a4571bcd42ea7ffdf0b1d",
            "3611528da8f8410daae345fb97e8b482",
            "b3f4d2902a7c4e58a74f9ab709cb435a",
            "6a703453928c4129a52220b84db62237",
            "2fb59441ea3742eda79086456c140939",
            "587ba595c3f64c5787967cbbe4c97ba4",
            "23344d7489934dafab0d2cc7f72bc9d8",
            "b31fa02411064dafbebff3c5716e0c74",
            "850a71d666ca464680e7e6a8c6675a40",
            "9183af62d8ca4abeb4d63fd49eb0df31",
            "30998430754c480a96ccc71e94aa987f",
            "bec5f7eb64ce4eafb6c84e995bf53625",
            "2b2a1d3ae40a4a62bd9c579e9d267434"
          ]
        },
        "outputId": "eff78da7-5ff9-4f91-8d34-ffc721f07a93",
        "id": "WGKk19VIVXJ9"
      },
      "execution_count": null,
      "outputs": [
        {
          "output_type": "stream",
          "name": "stderr",
          "text": [
            "GPU available: False, used: False\n",
            "TPU available: False, using: 0 TPU cores\n",
            "IPU available: False, using: 0 IPUs\n",
            "\n",
            "  | Name              | Type               | Params\n",
            "---------------------------------------------------------\n",
            "0 | embedding_layer   | EmbeddingLayer     | 4.8 K \n",
            "1 | im_layer          | InteractionMachine | 21    \n",
            "2 | dnn               | MLP_Layer          | 223 K \n",
            "3 | output_activation | Sigmoid            | 0     \n",
            "---------------------------------------------------------\n",
            "227 K     Trainable params\n",
            "0         Non-trainable params\n",
            "227 K     Total params\n",
            "0.912     Total estimated model params size (MB)\n"
          ]
        },
        {
          "output_type": "display_data",
          "data": {
            "application/vnd.jupyter.widget-view+json": {
              "model_id": "8128882e17d2483fbb23152416d91eb7",
              "version_minor": 0,
              "version_major": 2
            },
            "text/plain": [
              "Training: 0it [00:00, ?it/s]"
            ]
          },
          "metadata": {}
        },
        {
          "output_type": "display_data",
          "data": {
            "application/vnd.jupyter.widget-view+json": {
              "model_id": "dfd9cc7aa1c94cc5ad031fa74bcfcf24",
              "version_minor": 0,
              "version_major": 2
            },
            "text/plain": [
              "Validating: 0it [00:00, ?it/s]"
            ]
          },
          "metadata": {}
        },
        {
          "output_type": "display_data",
          "data": {
            "application/vnd.jupyter.widget-view+json": {
              "model_id": "b3f4d2902a7c4e58a74f9ab709cb435a",
              "version_minor": 0,
              "version_major": 2
            },
            "text/plain": [
              "Testing: 0it [00:00, ?it/s]"
            ]
          },
          "metadata": {}
        },
        {
          "output_type": "stream",
          "name": "stdout",
          "text": [
            "--------------------------------------------------------------------------------\n",
            "DATALOADER:0 TEST RESULTS\n",
            "{'Test Metrics': {'AUC': tensor(1.), 'logloss': tensor(0.1478)}}\n",
            "--------------------------------------------------------------------------------\n"
          ]
        },
        {
          "output_type": "execute_result",
          "data": {
            "text/plain": [
              "[{'Test Metrics': {'AUC': tensor(1.), 'logloss': tensor(0.1478)}}]"
            ]
          },
          "metadata": {},
          "execution_count": 115
        }
      ]
    }
  ],
  "metadata": {
    "kernelspec": {
      "display_name": "Python 3",
      "name": "python3"
    },
    "colab": {
      "name": "models > deepim",
      "provenance": [],
      "collapsed_sections": []
    }
  },
  "nbformat": 4,
  "nbformat_minor": 0
}