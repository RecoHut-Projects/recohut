{
  "nbformat": 4,
  "nbformat_minor": 0,
  "metadata": {
    "colab": {
      "name": "M048167 | models > nfm",
      "provenance": [],
      "collapsed_sections": [
        "1KypvcFZI64_"
      ],
      "toc_visible": true,
      "mount_file_id": "1FEZmnoLGIsTsGiK2gi1TsIHLAaWCXF_a",
      "authorship_tag": "ABX9TyPKhv+s5kD2MN9HK3hl8Ed3"
    },
    "kernelspec": {
      "name": "python3",
      "display_name": "Python 3"
    },
    "language_info": {
      "name": "python"
    }
  },
  "cells": [
    {
      "cell_type": "code",
      "execution_count": null,
      "metadata": {
        "id": "fycOO2OxKHEF"
      },
      "outputs": [],
      "source": [
        "# default_exp models.nfm"
      ]
    },
    {
      "cell_type": "markdown",
      "metadata": {
        "id": "1KypvcFZI64_"
      },
      "source": [
        "# NFM\n",
        "> A pytorch implementation of Neural Factorization Machine.\n",
        "\n",
        "NFM seamlessly combines the linearity of FM in modelling second-order feature interactions and the non-linearity of neural network in modelling higher-order feature interactions. Conceptually, NFM is more expressive than FM since FM can be seen as a special case of NFM without hidden layers.\n",
        "\n",
        "![Untitled](https://github.com/RecoHut-Stanzas/S021355/raw/main/images/img10.png)"
      ]
    },
    {
      "cell_type": "code",
      "execution_count": null,
      "metadata": {
        "id": "RGwuVx5oI65E"
      },
      "outputs": [],
      "source": [
        "#hide\n",
        "from nbdev.showdoc import *\n",
        "from fastcore.nb_imports import *\n",
        "from fastcore.test import *"
      ]
    },
    {
      "cell_type": "code",
      "execution_count": null,
      "metadata": {
        "id": "32ibt_XlI65I"
      },
      "outputs": [],
      "source": [
        "#export\n",
        "import torch\n",
        "\n",
        "from recohut.layers.common import FeaturesEmbedding, FeaturesLinear, MultiLayerPerceptron"
      ]
    },
    {
      "cell_type": "code",
      "source": [
        "#export\n",
        "class FactorizationMachine(torch.nn.Module):\n",
        "\n",
        "    def __init__(self, reduce_sum=True):\n",
        "        super().__init__()\n",
        "        self.reduce_sum = reduce_sum\n",
        "\n",
        "    def forward(self, x):\n",
        "        \"\"\"\n",
        "        :param x: Float tensor of size ``(batch_size, num_fields, embed_dim)``\n",
        "        \"\"\"\n",
        "        square_of_sum = torch.sum(x, dim=1) ** 2\n",
        "        sum_of_square = torch.sum(x ** 2, dim=1)\n",
        "        ix = square_of_sum - sum_of_square\n",
        "        if self.reduce_sum:\n",
        "            ix = torch.sum(ix, dim=1, keepdim=True)\n",
        "        return 0.5 * ix\n",
        "\n",
        "class NFM(torch.nn.Module):\n",
        "    \"\"\"\n",
        "    A pytorch implementation of Neural Factorization Machine.\n",
        "    Reference:\n",
        "        X He and TS Chua, Neural Factorization Machines for Sparse Predictive Analytics, 2017.\n",
        "    \"\"\"\n",
        "\n",
        "    def __init__(self, field_dims, embed_dim, mlp_dims, dropouts):\n",
        "        super().__init__()\n",
        "        self.embedding = FeaturesEmbedding(field_dims, embed_dim)\n",
        "        self.linear = FeaturesLinear(field_dims)\n",
        "        self.fm = torch.nn.Sequential(\n",
        "            FactorizationMachine(reduce_sum=False),\n",
        "            torch.nn.BatchNorm1d(embed_dim),\n",
        "            torch.nn.Dropout(dropouts[0])\n",
        "        )\n",
        "        self.mlp = MultiLayerPerceptron(embed_dim, mlp_dims, dropouts[1])\n",
        "\n",
        "    def forward(self, x):\n",
        "        \"\"\"\n",
        "        :param x: Long tensor of size ``(batch_size, num_fields)``\n",
        "        \"\"\"\n",
        "        cross_term = self.fm(self.embedding(x))\n",
        "        x = self.linear(x) + self.mlp(cross_term)\n",
        "        return torch.sigmoid(x.squeeze(1))"
      ],
      "metadata": {
        "id": "DchSUXOEK3CT"
      },
      "execution_count": null,
      "outputs": []
    },
    {
      "cell_type": "markdown",
      "source": [
        "> **References:-**\n",
        "- X He and TS Chua, Neural Factorization Machines for Sparse Predictive Analytics, 2017.\n",
        "- https://github.com/rixwew/pytorch-fm/blob/master/torchfm/model/nfm.py"
      ],
      "metadata": {
        "id": "VmBYJuNFiO3g"
      }
    },
    {
      "cell_type": "code",
      "execution_count": null,
      "metadata": {
        "id": "yXwRDjpKI65c"
      },
      "outputs": [],
      "source": [
        "#hide\n",
        "%reload_ext watermark\n",
        "%watermark -a \"Sparsh A.\" -m -iv -u -t -d -p recohut"
      ]
    }
  ]
}