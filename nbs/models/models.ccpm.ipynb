{
  "cells": [
    {
      "cell_type": "code",
      "execution_count": null,
      "metadata": {
        "id": "fycOO2OxKHEF"
      },
      "outputs": [],
      "source": [
        "# default_exp models.ccpm"
      ]
    },
    {
      "cell_type": "markdown",
      "metadata": {
        "id": "sB1CMZ8HKHEI"
      },
      "source": [
        "# CCPM\n",
        "> Implementation of CCPM model in PyTorch."
      ]
    },
    {
      "cell_type": "code",
      "execution_count": null,
      "metadata": {
        "id": "gLpnIkxJm4VA"
      },
      "outputs": [],
      "source": [
        "#hide\n",
        "from nbdev.showdoc import *\n",
        "from fastcore.nb_imports import *\n",
        "from fastcore.test import *"
      ]
    },
    {
      "cell_type": "code",
      "source": [
        "#export\n",
        "import torch\n",
        "from torch import nn\n",
        "\n",
        "from recohut.models.layers.embedding import EmbeddingLayer\n",
        "from recohut.models.layers.common import KMaxPooling\n",
        "\n",
        "from recohut.models.bases.ctr import CTRModel"
      ],
      "metadata": {
        "id": "l9hT_TEfnMy4"
      },
      "execution_count": null,
      "outputs": []
    },
    {
      "cell_type": "code",
      "source": [
        "#exporti\n",
        "def get_activation(activation):\n",
        "    if isinstance(activation, str):\n",
        "        if activation.lower() == \"relu\":\n",
        "            return nn.ReLU()\n",
        "        elif activation.lower() == \"sigmoid\":\n",
        "            return nn.Sigmoid()\n",
        "        elif activation.lower() == \"tanh\":\n",
        "            return nn.Tanh()\n",
        "        else:\n",
        "            return getattr(nn, activation)()\n",
        "    else:\n",
        "        return activation"
      ],
      "metadata": {
        "id": "Cqgpln7zpXQp"
      },
      "execution_count": null,
      "outputs": []
    },
    {
      "cell_type": "code",
      "source": [
        "#exporti\n",
        "class CCPM_ConvLayer(nn.Module):\n",
        "    \"\"\"\n",
        "    Input X: tensor of shape (batch_size, 1, num_fields, embedding_dim)\n",
        "    \"\"\"\n",
        "    def __init__(self, num_fields, channels=[3], kernel_heights=[3], activation=\"Tanh\"):\n",
        "        super(CCPM_ConvLayer, self).__init__()\n",
        "        if not isinstance(kernel_heights, list):\n",
        "            kernel_heights = [kernel_heights] * len(channels)\n",
        "        elif len(kernel_heights) != len(channels):\n",
        "            raise ValueError(\"channels={} and kernel_heights={} should have the same length.\"\\\n",
        "                             .format(channels, kernel_heights))\n",
        "        module_list = []\n",
        "        self.channels = [1] + channels\n",
        "        layers = len(kernel_heights)\n",
        "        for i in range(1, len(self.channels)):\n",
        "            in_channels = self.channels[i - 1]\n",
        "            out_channels = self.channels[i]\n",
        "            kernel_height = kernel_heights[i - 1]\n",
        "            module_list.append(nn.ZeroPad2d((0, 0, kernel_height - 1, kernel_height - 1)))\n",
        "            module_list.append(nn.Conv2d(in_channels, out_channels, kernel_size=(kernel_height, 1)))\n",
        "            if i < layers:\n",
        "                k = max(3, int((1 - pow(float(i) / layers, layers - i)) * num_fields))\n",
        "            else:\n",
        "                k = 3\n",
        "            module_list.append(KMaxPooling(k, dim=2))\n",
        "            module_list.append(get_activation(activation))\n",
        "        self.conv_layer = nn.Sequential(*module_list)\n",
        "\n",
        "    def forward(self, X):\n",
        "        return self.conv_layer(X)"
      ],
      "metadata": {
        "id": "bWVxCkXgFpqV"
      },
      "execution_count": null,
      "outputs": []
    },
    {
      "cell_type": "code",
      "source": [
        "#export\n",
        "class CCPM(CTRModel):\n",
        "    def __init__(self, \n",
        "                 feature_map, \n",
        "                 model_id=\"CCPM\",\n",
        "                 task=\"binary_classification\",\n",
        "                 learning_rate=1e-3, \n",
        "                 embedding_initializer=\"torch.nn.init.normal_(std=1e-4)\",\n",
        "                 embedding_dim=10, \n",
        "                 channels=[4, 4, 2],\n",
        "                 kernel_heights=[6, 5, 3],\n",
        "                 activation=\"Tanh\",\n",
        "                 **kwargs):\n",
        "        super(CCPM, self).__init__(feature_map, \n",
        "                                           model_id=model_id,\n",
        "                                           **kwargs)\n",
        "        self.embedding_layer = EmbeddingLayer(feature_map, embedding_dim)\n",
        "        self.conv_layer = CCPM_ConvLayer(feature_map.num_fields, \n",
        "                                         channels=channels, \n",
        "                                         kernel_heights=kernel_heights, \n",
        "                                         activation=activation)\n",
        "        conv_out_dim = 3 * embedding_dim * channels[-1] # 3 is k-max-pooling size of the last layer\n",
        "        self.fc = nn.Linear(conv_out_dim, 1)\n",
        "        self.output_activation = self.get_final_activation(task)\n",
        "        self.init_weights(embedding_initializer=embedding_initializer)\n",
        "\n",
        "    def forward(self, inputs):\n",
        "        feature_emb = self.embedding_layer(inputs)\n",
        "        conv_in = torch.unsqueeze(feature_emb, 1) # shape (bs, 1, field, emb)\n",
        "        conv_out = self.conv_layer(conv_in)\n",
        "        flatten_out = torch.flatten(conv_out, start_dim=1)\n",
        "        y_pred = self.fc(flatten_out)\n",
        "        if self.output_activation is not None:\n",
        "            y_pred = self.output_activation(y_pred)\n",
        "        return y_pred"
      ],
      "metadata": {
        "id": "dxo30TNSrEhP"
      },
      "execution_count": null,
      "outputs": []
    },
    {
      "cell_type": "markdown",
      "source": [
        "Example"
      ],
      "metadata": {
        "id": "ueSrnou3nj_M"
      }
    },
    {
      "cell_type": "code",
      "source": [
        "params = {'model_id': 'CCPM',\n",
        "              'data_dir': '/content/data',\n",
        "              'model_root': './checkpoints/',\n",
        "              'learning_rate': 1e-3,\n",
        "              'optimizer': 'adamw',\n",
        "              'task': 'binary_classification',\n",
        "              'loss': 'binary_crossentropy',\n",
        "              'metrics': ['logloss', 'AUC'],\n",
        "              'embedding_dim': 10,\n",
        "              'channels': [3, 3],\n",
        "              'kernel_heights': [3, 3],\n",
        "              'activation': 'Tanh',\n",
        "              'batch_size': 64,\n",
        "              'epochs': 3,\n",
        "              'shuffle': True,\n",
        "              'seed': 2019,\n",
        "              'use_hdf5': True,\n",
        "              'workers': 1,\n",
        "              'verbose': 0}"
      ],
      "metadata": {
        "id": "RF7l2_nfFpqO"
      },
      "execution_count": null,
      "outputs": []
    },
    {
      "cell_type": "code",
      "source": [
        "model = CCPM(ds.dataset.feature_map, **params)"
      ],
      "metadata": {
        "id": "gqJGouEWLQwx"
      },
      "execution_count": null,
      "outputs": []
    },
    {
      "cell_type": "code",
      "source": [
        "pl_trainer(model, ds, max_epochs=5)"
      ],
      "metadata": {
        "colab": {
          "base_uri": "https://localhost:8080/",
          "height": 460,
          "referenced_widgets": [
            "07d68079253244699df778d41d657d1d",
            "fe8cb1c8097b41f4b081ae102d1a86f9",
            "18728a6e79c1425b878b19c8b54bf9f3",
            "e2afddd40ee543089091c6766ee1b293",
            "4f3a1f3426474152ae12713e2d8be9b2",
            "92970bc4d7584693b5bcb352a3a1a04e",
            "6380f5dd1de6430890b3579a7f37bfdd",
            "76f926715dca422294016a6a79c2b3b8",
            "6607162d18aa41a4b9681e30eac90ff2",
            "b8cff6b7ac07451d88476a5b710c0279",
            "26fee3934ad041419ffbc92ce8181882",
            "2111aa38766748ddb778ad976f5a7627",
            "6451951d40674e19873f93e259f8e242",
            "ae001b4c006948af9692e36696b38f12",
            "7e6661076b924374b9fee5580e23451d",
            "c80e7dd589c74ed9b2b6f7df25caa6ab",
            "c8304b5af7e248e997edbbebc4116347",
            "225386635c444808a56640db749dd09b",
            "d4d1d0e0819e4b70802372d6432400cf",
            "403a460f2c75427a9aa1a174404700ff",
            "985fe5a192f645e5a89cbc5d35a6a5f4",
            "ce538581ad484114864aba71b226ffa5",
            "540497ddaa82439f91373691456902bd",
            "1845594fd9b24b2a9bab31276e9a3259",
            "c533edbdf06448b986486112086b5212",
            "0e26c2ef496c474eaedbd34114637c40",
            "089b04985c9140eba878b86a606f9649",
            "742480fdf5ee48609256cc17f5e9cbe0",
            "456489c1c23b40eaa135a67921c5097d",
            "4fc04f2e5a7f4afc952493e8b2d2fb3d",
            "543bba1ac97145a1b83d1e259a2ab912",
            "91b3bb44af644bc285ce61964a865962",
            "f12c6947b16a4d0289173c28b656ddff"
          ]
        },
        "outputId": "f2cd5c5c-8bba-4c0e-d2df-cdd186ede5b4",
        "id": "Z3J5dVzALQwy"
      },
      "execution_count": null,
      "outputs": [
        {
          "output_type": "stream",
          "name": "stderr",
          "text": [
            "GPU available: False, used: False\n",
            "TPU available: False, using: 0 TPU cores\n",
            "IPU available: False, using: 0 IPUs\n",
            "\n",
            "  | Name              | Type           | Params\n",
            "-----------------------------------------------------\n",
            "0 | embedding_layer   | EmbeddingLayer | 4.8 K \n",
            "1 | conv_layer        | CCPM_ConvLayer | 42    \n",
            "2 | fc                | Linear         | 91    \n",
            "3 | output_activation | Sigmoid        | 0     \n",
            "-----------------------------------------------------\n",
            "4.9 K     Trainable params\n",
            "0         Non-trainable params\n",
            "4.9 K     Total params\n",
            "0.020     Total estimated model params size (MB)\n"
          ]
        },
        {
          "output_type": "display_data",
          "data": {
            "application/vnd.jupyter.widget-view+json": {
              "model_id": "07d68079253244699df778d41d657d1d",
              "version_minor": 0,
              "version_major": 2
            },
            "text/plain": [
              "Training: 0it [00:00, ?it/s]"
            ]
          },
          "metadata": {}
        },
        {
          "output_type": "display_data",
          "data": {
            "application/vnd.jupyter.widget-view+json": {
              "model_id": "2111aa38766748ddb778ad976f5a7627",
              "version_minor": 0,
              "version_major": 2
            },
            "text/plain": [
              "Validating: 0it [00:00, ?it/s]"
            ]
          },
          "metadata": {}
        },
        {
          "output_type": "display_data",
          "data": {
            "application/vnd.jupyter.widget-view+json": {
              "model_id": "540497ddaa82439f91373691456902bd",
              "version_minor": 0,
              "version_major": 2
            },
            "text/plain": [
              "Testing: 0it [00:00, ?it/s]"
            ]
          },
          "metadata": {}
        },
        {
          "output_type": "stream",
          "name": "stdout",
          "text": [
            "--------------------------------------------------------------------------------\n",
            "DATALOADER:0 TEST RESULTS\n",
            "{'Test Metrics': {'AUC': tensor(0.9964), 'logloss': tensor(0.2893)}}\n",
            "--------------------------------------------------------------------------------\n"
          ]
        },
        {
          "output_type": "execute_result",
          "data": {
            "text/plain": [
              "[{'Test Metrics': {'AUC': tensor(0.9964), 'logloss': tensor(0.2893)}}]"
            ]
          },
          "metadata": {},
          "execution_count": 62
        }
      ]
    }
  ],
  "metadata": {
    "kernelspec": {
      "display_name": "Python 3",
      "name": "python3"
    },
    "colab": {
      "name": "models > ccpm",
      "provenance": [],
      "collapsed_sections": []
    }
  },
  "nbformat": 4,
  "nbformat_minor": 0
}