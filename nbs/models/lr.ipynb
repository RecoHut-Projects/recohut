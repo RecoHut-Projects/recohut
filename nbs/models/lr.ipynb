{
  "nbformat": 4,
  "nbformat_minor": 0,
  "metadata": {
    "colab": {
      "name": "M922902 | models > lr",
      "provenance": [],
      "collapsed_sections": [
        "1KypvcFZI64_"
      ],
      "toc_visible": true,
      "mount_file_id": "1FEZmnoLGIsTsGiK2gi1TsIHLAaWCXF_a",
      "authorship_tag": "ABX9TyP4RValV5h9C1EFssZhBrb/"
    },
    "kernelspec": {
      "name": "python3",
      "display_name": "Python 3"
    },
    "language_info": {
      "name": "python"
    }
  },
  "cells": [
    {
      "cell_type": "code",
      "execution_count": null,
      "metadata": {
        "id": "fycOO2OxKHEF"
      },
      "outputs": [],
      "source": [
        "# default_exp models.lr"
      ]
    },
    {
      "cell_type": "markdown",
      "metadata": {
        "id": "1KypvcFZI64_"
      },
      "source": [
        "# LR\n",
        "> A pytorch implementation of Logistic Regression."
      ]
    },
    {
      "cell_type": "code",
      "execution_count": null,
      "metadata": {
        "id": "RGwuVx5oI65E"
      },
      "outputs": [],
      "source": [
        "#hide\n",
        "from nbdev.showdoc import *\n",
        "from fastcore.nb_imports import *\n",
        "from fastcore.test import *"
      ]
    },
    {
      "cell_type": "code",
      "execution_count": null,
      "metadata": {
        "id": "32ibt_XlI65I"
      },
      "outputs": [],
      "source": [
        "#export\n",
        "import torch\n",
        "\n",
        "from recohut.layers.common import FeaturesLinear"
      ]
    },
    {
      "cell_type": "code",
      "source": [
        "#export\n",
        "class LR(torch.nn.Module):\n",
        "    \"\"\"\n",
        "    A pytorch implementation of Logistic Regression.\n",
        "    \"\"\"\n",
        "\n",
        "    def __init__(self, field_dims):\n",
        "        super().__init__()\n",
        "        self.linear = FeaturesLinear(field_dims)\n",
        "\n",
        "    def forward(self, x):\n",
        "        \"\"\"\n",
        "        :param x: Long tensor of size ``(batch_size, num_fields)``\n",
        "        \"\"\"\n",
        "        return torch.sigmoid(self.linear(x).squeeze(1))"
      ],
      "metadata": {
        "id": "DchSUXOEK3CT"
      },
      "execution_count": null,
      "outputs": []
    },
    {
      "cell_type": "markdown",
      "source": [
        "> **References:-**\n",
        "- https://github.com/rixwew/pytorch-fm/blob/master/torchfm/model/lr.py"
      ],
      "metadata": {
        "id": "VmBYJuNFiO3g"
      }
    },
    {
      "cell_type": "code",
      "execution_count": null,
      "metadata": {
        "id": "yXwRDjpKI65c"
      },
      "outputs": [],
      "source": [
        "#hide\n",
        "%reload_ext watermark\n",
        "%watermark -a \"Sparsh A.\" -m -iv -u -t -d -p recohut"
      ]
    }
  ]
}