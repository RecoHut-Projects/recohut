{
  "nbformat": 4,
  "nbformat_minor": 0,
  "metadata": {
    "colab": {
      "name": "models > bert4rec",
      "provenance": [],
      "collapsed_sections": [
        "1KypvcFZI64_"
      ],
      "mount_file_id": "1FEZmnoLGIsTsGiK2gi1TsIHLAaWCXF_a",
      "authorship_tag": "ABX9TyMdbFls8gN8fXAMl0XXCTmI"
    },
    "kernelspec": {
      "name": "python3",
      "display_name": "Python 3"
    },
    "language_info": {
      "name": "python"
    }
  },
  "cells": [
    {
      "cell_type": "code",
      "execution_count": null,
      "metadata": {
        "id": "fycOO2OxKHEF"
      },
      "outputs": [],
      "source": [
        "# default_exp models.bert4rec"
      ]
    },
    {
      "cell_type": "markdown",
      "metadata": {
        "id": "1KypvcFZI64_"
      },
      "source": [
        "# BERT4Rec\n",
        "> Implementation of BERT4Rec transformer-based recommender model in Pytorch Lightning."
      ]
    },
    {
      "cell_type": "code",
      "execution_count": null,
      "metadata": {
        "id": "RGwuVx5oI65E"
      },
      "outputs": [],
      "source": [
        "#hide\n",
        "from nbdev.showdoc import *\n",
        "from fastcore.nb_imports import *\n",
        "from fastcore.test import *"
      ]
    },
    {
      "cell_type": "code",
      "execution_count": null,
      "metadata": {
        "id": "32ibt_XlI65I"
      },
      "outputs": [],
      "source": [
        "#export\n",
        "from typing import Any, Iterable, List, Optional, Tuple, Union, Callable\n",
        "\n",
        "import torch\n",
        "import torch.nn as nn\n",
        "from torch.nn import Linear\n",
        "\n",
        "from recohut.models.bases.sequential import SequentialModel"
      ]
    },
    {
      "cell_type": "code",
      "source": [
        "#export\n",
        "class BERT4Rec(SequentialModel):\n",
        "    def __init__(self, **kwargs):\n",
        "        super().__init__(**kwargs)\n",
        "        self.item_embeddings = torch.nn.Embedding(\n",
        "            self.vocab_size, embedding_dim=self.channels\n",
        "        )\n",
        "        self.input_pos_embedding = torch.nn.Embedding(512, embedding_dim=self.channels)\n",
        "        encoder_layer = nn.TransformerEncoderLayer(\n",
        "            d_model=self.channels, nhead=4, dropout=self.dropout\n",
        "        )\n",
        "        self.encoder = torch.nn.TransformerEncoder(encoder_layer, num_layers=6)\n",
        "        self.linear_out = Linear(self.channels, self.vocab_size)\n",
        "        self.do = nn.Dropout(p=self.dropout)\n",
        "\n",
        "    def forward(self, src_items):\n",
        "        src = self.encode_src(src_items)\n",
        "        out = self.linear_out(src)\n",
        "        return out\n",
        "\n",
        "    def encode_src(self, src_items):\n",
        "        src_items = self.item_embeddings(src_items)\n",
        "        batch_size, in_sequence_len = src_items.size(0), src_items.size(1)\n",
        "        pos_encoder = (\n",
        "            torch.arange(0, in_sequence_len, device=src_items.device)\n",
        "            .unsqueeze(0)\n",
        "            .repeat(batch_size, 1)\n",
        "        )\n",
        "        pos_encoder = self.input_pos_embedding(pos_encoder)\n",
        "        src_items += pos_encoder\n",
        "        src = src_items.permute(1, 0, 2)\n",
        "        src = self.encoder(src)\n",
        "        return src.permute(1, 0, 2)"
      ],
      "metadata": {
        "id": "HCHpnjglpKmp"
      },
      "execution_count": null,
      "outputs": []
    },
    {
      "cell_type": "markdown",
      "source": [
        "Example"
      ],
      "metadata": {
        "id": "fw7BV3coHAu6"
      }
    },
    {
      "cell_type": "code",
      "source": [
        "class Args:\n",
        "    def __init__(self):\n",
        "        self.pad = 0\n",
        "        self.mask = 1\n",
        "        self.cap = 0\n",
        "        self.seed = 42\n",
        "        self.vocab_size = 10000\n",
        "        self.channels = 128\n",
        "        self.dropout = 0.4\n",
        "        self.learning_rate = 1e-4\n",
        "        self.history_size = 30\n",
        "        self.data_dir = '/content/data'\n",
        "        self.log_dir = '/content/recommender_logs'\n",
        "        self.model_dir = '/content/recommender_models'\n",
        "        self.batch_size = 32\n",
        "        self.shuffle = True\n",
        "        self.max_epochs = 2\n",
        "        self.val_epoch = 1\n",
        "        self.gpus = None\n",
        "        self.monitor = 'valid_loss'\n",
        "        self.mode = 'min'\n",
        "\n",
        "args = Args()"
      ],
      "metadata": {
        "id": "TRBB39Hb-Zrw"
      },
      "execution_count": null,
      "outputs": []
    },
    {
      "cell_type": "code",
      "source": [
        "def pl_trainer(model, datamodule, max_epochs=10, val_epoch=5, gpus=None, log_dir=None,\n",
        "               model_dir=None, monitor='val_loss', mode='min', *args, **kwargs):\n",
        "    log_dir = log_dir if log_dir is not None else os.getcwd()\n",
        "    model_dir = model_dir if model_dir is not None else os.getcwd()\n",
        "\n",
        "    logger = TensorBoardLogger(save_dir=log_dir)\n",
        "\n",
        "    checkpoint_callback = ModelCheckpoint(\n",
        "        monitor=monitor,\n",
        "        mode=mode,\n",
        "        dirpath=model_dir,\n",
        "        filename=\"recommender\",\n",
        "    )\n",
        "\n",
        "    trainer = Trainer(\n",
        "    max_epochs=max_epochs,\n",
        "    logger=logger,\n",
        "    check_val_every_n_epoch=val_epoch,\n",
        "    callbacks=[checkpoint_callback],\n",
        "    num_sanity_val_steps=0,\n",
        "    gradient_clip_val=1,\n",
        "    gradient_clip_algorithm=\"norm\",\n",
        "    gpus=gpus\n",
        "    )\n",
        "\n",
        "    trainer.fit(model, datamodule=datamodule)\n",
        "    test_result = trainer.test(model, datamodule=datamodule)\n",
        "    return test_result"
      ],
      "metadata": {
        "id": "2kl3wI8V7yvP"
      },
      "execution_count": null,
      "outputs": []
    },
    {
      "cell_type": "code",
      "source": [
        "ds = ML1mDataModule(data_sir=args.data_dir, **args.__dict__)\n",
        "ds.prepare_data()\n",
        "\n",
        "args.vocab_size = len(ds.data.mapping) + 2\n",
        "\n",
        "model = BERT4Rec(**args.__dict__)\n",
        "\n",
        "result_val = pl_trainer(model, ds, **args.__dict__)\n",
        "\n",
        "output_json = {\n",
        "    \"val_loss\": result_val[0][\"test_loss\"],\n",
        "    \"best_model_path\": checkpoint_callback.best_model_path,\n",
        "}\n",
        "\n",
        "print(output_json)"
      ],
      "metadata": {
        "colab": {
          "base_uri": "https://localhost:8080/",
          "height": 604,
          "referenced_widgets": [
            "e273ffc12ee24598acacf43a452e081e",
            "d27d506653b147e3971c81e8da6346a2",
            "7316c527e6d6495e8801240213f4bcfc",
            "76d6bbdbeb2d414d8d54788ea51d2182",
            "7dded6df90c44c4692fb244abe11271a",
            "6e543a8dd9ac43e19c5439bb058258ce",
            "8c8250f446584ae289099dd007a0c507",
            "db86af80b7224c02bd59d61c0fdb9eba",
            "1e34d39bee4d43b78f00366abc2584f5",
            "8094fb699a1649c3930f90bd1ada32f2",
            "6f21bb96851141f4aab072272fc39ace",
            "4696e991ccca4bd3ae49462d76b2490e",
            "579c0ee5c59f4e86b624366c9cf4522b",
            "0036aa2ab1a64035b3c5a5c0d07d8676",
            "366ec298f17e45918bc12d65ddba1c4a",
            "9023eabd183745299f88ea60a2f63d61",
            "e9f4641124ac43999cea7df53874e7b0",
            "9492e5d7708140de9dd0aa3f14fcff6c",
            "feaf97f876374185bd1c09ffa9db1815",
            "1148c13c93d24b6b81388ba6ec4ce61b",
            "1cbcde553e2e4def8a31ccb095a8484c",
            "22ee4faaf86b433292f669f2b93fbf3b",
            "f478384a312b48bb90d2a7cc42c97f9a",
            "9f44589f72f049598c675f4a34f83984",
            "36aee0abec7f4ad9ab07ff00a7a6f915",
            "a69426c5736642d08fcf3f657ac2cb7f",
            "785da3b7f5d74107b1d13f2724265d92",
            "6bbc61b34c6a48f4ba5a16f5e7ac05ab",
            "c4ce05a5c27c4f109cf23682a0e9e5a0",
            "a84354c550f045babf0e9bff1b6317f5",
            "34d9ef2a740846f2818f6010a612025d",
            "671ced35e5ff4ba5aeb9ffba0ad7ab1b",
            "24009db8b0774dab9cd11e728705e99e",
            "31ceca8ef10946ee850c1ac38d23d8d6",
            "650ad407be914e7dbae1616922e25153",
            "7e235f1e662f4d9baebf5f70d00571b1",
            "9b4aabbf0df74689ae872e8cfcd3ef02",
            "fa6de4c509144a87992b65c0225178f1",
            "2b5b8d882f9b482c8eecd191c704cd2c",
            "4daec0d898184f8daf33109bddb384d6",
            "ecd14ec10e9147f29bf976d05a5627ac",
            "c1e19155ed0c490d951d9c875f02cabb",
            "4e626ce0afb94869821b0c4baff8b851",
            "9c733121c1014fb3abb79910d406a2fc"
          ]
        },
        "id": "pozX_u0Zz4xY",
        "outputId": "eeb8939a-47a6-44e6-e697-bfdfb45297a0"
      },
      "execution_count": null,
      "outputs": [
        {
          "output_type": "stream",
          "name": "stderr",
          "text": [
            "GPU available: False, used: False\n",
            "TPU available: False, using: 0 TPU cores\n",
            "IPU available: False, using: 0 IPUs\n",
            "Processing...\n",
            "Done!\n",
            "Processing...\n",
            "Done!\n",
            "\n",
            "  | Name                | Type               | Params\n",
            "-----------------------------------------------------------\n",
            "0 | item_embeddings     | Embedding          | 474 K \n",
            "1 | input_pos_embedding | Embedding          | 65.5 K\n",
            "2 | encoder             | TransformerEncoder | 3.6 M \n",
            "3 | linear_out          | Linear             | 478 K \n",
            "4 | do                  | Dropout            | 0     \n",
            "-----------------------------------------------------------\n",
            "4.6 M     Trainable params\n",
            "0         Non-trainable params\n",
            "4.6 M     Total params\n",
            "18.307    Total estimated model params size (MB)\n",
            "/usr/local/lib/python3.7/dist-packages/pytorch_lightning/callbacks/model_checkpoint.py:631: UserWarning: Checkpoint directory /content/recommender_models exists and is not empty.\n",
            "  rank_zero_warn(f\"Checkpoint directory {dirpath} exists and is not empty.\")\n"
          ]
        },
        {
          "output_type": "display_data",
          "data": {
            "application/vnd.jupyter.widget-view+json": {
              "model_id": "e273ffc12ee24598acacf43a452e081e",
              "version_minor": 0,
              "version_major": 2
            },
            "text/plain": [
              "Training: 0it [00:00, ?it/s]"
            ]
          },
          "metadata": {}
        },
        {
          "output_type": "display_data",
          "data": {
            "application/vnd.jupyter.widget-view+json": {
              "model_id": "4696e991ccca4bd3ae49462d76b2490e",
              "version_minor": 0,
              "version_major": 2
            },
            "text/plain": [
              "Validating: 0it [00:00, ?it/s]"
            ]
          },
          "metadata": {}
        },
        {
          "output_type": "display_data",
          "data": {
            "application/vnd.jupyter.widget-view+json": {
              "model_id": "f478384a312b48bb90d2a7cc42c97f9a",
              "version_minor": 0,
              "version_major": 2
            },
            "text/plain": [
              "Validating: 0it [00:00, ?it/s]"
            ]
          },
          "metadata": {}
        },
        {
          "output_type": "stream",
          "name": "stderr",
          "text": [
            "Processing...\n",
            "Done!\n"
          ]
        },
        {
          "output_type": "display_data",
          "data": {
            "application/vnd.jupyter.widget-view+json": {
              "model_id": "31ceca8ef10946ee850c1ac38d23d8d6",
              "version_minor": 0,
              "version_major": 2
            },
            "text/plain": [
              "Testing: 0it [00:00, ?it/s]"
            ]
          },
          "metadata": {}
        },
        {
          "output_type": "stream",
          "name": "stdout",
          "text": [
            "--------------------------------------------------------------------------------\n",
            "DATALOADER:0 TEST RESULTS\n",
            "{'test_accuracy': 0.0032284767366945744, 'test_loss': 7.648849010467529}\n",
            "--------------------------------------------------------------------------------\n",
            "{'val_loss': 7.648849010467529, 'best_model_path': '/content/recommender_models/recommender.ckpt'}\n"
          ]
        }
      ]
    }
  ]
}