{
  "nbformat": 4,
  "nbformat_minor": 0,
  "metadata": {
    "colab": {
      "name": "M846293 | models > prod2vec",
      "provenance": [],
      "collapsed_sections": [],
      "mount_file_id": "1fINxPSWMk_VBCVmHuL7ft1YovS82Fe1v",
      "authorship_tag": "ABX9TyNxdc3Y9cgXgdHG8DDLs2HD"
    },
    "kernelspec": {
      "name": "python3",
      "display_name": "Python 3"
    },
    "language_info": {
      "name": "python"
    },
    "widgets": {
      "application/vnd.jupyter.widget-state+json": {
        "c67c3bc470394dbc9374345f69804966": {
          "model_module": "@jupyter-widgets/controls",
          "model_name": "HBoxModel",
          "model_module_version": "1.5.0",
          "state": {
            "_view_name": "HBoxView",
            "_dom_classes": [],
            "_model_name": "HBoxModel",
            "_view_module": "@jupyter-widgets/controls",
            "_model_module_version": "1.5.0",
            "_view_count": null,
            "_view_module_version": "1.5.0",
            "box_style": "",
            "layout": "IPY_MODEL_34a57f5cdbf24cfc95353207acdb3a07",
            "_model_module": "@jupyter-widgets/controls",
            "children": [
              "IPY_MODEL_224cbfee82704b4da02764fbd4c281c7",
              "IPY_MODEL_d44ba7964bbd46dc81e26a10ac311add",
              "IPY_MODEL_b4f87e4e678b4385acfae5caf5a962d1"
            ]
          }
        },
        "34a57f5cdbf24cfc95353207acdb3a07": {
          "model_module": "@jupyter-widgets/base",
          "model_name": "LayoutModel",
          "model_module_version": "1.2.0",
          "state": {
            "_view_name": "LayoutView",
            "grid_template_rows": null,
            "right": null,
            "justify_content": null,
            "_view_module": "@jupyter-widgets/base",
            "overflow": null,
            "_model_module_version": "1.2.0",
            "_view_count": null,
            "flex_flow": null,
            "width": null,
            "min_width": null,
            "border": null,
            "align_items": null,
            "bottom": null,
            "_model_module": "@jupyter-widgets/base",
            "top": null,
            "grid_column": null,
            "overflow_y": null,
            "overflow_x": null,
            "grid_auto_flow": null,
            "grid_area": null,
            "grid_template_columns": null,
            "flex": null,
            "_model_name": "LayoutModel",
            "justify_items": null,
            "grid_row": null,
            "max_height": null,
            "align_content": null,
            "visibility": null,
            "align_self": null,
            "height": null,
            "min_height": null,
            "padding": null,
            "grid_auto_rows": null,
            "grid_gap": null,
            "max_width": null,
            "order": null,
            "_view_module_version": "1.2.0",
            "grid_template_areas": null,
            "object_position": null,
            "object_fit": null,
            "grid_auto_columns": null,
            "margin": null,
            "display": null,
            "left": null
          }
        },
        "224cbfee82704b4da02764fbd4c281c7": {
          "model_module": "@jupyter-widgets/controls",
          "model_name": "HTMLModel",
          "model_module_version": "1.5.0",
          "state": {
            "_view_name": "HTMLView",
            "style": "IPY_MODEL_01a294407a3743bdb9bdd520a93e980d",
            "_dom_classes": [],
            "description": "",
            "_model_name": "HTMLModel",
            "placeholder": "​",
            "_view_module": "@jupyter-widgets/controls",
            "_model_module_version": "1.5.0",
            "value": "100%",
            "_view_count": null,
            "_view_module_version": "1.5.0",
            "description_tooltip": null,
            "_model_module": "@jupyter-widgets/controls",
            "layout": "IPY_MODEL_b07a4e6d946e446f9b710e73a5b26b29"
          }
        },
        "d44ba7964bbd46dc81e26a10ac311add": {
          "model_module": "@jupyter-widgets/controls",
          "model_name": "FloatProgressModel",
          "model_module_version": "1.5.0",
          "state": {
            "_view_name": "ProgressView",
            "style": "IPY_MODEL_1bcdc2718ef6475ead51f6c9e1cd3b17",
            "_dom_classes": [],
            "description": "",
            "_model_name": "FloatProgressModel",
            "bar_style": "success",
            "max": 3935,
            "_view_module": "@jupyter-widgets/controls",
            "_model_module_version": "1.5.0",
            "value": 3935,
            "_view_count": null,
            "_view_module_version": "1.5.0",
            "orientation": "horizontal",
            "min": 0,
            "description_tooltip": null,
            "_model_module": "@jupyter-widgets/controls",
            "layout": "IPY_MODEL_2a43e55b6f9b4fd48f5f741cb078d07f"
          }
        },
        "b4f87e4e678b4385acfae5caf5a962d1": {
          "model_module": "@jupyter-widgets/controls",
          "model_name": "HTMLModel",
          "model_module_version": "1.5.0",
          "state": {
            "_view_name": "HTMLView",
            "style": "IPY_MODEL_994cafe8ec5a4c66b01e9ceadf204230",
            "_dom_classes": [],
            "description": "",
            "_model_name": "HTMLModel",
            "placeholder": "​",
            "_view_module": "@jupyter-widgets/controls",
            "_model_module_version": "1.5.0",
            "value": " 3935/3935 [00:05&lt;00:00, 668.07it/s]",
            "_view_count": null,
            "_view_module_version": "1.5.0",
            "description_tooltip": null,
            "_model_module": "@jupyter-widgets/controls",
            "layout": "IPY_MODEL_a9add41ac0f547298b15b10c485fec9f"
          }
        },
        "01a294407a3743bdb9bdd520a93e980d": {
          "model_module": "@jupyter-widgets/controls",
          "model_name": "DescriptionStyleModel",
          "model_module_version": "1.5.0",
          "state": {
            "_view_name": "StyleView",
            "_model_name": "DescriptionStyleModel",
            "description_width": "",
            "_view_module": "@jupyter-widgets/base",
            "_model_module_version": "1.5.0",
            "_view_count": null,
            "_view_module_version": "1.2.0",
            "_model_module": "@jupyter-widgets/controls"
          }
        },
        "b07a4e6d946e446f9b710e73a5b26b29": {
          "model_module": "@jupyter-widgets/base",
          "model_name": "LayoutModel",
          "model_module_version": "1.2.0",
          "state": {
            "_view_name": "LayoutView",
            "grid_template_rows": null,
            "right": null,
            "justify_content": null,
            "_view_module": "@jupyter-widgets/base",
            "overflow": null,
            "_model_module_version": "1.2.0",
            "_view_count": null,
            "flex_flow": null,
            "width": null,
            "min_width": null,
            "border": null,
            "align_items": null,
            "bottom": null,
            "_model_module": "@jupyter-widgets/base",
            "top": null,
            "grid_column": null,
            "overflow_y": null,
            "overflow_x": null,
            "grid_auto_flow": null,
            "grid_area": null,
            "grid_template_columns": null,
            "flex": null,
            "_model_name": "LayoutModel",
            "justify_items": null,
            "grid_row": null,
            "max_height": null,
            "align_content": null,
            "visibility": null,
            "align_self": null,
            "height": null,
            "min_height": null,
            "padding": null,
            "grid_auto_rows": null,
            "grid_gap": null,
            "max_width": null,
            "order": null,
            "_view_module_version": "1.2.0",
            "grid_template_areas": null,
            "object_position": null,
            "object_fit": null,
            "grid_auto_columns": null,
            "margin": null,
            "display": null,
            "left": null
          }
        },
        "1bcdc2718ef6475ead51f6c9e1cd3b17": {
          "model_module": "@jupyter-widgets/controls",
          "model_name": "ProgressStyleModel",
          "model_module_version": "1.5.0",
          "state": {
            "_view_name": "StyleView",
            "_model_name": "ProgressStyleModel",
            "description_width": "",
            "_view_module": "@jupyter-widgets/base",
            "_model_module_version": "1.5.0",
            "_view_count": null,
            "_view_module_version": "1.2.0",
            "bar_color": null,
            "_model_module": "@jupyter-widgets/controls"
          }
        },
        "2a43e55b6f9b4fd48f5f741cb078d07f": {
          "model_module": "@jupyter-widgets/base",
          "model_name": "LayoutModel",
          "model_module_version": "1.2.0",
          "state": {
            "_view_name": "LayoutView",
            "grid_template_rows": null,
            "right": null,
            "justify_content": null,
            "_view_module": "@jupyter-widgets/base",
            "overflow": null,
            "_model_module_version": "1.2.0",
            "_view_count": null,
            "flex_flow": null,
            "width": null,
            "min_width": null,
            "border": null,
            "align_items": null,
            "bottom": null,
            "_model_module": "@jupyter-widgets/base",
            "top": null,
            "grid_column": null,
            "overflow_y": null,
            "overflow_x": null,
            "grid_auto_flow": null,
            "grid_area": null,
            "grid_template_columns": null,
            "flex": null,
            "_model_name": "LayoutModel",
            "justify_items": null,
            "grid_row": null,
            "max_height": null,
            "align_content": null,
            "visibility": null,
            "align_self": null,
            "height": null,
            "min_height": null,
            "padding": null,
            "grid_auto_rows": null,
            "grid_gap": null,
            "max_width": null,
            "order": null,
            "_view_module_version": "1.2.0",
            "grid_template_areas": null,
            "object_position": null,
            "object_fit": null,
            "grid_auto_columns": null,
            "margin": null,
            "display": null,
            "left": null
          }
        },
        "994cafe8ec5a4c66b01e9ceadf204230": {
          "model_module": "@jupyter-widgets/controls",
          "model_name": "DescriptionStyleModel",
          "model_module_version": "1.5.0",
          "state": {
            "_view_name": "StyleView",
            "_model_name": "DescriptionStyleModel",
            "description_width": "",
            "_view_module": "@jupyter-widgets/base",
            "_model_module_version": "1.5.0",
            "_view_count": null,
            "_view_module_version": "1.2.0",
            "_model_module": "@jupyter-widgets/controls"
          }
        },
        "a9add41ac0f547298b15b10c485fec9f": {
          "model_module": "@jupyter-widgets/base",
          "model_name": "LayoutModel",
          "model_module_version": "1.2.0",
          "state": {
            "_view_name": "LayoutView",
            "grid_template_rows": null,
            "right": null,
            "justify_content": null,
            "_view_module": "@jupyter-widgets/base",
            "overflow": null,
            "_model_module_version": "1.2.0",
            "_view_count": null,
            "flex_flow": null,
            "width": null,
            "min_width": null,
            "border": null,
            "align_items": null,
            "bottom": null,
            "_model_module": "@jupyter-widgets/base",
            "top": null,
            "grid_column": null,
            "overflow_y": null,
            "overflow_x": null,
            "grid_auto_flow": null,
            "grid_area": null,
            "grid_template_columns": null,
            "flex": null,
            "_model_name": "LayoutModel",
            "justify_items": null,
            "grid_row": null,
            "max_height": null,
            "align_content": null,
            "visibility": null,
            "align_self": null,
            "height": null,
            "min_height": null,
            "padding": null,
            "grid_auto_rows": null,
            "grid_gap": null,
            "max_width": null,
            "order": null,
            "_view_module_version": "1.2.0",
            "grid_template_areas": null,
            "object_position": null,
            "object_fit": null,
            "grid_auto_columns": null,
            "margin": null,
            "display": null,
            "left": null
          }
        },
        "a99361b1142540848001669faaa0d38c": {
          "model_module": "@jupyter-widgets/controls",
          "model_name": "HBoxModel",
          "model_module_version": "1.5.0",
          "state": {
            "_view_name": "HBoxView",
            "_dom_classes": [],
            "_model_name": "HBoxModel",
            "_view_module": "@jupyter-widgets/controls",
            "_model_module_version": "1.5.0",
            "_view_count": null,
            "_view_module_version": "1.5.0",
            "box_style": "",
            "layout": "IPY_MODEL_8ff9634bfaf346169438187681e47cf3",
            "_model_module": "@jupyter-widgets/controls",
            "children": [
              "IPY_MODEL_9ce8375dce304eb3ad63a16ccf4fa937",
              "IPY_MODEL_ba35355bbdc641559ace043830777c9f",
              "IPY_MODEL_10d5feb6755140cba737be1a53bf97cc"
            ]
          }
        },
        "8ff9634bfaf346169438187681e47cf3": {
          "model_module": "@jupyter-widgets/base",
          "model_name": "LayoutModel",
          "model_module_version": "1.2.0",
          "state": {
            "_view_name": "LayoutView",
            "grid_template_rows": null,
            "right": null,
            "justify_content": null,
            "_view_module": "@jupyter-widgets/base",
            "overflow": null,
            "_model_module_version": "1.2.0",
            "_view_count": null,
            "flex_flow": null,
            "width": null,
            "min_width": null,
            "border": null,
            "align_items": null,
            "bottom": null,
            "_model_module": "@jupyter-widgets/base",
            "top": null,
            "grid_column": null,
            "overflow_y": null,
            "overflow_x": null,
            "grid_auto_flow": null,
            "grid_area": null,
            "grid_template_columns": null,
            "flex": null,
            "_model_name": "LayoutModel",
            "justify_items": null,
            "grid_row": null,
            "max_height": null,
            "align_content": null,
            "visibility": null,
            "align_self": null,
            "height": null,
            "min_height": null,
            "padding": null,
            "grid_auto_rows": null,
            "grid_gap": null,
            "max_width": null,
            "order": null,
            "_view_module_version": "1.2.0",
            "grid_template_areas": null,
            "object_position": null,
            "object_fit": null,
            "grid_auto_columns": null,
            "margin": null,
            "display": null,
            "left": null
          }
        },
        "9ce8375dce304eb3ad63a16ccf4fa937": {
          "model_module": "@jupyter-widgets/controls",
          "model_name": "HTMLModel",
          "model_module_version": "1.5.0",
          "state": {
            "_view_name": "HTMLView",
            "style": "IPY_MODEL_eed3886fe6ac4c82a2a7c22b48109f16",
            "_dom_classes": [],
            "description": "",
            "_model_name": "HTMLModel",
            "placeholder": "​",
            "_view_module": "@jupyter-widgets/controls",
            "_model_module_version": "1.5.0",
            "value": "100%",
            "_view_count": null,
            "_view_module_version": "1.5.0",
            "description_tooltip": null,
            "_model_module": "@jupyter-widgets/controls",
            "layout": "IPY_MODEL_05c48feea7744b0ca506aa92ea4e9cb1"
          }
        },
        "ba35355bbdc641559ace043830777c9f": {
          "model_module": "@jupyter-widgets/controls",
          "model_name": "FloatProgressModel",
          "model_module_version": "1.5.0",
          "state": {
            "_view_name": "ProgressView",
            "style": "IPY_MODEL_f21666c46f0e4b249d18819947b38113",
            "_dom_classes": [],
            "description": "",
            "_model_name": "FloatProgressModel",
            "bar_style": "success",
            "max": 437,
            "_view_module": "@jupyter-widgets/controls",
            "_model_module_version": "1.5.0",
            "value": 437,
            "_view_count": null,
            "_view_module_version": "1.5.0",
            "orientation": "horizontal",
            "min": 0,
            "description_tooltip": null,
            "_model_module": "@jupyter-widgets/controls",
            "layout": "IPY_MODEL_91273b85b74d4f3caafc16b764da05ac"
          }
        },
        "10d5feb6755140cba737be1a53bf97cc": {
          "model_module": "@jupyter-widgets/controls",
          "model_name": "HTMLModel",
          "model_module_version": "1.5.0",
          "state": {
            "_view_name": "HTMLView",
            "style": "IPY_MODEL_b914351c51a34d4d9d11f5593c0a48e0",
            "_dom_classes": [],
            "description": "",
            "_model_name": "HTMLModel",
            "placeholder": "​",
            "_view_module": "@jupyter-widgets/controls",
            "_model_module_version": "1.5.0",
            "value": " 437/437 [00:00&lt;00:00, 1016.53it/s]",
            "_view_count": null,
            "_view_module_version": "1.5.0",
            "description_tooltip": null,
            "_model_module": "@jupyter-widgets/controls",
            "layout": "IPY_MODEL_6b7be065b5e44741aec25737232104ea"
          }
        },
        "eed3886fe6ac4c82a2a7c22b48109f16": {
          "model_module": "@jupyter-widgets/controls",
          "model_name": "DescriptionStyleModel",
          "model_module_version": "1.5.0",
          "state": {
            "_view_name": "StyleView",
            "_model_name": "DescriptionStyleModel",
            "description_width": "",
            "_view_module": "@jupyter-widgets/base",
            "_model_module_version": "1.5.0",
            "_view_count": null,
            "_view_module_version": "1.2.0",
            "_model_module": "@jupyter-widgets/controls"
          }
        },
        "05c48feea7744b0ca506aa92ea4e9cb1": {
          "model_module": "@jupyter-widgets/base",
          "model_name": "LayoutModel",
          "model_module_version": "1.2.0",
          "state": {
            "_view_name": "LayoutView",
            "grid_template_rows": null,
            "right": null,
            "justify_content": null,
            "_view_module": "@jupyter-widgets/base",
            "overflow": null,
            "_model_module_version": "1.2.0",
            "_view_count": null,
            "flex_flow": null,
            "width": null,
            "min_width": null,
            "border": null,
            "align_items": null,
            "bottom": null,
            "_model_module": "@jupyter-widgets/base",
            "top": null,
            "grid_column": null,
            "overflow_y": null,
            "overflow_x": null,
            "grid_auto_flow": null,
            "grid_area": null,
            "grid_template_columns": null,
            "flex": null,
            "_model_name": "LayoutModel",
            "justify_items": null,
            "grid_row": null,
            "max_height": null,
            "align_content": null,
            "visibility": null,
            "align_self": null,
            "height": null,
            "min_height": null,
            "padding": null,
            "grid_auto_rows": null,
            "grid_gap": null,
            "max_width": null,
            "order": null,
            "_view_module_version": "1.2.0",
            "grid_template_areas": null,
            "object_position": null,
            "object_fit": null,
            "grid_auto_columns": null,
            "margin": null,
            "display": null,
            "left": null
          }
        },
        "f21666c46f0e4b249d18819947b38113": {
          "model_module": "@jupyter-widgets/controls",
          "model_name": "ProgressStyleModel",
          "model_module_version": "1.5.0",
          "state": {
            "_view_name": "StyleView",
            "_model_name": "ProgressStyleModel",
            "description_width": "",
            "_view_module": "@jupyter-widgets/base",
            "_model_module_version": "1.5.0",
            "_view_count": null,
            "_view_module_version": "1.2.0",
            "bar_color": null,
            "_model_module": "@jupyter-widgets/controls"
          }
        },
        "91273b85b74d4f3caafc16b764da05ac": {
          "model_module": "@jupyter-widgets/base",
          "model_name": "LayoutModel",
          "model_module_version": "1.2.0",
          "state": {
            "_view_name": "LayoutView",
            "grid_template_rows": null,
            "right": null,
            "justify_content": null,
            "_view_module": "@jupyter-widgets/base",
            "overflow": null,
            "_model_module_version": "1.2.0",
            "_view_count": null,
            "flex_flow": null,
            "width": null,
            "min_width": null,
            "border": null,
            "align_items": null,
            "bottom": null,
            "_model_module": "@jupyter-widgets/base",
            "top": null,
            "grid_column": null,
            "overflow_y": null,
            "overflow_x": null,
            "grid_auto_flow": null,
            "grid_area": null,
            "grid_template_columns": null,
            "flex": null,
            "_model_name": "LayoutModel",
            "justify_items": null,
            "grid_row": null,
            "max_height": null,
            "align_content": null,
            "visibility": null,
            "align_self": null,
            "height": null,
            "min_height": null,
            "padding": null,
            "grid_auto_rows": null,
            "grid_gap": null,
            "max_width": null,
            "order": null,
            "_view_module_version": "1.2.0",
            "grid_template_areas": null,
            "object_position": null,
            "object_fit": null,
            "grid_auto_columns": null,
            "margin": null,
            "display": null,
            "left": null
          }
        },
        "b914351c51a34d4d9d11f5593c0a48e0": {
          "model_module": "@jupyter-widgets/controls",
          "model_name": "DescriptionStyleModel",
          "model_module_version": "1.5.0",
          "state": {
            "_view_name": "StyleView",
            "_model_name": "DescriptionStyleModel",
            "description_width": "",
            "_view_module": "@jupyter-widgets/base",
            "_model_module_version": "1.5.0",
            "_view_count": null,
            "_view_module_version": "1.2.0",
            "_model_module": "@jupyter-widgets/controls"
          }
        },
        "6b7be065b5e44741aec25737232104ea": {
          "model_module": "@jupyter-widgets/base",
          "model_name": "LayoutModel",
          "model_module_version": "1.2.0",
          "state": {
            "_view_name": "LayoutView",
            "grid_template_rows": null,
            "right": null,
            "justify_content": null,
            "_view_module": "@jupyter-widgets/base",
            "overflow": null,
            "_model_module_version": "1.2.0",
            "_view_count": null,
            "flex_flow": null,
            "width": null,
            "min_width": null,
            "border": null,
            "align_items": null,
            "bottom": null,
            "_model_module": "@jupyter-widgets/base",
            "top": null,
            "grid_column": null,
            "overflow_y": null,
            "overflow_x": null,
            "grid_auto_flow": null,
            "grid_area": null,
            "grid_template_columns": null,
            "flex": null,
            "_model_name": "LayoutModel",
            "justify_items": null,
            "grid_row": null,
            "max_height": null,
            "align_content": null,
            "visibility": null,
            "align_self": null,
            "height": null,
            "min_height": null,
            "padding": null,
            "grid_auto_rows": null,
            "grid_gap": null,
            "max_width": null,
            "order": null,
            "_view_module_version": "1.2.0",
            "grid_template_areas": null,
            "object_position": null,
            "object_fit": null,
            "grid_auto_columns": null,
            "margin": null,
            "display": null,
            "left": null
          }
        }
      }
    }
  },
  "cells": [
    {
      "cell_type": "code",
      "execution_count": null,
      "metadata": {
        "id": "fycOO2OxKHEF"
      },
      "outputs": [],
      "source": [
        "# default_exp models.prod2vec"
      ]
    },
    {
      "cell_type": "markdown",
      "metadata": {
        "id": "j0HCbUbUbyVY"
      },
      "source": [
        "# Prod2Vec\n",
        "> Implementation of Prod2vec model.\n",
        "\n",
        "> References\n",
        "1. [https://nbviewer.org/github/sparsh-ai/stanza/blob/S543002/2021-07-19-session-based-prod2vec-coveo.ipynb](https://nbviewer.org/github/sparsh-ai/stanza/blob/S543002/2021-07-19-session-based-prod2vec-coveo.ipynb)\n",
        "2. [https://nbviewer.org/github/sparsh-ai/stanza/blob/S543002/2021-06-11-recostep-session-based-recommender-using-word2vec.ipynb](https://nbviewer.org/github/sparsh-ai/stanza/blob/S543002/2021-06-11-recostep-session-based-recommender-using-word2vec.ipynb)\n",
        "3. [https://github.com/mquad/sars_tutorial/blob/master/recommenders/Prod2VecRecommender.py](https://github.com/mquad/sars_tutorial/blob/master/recommenders/Prod2VecRecommender.py)\n",
        "4. [https://nbviewer.org/github/sparsh-ai/stanza/blob/S543002/2021-04-24-rec-medium-word2vec.ipynb](https://nbviewer.org/github/sparsh-ai/stanza/blob/S543002/2021-04-24-rec-medium-word2vec.ipynb)"
      ]
    },
    {
      "cell_type": "code",
      "execution_count": null,
      "metadata": {
        "id": "aXvTN3p0byVa"
      },
      "outputs": [],
      "source": [
        "#hide\n",
        "from nbdev.showdoc import *"
      ]
    },
    {
      "cell_type": "code",
      "execution_count": null,
      "metadata": {
        "id": "Zo7qxzAfbyVa"
      },
      "outputs": [],
      "source": [
        "#export\n",
        "import logging\n",
        "import gensim\n",
        "import numpy as np"
      ]
    },
    {
      "cell_type": "code",
      "source": [
        "#export\n",
        "class Prod2Vec(object):\n",
        "    \"\"\"\n",
        "    Implementation of the Prod2Vec skipgram model from\n",
        "    Grbovic Mihajlo, Vladan Radosavljevic, Nemanja Djuric, Narayan Bhamidipati, Jaikit Savla, Varun Bhagwan, and Doug Sharp.\n",
        "    \"E-commerce in your inbox: Product recommendations at scale.\"\n",
        "    In Proceedings of the 21th ACM SIGKDD International Conference on Knowledge Discovery and Data Mining,\n",
        "    pp. 1809-1818. ACM, 2015.\n",
        "    \"\"\"\n",
        "\n",
        "    logging.basicConfig(level=logging.INFO, format='%(asctime)s - %(levelname)s - %(message)s')\n",
        "    logger = logging.getLogger()\n",
        "\n",
        "    def __init__(self, min_count=2, negative=5, size=100, window=5, decay_alpha=0.9):\n",
        "        \"\"\"\n",
        "        :param min_count: (optional) the minimum item frequency. Items less frequent that min_count will be pruned\n",
        "        :param negative: (optional) the minimum negative samples\n",
        "        :param size: (optional) the size of the embeddings\n",
        "        :param window: (optional) the size of the context window\n",
        "        :param decay_alpha: (optional) the exponential decay factor used to discount the similarity scores for items\n",
        "                back in the user profile. Lower values mean higher discounting of past user interactions. Allows values in [0-1].\n",
        "        \"\"\"\n",
        "        super(Prod2Vec, self).__init__()\n",
        "        self.min_count = min_count\n",
        "        self.negative = negative\n",
        "        self.size = size\n",
        "        self.window = window\n",
        "        self.decay_alpha = decay_alpha\n",
        "\n",
        "    def __str__(self):\n",
        "        return 'Prod2Vec(min_count={min_count}, ' \\\n",
        "               'size={size}, ' \\\n",
        "               'window={window}, ' \\\n",
        "               'decay_alpha={decay_alpha})'.format(**self.__dict__)\n",
        "\n",
        "    def fit(self, train_data):\n",
        "        self.model = gensim.models.Word2Vec(train_data,\n",
        "                                            min_count=self.min_count,\n",
        "                                            negative=self.negative,\n",
        "                                            window=self.window,\n",
        "                                            hs=1,\n",
        "                                            size=self.size,\n",
        "                                            sg=1,\n",
        "                                            workers=-1)\n",
        "        self.model.train(train_data, total_examples = self.model.corpus_count, \n",
        "                         epochs=10, report_delay=1)\n",
        "        # As we do not plan to train the model any further, we are calling\n",
        "        # init_sims(), which will make the model much more memory-efficient\n",
        "        self.model.init_sims(replace=True)\n",
        "\n",
        "    def aggregate_vectors(self, products):\n",
        "        product_vec = []\n",
        "        for i in products:\n",
        "            try:\n",
        "                product_vec.append(self.model[i])\n",
        "            except KeyError:\n",
        "                continue\n",
        "            \n",
        "        return np.mean(product_vec, axis=0)\n",
        "\n",
        "    def recommend(self, user_profile, topk=5):\n",
        "        \"\"\"\n",
        "        Given the user profile return a list of recommendation\n",
        "\n",
        "        Args:\n",
        "            user_profile: list of item ids visited/interacted by the user\n",
        "            topk: (optional) top-k recommendations\n",
        "        \"\"\"\n",
        "        rec = []\n",
        "        try:\n",
        "            vec = self.aggregate_vectors(user_profile)\n",
        "            # extract most similar products for the input vector\n",
        "            rec = self.model.wv.similar_by_vector(vec, topn= topk+1)[1:]\n",
        "        except KeyError:\n",
        "            rec = []\n",
        "\n",
        "        return rec"
      ],
      "metadata": {
        "id": "4zvEZF27b1Md"
      },
      "execution_count": null,
      "outputs": []
    },
    {
      "cell_type": "code",
      "source": [
        "import pandas as pd\n",
        "\n",
        "!wget -q --show-progress https://archive.ics.uci.edu/ml/machine-learning-databases/00352/Online%20Retail.xlsx\n",
        "\n",
        "df = pd.read_excel('Online Retail.xlsx')"
      ],
      "metadata": {
        "colab": {
          "base_uri": "https://localhost:8080/"
        },
        "id": "tQnB0ja9byVb",
        "outputId": "860f2802-0943-44b9-b3e3-d36c97f61dee"
      },
      "execution_count": null,
      "outputs": [
        {
          "output_type": "stream",
          "name": "stdout",
          "text": [
            "Online Retail.xlsx  100%[===================>]  22.62M  10.7MB/s    in 2.1s    \n"
          ]
        }
      ]
    },
    {
      "cell_type": "code",
      "source": [
        "# remove missing values\n",
        "df.dropna(inplace=True)\n",
        "\n",
        "# Convert the StockCode to string datatype\n",
        "df['StockCode']= df['StockCode'].astype(str)\n",
        "\n",
        "# Check out the number of unique customers in our dataset\n",
        "customers = df[\"CustomerID\"].unique().tolist()\n",
        "\n",
        "# shuffle customer ID's\n",
        "import random\n",
        "random.shuffle(customers)\n",
        "\n",
        "# extract 90% of customer ID's\n",
        "customers_train = [customers[i] for i in range(round(0.9*len(customers)))]\n",
        "\n",
        "# split data into train and validation set\n",
        "train_df = df[df['CustomerID'].isin(customers_train)]\n",
        "validation_df = df[~df['CustomerID'].isin(customers_train)]\n",
        "\n",
        "# list to capture purchase history of the customers\n",
        "purchases_train = []\n",
        "\n",
        "# populate the list with the product codes\n",
        "from tqdm.notebook import tqdm\n",
        "for i in tqdm(customers_train):\n",
        "    temp = train_df[train_df[\"CustomerID\"] == i][\"StockCode\"].tolist()\n",
        "    purchases_train.append(temp)\n",
        "\n",
        "# list to capture purchase history of the customers\n",
        "purchases_val = []\n",
        "\n",
        "# populate the list with the product codes\n",
        "for i in tqdm(validation_df['CustomerID'].unique()):\n",
        "    temp = validation_df[validation_df[\"CustomerID\"] == i][\"StockCode\"].tolist()\n",
        "    purchases_val.append(temp)"
      ],
      "metadata": {
        "colab": {
          "base_uri": "https://localhost:8080/",
          "height": 81,
          "referenced_widgets": [
            "c67c3bc470394dbc9374345f69804966",
            "34a57f5cdbf24cfc95353207acdb3a07",
            "224cbfee82704b4da02764fbd4c281c7",
            "d44ba7964bbd46dc81e26a10ac311add",
            "b4f87e4e678b4385acfae5caf5a962d1",
            "01a294407a3743bdb9bdd520a93e980d",
            "b07a4e6d946e446f9b710e73a5b26b29",
            "1bcdc2718ef6475ead51f6c9e1cd3b17",
            "2a43e55b6f9b4fd48f5f741cb078d07f",
            "994cafe8ec5a4c66b01e9ceadf204230",
            "a9add41ac0f547298b15b10c485fec9f",
            "a99361b1142540848001669faaa0d38c",
            "8ff9634bfaf346169438187681e47cf3",
            "9ce8375dce304eb3ad63a16ccf4fa937",
            "ba35355bbdc641559ace043830777c9f",
            "10d5feb6755140cba737be1a53bf97cc",
            "eed3886fe6ac4c82a2a7c22b48109f16",
            "05c48feea7744b0ca506aa92ea4e9cb1",
            "f21666c46f0e4b249d18819947b38113",
            "91273b85b74d4f3caafc16b764da05ac",
            "b914351c51a34d4d9d11f5593c0a48e0",
            "6b7be065b5e44741aec25737232104ea"
          ]
        },
        "id": "LPEHJSOzextg",
        "outputId": "b8992829-ed81-46a0-a750-9d9d479022c2"
      },
      "execution_count": null,
      "outputs": [
        {
          "output_type": "display_data",
          "data": {
            "application/vnd.jupyter.widget-view+json": {
              "model_id": "c67c3bc470394dbc9374345f69804966",
              "version_minor": 0,
              "version_major": 2
            },
            "text/plain": [
              "  0%|          | 0/3935 [00:00<?, ?it/s]"
            ]
          },
          "metadata": {}
        },
        {
          "output_type": "display_data",
          "data": {
            "application/vnd.jupyter.widget-view+json": {
              "model_id": "a99361b1142540848001669faaa0d38c",
              "version_minor": 0,
              "version_major": 2
            },
            "text/plain": [
              "  0%|          | 0/437 [00:00<?, ?it/s]"
            ]
          },
          "metadata": {}
        }
      ]
    },
    {
      "cell_type": "code",
      "source": [
        "# Build word2vec Embeddings for Products\n",
        "# train word2vec model\n",
        "model = Prod2Vec(window=10, negative=5, size=100, min_count=2)\n",
        "model.fit(purchases_train)"
      ],
      "metadata": {
        "id": "C9iHlLYYfBtX"
      },
      "execution_count": null,
      "outputs": []
    },
    {
      "cell_type": "code",
      "source": [
        "import warnings\n",
        "warnings.filterwarnings('ignore')\n",
        "\n",
        "products = train_df[[\"StockCode\", \"Description\"]]\n",
        "\n",
        "# remove duplicates\n",
        "products.drop_duplicates(inplace=True, subset='StockCode', keep=\"last\")\n",
        "\n",
        "# create product-ID and product-description dictionary\n",
        "products_dict = products.groupby('StockCode')['Description'].apply(list).to_dict()"
      ],
      "metadata": {
        "id": "XODwLyuLjUFK"
      },
      "execution_count": null,
      "outputs": []
    },
    {
      "cell_type": "code",
      "source": [
        "random_sample = products.sample(1).values\n",
        "recommendations = [[products_dict[a][0], b] for a,b in model.recommend(user_profile=random_sample[:,0])]\n",
        "\n",
        "print(random_sample[:,1])\n",
        "print(' ')\n",
        "for rec in recommendations: print(rec)"
      ],
      "metadata": {
        "colab": {
          "base_uri": "https://localhost:8080/"
        },
        "id": "dzpVcT3jjXKi",
        "outputId": "8fe333d3-319d-43fc-84d3-1400c61bcb91"
      },
      "execution_count": null,
      "outputs": [
        {
          "output_type": "stream",
          "name": "stdout",
          "text": [
            "['SET OF 3 BABUSHKA STACKING TINS']\n",
            " \n",
            "['EDWARDIAN HEART PHOTO FRAME', 0.3702189028263092]\n",
            "['SET OF 6 VINTAGE NOTELETS KIT', 0.34610092639923096]\n",
            "['FRENCH STYLE STORAGE JAR JAM', 0.3301945626735687]\n",
            "['BAG 500g SWIRLY MARBLES', 0.3177795708179474]\n",
            "['SPOTTY BUNTING', 0.30998745560646057]\n"
          ]
        }
      ]
    },
    {
      "cell_type": "code",
      "source": [
        "random_sample = products.sample(5).values\n",
        "recommendations = [[products_dict[a][0], b] for a,b in model.recommend(user_profile=random_sample[:,0])]\n",
        "\n",
        "print(random_sample[:,1])\n",
        "print(' ')\n",
        "for rec in recommendations: print(rec)"
      ],
      "metadata": {
        "colab": {
          "base_uri": "https://localhost:8080/"
        },
        "id": "qTntJtT-oFh6",
        "outputId": "c51c33ce-3ba9-4f4d-a233-118f0c58c572"
      },
      "execution_count": null,
      "outputs": [
        {
          "output_type": "stream",
          "name": "stdout",
          "text": [
            "['SET OF 5 LUCKY CAT MAGNETS ' 'HEARTS GIFT TAPE'\n",
            " 'PAINTED YELLOW WOODEN DAISY' 'COLOURFUL FLOWER FRUIT BOWL'\n",
            " 'TUSCAN VILLA BIRD FEEDER']\n",
            " \n",
            "['PAINTED YELLOW WOODEN DAISY', 0.498282253742218]\n",
            "['HEARTS GIFT TAPE', 0.4829496443271637]\n",
            "['TUSCAN VILLA BIRD FEEDER', 0.34984883666038513]\n",
            "['STRAWBERRY RAFFIA FOOD COVER', 0.3352939486503601]\n",
            "['IVORY PAPER CUP CAKE CASES ', 0.3215782642364502]\n"
          ]
        }
      ]
    },
    {
      "cell_type": "code",
      "execution_count": null,
      "metadata": {
        "colab": {
          "base_uri": "https://localhost:8080/"
        },
        "id": "5s4ivxgYbyVb",
        "outputId": "74207343-b598-484b-d8dc-f04352ad9d88"
      },
      "outputs": [
        {
          "output_type": "stream",
          "name": "stdout",
          "text": [
            "Author: Sparsh A.\n",
            "\n",
            "Last updated: 2021-12-26 08:07:18\n",
            "\n",
            "recohut: 0.0.7\n",
            "\n",
            "Compiler    : GCC 7.5.0\n",
            "OS          : Linux\n",
            "Release     : 5.4.144+\n",
            "Machine     : x86_64\n",
            "Processor   : x86_64\n",
            "CPU cores   : 2\n",
            "Architecture: 64bit\n",
            "\n",
            "pandas    : 1.1.5\n",
            "seaborn   : 0.11.2\n",
            "torch     : 1.10.0+cu111\n",
            "IPython   : 5.5.0\n",
            "logging   : 0.5.1.2\n",
            "numpy     : 1.19.5\n",
            "gensim    : 3.6.0\n",
            "matplotlib: 3.2.2\n",
            "\n"
          ]
        }
      ],
      "source": [
        "#hide\n",
        "%reload_ext watermark\n",
        "%watermark -a \"Sparsh A.\" -m -iv -u -t -d -p recohut"
      ]
    }
  ]
}