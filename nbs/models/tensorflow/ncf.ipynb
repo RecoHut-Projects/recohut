{
  "cells": [
    {
      "cell_type": "code",
      "execution_count": null,
      "metadata": {
        "id": "VM2Dnu5wfg59"
      },
      "outputs": [],
      "source": [
        "#hide\n",
        "!pip install -q nbdev\n",
        "!git clone --branch S394070 https://github.com/RecoHut-Projects/recohut.git\n",
        "%cd recohut\n",
        "!pip install -e ."
      ]
    },
    {
      "cell_type": "code",
      "execution_count": null,
      "metadata": {
        "id": "0FXVf8gvfg6K"
      },
      "outputs": [],
      "source": [
        "# default_exp models.tensorflow.ncf"
      ]
    },
    {
      "cell_type": "markdown",
      "metadata": {
        "id": "MgPzbN0zfg6N"
      },
      "source": [
        "# NCF\n",
        "> Neural Collaborative Filtering."
      ]
    },
    {
      "cell_type": "code",
      "execution_count": null,
      "metadata": {
        "id": "1bhEepEefg6U"
      },
      "outputs": [],
      "source": [
        "#hide\n",
        "from nbdev.showdoc import *"
      ]
    },
    {
      "cell_type": "code",
      "source": [
        "#export\n",
        "import tensorflow as tf\n",
        "from tensorflow.keras.models import Model\n",
        "from tensorflow.keras.layers import Embedding, Flatten, Input, Dropout, Dense, Concatenate\n",
        "\n",
        "\n",
        "class NCF:\n",
        "    \"\"\"Neural Collaborative Filtering.\n",
        "    \"\"\"\n",
        "    def __init__(self, num_users, num_items, latent_dim=20):\n",
        "        self.num_users = num_users\n",
        "        self.num_items = num_items\n",
        "        self.latent_dim = latent_dim\n",
        "\n",
        "    def build(self):\n",
        "        item_input = Input(shape=[1], name='item-input')\n",
        "        item_embedding = Embedding(self.num_items, self.latent_dim, name='item-embedding')(item_input)\n",
        "        item_vec = Flatten(name='item-flatten')(item_embedding)\n",
        "\n",
        "        user_input = Input(shape=[1], name='user-input')\n",
        "        user_embedding = Embedding(self.num_users, self.latent_dim, name='user-embedding')(user_input)\n",
        "        user_vec = Flatten(name='user-flatten')(user_embedding)\n",
        "\n",
        "        concat = Concatenate(axis=1, name='item-user-concat')([item_vec, user_vec])\n",
        "        fc_1 = Dense(70, name='fc-1', activation='relu')(concat)\n",
        "        fc_1_dropout = Dropout(0.5, name='fc-1-dropout')(fc_1)\n",
        "        fc_2 = Dense(30, name='fc-2', activation='relu')(fc_1_dropout)\n",
        "        fc_2_dropout = Dropout(0.4, name='fc-2-dropout')(fc_2)\n",
        "        fc_3 = Dense(1, name='fc-3', activation='relu')(fc_2_dropout)\n",
        "\n",
        "        model = Model([user_input, item_input], fc_3)\n",
        "        return model"
      ],
      "metadata": {
        "id": "zwbGLCMpgT7o"
      },
      "execution_count": 1,
      "outputs": []
    },
    {
      "cell_type": "code",
      "execution_count": null,
      "metadata": {
        "id": "gLVS84MUfg6b",
        "outputId": "09cdf5e6-11ea-43b8-edf1-fa86bdb09dc9"
      },
      "outputs": [
        {
          "name": "stdout",
          "output_type": "stream",
          "text": [
            "Author: Sparsh A.\n",
            "\n",
            "Last updated: 2021-12-17 07:21:33\n",
            "\n",
            "Compiler    : GCC 7.5.0\n",
            "OS          : Linux\n",
            "Release     : 5.4.104+\n",
            "Machine     : x86_64\n",
            "Processor   : x86_64\n",
            "CPU cores   : 2\n",
            "Architecture: 64bit\n",
            "\n",
            "tensorflow: 2.7.0\n",
            "IPython   : 5.5.0\n",
            "\n"
          ]
        }
      ],
      "source": [
        "#hide-input\n",
        "!pip install -q watermark\n",
        "%reload_ext watermark\n",
        "%watermark -a \"Sparsh A.\" -m -iv -u -t -d"
      ]
    },
    {
      "cell_type": "markdown",
      "metadata": {
        "id": "7FiE1SsPfg6g"
      },
      "source": [
        "---"
      ]
    }
  ],
  "metadata": {
    "kernelspec": {
      "display_name": "Python 3",
      "name": "python3"
    },
    "colab": {
      "name": "M933463 | Model > Tensorflow > NCF Module",
      "provenance": [],
      "collapsed_sections": []
    }
  },
  "nbformat": 4,
  "nbformat_minor": 0
}