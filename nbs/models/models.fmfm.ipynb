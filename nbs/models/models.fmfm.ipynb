{
  "cells": [
    {
      "cell_type": "code",
      "execution_count": null,
      "metadata": {
        "id": "fycOO2OxKHEF"
      },
      "outputs": [],
      "source": [
        "# default_exp models.fmfm"
      ]
    },
    {
      "cell_type": "markdown",
      "metadata": {
        "id": "sB1CMZ8HKHEI"
      },
      "source": [
        "# FmFM\n",
        "> Implementation of FmFM model in PyTorch."
      ]
    },
    {
      "cell_type": "code",
      "execution_count": null,
      "metadata": {
        "id": "gLpnIkxJm4VA"
      },
      "outputs": [],
      "source": [
        "#hide\n",
        "from nbdev.showdoc import *\n",
        "from fastcore.nb_imports import *\n",
        "from fastcore.test import *"
      ]
    },
    {
      "cell_type": "code",
      "source": [
        "#export\n",
        "import torch\n",
        "from torch import nn\n",
        "\n",
        "from recohut.models.layers.embedding import EmbeddingLayer\n",
        "from recohut.models.layers.common import LR_Layer\n",
        "\n",
        "from recohut.models.bases.ctr import CTRModel"
      ],
      "metadata": {
        "id": "l9hT_TEfnMy4"
      },
      "execution_count": null,
      "outputs": []
    },
    {
      "cell_type": "code",
      "source": [
        "#export\n",
        "class FmFM(CTRModel):\n",
        "    def __init__(self, \n",
        "                 feature_map, \n",
        "                 model_id=\"FmFM\",\n",
        "                 task=\"binary_classification\",\n",
        "                 learning_rate=1e-3, \n",
        "                 embedding_initializer=\"torch.nn.init.normal_(std=1e-4)\",\n",
        "                 embedding_dim=10,\n",
        "                 regularizer=None, \n",
        "                 field_interaction_type=\"matrixed\",\n",
        "                 **kwargs):\n",
        "        super(FmFM, self).__init__(feature_map, \n",
        "                                           model_id=model_id,\n",
        "                                           **kwargs)\n",
        "        self.embedding_layer = EmbeddingLayer(feature_map, embedding_dim)\n",
        "        self.embedding_dim = embedding_dim\n",
        "        self.num_fields = feature_map.num_fields\n",
        "        self.interact_dim = int(self.num_fields * (self.num_fields - 1) / 2)\n",
        "        self.field_interaction_type = field_interaction_type\n",
        "        if self.field_interaction_type == \"vectorized\":\n",
        "            self.interaction_weight = nn.Parameter(torch.Tensor(self.interact_dim, embedding_dim))\n",
        "        elif self.field_interaction_type == \"matrixed\":\n",
        "            self.interaction_weight = nn.Parameter(torch.Tensor(self.interact_dim, embedding_dim, embedding_dim))\n",
        "        nn.init.xavier_normal_(self.interaction_weight)\n",
        "        self.triu_index = torch.triu(torch.ones(self.num_fields, self.num_fields), 1).nonzero().to(self.device)\n",
        "        self.lr_layer = LR_Layer(feature_map, output_activation=None)\n",
        "        self.output_activation = self.get_final_activation(task)\n",
        "        self.init_weights(embedding_initializer=embedding_initializer)\n",
        "\n",
        "    def forward(self, inputs):\n",
        "        feature_emb = self.embedding_layer(inputs)\n",
        "        left_emb = torch.index_select(feature_emb, 1, self.triu_index[:, 0])\n",
        "        right_emb = torch.index_select(feature_emb, 1, self.triu_index[:, 1])\n",
        "        if self.field_interaction_type == \"vectorized\":\n",
        "            left_emb = left_emb * self.interaction_weight\n",
        "        elif self.field_interaction_type == \"matrixed\":\n",
        "            left_emb = torch.matmul(left_emb.unsqueeze(2), self.interaction_weight).squeeze(2)\n",
        "        y_pred = (left_emb * right_emb).sum(dim=-1).sum(dim=-1, keepdim=True)\n",
        "        y_pred += self.lr_layer(inputs)\n",
        "        if self.output_activation is not None:\n",
        "            y_pred = self.output_activation(y_pred)\n",
        "        return y_pred"
      ],
      "metadata": {
        "id": "bWVxCkXgFpqV"
      },
      "execution_count": null,
      "outputs": []
    },
    {
      "cell_type": "markdown",
      "source": [
        "Example"
      ],
      "metadata": {
        "id": "ueSrnou3nj_M"
      }
    },
    {
      "cell_type": "code",
      "source": [
        "params = {'model_id': 'FmFM',\n",
        "              'data_dir': '/content/data',\n",
        "              'model_root': './checkpoints/',\n",
        "              'learning_rate': 1e-3,\n",
        "              'optimizer': 'adamw',\n",
        "              'task': 'binary_classification',\n",
        "              'loss': 'binary_crossentropy',\n",
        "              'metrics': ['logloss', 'AUC'],\n",
        "              'embedding_dim': 10,\n",
        "              'regularizer': 0,\n",
        "              'field_interaction_type': 'matrixed',\n",
        "              'batch_size': 64,\n",
        "              'epochs': 3,\n",
        "              'shuffle': True,\n",
        "              'seed': 2019,\n",
        "              'use_hdf5': True,\n",
        "              'workers': 1,\n",
        "              'verbose': 0}"
      ],
      "metadata": {
        "id": "RF7l2_nfFpqO"
      },
      "execution_count": null,
      "outputs": []
    },
    {
      "cell_type": "code",
      "source": [
        "model = FmFM(ds.dataset.feature_map, **params)"
      ],
      "metadata": {
        "id": "VMRQihjhgnTc"
      },
      "execution_count": null,
      "outputs": []
    },
    {
      "cell_type": "code",
      "source": [
        "pl_trainer(model, ds, max_epochs=5)"
      ],
      "metadata": {
        "colab": {
          "base_uri": "https://localhost:8080/",
          "height": 443,
          "referenced_widgets": [
            "5600836dcc234e93af32710fba7ef829",
            "28fef0d481bb42bb9f85805df3e1e75d",
            "994d68aab42243fbbf683138248af4c5",
            "0eeaf97d29a54097a0795ebafc011244",
            "597d18b562ef42828b20ab0115a89f05",
            "0083acd7e1204d7dab7a7efae24a87bd",
            "fe8b63d423964a5f808d1b17abc34acf",
            "8f470f8455d845469d3cacdaed636ec3",
            "58abe81799464d60818851570ce8dca5",
            "0b7ed603cb3b4e3e83c63f38a08ee129",
            "7b4079fb209a43349505a41f57cbb2a3",
            "93c46e4dbf314ea6bac7f48c749a3164",
            "22b556097f9a4258a2aaf93c4d4b584f",
            "d18c296a97be4d78b9841ba2b2f23151",
            "02acc050c1af4cfca07bbb1c70152636",
            "beb26d467020456b862c61aafae8d6b5",
            "ffcfdd3811d54320895b6a2c049a425b",
            "b17ccaddf3394e4494d01b5c0764bc04",
            "5286bfd375db4ed79ee164617f9a5589",
            "a992ab2eafc840b399321c6dafe2352b",
            "bf5e337c012848cfb57de7fbf7a19182",
            "960bd52c53cc4dd08ef14bd669dfdb40",
            "8f9f09ce4fc94a589da24f3ebea89bd2",
            "42d8c214bb4d439ebb6648d699c6db67",
            "ad81fd1a9fe84c3e929cc9b4155864c8",
            "b3646f2a018448b6b82c005d18f698f0",
            "5d592be2932d4ff0a9b2d9bc781625f8",
            "01df675c01314eef8d9f852c31afd198",
            "9b7a0e6e8be24946b18b39eae4a57b16",
            "94ac2e4bc76c4a3eb8625654fe75e9a5",
            "79a8b6a2c9484b41b3ca04cd2a8f280a",
            "f5cc73071a174c59946d5d99c9131a95",
            "e31adea21a2f4b989399ddad91603892"
          ]
        },
        "outputId": "e1d9c5ee-47cb-4499-fb41-681663f8c5ee",
        "id": "cRftPhQognTc"
      },
      "execution_count": null,
      "outputs": [
        {
          "output_type": "stream",
          "name": "stderr",
          "text": [
            "GPU available: False, used: False\n",
            "TPU available: False, using: 0 TPU cores\n",
            "IPU available: False, using: 0 IPUs\n",
            "\n",
            "  | Name              | Type           | Params\n",
            "-----------------------------------------------------\n",
            "0 | embedding_layer   | EmbeddingLayer | 4.8 K \n",
            "1 | lr_layer          | LR_Layer       | 477   \n",
            "2 | output_activation | Sigmoid        | 0     \n",
            "-----------------------------------------------------\n",
            "14.3 K    Trainable params\n",
            "0         Non-trainable params\n",
            "14.3 K    Total params\n",
            "0.057     Total estimated model params size (MB)\n"
          ]
        },
        {
          "output_type": "display_data",
          "data": {
            "application/vnd.jupyter.widget-view+json": {
              "model_id": "5600836dcc234e93af32710fba7ef829",
              "version_minor": 0,
              "version_major": 2
            },
            "text/plain": [
              "Training: 0it [00:00, ?it/s]"
            ]
          },
          "metadata": {}
        },
        {
          "output_type": "display_data",
          "data": {
            "application/vnd.jupyter.widget-view+json": {
              "model_id": "93c46e4dbf314ea6bac7f48c749a3164",
              "version_minor": 0,
              "version_major": 2
            },
            "text/plain": [
              "Validating: 0it [00:00, ?it/s]"
            ]
          },
          "metadata": {}
        },
        {
          "output_type": "display_data",
          "data": {
            "application/vnd.jupyter.widget-view+json": {
              "model_id": "8f9f09ce4fc94a589da24f3ebea89bd2",
              "version_minor": 0,
              "version_major": 2
            },
            "text/plain": [
              "Testing: 0it [00:00, ?it/s]"
            ]
          },
          "metadata": {}
        },
        {
          "output_type": "stream",
          "name": "stdout",
          "text": [
            "--------------------------------------------------------------------------------\n",
            "DATALOADER:0 TEST RESULTS\n",
            "{'Test Metrics': {'AUC': tensor(1.), 'logloss': tensor(0.5015)}}\n",
            "--------------------------------------------------------------------------------\n"
          ]
        },
        {
          "output_type": "execute_result",
          "data": {
            "text/plain": [
              "[{'Test Metrics': {'AUC': tensor(1.), 'logloss': tensor(0.5015)}}]"
            ]
          },
          "metadata": {},
          "execution_count": 22
        }
      ]
    }
  ],
  "metadata": {
    "kernelspec": {
      "display_name": "Python 3",
      "name": "python3"
    },
    "colab": {
      "name": "models > fmfm",
      "provenance": [],
      "collapsed_sections": []
    }
  },
  "nbformat": 4,
  "nbformat_minor": 0
}