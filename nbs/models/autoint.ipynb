{
  "nbformat": 4,
  "nbformat_minor": 0,
  "metadata": {
    "colab": {
      "name": "M644915 | models > autoint",
      "provenance": [],
      "collapsed_sections": [
        "1KypvcFZI64_"
      ],
      "toc_visible": true,
      "mount_file_id": "1FEZmnoLGIsTsGiK2gi1TsIHLAaWCXF_a",
      "authorship_tag": "ABX9TyMJ2afLDZ8dyoq5TRgYDAGK"
    },
    "kernelspec": {
      "name": "python3",
      "display_name": "Python 3"
    },
    "language_info": {
      "name": "python"
    }
  },
  "cells": [
    {
      "cell_type": "code",
      "execution_count": null,
      "metadata": {
        "id": "fycOO2OxKHEF"
      },
      "outputs": [],
      "source": [
        "# default_exp models.autoint"
      ]
    },
    {
      "cell_type": "markdown",
      "metadata": {
        "id": "1KypvcFZI64_"
      },
      "source": [
        "# AutoInt\n",
        "> A pytorch implementation of AutoInt."
      ]
    },
    {
      "cell_type": "code",
      "execution_count": null,
      "metadata": {
        "id": "RGwuVx5oI65E"
      },
      "outputs": [],
      "source": [
        "#hide\n",
        "from nbdev.showdoc import *\n",
        "from fastcore.nb_imports import *\n",
        "from fastcore.test import *"
      ]
    },
    {
      "cell_type": "code",
      "execution_count": null,
      "metadata": {
        "id": "32ibt_XlI65I"
      },
      "outputs": [],
      "source": [
        "#export\n",
        "import torch\n",
        "import torch.nn.functional as F\n",
        "\n",
        "from recohut.layers.common import FeaturesEmbedding, FeaturesLinear, MultiLayerPerceptron"
      ]
    },
    {
      "cell_type": "code",
      "source": [
        "#export\n",
        "class AutoInt(torch.nn.Module):\n",
        "    \"\"\"\n",
        "    A pytorch implementation of AutoInt.\n",
        "    Reference:\n",
        "        W Song, et al. AutoInt: Automatic Feature Interaction Learning via Self-Attentive Neural Networks, 2018.\n",
        "    \"\"\"\n",
        "\n",
        "    def __init__(self, field_dims, embed_dim, atten_embed_dim, num_heads, num_layers, mlp_dims, dropouts, has_residual=True):\n",
        "        super().__init__()\n",
        "        self.num_fields = len(field_dims)\n",
        "        self.linear = FeaturesLinear(field_dims)\n",
        "        self.embedding = FeaturesEmbedding(field_dims, embed_dim)\n",
        "        self.atten_embedding = torch.nn.Linear(embed_dim, atten_embed_dim)\n",
        "        self.embed_output_dim = len(field_dims) * embed_dim\n",
        "        self.atten_output_dim = len(field_dims) * atten_embed_dim\n",
        "        self.has_residual = has_residual\n",
        "        self.mlp = MultiLayerPerceptron(self.embed_output_dim, mlp_dims, dropouts[1])\n",
        "        self.self_attns = torch.nn.ModuleList([\n",
        "            torch.nn.MultiheadAttention(atten_embed_dim, num_heads, dropout=dropouts[0]) for _ in range(num_layers)\n",
        "        ])\n",
        "        self.attn_fc = torch.nn.Linear(self.atten_output_dim, 1)\n",
        "        if self.has_residual:\n",
        "            self.V_res_embedding = torch.nn.Linear(embed_dim, atten_embed_dim)\n",
        "\n",
        "    def forward(self, x):\n",
        "        \"\"\"\n",
        "        :param x: Long tensor of size ``(batch_size, num_fields)``\n",
        "        \"\"\"\n",
        "        embed_x = self.embedding(x)\n",
        "        atten_x = self.atten_embedding(embed_x)\n",
        "        cross_term = atten_x.transpose(0, 1)\n",
        "        for self_attn in self.self_attns:\n",
        "            cross_term, _ = self_attn(cross_term, cross_term, cross_term)\n",
        "        cross_term = cross_term.transpose(0, 1)\n",
        "        if self.has_residual:\n",
        "            V_res = self.V_res_embedding(embed_x)\n",
        "            cross_term += V_res\n",
        "        cross_term = F.relu(cross_term).contiguous().view(-1, self.atten_output_dim)\n",
        "        x = self.linear(x) + self.attn_fc(cross_term) + self.mlp(embed_x.view(-1, self.embed_output_dim))\n",
        "        return torch.sigmoid(x.squeeze(1))"
      ],
      "metadata": {
        "id": "DchSUXOEK3CT"
      },
      "execution_count": null,
      "outputs": []
    },
    {
      "cell_type": "markdown",
      "source": [
        "> **References:-**\n",
        "- W Song, et al. AutoInt: Automatic Feature Interaction Learning via Self-Attentive Neural Networks, 2018. https://arxiv.org/abs/1810.11921.\n",
        "- https://github.com/rixwew/pytorch-fm/blob/master/torchfm/model/afi.py"
      ],
      "metadata": {
        "id": "VmBYJuNFiO3g"
      }
    },
    {
      "cell_type": "code",
      "execution_count": null,
      "metadata": {
        "id": "yXwRDjpKI65c"
      },
      "outputs": [],
      "source": [
        "#hide\n",
        "%reload_ext watermark\n",
        "%watermark -a \"Sparsh A.\" -m -iv -u -t -d -p recohut"
      ]
    }
  ]
}