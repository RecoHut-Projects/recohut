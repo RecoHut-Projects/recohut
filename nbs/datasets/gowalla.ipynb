{
  "nbformat": 4,
  "nbformat_minor": 0,
  "metadata": {
    "colab": {
      "name": "M300659 | datasets > gowalla",
      "provenance": [],
      "collapsed_sections": [],
      "mount_file_id": "1FEZmnoLGIsTsGiK2gi1TsIHLAaWCXF_a",
      "authorship_tag": "ABX9TyMPBBNx2sCrq5BAxNhY79nM"
    },
    "kernelspec": {
      "name": "python3",
      "display_name": "Python 3"
    },
    "language_info": {
      "name": "python"
    }
  },
  "cells": [
    {
      "cell_type": "code",
      "execution_count": null,
      "metadata": {
        "id": "fycOO2OxKHEF"
      },
      "outputs": [],
      "source": [
        "# default_exp datasets.gowalla"
      ]
    },
    {
      "cell_type": "markdown",
      "metadata": {
        "id": "1KypvcFZI64_"
      },
      "source": [
        "# Gowalla dataset\n",
        "> Gowalla dataset."
      ]
    },
    {
      "cell_type": "code",
      "execution_count": null,
      "metadata": {
        "id": "RGwuVx5oI65E"
      },
      "outputs": [],
      "source": [
        "#hide\n",
        "from nbdev.showdoc import *"
      ]
    },
    {
      "cell_type": "code",
      "execution_count": null,
      "metadata": {
        "id": "32ibt_XlI65I"
      },
      "outputs": [],
      "source": [
        "# #export\n",
        "import os\n",
        "import os.path as osp\n",
        "import numpy as np\n",
        "import pandas as pd\n",
        "from pandas import Timedelta\n",
        "\n",
        "from recohut.datasets.base import SessionDatasetv3\n",
        "from recohut.utils.common_utils import download_url, extract_gz"
      ]
    },
    {
      "cell_type": "code",
      "source": [
        "#export\n",
        "class GowallaDataset(SessionDatasetv3):\n",
        "    url = 'https://snap.stanford.edu/data/loc-gowalla_totalCheckins.txt.gz'\n",
        "\n",
        "    def __init__(self, root):\n",
        "        super().__init__(root)\n",
        "\n",
        "    @property\n",
        "    def raw_file_names(self) -> str:\n",
        "        return 'loc-gowalla_totalCheckins.txt'\n",
        "\n",
        "    def download(self):\n",
        "        path = download_url(self.url, self.raw_dir)\n",
        "        extract_gz(path, self.raw_dir)\n",
        "        os.unlink(path)"
      ],
      "metadata": {
        "id": "DchSUXOEK3CT"
      },
      "execution_count": null,
      "outputs": []
    },
    {
      "cell_type": "code",
      "source": [
        "ds = GowallaDataset(root='/content/gowalladata')"
      ],
      "metadata": {
        "colab": {
          "base_uri": "https://localhost:8080/"
        },
        "id": "4xHs4cnxPcv9",
        "outputId": "16448c18-e73e-43e9-94c2-aa4140df48d4"
      },
      "execution_count": null,
      "outputs": [
        {
          "metadata": {
            "tags": null
          },
          "name": "stderr",
          "output_type": "stream",
          "text": [
            "Processing...\n"
          ]
        },
        {
          "metadata": {
            "tags": null
          },
          "name": "stdout",
          "output_type": "stream",
          "text": [
            "start preprocessing\n",
            "No. of Clicks: 1122788\n",
            "No. of Items: 29510\n",
            "saving dataset\n"
          ]
        },
        {
          "output_type": "stream",
          "name": "stderr",
          "text": [
            "Done!\n"
          ]
        }
      ]
    },
    {
      "cell_type": "code",
      "execution_count": null,
      "metadata": {
        "id": "yXwRDjpKI65c",
        "outputId": "a257cfcd-740a-4490-8d1c-a4523ac8db69",
        "colab": {
          "base_uri": "https://localhost:8080/"
        }
      },
      "outputs": [
        {
          "output_type": "stream",
          "name": "stdout",
          "text": [
            "Author: Sparsh A.\n",
            "\n",
            "Last updated: 2021-12-23 08:01:27\n",
            "\n",
            "recohut: 0.0.6\n",
            "\n",
            "Compiler    : GCC 7.5.0\n",
            "OS          : Linux\n",
            "Release     : 5.4.144+\n",
            "Machine     : x86_64\n",
            "Processor   : x86_64\n",
            "CPU cores   : 2\n",
            "Architecture: 64bit\n",
            "\n",
            "IPython: 5.5.0\n",
            "numpy  : 1.19.5\n",
            "pandas : 1.1.5\n",
            "\n"
          ]
        }
      ],
      "source": [
        "#hide\n",
        "%reload_ext watermark\n",
        "%watermark -a \"Sparsh A.\" -m -iv -u -t -d -p recohut"
      ]
    }
  ]
}