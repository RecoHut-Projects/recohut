{
  "nbformat": 4,
  "nbformat_minor": 0,
  "metadata": {
    "colab": {
      "name": "datasets init",
      "provenance": [],
      "collapsed_sections": [
        "1KypvcFZI64_"
      ],
      "mount_file_id": "1FEZmnoLGIsTsGiK2gi1TsIHLAaWCXF_a",
      "authorship_tag": "ABX9TyMytkQE+890OyQ/fgih4IvQ"
    },
    "kernelspec": {
      "name": "python3",
      "display_name": "Python 3"
    },
    "language_info": {
      "name": "python"
    }
  },
  "cells": [
    {
      "cell_type": "code",
      "execution_count": null,
      "metadata": {
        "id": "fycOO2OxKHEF"
      },
      "outputs": [],
      "source": [
        "# default_exp datasets.__init__"
      ]
    },
    {
      "cell_type": "markdown",
      "metadata": {
        "id": "Q8I6OqX6rN_d"
      },
      "source": [
        "# Datasets __init__\n",
        "> Datasets __init__."
      ]
    },
    {
      "cell_type": "code",
      "execution_count": null,
      "metadata": {
        "id": "VjmzENr5rN_f"
      },
      "outputs": [],
      "source": [
        "#export\n",
        "from .movielens import ML1MDataset\n",
        "from .tmall import TmallDataset"
      ]
    }
  ]
}