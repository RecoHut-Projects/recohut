{
  "nbformat": 4,
  "nbformat_minor": 0,
  "metadata": {
    "colab": {
      "name": "M421493 | datasets > diginetica",
      "provenance": [],
      "collapsed_sections": [],
      "mount_file_id": "1FEZmnoLGIsTsGiK2gi1TsIHLAaWCXF_a",
      "authorship_tag": "ABX9TyPHgZ1k1+jobweMHXE7jpyI"
    },
    "kernelspec": {
      "name": "python3",
      "display_name": "Python 3"
    },
    "language_info": {
      "name": "python"
    }
  },
  "cells": [
    {
      "cell_type": "code",
      "execution_count": null,
      "metadata": {
        "id": "fycOO2OxKHEF"
      },
      "outputs": [],
      "source": [
        "# default_exp datasets.diginetica"
      ]
    },
    {
      "cell_type": "markdown",
      "metadata": {
        "id": "1KypvcFZI64_"
      },
      "source": [
        "# Diginetica dataset\n",
        "> Diginetica dataset."
      ]
    },
    {
      "cell_type": "code",
      "execution_count": null,
      "metadata": {
        "id": "RGwuVx5oI65E"
      },
      "outputs": [],
      "source": [
        "#hide\n",
        "from nbdev.showdoc import *"
      ]
    },
    {
      "cell_type": "code",
      "execution_count": null,
      "metadata": {
        "id": "32ibt_XlI65I"
      },
      "outputs": [],
      "source": [
        "# #export\n",
        "from recohut.datasets.base import SessionDatasetv2\n",
        "from recohut.utils.common_utils import download_url"
      ]
    },
    {
      "cell_type": "code",
      "source": [
        "#export\n",
        "class DigineticaDataset(SessionDatasetv2):\n",
        "    url = 'https://github.com/RecoHut-Datasets/diginetica/raw/main/train-item-views.csv'\n",
        "\n",
        "    def __init__(self, root, column_names={'SESSION_ID':'sessionId',\n",
        "                                        'ITEM_ID': 'itemId',\n",
        "                                        'TIMEFRAME': 'timeframe',\n",
        "                                        'EVENT_DATE': 'eventdate'}):\n",
        "        super().__init__(root, column_names)\n",
        "\n",
        "    @property\n",
        "    def raw_file_names(self) -> str:\n",
        "        return 'train-item-views.csv'\n",
        "\n",
        "    def download(self):\n",
        "        path = download_url(self.url, self.raw_dir)"
      ],
      "metadata": {
        "id": "0sz26dSfnOsV"
      },
      "execution_count": null,
      "outputs": []
    },
    {
      "cell_type": "code",
      "source": [
        "ds = DigineticaDataset(root='/content/digidata')"
      ],
      "metadata": {
        "colab": {
          "base_uri": "https://localhost:8080/"
        },
        "id": "OSEkEu1TntYc",
        "outputId": "317345b6-4651-4d60-f357-ee1d8c314e42"
      },
      "execution_count": null,
      "outputs": [
        {
          "output_type": "stream",
          "name": "stderr",
          "text": [
            "Downloading https://github.com/RecoHut-Datasets/diginetica/raw/main/train-item-views.csv\n",
            "Processing...\n"
          ]
        },
        {
          "output_type": "stream",
          "name": "stdout",
          "text": [
            "-- Reading data\n",
            "Splitting date 1464134400.0\n",
            "186670\n",
            "15979\n",
            "[('4737', 1451606400.0), ('4741', 1451606400.0), ('4742', 1451606400.0)]\n",
            "[('289', 1464220800.0), ('290', 1464220800.0), ('302', 1464220800.0)]\n",
            "-- Splitting train set and test set\n",
            "43098\n",
            "719470\n",
            "60858\n",
            "[[1], [3, 4], [3]] [1451606400.0, 1451606400.0, 1451606400.0] [2, 5, 4]\n",
            "[[21553, 20071, 8762, 21566, 6381], [21553, 20071, 8762, 21566], [21553, 20071, 8762]] [1464220800.0, 1464220800.0, 1464220800.0] [21566, 6381, 21566]\n",
            "avg length:  4.850942344040704\n"
          ]
        },
        {
          "output_type": "stream",
          "name": "stderr",
          "text": [
            "Done!\n"
          ]
        }
      ]
    },
    {
      "cell_type": "code",
      "execution_count": null,
      "metadata": {
        "id": "yXwRDjpKI65c",
        "outputId": "c325e9b8-e5d5-449a-c219-e8438e064779",
        "colab": {
          "base_uri": "https://localhost:8080/"
        }
      },
      "outputs": [
        {
          "output_type": "stream",
          "name": "stdout",
          "text": [
            "Author: Sparsh A.\n",
            "\n",
            "Last updated: 2021-12-23 07:07:12\n",
            "\n",
            "recohut: 0.0.6\n",
            "\n",
            "Compiler    : GCC 7.5.0\n",
            "OS          : Linux\n",
            "Release     : 5.4.144+\n",
            "Machine     : x86_64\n",
            "Processor   : x86_64\n",
            "CPU cores   : 2\n",
            "Architecture: 64bit\n",
            "\n",
            "IPython: 5.5.0\n",
            "\n"
          ]
        }
      ],
      "source": [
        "#hide\n",
        "%reload_ext watermark\n",
        "%watermark -a \"Sparsh A.\" -m -iv -u -t -d -p recohut"
      ]
    }
  ]
}