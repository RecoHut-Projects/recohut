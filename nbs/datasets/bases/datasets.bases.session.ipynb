{
  "nbformat": 4,
  "nbformat_minor": 0,
  "metadata": {
    "colab": {
      "name": "datasets > bases > session",
      "provenance": [],
      "authorship_tag": "ABX9TyP0+Smau0UMLb5vJmIkzXAv"
    },
    "kernelspec": {
      "name": "python3",
      "display_name": "Python 3"
    },
    "language_info": {
      "name": "python"
    }
  },
  "cells": [
    {
      "cell_type": "code",
      "source": [
        "# default_exp datasets.bases.session"
      ],
      "metadata": {
        "id": "mNDPFPgQVM-y"
      },
      "execution_count": null,
      "outputs": []
    },
    {
      "cell_type": "markdown",
      "source": [
        "# Session Datasets\n",
        "> Implementation of session dataset modules."
      ],
      "metadata": {
        "id": "Q2MLzydPVSL1"
      }
    },
    {
      "cell_type": "code",
      "source": [
        "#export\n",
        "import os\n",
        "import numpy as np\n",
        "import pandas as pd\n",
        "\n",
        "import matplotlib.pyplot as plt\n",
        "import seaborn as sns\n",
        "\n",
        "from recohut.visualization.basic_plots import BasicVisual"
      ],
      "metadata": {
        "id": "06I_tnkreZny"
      },
      "execution_count": 1,
      "outputs": []
    },
    {
      "cell_type": "code",
      "source": [
        "#exporti\n",
        "class ItemPopularityPlot(BasicVisual):\n",
        "    def __init__(self, item_counts, **kwargs):\n",
        "        self.item_counts = item_counts\n",
        "        super().__init__(**kwargs)\n",
        "\n",
        "    def plot(self):\n",
        "        self.ax = plt.semilogy(sorted(self.item_counts))"
      ],
      "metadata": {
        "id": "xokQTf_95FmP"
      },
      "execution_count": 2,
      "outputs": []
    },
    {
      "cell_type": "code",
      "source": [
        "#exporti\n",
        "class SessionLengthPlot(BasicVisual):\n",
        "    def __init__(self, session_lengths, **kwargs):\n",
        "        self.session_lengths = session_lengths\n",
        "        super().__init__(**kwargs)\n",
        "\n",
        "    def plot(self):\n",
        "        sns.boxplot(x=self.session_lengths, ax=self.ax)\n",
        "        for patch in self.ax.artists:\n",
        "            r, g, b, a = patch.get_facecolor()\n",
        "            patch.set_facecolor((r, g, b, .7))"
      ],
      "metadata": {
        "id": "QYgItbk75Qxw"
      },
      "execution_count": 3,
      "outputs": []
    },
    {
      "cell_type": "code",
      "source": [
        "#export\n",
        "class SessionData:\n",
        "    def __init__(self, df, session_col='SESSIONID', item_col='ITEMID', *args, **kwargs):\n",
        "        self.df = df\n",
        "        self.session_col = session_col\n",
        "        self.item_col = item_col\n",
        "        self.df.dropna(inplace=True)\n",
        "    \n",
        "    def filter_short_sessions(self, min_session_length: int = 3):\n",
        "        item_counts = self.df.groupby([self.session_col]).count()[self.item_col]\n",
        "        self.df = self.df[self.df[self.session_col].isin(item_counts[item_counts >= min_session_length].index)].reset_index(drop=True)\n",
        "\n",
        "    def get_session_sequences(self):\n",
        "        \"\"\"\n",
        "        Construct a list of lists\n",
        "    \n",
        "        Example:\n",
        "            Given a df that looks like \n",
        "            SessionID |   ItemID \n",
        "            ----------------------\n",
        "                1     |     111\n",
        "                1     |     123\n",
        "                1     |     345\n",
        "                2     |     045 \n",
        "                2     |     334\n",
        "                2     |     342\n",
        "                2     |     8970\n",
        "                2     |     345\n",
        "            \n",
        "            Retrun a list of lists like this: \n",
        "            sessions = [\n",
        "                    ['111', '123', '345'],\n",
        "                    ['045', '334', '342', '8970', '345'],\n",
        "            ]\n",
        "        \"\"\"\n",
        "        grp_by_session = self.df.groupby([self.session_col])\n",
        "        session_sequences = []\n",
        "        for name, group in grp_by_session:\n",
        "            session_sequences.append(list(group[self.item_col].values))\n",
        "        return session_sequences\n",
        "\n",
        "    def get_split_next_event_prediction(self, session_sequences = None, test_size: int = 10000):\n",
        "        \"\"\"\n",
        "        Next Event Prediction (NEP) does not necessarily follow the traditional train/test split. \n",
        "        Instead training is perform on the first n-1 items in a session sequence of n items. \n",
        "        The test set is constructed of (n-1, n) \"query\" pairs where the n-1 item is used to generate \n",
        "        recommendation predictions and it is checked whether the nth item is included in those recommendations. \n",
        "        Example:\n",
        "            Given a session sequence ['045', '334', '342', '8970', '128']\n",
        "            Training is done on ['045', '334', '342', '8970']\n",
        "            Testing (and validation) is done on ['8970', '128']\n",
        "        \n",
        "        Test and Validation sets are constructed to be disjoint. \n",
        "        \"\"\"\n",
        "        if session_sequences is None:\n",
        "            session_sequences = self.get_session_sequences()\n",
        "        ## Construct training set\n",
        "        # use (1 st, ..., n-1 th) items from each session sequence to form the train set (drop last item)\n",
        "        train = [sess[:-1] for sess in session_sequences]\n",
        "\n",
        "        if test_size > len(train):\n",
        "            print(\n",
        "                f\"Test set cannot be larger than train set. Train set contains {len(train)} sessions.\"\n",
        "            )\n",
        "            return\n",
        "\n",
        "        ### Construct test and validation sets\n",
        "        # sub-sample 10k sessions, and use (n-1 th, n th) pairs of items from session_squences to form the\n",
        "        # disjoint validaton and test sets\n",
        "        test_validation = [sess[-2:] for sess in session_sequences]\n",
        "        index = np.random.choice(range(len(test_validation)), test_size * 2, replace=False)\n",
        "        test = np.array(test_validation)[index[:test_size]].tolist()\n",
        "        validation = np.array(test_validation)[index[test_size:]].tolist()\n",
        "\n",
        "        return train, test, validation\n",
        "\n",
        "    def get_item_counts(self):\n",
        "        return self.df.groupby([self.item_col]).count()[self.session_col].values\n",
        "\n",
        "    def get_session_lengths(self):\n",
        "        return self.df.groupby(self.session_col).count()[self.item_col].values\n",
        "    \n",
        "    def plot_item_popularity(self):\n",
        "        kwargs = {'label_x':'Item index', 'label_y':'Item counts', \n",
        "                  'figsize':(7,4), 'title':'Items Popularity Plot'}\n",
        "        _ = ItemPopularityPlot(self.get_item_counts(), **kwargs)\n",
        "    \n",
        "    def plot_session_length(self):\n",
        "        kwargs = {'label_x':'Session length (# of items)', 'label_y':'', \n",
        "                  'figsize':(7,4), 'title':'Session Length Plot'}\n",
        "        _ = SessionLengthPlot(self.get_session_lengths(), **kwargs)\n",
        "\n",
        "    def info(self):\n",
        "        session_lengths = self.get_session_lengths()\n",
        "        basic_stats = [\"Minimum session length: \\t{}\".format(min(session_lengths))]\n",
        "        basic_stats.append(\"Maximum session length: \\t{}\".format(max(session_lengths)))\n",
        "        basic_stats.append(\"Mean session length: \\t \\t{}\".format(np.mean(session_lengths).round(2)))\n",
        "        basic_stats.append(\"Median session length: \\t \\t{}\".format(int(np.median(session_lengths))))\n",
        "        basic_stats.append(\"Total number of purchases: \\t{}\".format(np.sum(session_lengths)))\n",
        "        basic_stats = '\\n'.join(basic_stats)\n",
        "        print(basic_stats)"
      ],
      "metadata": {
        "id": "XJf20Lc6eZ-3"
      },
      "execution_count": 33,
      "outputs": []
    },
    {
      "cell_type": "markdown",
      "source": [
        "Example"
      ],
      "metadata": {
        "id": "P8EIR-G-OJdD"
      }
    },
    {
      "cell_type": "code",
      "source": [
        "!wget -O data.zip https://github.com/RecoHut-Datasets/retail_session/raw/v1/onlineretail.zip\n",
        "!unzip data.zip"
      ],
      "metadata": {
        "id": "NSIFWpcZ29Wq"
      },
      "execution_count": null,
      "outputs": []
    },
    {
      "cell_type": "code",
      "source": [
        "df = pd.read_csv('OnlineRetail.csv', encoding=\"ISO-8859-1\", parse_dates=[\"InvoiceDate\"])\n",
        "df.head()"
      ],
      "metadata": {
        "colab": {
          "base_uri": "https://localhost:8080/",
          "height": 337
        },
        "id": "fGtIuTNaOKyj",
        "outputId": "de574447-8021-486a-9488-563ec53698da"
      },
      "execution_count": 5,
      "outputs": [
        {
          "output_type": "execute_result",
          "data": {
            "text/html": [
              "\n",
              "  <div id=\"df-958422b2-140b-4085-b1fa-ab1e7157f6f6\">\n",
              "    <div class=\"colab-df-container\">\n",
              "      <div>\n",
              "<style scoped>\n",
              "    .dataframe tbody tr th:only-of-type {\n",
              "        vertical-align: middle;\n",
              "    }\n",
              "\n",
              "    .dataframe tbody tr th {\n",
              "        vertical-align: top;\n",
              "    }\n",
              "\n",
              "    .dataframe thead th {\n",
              "        text-align: right;\n",
              "    }\n",
              "</style>\n",
              "<table border=\"1\" class=\"dataframe\">\n",
              "  <thead>\n",
              "    <tr style=\"text-align: right;\">\n",
              "      <th></th>\n",
              "      <th>InvoiceNo</th>\n",
              "      <th>StockCode</th>\n",
              "      <th>Description</th>\n",
              "      <th>Quantity</th>\n",
              "      <th>InvoiceDate</th>\n",
              "      <th>UnitPrice</th>\n",
              "      <th>CustomerID</th>\n",
              "      <th>Country</th>\n",
              "    </tr>\n",
              "  </thead>\n",
              "  <tbody>\n",
              "    <tr>\n",
              "      <th>0</th>\n",
              "      <td>536365</td>\n",
              "      <td>85123A</td>\n",
              "      <td>WHITE HANGING HEART T-LIGHT HOLDER</td>\n",
              "      <td>6</td>\n",
              "      <td>2010-12-01 08:26:00</td>\n",
              "      <td>2.55</td>\n",
              "      <td>17850.0</td>\n",
              "      <td>United Kingdom</td>\n",
              "    </tr>\n",
              "    <tr>\n",
              "      <th>1</th>\n",
              "      <td>536365</td>\n",
              "      <td>71053</td>\n",
              "      <td>WHITE METAL LANTERN</td>\n",
              "      <td>6</td>\n",
              "      <td>2010-12-01 08:26:00</td>\n",
              "      <td>3.39</td>\n",
              "      <td>17850.0</td>\n",
              "      <td>United Kingdom</td>\n",
              "    </tr>\n",
              "    <tr>\n",
              "      <th>2</th>\n",
              "      <td>536365</td>\n",
              "      <td>84406B</td>\n",
              "      <td>CREAM CUPID HEARTS COAT HANGER</td>\n",
              "      <td>8</td>\n",
              "      <td>2010-12-01 08:26:00</td>\n",
              "      <td>2.75</td>\n",
              "      <td>17850.0</td>\n",
              "      <td>United Kingdom</td>\n",
              "    </tr>\n",
              "    <tr>\n",
              "      <th>3</th>\n",
              "      <td>536365</td>\n",
              "      <td>84029G</td>\n",
              "      <td>KNITTED UNION FLAG HOT WATER BOTTLE</td>\n",
              "      <td>6</td>\n",
              "      <td>2010-12-01 08:26:00</td>\n",
              "      <td>3.39</td>\n",
              "      <td>17850.0</td>\n",
              "      <td>United Kingdom</td>\n",
              "    </tr>\n",
              "    <tr>\n",
              "      <th>4</th>\n",
              "      <td>536365</td>\n",
              "      <td>84029E</td>\n",
              "      <td>RED WOOLLY HOTTIE WHITE HEART.</td>\n",
              "      <td>6</td>\n",
              "      <td>2010-12-01 08:26:00</td>\n",
              "      <td>3.39</td>\n",
              "      <td>17850.0</td>\n",
              "      <td>United Kingdom</td>\n",
              "    </tr>\n",
              "  </tbody>\n",
              "</table>\n",
              "</div>\n",
              "      <button class=\"colab-df-convert\" onclick=\"convertToInteractive('df-958422b2-140b-4085-b1fa-ab1e7157f6f6')\"\n",
              "              title=\"Convert this dataframe to an interactive table.\"\n",
              "              style=\"display:none;\">\n",
              "        \n",
              "  <svg xmlns=\"http://www.w3.org/2000/svg\" height=\"24px\"viewBox=\"0 0 24 24\"\n",
              "       width=\"24px\">\n",
              "    <path d=\"M0 0h24v24H0V0z\" fill=\"none\"/>\n",
              "    <path d=\"M18.56 5.44l.94 2.06.94-2.06 2.06-.94-2.06-.94-.94-2.06-.94 2.06-2.06.94zm-11 1L8.5 8.5l.94-2.06 2.06-.94-2.06-.94L8.5 2.5l-.94 2.06-2.06.94zm10 10l.94 2.06.94-2.06 2.06-.94-2.06-.94-.94-2.06-.94 2.06-2.06.94z\"/><path d=\"M17.41 7.96l-1.37-1.37c-.4-.4-.92-.59-1.43-.59-.52 0-1.04.2-1.43.59L10.3 9.45l-7.72 7.72c-.78.78-.78 2.05 0 2.83L4 21.41c.39.39.9.59 1.41.59.51 0 1.02-.2 1.41-.59l7.78-7.78 2.81-2.81c.8-.78.8-2.07 0-2.86zM5.41 20L4 18.59l7.72-7.72 1.47 1.35L5.41 20z\"/>\n",
              "  </svg>\n",
              "      </button>\n",
              "      \n",
              "  <style>\n",
              "    .colab-df-container {\n",
              "      display:flex;\n",
              "      flex-wrap:wrap;\n",
              "      gap: 12px;\n",
              "    }\n",
              "\n",
              "    .colab-df-convert {\n",
              "      background-color: #E8F0FE;\n",
              "      border: none;\n",
              "      border-radius: 50%;\n",
              "      cursor: pointer;\n",
              "      display: none;\n",
              "      fill: #1967D2;\n",
              "      height: 32px;\n",
              "      padding: 0 0 0 0;\n",
              "      width: 32px;\n",
              "    }\n",
              "\n",
              "    .colab-df-convert:hover {\n",
              "      background-color: #E2EBFA;\n",
              "      box-shadow: 0px 1px 2px rgba(60, 64, 67, 0.3), 0px 1px 3px 1px rgba(60, 64, 67, 0.15);\n",
              "      fill: #174EA6;\n",
              "    }\n",
              "\n",
              "    [theme=dark] .colab-df-convert {\n",
              "      background-color: #3B4455;\n",
              "      fill: #D2E3FC;\n",
              "    }\n",
              "\n",
              "    [theme=dark] .colab-df-convert:hover {\n",
              "      background-color: #434B5C;\n",
              "      box-shadow: 0px 1px 3px 1px rgba(0, 0, 0, 0.15);\n",
              "      filter: drop-shadow(0px 1px 2px rgba(0, 0, 0, 0.3));\n",
              "      fill: #FFFFFF;\n",
              "    }\n",
              "  </style>\n",
              "\n",
              "      <script>\n",
              "        const buttonEl =\n",
              "          document.querySelector('#df-958422b2-140b-4085-b1fa-ab1e7157f6f6 button.colab-df-convert');\n",
              "        buttonEl.style.display =\n",
              "          google.colab.kernel.accessAllowed ? 'block' : 'none';\n",
              "\n",
              "        async function convertToInteractive(key) {\n",
              "          const element = document.querySelector('#df-958422b2-140b-4085-b1fa-ab1e7157f6f6');\n",
              "          const dataTable =\n",
              "            await google.colab.kernel.invokeFunction('convertToInteractive',\n",
              "                                                     [key], {});\n",
              "          if (!dataTable) return;\n",
              "\n",
              "          const docLinkHtml = 'Like what you see? Visit the ' +\n",
              "            '<a target=\"_blank\" href=https://colab.research.google.com/notebooks/data_table.ipynb>data table notebook</a>'\n",
              "            + ' to learn more about interactive tables.';\n",
              "          element.innerHTML = '';\n",
              "          dataTable['output_type'] = 'display_data';\n",
              "          await google.colab.output.renderOutput(dataTable, element);\n",
              "          const docLink = document.createElement('div');\n",
              "          docLink.innerHTML = docLinkHtml;\n",
              "          element.appendChild(docLink);\n",
              "        }\n",
              "      </script>\n",
              "    </div>\n",
              "  </div>\n",
              "  "
            ],
            "text/plain": [
              "  InvoiceNo StockCode  ... CustomerID         Country\n",
              "0    536365    85123A  ...    17850.0  United Kingdom\n",
              "1    536365     71053  ...    17850.0  United Kingdom\n",
              "2    536365    84406B  ...    17850.0  United Kingdom\n",
              "3    536365    84029G  ...    17850.0  United Kingdom\n",
              "4    536365    84029E  ...    17850.0  United Kingdom\n",
              "\n",
              "[5 rows x 8 columns]"
            ]
          },
          "metadata": {},
          "execution_count": 5
        }
      ]
    },
    {
      "cell_type": "code",
      "source": [
        "ds = SessionData(df, session_col='CustomerID', item_col='StockCode')"
      ],
      "metadata": {
        "id": "uAUBPlcsea3G"
      },
      "execution_count": 34,
      "outputs": []
    },
    {
      "cell_type": "code",
      "source": [
        "ds.info()"
      ],
      "metadata": {
        "colab": {
          "base_uri": "https://localhost:8080/"
        },
        "id": "k5nE60iUC7aR",
        "outputId": "40784a45-26aa-427f-ae2c-8101f9638e53"
      },
      "execution_count": 35,
      "outputs": [
        {
          "output_type": "stream",
          "name": "stdout",
          "text": [
            "Minimum session length: \t1\n",
            "Maximum session length: \t7983\n",
            "Mean session length: \t \t93.05\n",
            "Median session length: \t \t42\n",
            "Total number of purchases: \t406829\n"
          ]
        }
      ]
    },
    {
      "cell_type": "code",
      "source": [
        "ds.plot_item_popularity()"
      ],
      "metadata": {
        "colab": {
          "base_uri": "https://localhost:8080/",
          "height": 310
        },
        "id": "_oD3RbmE9aBr",
        "outputId": "78123382-5188-4c02-c190-eda974f841ed"
      },
      "execution_count": 28,
      "outputs": [
        {
          "output_type": "display_data",
          "data": {
            "image/png": "[encoded data removed]",
            "text/plain": [
              "<Figure size 504x288 with 1 Axes>"
            ]
          },
          "metadata": {}
        }
      ]
    },
    {
      "cell_type": "code",
      "source": [
        "ds.plot_session_length()"
      ],
      "metadata": {
        "colab": {
          "base_uri": "https://localhost:8080/",
          "height": 310
        },
        "id": "TJF3dYMk9iZ6",
        "outputId": "30e533ca-556a-463a-9208-9359566d4d77"
      },
      "execution_count": 29,
      "outputs": [
        {
          "output_type": "display_data",
          "data": {
            "image/png": "[encoded data removed]",
            "text/plain": [
              "<Figure size 504x288 with 1 Axes>"
            ]
          },
          "metadata": {}
        }
      ]
    },
    {
      "cell_type": "code",
      "source": [
        "ds.filter_short_sessions(min_session_length=5)"
      ],
      "metadata": {
        "id": "YJ2LuSXnAoJ2"
      },
      "execution_count": 36,
      "outputs": []
    },
    {
      "cell_type": "code",
      "source": [
        "ds.info()"
      ],
      "metadata": {
        "colab": {
          "base_uri": "https://localhost:8080/"
        },
        "id": "sBfgkGvmSFGe",
        "outputId": "6e16cadc-9bd8-444c-f111-b51b66f7aac3"
      },
      "execution_count": 32,
      "outputs": [
        {
          "output_type": "stream",
          "name": "stdout",
          "text": [
            "Minimum session length: \t5\n",
            "Maximum session length: \t7983\n",
            "Mean session length: \t \t98.46\n",
            "Median session length: \t \t45\n",
            "Total number of purchases: \t406253\n"
          ]
        }
      ]
    },
    {
      "cell_type": "code",
      "source": [
        "train, val, test = ds.get_split_next_event_prediction(test_size=1000)"
      ],
      "metadata": {
        "id": "Uy4-AcWbRh44"
      },
      "execution_count": 38,
      "outputs": []
    },
    {
      "cell_type": "code",
      "source": [
        "len(train), len(val), len(test)"
      ],
      "metadata": {
        "colab": {
          "base_uri": "https://localhost:8080/"
        },
        "id": "nmb0dZCgUm2I",
        "outputId": "6c3838ba-7418-4436-b665-a350538cd8cd"
      },
      "execution_count": 40,
      "outputs": [
        {
          "output_type": "execute_result",
          "data": {
            "text/plain": [
              "(4126, 1000, 1000)"
            ]
          },
          "metadata": {},
          "execution_count": 40
        }
      ]
    }
  ]
}