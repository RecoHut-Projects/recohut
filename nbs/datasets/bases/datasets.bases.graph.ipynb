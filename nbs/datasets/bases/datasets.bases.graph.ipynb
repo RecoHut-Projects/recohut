{
  "cells": [
    {
      "cell_type": "code",
      "execution_count": null,
      "metadata": {
        "id": "ms1RfbNVeRIb"
      },
      "outputs": [],
      "source": [
        "# default_exp datasets.bases.graph"
      ]
    },
    {
      "cell_type": "markdown",
      "metadata": {
        "id": "QAzceUi3eRIk"
      },
      "source": [
        "# Graph dataset\n",
        "> Base class for graph datasets."
      ]
    },
    {
      "cell_type": "code",
      "execution_count": null,
      "metadata": {
        "id": "zgdIIOUZeRIq"
      },
      "outputs": [],
      "source": [
        "#hide\n",
        "from nbdev.showdoc import *"
      ]
    },
    {
      "cell_type": "code",
      "execution_count": 3,
      "metadata": {
        "id": "aDNCoBdAeRIs"
      },
      "outputs": [],
      "source": [
        "#export\n",
        "from typing import List, Optional, Callable, Union, Any, Tuple\n",
        "\n",
        "import numpy as np"
      ]
    },
    {
      "cell_type": "code",
      "execution_count": 4,
      "metadata": {
        "id": "HKaqTsrveRJQ"
      },
      "outputs": [],
      "source": [
        "#export\n",
        "class GraphDataset():\n",
        "    def __init__(self, data, shuffle=False, graph=None):\n",
        "        inputs = data[0]\n",
        "        inputs, mask, len_max = self.data_masks(inputs, [0])\n",
        "        self.inputs = np.asarray(inputs)\n",
        "        self.mask = np.asarray(mask)\n",
        "        self.len_max = len_max\n",
        "        self.targets = np.asarray(data[1])\n",
        "        self.length = len(inputs)\n",
        "        self.shuffle = shuffle\n",
        "        self.graph = graph\n",
        "\n",
        "    def generate_batch(self, batch_size):\n",
        "        if self.shuffle:\n",
        "            shuffled_arg = np.arange(self.length)\n",
        "            np.random.shuffle(shuffled_arg)\n",
        "            self.inputs = self.inputs[shuffled_arg]\n",
        "            self.mask = self.mask[shuffled_arg]\n",
        "            self.targets = self.targets[shuffled_arg]\n",
        "        n_batch = int(self.length / batch_size)\n",
        "        if self.length % batch_size != 0:\n",
        "            n_batch += 1\n",
        "        slices = np.split(np.arange(n_batch * batch_size), n_batch)\n",
        "        slices[-1] = slices[-1][:(self.length - batch_size * (n_batch - 1))]\n",
        "        return slices\n",
        "\n",
        "    def get_slice(self, i):\n",
        "        inputs, mask, targets = self.inputs[i], self.mask[i], self.targets[i]\n",
        "        items, n_node, A, alias_inputs = [], [], [], []\n",
        "        for u_input in inputs:\n",
        "            n_node.append(len(np.unique(u_input)))\n",
        "        max_n_node = np.max(n_node)\n",
        "        for u_input in inputs:\n",
        "            node = np.unique(u_input)\n",
        "            items.append(node.tolist() + (max_n_node - len(node)) * [0])\n",
        "            u_A = np.zeros((max_n_node, max_n_node))\n",
        "            for i in np.arange(len(u_input) - 1):\n",
        "                if u_input[i + 1] == 0:\n",
        "                    break\n",
        "                u = np.where(node == u_input[i])[0][0]\n",
        "                v = np.where(node == u_input[i + 1])[0][0]\n",
        "                u_A[u][v] = 1\n",
        "            u_sum_in = np.sum(u_A, 0)\n",
        "            u_sum_in[np.where(u_sum_in == 0)] = 1\n",
        "            u_A_in = np.divide(u_A, u_sum_in)\n",
        "            u_sum_out = np.sum(u_A, 1)\n",
        "            u_sum_out[np.where(u_sum_out == 0)] = 1\n",
        "            u_A_out = np.divide(u_A.transpose(), u_sum_out)\n",
        "            u_A = np.concatenate([u_A_in, u_A_out]).transpose()\n",
        "            A.append(u_A)\n",
        "            alias_inputs.append([np.where(node == i)[0][0] for i in u_input])\n",
        "        return alias_inputs, A, items, mask, targets\n",
        "\n",
        "    @staticmethod\n",
        "    def data_masks(all_usr_pois, item_tail):\n",
        "        us_lens = [len(upois) for upois in all_usr_pois]\n",
        "        len_max = max(us_lens)\n",
        "        us_pois = [upois + item_tail * (len_max - le) for upois, le in zip(all_usr_pois, us_lens)]\n",
        "        us_msks = [[1] * le + [0] * (len_max - le) for le in us_lens]\n",
        "        return us_pois, us_msks, len_max"
      ]
    },
    {
      "cell_type": "markdown",
      "source": [
        "Example"
      ],
      "metadata": {
        "id": "b01QwaXufiCC"
      }
    },
    {
      "cell_type": "code",
      "source": [
        "train_data = ([[1, 2, 3], [2, 3, 4], [1, 2, 4], [2, 3], [1]], \n",
        "              [4, 5, 5, 4, 2])\n",
        "\n",
        "tds = GraphDataset(train_data, shuffle=False)\n",
        "print(tds.generate_batch(1))\n",
        "print(tds.generate_batch(2))\n",
        "print(tds.inputs)\n",
        "\n",
        "tds = GraphDataset(train_data, shuffle=True)\n",
        "print(tds.generate_batch(1))\n",
        "print(tds.generate_batch(2))\n",
        "print(tds.inputs)"
      ],
      "metadata": {
        "colab": {
          "base_uri": "https://localhost:8080/"
        },
        "id": "B0NvbQXufTP0",
        "outputId": "a7197219-ee98-4199-91b5-6b540f0e4ae9"
      },
      "execution_count": 6,
      "outputs": [
        {
          "output_type": "stream",
          "name": "stdout",
          "text": [
            "[array([0]), array([1]), array([2]), array([3]), array([4])]\n",
            "[array([0, 1]), array([2, 3]), array([4])]\n",
            "[[1 2 3]\n",
            " [2 3 4]\n",
            " [1 2 4]\n",
            " [2 3 0]\n",
            " [1 0 0]]\n",
            "[array([0]), array([1]), array([2]), array([3]), array([4])]\n",
            "[array([0, 1]), array([2, 3]), array([4])]\n",
            "[[1 2 4]\n",
            " [1 2 3]\n",
            " [2 3 4]\n",
            " [2 3 0]\n",
            " [1 0 0]]\n"
          ]
        }
      ]
    }
  ],
  "metadata": {
    "kernelspec": {
      "display_name": "Python 3",
      "name": "python3"
    },
    "colab": {
      "name": "datasets > bases > graph",
      "provenance": []
    }
  },
  "nbformat": 4,
  "nbformat_minor": 0
}