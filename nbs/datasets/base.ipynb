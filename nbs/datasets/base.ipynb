{
  "cells": [
    {
      "cell_type": "code",
      "execution_count": null,
      "metadata": {
        "id": "fycOO2OxKHEF"
      },
      "outputs": [],
      "source": [
        "# default_exp datasets.base"
      ]
    },
    {
      "cell_type": "markdown",
      "metadata": {
        "id": "sB1CMZ8HKHEI"
      },
      "source": [
        "# Abstract Dataset\n",
        "> Abstract base class for dataset module."
      ]
    },
    {
      "cell_type": "code",
      "execution_count": null,
      "metadata": {
        "id": "fXARJb2xKHEQ"
      },
      "outputs": [],
      "source": [
        "#hide\n",
        "from nbdev.showdoc import *"
      ]
    },
    {
      "cell_type": "code",
      "execution_count": null,
      "metadata": {
        "id": "2fvEbSw7KHES"
      },
      "outputs": [],
      "source": [
        "#export\n",
        "from abc import *\n",
        "import pickle\n",
        "from pathlib import Path"
      ]
    },
    {
      "cell_type": "code",
      "source": [
        "#export\n",
        "class AbstractDataset(metaclass=ABCMeta):\n",
        "    def __init__(self, args):\n",
        "        self.min_rating = args.min_rating\n",
        "        self.min_uc = args.min_uc\n",
        "        self.min_sc = args.min_sc\n",
        "        self.split = args.split\n",
        "        self.RAW_DATASET_ROOT_FOLDER = args.RAW_DATASET_ROOT_FOLDER\n",
        "        self.PREP_DATASET_ROOT_FOLDER = args.PREP_DATASET_ROOT_FOLDER\n",
        "\n",
        "        assert self.min_uc >= 2, 'Need at least 2 ratings per user for validation and test'\n",
        "\n",
        "    @classmethod\n",
        "    @abstractmethod\n",
        "    def code(cls):\n",
        "        pass\n",
        "\n",
        "    @classmethod\n",
        "    def raw_code(cls):\n",
        "        return cls.code()\n",
        "\n",
        "    @abstractmethod\n",
        "    def preprocess(self):\n",
        "        pass\n",
        "\n",
        "    @abstractmethod\n",
        "    def load_ratings_df(self):\n",
        "        pass\n",
        "\n",
        "    def load_dataset(self):\n",
        "        self.preprocess()\n",
        "        dataset_path = self._get_preprocessed_dataset_path()\n",
        "        dataset = pickle.load(dataset_path.open('rb'))\n",
        "        return dataset\n",
        "\n",
        "    def filter_triplets(self, df):\n",
        "        print('Filtering triplets')\n",
        "        if self.min_sc > 0:\n",
        "            item_sizes = df.groupby('sid').size()\n",
        "            good_items = item_sizes.index[item_sizes >= self.min_sc]\n",
        "            df = df[df['sid'].isin(good_items)]\n",
        "\n",
        "        if self.min_uc > 0:\n",
        "            user_sizes = df.groupby('uid').size()\n",
        "            good_users = user_sizes.index[user_sizes >= self.min_uc]\n",
        "            df = df[df['uid'].isin(good_users)]\n",
        "        return df\n",
        "\n",
        "    def densify_index(self, df):\n",
        "        print('Densifying index')\n",
        "        umap = {u: i for i, u in enumerate(set(df['uid']), start=1)}\n",
        "        smap = {s: i for i, s in enumerate(set(df['sid']), start=1)}\n",
        "        df['uid'] = df['uid'].map(umap)\n",
        "        df['sid'] = df['sid'].map(smap)\n",
        "        return df, umap, smap\n",
        "\n",
        "    def split_df(self, df, user_count):\n",
        "        if self.split == 'leave_one_out':\n",
        "            print('Splitting')\n",
        "            user_group = df.groupby('uid')\n",
        "            user2items = user_group.progress_apply(\n",
        "                lambda d: list(d.sort_values(by=['timestamp', 'sid'])['sid']))\n",
        "            train, val, test = {}, {}, {}\n",
        "            for i in range(user_count):\n",
        "                user = i + 1\n",
        "                items = user2items[user]\n",
        "                train[user], val[user], test[user] = items[:-2], items[-2:-1], items[-1:]\n",
        "            return train, val, test\n",
        "        else:\n",
        "            raise NotImplementedError\n",
        "\n",
        "    def _get_rawdata_root_path(self):\n",
        "        return Path(self.RAW_DATASET_ROOT_FOLDER)\n",
        "\n",
        "    def _get_rawdata_folder_path(self):\n",
        "        root = self._get_rawdata_root_path()\n",
        "        return root.joinpath(self.raw_code())\n",
        "\n",
        "    def _get_preprocessed_root_path(self):\n",
        "        root = Path(self.PREP_DATASET_ROOT_FOLDER)\n",
        "        return root.joinpath(self.raw_code())\n",
        "\n",
        "    def _get_preprocessed_folder_path(self):\n",
        "        preprocessed_root = self._get_preprocessed_root_path()\n",
        "        # folder_name = '{}_min_rating{}-min_uc{}-min_sc{}-split{}' \\\n",
        "        #     .format(self.code(), self.min_rating, self.min_uc, self.min_sc, self.split)\n",
        "        # return preprocessed_root.joinpath(folder_name)\n",
        "        return preprocessed_root\n",
        "\n",
        "    def _get_preprocessed_dataset_path(self):\n",
        "        folder = self._get_preprocessed_folder_path()\n",
        "        return folder.joinpath('dataset.pkl')"
      ],
      "metadata": {
        "id": "bKarkdU3dLm6"
      },
      "execution_count": null,
      "outputs": []
    },
    {
      "cell_type": "code",
      "execution_count": null,
      "metadata": {
        "id": "mQlGoGnBKHEV",
        "outputId": "534a58b0-005d-49a6-b1b3-d9434e3da834",
        "colab": {
          "base_uri": "https://localhost:8080/"
        }
      },
      "outputs": [
        {
          "output_type": "stream",
          "name": "stdout",
          "text": [
            "Author: Sparsh A.\n",
            "\n",
            "Last updated: 2021-12-18 09:38:50\n",
            "\n",
            "Compiler    : GCC 7.5.0\n",
            "OS          : Linux\n",
            "Release     : 5.4.104+\n",
            "Machine     : x86_64\n",
            "Processor   : x86_64\n",
            "CPU cores   : 2\n",
            "Architecture: 64bit\n",
            "\n",
            "IPython: 5.5.0\n",
            "\n"
          ]
        }
      ],
      "source": [
        "#hide\n",
        "!pip install -q watermark\n",
        "%reload_ext watermark\n",
        "%watermark -a \"Sparsh A.\" -m -iv -u -t -d"
      ]
    },
    {
      "cell_type": "markdown",
      "source": [
        "---"
      ],
      "metadata": {
        "id": "CKhykAqi6HAA"
      }
    }
  ],
  "metadata": {
    "kernelspec": {
      "display_name": "Python 3",
      "name": "python3"
    },
    "colab": {
      "name": "M331785 | Datasets > Abstract Base Class Module",
      "provenance": [],
      "collapsed_sections": []
    }
  },
  "nbformat": 4,
  "nbformat_minor": 0
}