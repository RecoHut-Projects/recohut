{
  "cells": [
    {
      "cell_type": "code",
      "execution_count": null,
      "metadata": {
        "id": "7UnpruACHMFP"
      },
      "outputs": [],
      "source": [
        "# default_exp datasets.sample_session"
      ]
    },
    {
      "cell_type": "markdown",
      "metadata": {
        "id": "qMidbCGyHMFZ"
      },
      "source": [
        "# Sample Session dataset\n",
        "> Small sample of session dataset."
      ]
    },
    {
      "cell_type": "code",
      "execution_count": null,
      "metadata": {
        "id": "5WjVZiNqHMFd"
      },
      "outputs": [],
      "source": [
        "#hide\n",
        "from nbdev.showdoc import *"
      ]
    },
    {
      "cell_type": "code",
      "execution_count": null,
      "metadata": {
        "id": "H9IA8w-QHMFe"
      },
      "outputs": [],
      "source": [
        "#export\n",
        "from typing import List, Optional, Callable, Union, Any, Tuple\n",
        "\n",
        "import os\n",
        "import os.path as osp\n",
        "from collections.abc import Sequence\n",
        "import sys\n",
        "import csv\n",
        "import pickle\n",
        "import math\n",
        "import operator\n",
        "\n",
        "import numpy as np\n",
        "from datetime import timezone, datetime, timedelta\n",
        "import time\n",
        "\n",
        "from recohut.datasets import base\n",
        "from recohut.utils.common_utils import download_url"
      ]
    },
    {
      "cell_type": "code",
      "execution_count": null,
      "metadata": {
        "id": "f1nQALLAHMFh"
      },
      "outputs": [],
      "source": [
        "#export\n",
        "class SampleDataset(base.SessionDatasetv2):\n",
        "    url = 'https://github.com/RecoHut-Datasets/sample_session/raw/v1/sample_train-item-views.csv'\n",
        "\n",
        "    def __init__(self, root, column_names={'SESSION_ID':'session_id',\n",
        "                                        'ITEM_ID': 'item_id',\n",
        "                                        'TIMEFRAME': 'timeframe',\n",
        "                                        'EVENT_DATE': 'eventdate'}):\n",
        "        super().__init__(root, column_names)\n",
        "\n",
        "    @property\n",
        "    def raw_file_names(self) -> str:\n",
        "        return 'sample_train-item-views.csv'\n",
        "\n",
        "    def download(self):\n",
        "        path = download_url(self.url, self.raw_dir)"
      ]
    },
    {
      "cell_type": "code",
      "execution_count": null,
      "metadata": {
        "id": "pKm7bEbDHMFk"
      },
      "outputs": [],
      "source": [
        "ds = SampleDataset(root='/content/samplesession')"
      ]
    },
    {
      "cell_type": "code",
      "execution_count": null,
      "metadata": {
        "id": "VMeXeX37HMFn"
      },
      "outputs": [],
      "source": [
        "#exporti\n",
        "def data_masks(all_usr_pois, item_tail):\n",
        "    us_lens = [len(upois) for upois in all_usr_pois]\n",
        "    len_max = max(us_lens)\n",
        "    us_pois = [upois + item_tail * (len_max - le) for upois, le in zip(all_usr_pois, us_lens)]\n",
        "    us_msks = [[1] * le + [0] * (len_max - le) for le in us_lens]\n",
        "    return us_pois, us_msks, len_max"
      ]
    },
    {
      "cell_type": "code",
      "execution_count": null,
      "metadata": {
        "id": "mGemVpEjHMFs"
      },
      "outputs": [],
      "source": [
        "#exporti\n",
        "def split_validation(train_set, valid_portion):\n",
        "    train_set_x, train_set_y = train_set\n",
        "    n_samples = len(train_set_x)\n",
        "    sidx = np.arange(n_samples, dtype='int32')\n",
        "    np.random.shuffle(sidx)\n",
        "    n_train = int(np.round(n_samples * (1. - valid_portion)))\n",
        "    valid_set_x = [train_set_x[s] for s in sidx[n_train:]]\n",
        "    valid_set_y = [train_set_y[s] for s in sidx[n_train:]]\n",
        "    train_set_x = [train_set_x[s] for s in sidx[:n_train]]\n",
        "    train_set_y = [train_set_y[s] for s in sidx[:n_train]]\n",
        "\n",
        "    return (train_set_x, train_set_y), (valid_set_x, valid_set_y)"
      ]
    },
    {
      "cell_type": "code",
      "execution_count": null,
      "metadata": {
        "id": "DhpWGS0QHMFx",
        "outputId": "ec8e444b-5cb9-4199-bf3f-b91155423c52",
        "colab": {
          "base_uri": "https://localhost:8080/"
        }
      },
      "outputs": [
        {
          "output_type": "execute_result",
          "data": {
            "text/plain": [
              "[[1, 2], [1], [4], [6], [8, 9], [8], [10, 11, 11], [10, 11], [10], [12]]"
            ]
          },
          "metadata": {},
          "execution_count": 11
        }
      ],
      "source": [
        "train_data = pickle.load(open('/content/samplesession/processed/train.txt', 'rb'))\n",
        "train_data[0][:10]"
      ]
    },
    {
      "cell_type": "code",
      "execution_count": null,
      "metadata": {
        "id": "oG9vZ0U5HMFy",
        "outputId": "570dfc02-9884-4630-957b-ea0094f963e3",
        "colab": {
          "base_uri": "https://localhost:8080/"
        }
      },
      "outputs": [
        {
          "output_type": "execute_result",
          "data": {
            "text/plain": [
              "1205"
            ]
          },
          "metadata": {},
          "execution_count": 12
        }
      ],
      "source": [
        "len(train_data[0])"
      ]
    },
    {
      "cell_type": "code",
      "execution_count": null,
      "metadata": {
        "id": "3Y6mxzQIHMFz"
      },
      "outputs": [],
      "source": [
        "train_data, valid_data = split_validation(train_data, valid_portion=0.1)\n",
        "test_data = valid_data\n",
        "\n",
        "train_data = base.GraphDataset(train_data, shuffle=True)\n",
        "test_data = base.GraphDataset(test_data, shuffle=False)"
      ]
    },
    {
      "cell_type": "code",
      "execution_count": null,
      "metadata": {
        "id": "sEmlc3sMHMF0",
        "outputId": "c763f613-3a70-4d2f-bda5-bd21ee83e86c",
        "colab": {
          "base_uri": "https://localhost:8080/"
        }
      },
      "outputs": [
        {
          "output_type": "execute_result",
          "data": {
            "text/plain": [
              "[array([0, 1, 2, 3, 4, 5, 6, 7, 8, 9]),\n",
              " array([10, 11, 12, 13, 14, 15, 16, 17, 18, 19]),\n",
              " array([20, 21, 22, 23, 24, 25, 26, 27, 28, 29]),\n",
              " array([30, 31, 32, 33, 34, 35, 36, 37, 38, 39]),\n",
              " array([40, 41, 42, 43, 44, 45, 46, 47, 48, 49])]"
            ]
          },
          "metadata": {},
          "execution_count": 14
        }
      ],
      "source": [
        "train_data.generate_batch(10)[:5]"
      ]
    },
    {
      "cell_type": "code",
      "source": [
        "#export\n",
        "class SampleDatasetv2(base.SessionGraphDataset):\n",
        "    train_url = \"https://github.com/RecoHut-Datasets/sample_session/raw/v2/train.txt\"\n",
        "    test_url = \"https://github.com/RecoHut-Datasets/sample_session/raw/v2/test.txt\"\n",
        "    all_train_seq_url = \"https://github.com/RecoHut-Datasets/sample_session/raw/v2/all_train_seq.txt\"\n",
        "\n",
        "    def __init__(self, root, shuffle=False, n_node=309, is_train=True):\n",
        "        self.n_node = n_node\n",
        "        self.shuffle = shuffle\n",
        "        self.is_train = is_train\n",
        "        super().__init__(root, shuffle, n_node)\n",
        "\n",
        "    @property\n",
        "    def raw_file_names(self) -> str:\n",
        "        if self.is_train:\n",
        "            return ['train.txt', 'all_train_seq.txt']\n",
        "        return ['test.txt', 'all_train_seq.txt']\n",
        "\n",
        "    def download(self):\n",
        "        download_url(self.all_train_seq_url, self.raw_dir)\n",
        "        if self.is_train:\n",
        "            download_url(self.train_url, self.raw_dir)\n",
        "        else:\n",
        "            download_url(self.test_url, self.raw_dir)"
      ],
      "metadata": {
        "id": "ey1SeTaWJ7A1"
      },
      "execution_count": null,
      "outputs": []
    },
    {
      "cell_type": "code",
      "source": [
        "root = '/content/samplesessionv2'\n",
        "\n",
        "train_data = SampleDatasetv2(root=root, shuffle=True, is_train=True)\n",
        "test_data = SampleDatasetv2(root=root, shuffle=False, is_train=False)"
      ],
      "metadata": {
        "id": "87dIkMS7KCM_",
        "colab": {
          "base_uri": "https://localhost:8080/"
        },
        "outputId": "ffccd2b2-bc53-447b-a557-ce4b06f6953f"
      },
      "execution_count": null,
      "outputs": [
        {
          "output_type": "stream",
          "name": "stderr",
          "text": [
            "Downloading https://github.com/RecoHut-Datasets/sample_session/raw/v2/all_train_seq.txt\n",
            "Downloading https://github.com/RecoHut-Datasets/sample_session/raw/v2/train.txt\n",
            "/usr/local/lib/python3.7/dist-packages/numpy/core/_asarray.py:83: VisibleDeprecationWarning: Creating an ndarray from ragged nested sequences (which is a list-or-tuple of lists-or-tuples-or ndarrays with different lengths or shapes) is deprecated. If you meant to do this, you must specify 'dtype=object' when creating the ndarray\n",
            "  return array(a, dtype, copy=False, order=order)\n",
            "Using existing file all_train_seq.txt\n",
            "Downloading https://github.com/RecoHut-Datasets/sample_session/raw/v2/test.txt\n",
            "/usr/local/lib/python3.7/dist-packages/numpy/core/_asarray.py:83: VisibleDeprecationWarning: Creating an ndarray from ragged nested sequences (which is a list-or-tuple of lists-or-tuples-or ndarrays with different lengths or shapes) is deprecated. If you meant to do this, you must specify 'dtype=object' when creating the ndarray\n",
            "  return array(a, dtype, copy=False, order=order)\n"
          ]
        }
      ]
    },
    {
      "cell_type": "code",
      "execution_count": null,
      "metadata": {
        "id": "vAV_jxz1HMF1",
        "outputId": "2c95c1a7-c0c8-4cd6-bd32-4bb8bca00010",
        "colab": {
          "base_uri": "https://localhost:8080/"
        }
      },
      "outputs": [
        {
          "output_type": "stream",
          "name": "stdout",
          "text": [
            "Author: Sparsh A.\n",
            "\n",
            "Last updated: 2021-12-30 07:07:57\n",
            "\n",
            "recohut: 0.0.8\n",
            "\n",
            "Compiler    : GCC 7.5.0\n",
            "OS          : Linux\n",
            "Release     : 5.4.144+\n",
            "Machine     : x86_64\n",
            "Processor   : x86_64\n",
            "CPU cores   : 2\n",
            "Architecture: 64bit\n",
            "\n",
            "sys    : 3.7.12 (default, Sep 10 2021, 00:21:48) \n",
            "[GCC 7.5.0]\n",
            "numpy  : 1.19.5\n",
            "IPython: 5.5.0\n",
            "csv    : 1.0\n",
            "recohut: 0.0.8\n",
            "\n"
          ]
        }
      ],
      "source": [
        "#hide\n",
        "%reload_ext watermark\n",
        "%watermark -a \"Sparsh A.\" -m -iv -u -t -d -p recohut"
      ]
    }
  ],
  "metadata": {
    "kernelspec": {
      "display_name": "Python 3",
      "name": "python3"
    },
    "colab": {
      "name": "session.ipynb",
      "provenance": []
    }
  },
  "nbformat": 4,
  "nbformat_minor": 0
}