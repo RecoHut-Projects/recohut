{
  "nbformat": 4,
  "nbformat_minor": 0,
  "metadata": {
    "colab": {
      "name": "M632843 | datasets  > lastfm",
      "provenance": [],
      "collapsed_sections": [],
      "mount_file_id": "1FEZmnoLGIsTsGiK2gi1TsIHLAaWCXF_a",
      "authorship_tag": "ABX9TyNdfBnv0jQcu/KImD5W4oQw"
    },
    "kernelspec": {
      "name": "python3",
      "display_name": "Python 3"
    },
    "language_info": {
      "name": "python"
    }
  },
  "cells": [
    {
      "cell_type": "code",
      "execution_count": null,
      "metadata": {
        "id": "fycOO2OxKHEF"
      },
      "outputs": [],
      "source": [
        "# default_exp datasets.lastfm"
      ]
    },
    {
      "cell_type": "markdown",
      "metadata": {
        "id": "1KypvcFZI64_"
      },
      "source": [
        "# LastFM dataset\n",
        "> LastFM dataset."
      ]
    },
    {
      "cell_type": "code",
      "execution_count": null,
      "metadata": {
        "id": "RGwuVx5oI65E"
      },
      "outputs": [],
      "source": [
        "#hide\n",
        "from nbdev.showdoc import *"
      ]
    },
    {
      "cell_type": "code",
      "execution_count": null,
      "metadata": {
        "id": "32ibt_XlI65I"
      },
      "outputs": [],
      "source": [
        "# #export\n",
        "import os\n",
        "import os.path as osp\n",
        "import numpy as np\n",
        "import pandas as pd\n",
        "from pandas import Timedelta\n",
        "\n",
        "from recohut.datasets.base import SessionDatasetv3\n",
        "from recohut.utils.common_utils import download_url, extract_tar"
      ]
    },
    {
      "cell_type": "code",
      "source": [
        "#export\n",
        "class LastfmDataset(SessionDatasetv3):\n",
        "    url = 'http://mtg.upf.edu/static/datasets/last.fm/lastfm-dataset-1K.tar.gz'\n",
        "\n",
        "    def __init__(self, root, interval=Timedelta(hours=8), n=40000):\n",
        "        use_cols = [0, 1, 2]\n",
        "        super().__init__(root, use_cols, interval, n)\n",
        "\n",
        "    @property\n",
        "    def raw_file_names(self) -> str:\n",
        "        return 'userid-timestamp-artid-artname-traid-traname.tsv'\n",
        "\n",
        "    def download(self):\n",
        "        path = download_url(self.url, self.raw_dir)\n",
        "        extract_tar(path, self.raw_dir)\n",
        "        from shutil import move, rmtree\n",
        "        move(osp.join(self.raw_dir, 'lastfm-dataset-1K', 'userid-timestamp-artid-artname-traid-traname.tsv'),\n",
        "                osp.join(self.raw_dir, 'userid-timestamp-artid-artname-traid-traname.tsv'))\n",
        "        rmtree(osp.join(self.raw_dir, 'lastfm-dataset-1K'))\n",
        "        os.unlink(path)"
      ],
      "metadata": {
        "id": "DchSUXOEK3CT"
      },
      "execution_count": null,
      "outputs": []
    },
    {
      "cell_type": "code",
      "source": [
        "ds = LastfmDataset(root='/content/lastfmdata')"
      ],
      "metadata": {
        "colab": {
          "base_uri": "https://localhost:8080/"
        },
        "outputId": "eeb3a777-8565-40fa-9ff5-30258cbfcd3b",
        "id": "PtsphqvFYdS9"
      },
      "execution_count": null,
      "outputs": [
        {
          "output_type": "stream",
          "name": "stderr",
          "text": [
            "Processing...\n"
          ]
        },
        {
          "output_type": "stream",
          "name": "stdout",
          "text": [
            "start preprocessing\n",
            "No. of Clicks: 3835706\n",
            "No. of Items: 38615\n",
            "saving dataset\n"
          ]
        },
        {
          "output_type": "stream",
          "name": "stderr",
          "text": [
            "Done!\n"
          ]
        }
      ]
    },
    {
      "cell_type": "code",
      "source": [
        "!tree --du -h -C /content/lastfmdata"
      ],
      "metadata": {
        "colab": {
          "base_uri": "https://localhost:8080/"
        },
        "id": "PlTlVQY1e_3q",
        "outputId": "1a5f2470-46de-441e-aea8-d0dea815e506"
      },
      "execution_count": null,
      "outputs": [
        {
          "output_type": "stream",
          "name": "stdout",
          "text": [
            "\u001b[01;34m/content/lastfmdata\u001b[00m\n",
            "├── [ 18M]  \u001b[01;34mprocessed\u001b[00m\n",
            "│   ├── [   5]  all_train_seq.txt\n",
            "│   ├── [3.5M]  test.txt\n",
            "│   └── [ 14M]  train.txt\n",
            "└── [2.4G]  \u001b[01;34mraw\u001b[00m\n",
            "    └── [2.4G]  userid-timestamp-artid-artname-traid-traname.tsv\n",
            "\n",
            " 2.4G used in 2 directories, 4 files\n"
          ]
        }
      ]
    },
    {
      "cell_type": "code",
      "execution_count": null,
      "metadata": {
        "id": "yXwRDjpKI65c",
        "outputId": "a257cfcd-740a-4490-8d1c-a4523ac8db69",
        "colab": {
          "base_uri": "https://localhost:8080/"
        }
      },
      "outputs": [
        {
          "output_type": "stream",
          "name": "stdout",
          "text": [
            "Author: Sparsh A.\n",
            "\n",
            "Last updated: 2021-12-23 08:01:27\n",
            "\n",
            "recohut: 0.0.6\n",
            "\n",
            "Compiler    : GCC 7.5.0\n",
            "OS          : Linux\n",
            "Release     : 5.4.144+\n",
            "Machine     : x86_64\n",
            "Processor   : x86_64\n",
            "CPU cores   : 2\n",
            "Architecture: 64bit\n",
            "\n",
            "IPython: 5.5.0\n",
            "numpy  : 1.19.5\n",
            "pandas : 1.1.5\n",
            "\n"
          ]
        }
      ],
      "source": [
        "#hide\n",
        "%reload_ext watermark\n",
        "%watermark -a \"Sparsh A.\" -m -iv -u -t -d -p recohut"
      ]
    }
  ]
}