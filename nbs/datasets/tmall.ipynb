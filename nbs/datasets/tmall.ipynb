{
  "cells": [
    {
      "cell_type": "code",
      "execution_count": null,
      "metadata": {
        "id": "bNvHJS_cC9GO"
      },
      "outputs": [],
      "source": [
        "# default_exp datasets.tmall"
      ]
    },
    {
      "cell_type": "markdown",
      "metadata": {
        "id": "Y_Z8iRm3C9GX"
      },
      "source": [
        "# Tmall dataset\n",
        "> Tmall dataset."
      ]
    },
    {
      "cell_type": "code",
      "execution_count": null,
      "metadata": {
        "id": "y_BTc001C9Gc"
      },
      "outputs": [],
      "source": [
        "#hide\n",
        "from nbdev.showdoc import *"
      ]
    },
    {
      "cell_type": "code",
      "execution_count": null,
      "metadata": {
        "id": "DsJCik6JC9Ge"
      },
      "outputs": [],
      "source": [
        "#export\n",
        "import numpy as np\n",
        "\n",
        "from recohut.datasets import base\n",
        "from recohut.utils.common_utils import download_url"
      ]
    },
    {
      "cell_type": "code",
      "source": [
        "#export\n",
        "class TmallDataset(base.SessionGraphDataset):\n",
        "    train_url = \"https://github.com/RecoHut-Datasets/tmall/raw/v1/train.txt\"\n",
        "    test_url = \"https://github.com/RecoHut-Datasets/tmall/raw/v1/test.txt\"\n",
        "    all_train_seq_url = \"https://github.com/RecoHut-Datasets/tmall/raw/v1/all_train_seq.txt\"\n",
        "\n",
        "    def __init__(self, root, shuffle=False, n_node=40727, is_train=True):\n",
        "        self.n_node = n_node\n",
        "        self.shuffle = shuffle\n",
        "        self.is_train = is_train\n",
        "        super().__init__(root, shuffle, n_node)\n",
        "\n",
        "    @property\n",
        "    def raw_file_names(self) -> str:\n",
        "        if self.is_train:\n",
        "            return ['train.txt', 'all_train_seq.txt']\n",
        "        return ['test.txt', 'all_train_seq.txt']\n",
        "\n",
        "    def download(self):\n",
        "        download_url(self.all_train_seq_url, self.raw_dir)\n",
        "        if self.is_train:\n",
        "            download_url(self.train_url, self.raw_dir)\n",
        "        else:\n",
        "            download_url(self.test_url, self.raw_dir)"
      ],
      "metadata": {
        "id": "5NG5KJsTnOi7"
      },
      "execution_count": null,
      "outputs": []
    },
    {
      "cell_type": "code",
      "source": [
        "root = '/content/tmall'\n",
        "\n",
        "train_data = TmallDataset(root=root, shuffle=True, is_train=True)\n",
        "test_data = TmallDataset(root=root, shuffle=False, is_train=False)"
      ],
      "metadata": {
        "id": "r4iTf97tnOf5"
      },
      "execution_count": null,
      "outputs": []
    },
    {
      "cell_type": "code",
      "execution_count": null,
      "metadata": {
        "colab": {
          "base_uri": "https://localhost:8080/"
        },
        "outputId": "87fb4e37-3491-48eb-d230-db96245a3dc1",
        "id": "Zp_McaSsEqJp"
      },
      "outputs": [
        {
          "output_type": "stream",
          "name": "stdout",
          "text": [
            "Author: Sparsh A.\n",
            "\n",
            "Last updated: 2021-12-30 05:00:21\n",
            "\n",
            "recohut: 0.0.8\n",
            "\n",
            "Compiler    : GCC 7.5.0\n",
            "OS          : Linux\n",
            "Release     : 5.4.144+\n",
            "Machine     : x86_64\n",
            "Processor   : x86_64\n",
            "CPU cores   : 2\n",
            "Architecture: 64bit\n",
            "\n",
            "recohut: 0.0.8\n",
            "IPython: 5.5.0\n",
            "numpy  : 1.19.5\n",
            "\n"
          ]
        }
      ],
      "source": [
        "#hide\n",
        "%reload_ext watermark\n",
        "%watermark -a \"Sparsh A.\" -m -iv -u -t -d -p recohut"
      ]
    }
  ],
  "metadata": {
    "kernelspec": {
      "display_name": "Python 3",
      "name": "python3"
    },
    "colab": {
      "name": "M912975 | datasets > tmall",
      "provenance": []
    }
  },
  "nbformat": 4,
  "nbformat_minor": 0
}