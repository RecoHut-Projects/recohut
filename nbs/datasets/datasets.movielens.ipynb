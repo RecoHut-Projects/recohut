{
  "cells": [
    {
      "cell_type": "code",
      "execution_count": null,
      "metadata": {
        "id": "s0tyVScxwpEx"
      },
      "outputs": [],
      "source": [
        "# default_exp datasets.movielens"
      ]
    },
    {
      "cell_type": "markdown",
      "metadata": {
        "id": "TqTU2wCJwpE3"
      },
      "source": [
        "# MovieLens Dataset\n",
        "> Implementation of MovieLens datasets."
      ]
    },
    {
      "cell_type": "code",
      "execution_count": null,
      "metadata": {
        "id": "aR7sx750wpE6"
      },
      "outputs": [],
      "source": [
        "#hide\n",
        "from nbdev.showdoc import *\n",
        "from fastcore.nb_imports import *\n",
        "from fastcore.test import *"
      ]
    },
    {
      "cell_type": "code",
      "execution_count": null,
      "metadata": {
        "id": "nFpNRf71wpE7"
      },
      "outputs": [],
      "source": [
        "#export\n",
        "from typing import Any, Iterable, List, Optional, Tuple, Union, Callable\n",
        "import os\n",
        "\n",
        "import pandas as pd\n",
        "import numpy as np\n",
        "\n",
        "import torch\n",
        "\n",
        "from recohut.utils.common_utils import *\n",
        "from recohut.datasets.bases.common import Dataset\n",
        "from recohut.datasets.bases.interactions import InteractionsDataset, InteractionsDataModule\n",
        "from recohut.datasets.bases.sequential import SequentialDataset, SequentialDataModule"
      ]
    },
    {
      "cell_type": "markdown",
      "metadata": {
        "id": "L2OSpyaHwpE9"
      },
      "source": [
        "## ML1m Rating Dataset"
      ]
    },
    {
      "cell_type": "markdown",
      "metadata": {
        "id": "uHKYsX7OwpE9"
      },
      "source": [
        "### Interactions Dataset"
      ]
    },
    {
      "cell_type": "code",
      "execution_count": null,
      "metadata": {
        "id": "y7pysNRKwpE_"
      },
      "outputs": [],
      "source": [
        "#export\n",
        "class ML1mDataset(InteractionsDataset):\n",
        "    url = \"http://files.grouplens.org/datasets/movielens/ml-1m.zip\"\n",
        "\n",
        "    @property\n",
        "    def raw_file_names(self):\n",
        "        return 'ratings.dat'\n",
        "\n",
        "    def download(self):\n",
        "        path = download_url(self.url, self.raw_dir)\n",
        "        extract_zip(path, self.raw_dir)\n",
        "        from shutil import move, rmtree\n",
        "        move(os.path.join(self.raw_dir, 'ml-1m', self.raw_file_names), self.raw_dir)\n",
        "        rmtree(os.path.join(self.raw_dir, 'ml-1m'))\n",
        "        os.unlink(path)\n",
        "\n",
        "    def load_ratings_df(self):\n",
        "        df = pd.read_csv(self.raw_paths[0], sep='::', header=None, engine='python')\n",
        "        df.columns = ['uid', 'sid', 'rating', 'timestamp']\n",
        "        # drop duplicate user-item pair records, keeping recent ratings only\n",
        "        df.drop_duplicates(subset=['uid', 'sid'], keep='last', inplace=True)\n",
        "        return df"
      ]
    },
    {
      "cell_type": "code",
      "execution_count": null,
      "metadata": {
        "id": "g6Z36Wm4wpFD"
      },
      "outputs": [],
      "source": [
        "#export\n",
        "class ML1mDataModule(InteractionsDataModule):\n",
        "    dataset_cls = ML1mDataset"
      ]
    },
    {
      "cell_type": "code",
      "execution_count": null,
      "metadata": {
        "id": "PHsIAKNEwpFF"
      },
      "outputs": [],
      "source": [
        "class Args:\n",
        "    def __init__(self):\n",
        "        self.data_dir = '/content/data'\n",
        "        self.min_rating = 4\n",
        "        self.num_negative_samples = 99\n",
        "        self.min_uc = 5\n",
        "        self.min_sc = 5\n",
        "        self.val_p = 0.2\n",
        "        self.test_p = 0.2\n",
        "        self.seed = 42\n",
        "        self.split_type = 'stratified'\n",
        "\n",
        "args = Args()"
      ]
    },
    {
      "cell_type": "code",
      "execution_count": null,
      "metadata": {
        "id": "EyKlIZq2wpFH",
        "outputId": "9fd35089-067c-4d35-8ac7-edd07c3f2fcf"
      },
      "outputs": [
        {
          "name": "stderr",
          "output_type": "stream",
          "text": [
            "Processing...\n"
          ]
        },
        {
          "name": "stdout",
          "output_type": "stream",
          "text": [
            "Turning into implicit ratings\n",
            "Filtering triplets\n",
            "Densifying index\n"
          ]
        },
        {
          "name": "stderr",
          "output_type": "stream",
          "text": [
            "Done!\n"
          ]
        }
      ],
      "source": [
        "ds = ML1mDataModule(**args.__dict__)\n",
        "ds.prepare_data()"
      ]
    },
    {
      "cell_type": "markdown",
      "metadata": {
        "id": "i_ePn0bYwpFI"
      },
      "source": [
        "### Sequential Dataset"
      ]
    },
    {
      "cell_type": "code",
      "execution_count": null,
      "metadata": {
        "id": "mwWi4rdTwpFJ"
      },
      "outputs": [],
      "source": [
        "#export\n",
        "class ML1mDataset_v2(SequentialDataset):\n",
        "    url = \"http://files.grouplens.org/datasets/movielens/ml-1m.zip\"\n",
        "\n",
        "    @property\n",
        "    def raw_file_names(self):\n",
        "        return 'ratings.dat'\n",
        "\n",
        "    def download(self):\n",
        "        path = download_url(self.url, self.raw_dir)\n",
        "        extract_zip(path, self.raw_dir)\n",
        "        from shutil import move, rmtree\n",
        "        move(os.path.join(self.raw_dir, 'ml-1m', self.raw_file_names), self.raw_dir)\n",
        "        rmtree(os.path.join(self.raw_dir, 'ml-1m'))\n",
        "        os.unlink(path)\n",
        "\n",
        "    def load_ratings_df(self):\n",
        "        df = pd.read_csv(self.raw_paths[0], sep='::', header=None, engine='python')\n",
        "        df.columns = ['uid', 'sid', 'rating', 'timestamp']\n",
        "        return df"
      ]
    },
    {
      "cell_type": "code",
      "execution_count": null,
      "metadata": {
        "id": "J2cfBZj8wpFK"
      },
      "outputs": [],
      "source": [
        "#export\n",
        "class ML1mDataModule_v2(SequentialDataModule):\n",
        "    dataset_cls = ML1mDataset_v2"
      ]
    },
    {
      "cell_type": "code",
      "execution_count": null,
      "metadata": {
        "id": "M7uGkZuTwpFL"
      },
      "outputs": [],
      "source": [
        "class Args:\n",
        "    def __init__(self):\n",
        "        self.pad = 0\n",
        "        self.mask = 1\n",
        "        self.cap = 0\n",
        "        self.seed = 42\n",
        "        self.vocab_size = 10000\n",
        "        self.channels = 128\n",
        "        self.dropout = 0.4\n",
        "        self.learning_rate = 1e-4\n",
        "        self.history_size = 30\n",
        "        self.data_dir = '/content/data'\n",
        "        self.log_dir = '/content/recommender_logs'\n",
        "        self.model_dir = '/content/recommender_models'\n",
        "        self.batch_size = 32\n",
        "        self.shuffle = True\n",
        "        self.max_epochs = 2\n",
        "        self.val_epoch = 1\n",
        "        self.gpus = None\n",
        "        self.monitor = 'valid_loss'\n",
        "        self.mode = 'min'\n",
        "\n",
        "args = Args()"
      ]
    },
    {
      "cell_type": "code",
      "execution_count": null,
      "metadata": {
        "id": "IF0zfRkxwpFM"
      },
      "outputs": [],
      "source": [
        "ds = ML1mDataModule_v2(data_sir=args.data_dir, **args.__dict__)\n",
        "ds.prepare_data()"
      ]
    },
    {
      "cell_type": "code",
      "source": [
        "#export\n",
        "class ML1mDataset_v3(SequentialDataset):\n",
        "    url = \"http://files.grouplens.org/datasets/movielens/ml-1m.zip\"\n",
        "\n",
        "    def __init__(self, data_dir, data_type='train', *args, **kwargs):\n",
        "        super().__init__(data_dir, data_type, *args, **kwargs)\n",
        "        if data_type == 'train':\n",
        "            self.ratings_frame = pd.read_csv(self.processed_paths[0], delimiter=\",\")\n",
        "        elif data_type == 'valid':\n",
        "            self.ratings_frame = pd.read_csv(self.processed_paths[1], delimiter=\",\")\n",
        "        elif data_type == 'test':\n",
        "            self.ratings_frame = pd.read_csv(self.processed_paths[2], delimiter=\",\")\n",
        "\n",
        "    @property\n",
        "    def raw_file_names(self):\n",
        "        return ['ratings.dat', 'movies.dat', 'users.dat']\n",
        "\n",
        "    @property\n",
        "    def processed_file_names(self):\n",
        "        return ['train.csv', 'valid.csv', 'test.csv']\n",
        "\n",
        "    def download(self):\n",
        "        path = download_url(self.url, self.raw_dir)\n",
        "        extract_zip(path, self.raw_dir)\n",
        "        from shutil import move, rmtree\n",
        "        for raw_file_name in self.raw_file_names:\n",
        "            move(os.path.join(self.raw_dir, 'ml-1m', raw_file_name), self.raw_dir)\n",
        "        rmtree(os.path.join(self.raw_dir, 'ml-1m'))\n",
        "        os.unlink(path)\n",
        "\n",
        "    def load_ratings_df(self):\n",
        "        df = pd.read_csv(self.raw_paths[0], sep='::', header=None, engine='python')\n",
        "        df.columns = ['uid', 'sid', 'rating', 'timestamp']\n",
        "        return df\n",
        "\n",
        "    def load_movies_df(self):\n",
        "        df = pd.read_csv(self.raw_paths[1], sep='::', header=None, engine='python')\n",
        "        df.columns = [\"sid\", \"title\", \"genres\"]\n",
        "        return df\n",
        "\n",
        "    def load_users_df(self):\n",
        "        df = pd.read_csv(self.raw_paths[2], sep='::', header=None, engine='python')\n",
        "        df.columns = [\"uid\", \"sex\", \"age_group\", \"occupation\", \"zip_code\"]\n",
        "        return df\n",
        "\n",
        "    def process(self):\n",
        "        ## movies\n",
        "        movies = self.load_movies_df()\n",
        "        movies[\"year\"] = movies[\"title\"].apply(lambda x: x[-5:-1])\n",
        "        movies.year = pd.Categorical(movies.year)\n",
        "        movies[\"year\"] = movies.year.cat.codes\n",
        "        movies[\"sid\"] = movies[\"sid\"].astype(str)\n",
        "\n",
        "        genres = [\"Action\",\"Adventure\",\"Animation\",\"Children's\",\"Comedy\",\"Crime\",\n",
        "                \"Documentary\",\"Drama\",\"Fantasy\",\"Film-Noir\",\"Horror\",\"Musical\",\n",
        "                \"Mystery\",\"Romance\",\"Sci-Fi\",\"Thriller\",\"War\",\"Western\"]\n",
        "\n",
        "        for genre in genres:\n",
        "            movies[genre] = movies[\"genres\"].apply(\n",
        "                lambda values: int(genre in values.split(\"|\"))\n",
        "            )\n",
        "\n",
        "        ## users\n",
        "        users = self.load_users_df()\n",
        "        users.sex = pd.Categorical(users.sex)\n",
        "        users[\"sex\"] = users.sex.cat.codes\n",
        "        users.age_group = pd.Categorical(users.age_group)\n",
        "        users[\"age_group\"] = users.age_group.cat.codes\n",
        "        users.occupation = pd.Categorical(users.occupation)\n",
        "        users[\"occupation\"] = users.occupation.cat.codes\n",
        "        users.zip_code = pd.Categorical(users.zip_code)\n",
        "        users[\"zip_code\"] = users.zip_code.cat.codes\n",
        "        users[\"uid\"] = users[\"uid\"].astype(str)\n",
        "\n",
        "        # ratings\n",
        "        ratings = self.load_ratings_df()\n",
        "        ratings['timestamp'] = pd.to_datetime(ratings['timestamp'], unit='s')\n",
        "        ratings[\"sid\"] = ratings[\"sid\"].astype(str)\n",
        "        ratings[\"uid\"] = ratings[\"uid\"].astype(str)\n",
        "\n",
        "        # Transform the movie ratings data into sequences\n",
        "        # First, let's sort the the ratings data using the unix_timestamp, \n",
        "        # and then group the movie_id values and the rating values by user_id.\n",
        "        # The output DataFrame will have a record for each user_id, with two \n",
        "        # ordered lists (sorted by rating datetime): the movies they have rated,\n",
        "        # and their ratings of these movies.\n",
        "\n",
        "        ratings_group = ratings.sort_values(by=[\"timestamp\"]).groupby(\"uid\")\n",
        "\n",
        "        ratings_data = pd.DataFrame(\n",
        "            data={\n",
        "                \"uid\": list(ratings_group.groups.keys()),\n",
        "                \"sids\": list(ratings_group.sid.apply(list)),\n",
        "                \"ratings\": list(ratings_group.rating.apply(list)),\n",
        "                \"timestamps\": list(ratings_group.timestamp.apply(list)),\n",
        "            }\n",
        "        )\n",
        "\n",
        "        # Now, let's split the movie_ids list into a set of sequences of a fixed \n",
        "        # length. We do the same for the ratings. Set the sequence_length variable \n",
        "        # to change the length of the input sequence to the model. You can also \n",
        "        # change the step_size to control the number of sequences to generate for \n",
        "        # each user.\n",
        "        ratings_data.sids = ratings_data.sids.apply(\n",
        "            lambda ids: self.create_sequences(ids, self.history_size, self.step_size)\n",
        "        )\n",
        "        ratings_data.ratings = ratings_data.ratings.apply(\n",
        "            lambda ids: self.create_sequences(ids, self.history_size, self.step_size)\n",
        "        )\n",
        "        del ratings_data[\"timestamps\"]\n",
        "\n",
        "        # After that, we process the output to have each sequence in a separate \n",
        "        # records in the DataFrame. In addition, we join the user features with \n",
        "        # the ratings data.\n",
        "        ratings_data_movies = ratings_data[[\"uid\", \"sids\"]].explode(\n",
        "            \"sids\", ignore_index=True\n",
        "        )\n",
        "        ratings_data_rating = ratings_data[[\"ratings\"]].explode(\"ratings\", ignore_index=True)\n",
        "        ratings_data_transformed = pd.concat([ratings_data_movies, ratings_data_rating], axis=1)\n",
        "        ratings_data_transformed = ratings_data_transformed.join(\n",
        "            users.set_index(\"uid\"), on=\"uid\"\n",
        "        )\n",
        "        ratings_data_transformed.sids = ratings_data_transformed.sids.apply(\n",
        "            lambda x: \",\".join(x)\n",
        "        )\n",
        "        ratings_data_transformed.ratings = ratings_data_transformed.ratings.apply(\n",
        "            lambda x: \",\".join([str(v) for v in x])\n",
        "        )\n",
        "        del ratings_data_transformed[\"zip_code\"]\n",
        "        ratings_data_transformed.rename(\n",
        "            columns={\"sids\": \"sequence_sids\", \"ratings\": \"sequence_ratings\"},\n",
        "            inplace=True,\n",
        "        )\n",
        "        # Finally, we split the data into training and testing splits, with 85% \n",
        "        # and 15% of the instances, respectively, and store them to CSV files.\n",
        "        random_selection = np.random.rand(len(ratings_data_transformed.index)) <= 0.85\n",
        "        train_data = ratings_data_transformed[random_selection]\n",
        "        test_data = ratings_data_transformed[~random_selection]\n",
        "\n",
        "        # save\n",
        "        train_data.to_csv(self.processed_paths[0], index=False, sep=\",\")\n",
        "        test_data.to_csv(self.processed_paths[1], index=False, sep=\",\")\n",
        "        test_data.to_csv(self.processed_paths[2], index=False, sep=\",\")\n",
        "\n",
        "    def __len__(self):\n",
        "        return len(self.ratings_frame)\n",
        "\n",
        "    def __getitem__(self, idx):\n",
        "        data = self.ratings_frame.iloc[idx]\n",
        "        user_id = data.uid\n",
        "        movie_history = eval(data.sequence_sids)\n",
        "        movie_history_ratings = eval(data.sequence_ratings)\n",
        "        target_movie_id = movie_history[-1:][0]\n",
        "        target_movie_rating = movie_history_ratings[-1:][0]\n",
        "        movie_history = torch.LongTensor(movie_history[:-1])\n",
        "        movie_history_ratings = torch.LongTensor(movie_history_ratings[:-1])\n",
        "        sex, age_group, occupation = data.sex, data.age_group, data.occupation\n",
        "        output = (user_id, movie_history, target_movie_id, movie_history_ratings,\n",
        "                  target_movie_rating, sex, age_group, occupation)\n",
        "        return output"
      ],
      "metadata": {
        "id": "l3gpS6VXaTEq"
      },
      "execution_count": null,
      "outputs": []
    },
    {
      "cell_type": "code",
      "source": [
        "#export\n",
        "class ML1mDataModule_v3(SequentialDataModule):\n",
        "    dataset_cls = ML1mDataset_v3"
      ],
      "metadata": {
        "id": "kFBvpS2lnHHN"
      },
      "execution_count": null,
      "outputs": []
    },
    {
      "cell_type": "markdown",
      "source": [
        "Example"
      ],
      "metadata": {
        "id": "VW9x1oVpw8EM"
      }
    },
    {
      "cell_type": "code",
      "metadata": {
        "id": "latest-medium"
      },
      "source": [
        "class Args:\n",
        "    def __init__(self):\n",
        "        self.history_size = 8\n",
        "        self.step_size = 1\n",
        "        self.data_dir = '/content/data'\n",
        "        self.log_dir = '/content/recommender_logs'\n",
        "        self.model_dir = '/content/recommender_models'\n",
        "        self.batch_size = 32\n",
        "        self.shuffle = True\n",
        "        self.max_epochs = 2\n",
        "        self.val_epoch = 1\n",
        "        self.gpus = None\n",
        "        self.monitor = 'valid_loss'\n",
        "        self.mode = 'min'\n",
        "        self.window_size = 20\n",
        "\n",
        "args = Args()"
      ],
      "execution_count": null,
      "outputs": []
    },
    {
      "cell_type": "code",
      "metadata": {
        "id": "confused-console",
        "colab": {
          "base_uri": "https://localhost:8080/",
          "height": 432
        },
        "outputId": "32dc25df-b6da-4f8f-a9a2-47415b8ac71c"
      },
      "source": [
        "ds = ML1mDataset_v3(**args.__dict__)\n",
        "display(ds.ratings_frame.head())\n",
        "ds.ratings_frame.info()"
      ],
      "execution_count": null,
      "outputs": [
        {
          "output_type": "display_data",
          "data": {
            "text/html": [
              "\n",
              "  <div id=\"df-939bf137-cf4a-43b5-a7dc-306e6d9a18bb\">\n",
              "    <div class=\"colab-df-container\">\n",
              "      <div>\n",
              "<style scoped>\n",
              "    .dataframe tbody tr th:only-of-type {\n",
              "        vertical-align: middle;\n",
              "    }\n",
              "\n",
              "    .dataframe tbody tr th {\n",
              "        vertical-align: top;\n",
              "    }\n",
              "\n",
              "    .dataframe thead th {\n",
              "        text-align: right;\n",
              "    }\n",
              "</style>\n",
              "<table border=\"1\" class=\"dataframe\">\n",
              "  <thead>\n",
              "    <tr style=\"text-align: right;\">\n",
              "      <th></th>\n",
              "      <th>uid</th>\n",
              "      <th>sequence_sids</th>\n",
              "      <th>sequence_ratings</th>\n",
              "      <th>sex</th>\n",
              "      <th>age_group</th>\n",
              "      <th>occupation</th>\n",
              "    </tr>\n",
              "  </thead>\n",
              "  <tbody>\n",
              "    <tr>\n",
              "      <th>0</th>\n",
              "      <td>1</td>\n",
              "      <td>3186,1721,1270,1022,2340,1836,3408,1207</td>\n",
              "      <td>4,4,5,5,3,5,4,4</td>\n",
              "      <td>0</td>\n",
              "      <td>0</td>\n",
              "      <td>10</td>\n",
              "    </tr>\n",
              "    <tr>\n",
              "      <th>1</th>\n",
              "      <td>1</td>\n",
              "      <td>1721,1270,1022,2340,1836,3408,1207,2804</td>\n",
              "      <td>4,5,5,3,5,4,4,5</td>\n",
              "      <td>0</td>\n",
              "      <td>0</td>\n",
              "      <td>10</td>\n",
              "    </tr>\n",
              "    <tr>\n",
              "      <th>2</th>\n",
              "      <td>1</td>\n",
              "      <td>1270,1022,2340,1836,3408,1207,2804,260</td>\n",
              "      <td>5,5,3,5,4,4,5,4</td>\n",
              "      <td>0</td>\n",
              "      <td>0</td>\n",
              "      <td>10</td>\n",
              "    </tr>\n",
              "    <tr>\n",
              "      <th>3</th>\n",
              "      <td>1</td>\n",
              "      <td>2340,1836,3408,1207,2804,260,720,1193</td>\n",
              "      <td>3,5,4,4,5,4,3,5</td>\n",
              "      <td>0</td>\n",
              "      <td>0</td>\n",
              "      <td>10</td>\n",
              "    </tr>\n",
              "    <tr>\n",
              "      <th>4</th>\n",
              "      <td>1</td>\n",
              "      <td>1836,3408,1207,2804,260,720,1193,919</td>\n",
              "      <td>5,4,4,5,4,3,5,4</td>\n",
              "      <td>0</td>\n",
              "      <td>0</td>\n",
              "      <td>10</td>\n",
              "    </tr>\n",
              "  </tbody>\n",
              "</table>\n",
              "</div>\n",
              "      <button class=\"colab-df-convert\" onclick=\"convertToInteractive('df-939bf137-cf4a-43b5-a7dc-306e6d9a18bb')\"\n",
              "              title=\"Convert this dataframe to an interactive table.\"\n",
              "              style=\"display:none;\">\n",
              "        \n",
              "  <svg xmlns=\"http://www.w3.org/2000/svg\" height=\"24px\"viewBox=\"0 0 24 24\"\n",
              "       width=\"24px\">\n",
              "    <path d=\"M0 0h24v24H0V0z\" fill=\"none\"/>\n",
              "    <path d=\"M18.56 5.44l.94 2.06.94-2.06 2.06-.94-2.06-.94-.94-2.06-.94 2.06-2.06.94zm-11 1L8.5 8.5l.94-2.06 2.06-.94-2.06-.94L8.5 2.5l-.94 2.06-2.06.94zm10 10l.94 2.06.94-2.06 2.06-.94-2.06-.94-.94-2.06-.94 2.06-2.06.94z\"/><path d=\"M17.41 7.96l-1.37-1.37c-.4-.4-.92-.59-1.43-.59-.52 0-1.04.2-1.43.59L10.3 9.45l-7.72 7.72c-.78.78-.78 2.05 0 2.83L4 21.41c.39.39.9.59 1.41.59.51 0 1.02-.2 1.41-.59l7.78-7.78 2.81-2.81c.8-.78.8-2.07 0-2.86zM5.41 20L4 18.59l7.72-7.72 1.47 1.35L5.41 20z\"/>\n",
              "  </svg>\n",
              "      </button>\n",
              "      \n",
              "  <style>\n",
              "    .colab-df-container {\n",
              "      display:flex;\n",
              "      flex-wrap:wrap;\n",
              "      gap: 12px;\n",
              "    }\n",
              "\n",
              "    .colab-df-convert {\n",
              "      background-color: #E8F0FE;\n",
              "      border: none;\n",
              "      border-radius: 50%;\n",
              "      cursor: pointer;\n",
              "      display: none;\n",
              "      fill: #1967D2;\n",
              "      height: 32px;\n",
              "      padding: 0 0 0 0;\n",
              "      width: 32px;\n",
              "    }\n",
              "\n",
              "    .colab-df-convert:hover {\n",
              "      background-color: #E2EBFA;\n",
              "      box-shadow: 0px 1px 2px rgba(60, 64, 67, 0.3), 0px 1px 3px 1px rgba(60, 64, 67, 0.15);\n",
              "      fill: #174EA6;\n",
              "    }\n",
              "\n",
              "    [theme=dark] .colab-df-convert {\n",
              "      background-color: #3B4455;\n",
              "      fill: #D2E3FC;\n",
              "    }\n",
              "\n",
              "    [theme=dark] .colab-df-convert:hover {\n",
              "      background-color: #434B5C;\n",
              "      box-shadow: 0px 1px 3px 1px rgba(0, 0, 0, 0.15);\n",
              "      filter: drop-shadow(0px 1px 2px rgba(0, 0, 0, 0.3));\n",
              "      fill: #FFFFFF;\n",
              "    }\n",
              "  </style>\n",
              "\n",
              "      <script>\n",
              "        const buttonEl =\n",
              "          document.querySelector('#df-939bf137-cf4a-43b5-a7dc-306e6d9a18bb button.colab-df-convert');\n",
              "        buttonEl.style.display =\n",
              "          google.colab.kernel.accessAllowed ? 'block' : 'none';\n",
              "\n",
              "        async function convertToInteractive(key) {\n",
              "          const element = document.querySelector('#df-939bf137-cf4a-43b5-a7dc-306e6d9a18bb');\n",
              "          const dataTable =\n",
              "            await google.colab.kernel.invokeFunction('convertToInteractive',\n",
              "                                                     [key], {});\n",
              "          if (!dataTable) return;\n",
              "\n",
              "          const docLinkHtml = 'Like what you see? Visit the ' +\n",
              "            '<a target=\"_blank\" href=https://colab.research.google.com/notebooks/data_table.ipynb>data table notebook</a>'\n",
              "            + ' to learn more about interactive tables.';\n",
              "          element.innerHTML = '';\n",
              "          dataTable['output_type'] = 'display_data';\n",
              "          await google.colab.output.renderOutput(dataTable, element);\n",
              "          const docLink = document.createElement('div');\n",
              "          docLink.innerHTML = docLinkHtml;\n",
              "          element.appendChild(docLink);\n",
              "        }\n",
              "      </script>\n",
              "    </div>\n",
              "  </div>\n",
              "  "
            ],
            "text/plain": [
              "   uid                            sequence_sids  ... age_group  occupation\n",
              "0    1  3186,1721,1270,1022,2340,1836,3408,1207  ...         0          10\n",
              "1    1  1721,1270,1022,2340,1836,3408,1207,2804  ...         0          10\n",
              "2    1   1270,1022,2340,1836,3408,1207,2804,260  ...         0          10\n",
              "3    1    2340,1836,3408,1207,2804,260,720,1193  ...         0          10\n",
              "4    1     1836,3408,1207,2804,260,720,1193,919  ...         0          10\n",
              "\n",
              "[5 rows x 6 columns]"
            ]
          },
          "metadata": {}
        },
        {
          "output_type": "stream",
          "name": "stdout",
          "text": [
            "<class 'pandas.core.frame.DataFrame'>\n",
            "RangeIndex: 819470 entries, 0 to 819469\n",
            "Data columns (total 6 columns):\n",
            " #   Column            Non-Null Count   Dtype \n",
            "---  ------            --------------   ----- \n",
            " 0   uid               819470 non-null  int64 \n",
            " 1   sequence_sids     819470 non-null  object\n",
            " 2   sequence_ratings  819470 non-null  object\n",
            " 3   sex               819470 non-null  int64 \n",
            " 4   age_group         819470 non-null  int64 \n",
            " 5   occupation        819470 non-null  int64 \n",
            "dtypes: int64(4), object(2)\n",
            "memory usage: 37.5+ MB\n"
          ]
        }
      ]
    },
    {
      "cell_type": "code",
      "source": [
        "ds = ML1mDataModule_v3(**args.__dict__)\n",
        "ds.prepare_data()\n",
        "\n",
        "ds.setup()\n",
        "\n",
        "for batch in ds.train_dataloader():\n",
        "    print(batch)\n",
        "    break"
      ],
      "metadata": {
        "colab": {
          "base_uri": "https://localhost:8080/"
        },
        "id": "8nPm2jiEn0wW",
        "outputId": "a801db17-7db2-4c5b-fd51-89d58f26bda0"
      },
      "execution_count": null,
      "outputs": [
        {
          "output_type": "stream",
          "name": "stderr",
          "text": [
            "/usr/local/lib/python3.7/dist-packages/pytorch_lightning/core/datamodule.py:74: LightningDeprecationWarning: DataModule property `train_transforms` was deprecated in v1.5 and will be removed in v1.7.\n",
            "  \"DataModule property `train_transforms` was deprecated in v1.5 and will be removed in v1.7.\"\n"
          ]
        },
        {
          "output_type": "stream",
          "name": "stdout",
          "text": [
            "[tensor([ 214,  802, 2063, 2743, 2106,  675,  388, 4956,   73, 2063, 5585, 4115,\n",
            "         889, 3044, 5449, 3346, 5253, 1980, 1833, 1714, 2860, 5323, 1764, 1631,\n",
            "        1790,  482, 5852,  536, 2241, 3620, 2409, 3626]), tensor([[2027,  673,  518,  413, 1894, 1918, 2335],\n",
            "        [3219,  165, 3697, 2617,  288,  707,   18],\n",
            "        [3072, 2926, 1307, 3424, 1257, 3210, 1965],\n",
            "        [3502, 1037,  547,  330, 1391, 2694, 2722],\n",
            "        [  39, 1057, 3477, 3409,  453, 2005, 3481],\n",
            "        [2710, 2694, 3298, 2770, 3005, 2355, 2433],\n",
            "        [ 931, 3386, 1097,  161, 1270, 1225, 1957],\n",
            "        [2336, 2313, 2291, 1196, 3125, 1183,  443],\n",
            "        [  70, 3484, 3821, 2399,  240, 3864, 3578],\n",
            "        [1677,  315,  459, 3064, 3774, 3593, 3751],\n",
            "        [3783, 3408, 3897, 3911, 3893, 3753, 3649],\n",
            "        [2105,  170,  533, 1562, 2616,  485,  750],\n",
            "        [2692,   25, 1247,  265, 1393, 1277, 2020],\n",
            "        [ 858, 1198,  318,   36, 3421, 1225,  903],\n",
            "        [1722,  736, 3638, 2617, 2376, 1552,  786],\n",
            "        [ 318,  898, 1238, 2064, 2692, 1172, 1247],\n",
            "        [1589, 2467, 3386, 2583, 1625, 3251, 3176],\n",
            "        [1245, 3246, 1794,  535, 2240,  261,  508],\n",
            "        [3286, 3555, 3354, 3327, 2791, 1259,  480],\n",
            "        [2195,  420,  881,  243, 1617, 3044, 1092],\n",
            "        [2250, 3476,  206, 1682, 1093, 1112,  268],\n",
            "        [2804,   39,  235, 1175, 3340,  750, 3503],\n",
            "        [ 842,  724, 3535, 3273,  532,  328, 2826],\n",
            "        [3831, 3751, 3538, 3536, 3852, 3515, 3189],\n",
            "        [1391, 2054, 2012, 1917,  196, 1037, 1320],\n",
            "        [3763, 2278, 2280, 2985, 1732,  367,  999],\n",
            "        [1735, 2243,  440,  708,  915,  356, 1639],\n",
            "        [ 113, 1220, 1732, 3342,  541,  592, 1345],\n",
            "        [ 940, 2648, 2899,  594, 2644, 2904, 3932],\n",
            "        [ 858, 3362, 1234,   47, 2391, 2000, 2985],\n",
            "        [1270, 3763, 2716, 1124, 2065, 2852, 3210],\n",
            "        [2835, 1626,  172, 1681,  204, 3433, 1556]]), tensor([ 153,  849, 2463,  218,  472,  223, 1217, 3653, 3863, 3535, 3481, 3699,\n",
            "        1357, 1997, 1917,  309, 1732, 2245, 2291,  164,  480,  924, 2517, 3097,\n",
            "        1371, 3770, 2570, 1199,  923, 1061, 1246, 2643]), tensor([[2, 2, 2, 2, 2, 3, 1],\n",
            "        [4, 4, 3, 4, 4, 4, 4],\n",
            "        [2, 1, 3, 2, 3, 3, 3],\n",
            "        [4, 3, 3, 3, 3, 4, 3],\n",
            "        [3, 3, 2, 2, 2, 2, 3],\n",
            "        [2, 3, 4, 4, 3, 5, 2],\n",
            "        [5, 4, 5, 3, 4, 5, 5],\n",
            "        [4, 3, 5, 4, 4, 5, 2],\n",
            "        [5, 2, 1, 3, 3, 4, 5],\n",
            "        [3, 2, 3, 3, 3, 3, 2],\n",
            "        [5, 2, 5, 4, 3, 1, 4],\n",
            "        [3, 5, 4, 4, 3, 4, 4],\n",
            "        [3, 4, 4, 3, 4, 3, 5],\n",
            "        [4, 5, 5, 4, 3, 5, 4],\n",
            "        [5, 3, 2, 5, 4, 5, 4],\n",
            "        [5, 3, 5, 4, 3, 5, 4],\n",
            "        [4, 4, 3, 4, 4, 3, 5],\n",
            "        [5, 4, 4, 3, 4, 4, 5],\n",
            "        [2, 3, 2, 1, 4, 4, 4],\n",
            "        [3, 3, 2, 3, 4, 3, 3],\n",
            "        [4, 4, 5, 4, 4, 5, 4],\n",
            "        [4, 4, 4, 5, 3, 5, 3],\n",
            "        [3, 3, 5, 4, 2, 4, 4],\n",
            "        [3, 4, 4, 4, 3, 4, 5],\n",
            "        [5, 3, 3, 5, 5, 5, 5],\n",
            "        [4, 4, 4, 1, 5, 4, 3],\n",
            "        [1, 4, 4, 3, 4, 5, 4],\n",
            "        [3, 4, 3, 3, 4, 5, 4],\n",
            "        [5, 4, 5, 4, 4, 3, 4],\n",
            "        [5, 2, 4, 4, 3, 4, 4],\n",
            "        [4, 4, 4, 4, 3, 4, 3],\n",
            "        [3, 3, 2, 3, 3, 3, 1]]), tensor([2, 3, 3, 3, 3, 4, 3, 5, 3, 2, 5, 4, 2, 5, 3, 4, 2, 4, 4, 3, 3, 5, 3, 5,\n",
            "        5, 3, 2, 5, 5, 3, 5, 3]), tensor([1, 1, 1, 1, 0, 1, 0, 1, 1, 1, 1, 1, 1, 1, 1, 1, 0, 1, 1, 1, 1, 1, 1, 0,\n",
            "        1, 1, 0, 1, 1, 1, 0, 1]), tensor([1, 2, 2, 2, 1, 2, 2, 3, 1, 2, 2, 2, 4, 3, 1, 3, 6, 3, 1, 2, 3, 2, 1, 5,\n",
            "        2, 2, 2, 2, 4, 2, 3, 2]), tensor([20, 16,  4, 14, 20, 20,  0, 15,  4,  4,  4, 15, 20, 16, 12,  7, 13,  7,\n",
            "        17, 17, 17, 20,  0,  0,  0, 14,  1, 20,  5,  7,  9, 17])]\n"
          ]
        }
      ]
    },
    {
      "cell_type": "code",
      "execution_count": null,
      "metadata": {
        "id": "eBMOQT-HwpFN",
        "outputId": "694642d7-ca46-4f4d-cf77-79c3ca259530"
      },
      "outputs": [
        {
          "name": "stdout",
          "output_type": "stream",
          "text": [
            "\u001b[01;34m/content/data\u001b[00m\n",
            "├── [ 11M]  \u001b[01;34mprocessed\u001b[00m\n",
            "│   ├── [2.3M]  data_test_neg.pt\n",
            "│   ├── [ 95K]  data_test_pos.pt\n",
            "│   ├── [6.5M]  data_train.pt\n",
            "│   ├── [2.3M]  data_valid_neg.pt\n",
            "│   └── [ 95K]  data_valid_pos.pt\n",
            "└── [ 23M]  \u001b[01;34mraw\u001b[00m\n",
            "    └── [ 23M]  ratings.dat\n",
            "\n",
            "  35M used in 2 directories, 6 files\n"
          ]
        }
      ],
      "source": [
        "!tree -h --du -C \"{args.data_dir}\""
      ]
    },
    {
      "cell_type": "markdown",
      "metadata": {
        "id": "XL4-GWcVwpFO"
      },
      "source": [
        "## ML100k Dataset"
      ]
    },
    {
      "cell_type": "code",
      "execution_count": null,
      "metadata": {
        "id": "Kk8Zqm_5wpFO"
      },
      "outputs": [],
      "source": [
        "#export\n",
        "class ML100kDataset(Dataset):\n",
        "    url = 'https://files.grouplens.org/datasets/movielens/ml-100k.zip'\n",
        "    \n",
        "    def __init__(self, root):\n",
        "        super().__init__(root)\n",
        "    \n",
        "    @property\n",
        "    def raw_file_names(self) -> str:\n",
        "        return ['u1.base', 'u1.test', 'u4.test', 'allbut.pl', 'u.item', \n",
        "                'ua.test', 'u.occupation', 'u3.test', 'u5.base', 'ub.test', \n",
        "                'u2.test', 'u3.base', 'u.genre', 'u.data', 'u4.base', \n",
        "                'u5.test', 'u.info', 'README', 'ub.base', 'mku.sh', 'u2.base', \n",
        "                'u.user', 'ua.base']\n",
        "\n",
        "    @property\n",
        "    def processed_file_names(self) -> str:\n",
        "        raise NotImplementedError\n",
        "\n",
        "    def download(self):\n",
        "        path = download_url(self.url, self.raw_dir)\n",
        "        extract_zip(path, self.raw_dir)\n",
        "        from shutil import move, rmtree\n",
        "        file_names = os.listdir(osp.join(self.raw_dir, 'ml-100k'))   \n",
        "        for file_name in file_names:\n",
        "            move(osp.join(self.raw_dir, 'ml-100k', file_name), self.raw_dir)\n",
        "        rmtree(osp.join(self.raw_dir, 'ml-100k'))\n",
        "        os.unlink(path)\n",
        "\n",
        "    def process(self):\n",
        "        raise NotImplementedError"
      ]
    },
    {
      "cell_type": "code",
      "execution_count": null,
      "metadata": {
        "id": "mj0IZJf9wpFP",
        "outputId": "04c0c2ef-5d58-485e-9515-18d696d98e57"
      },
      "outputs": [
        {
          "name": "stdout",
          "output_type": "stream",
          "text": [
            "Author: Sparsh A.\n",
            "\n",
            "Last updated: 2022-01-10 10:04:23\n",
            "\n",
            "recohut: 0.0.10\n",
            "\n",
            "Compiler    : GCC 7.5.0\n",
            "OS          : Linux\n",
            "Release     : 5.4.144+\n",
            "Machine     : x86_64\n",
            "Processor   : x86_64\n",
            "CPU cores   : 2\n",
            "Architecture: 64bit\n",
            "\n",
            "IPython: 5.5.0\n",
            "pandas : 1.1.5\n",
            "\n"
          ]
        }
      ],
      "source": [
        "#hide\n",
        "%reload_ext watermark\n",
        "%watermark -a \"Sparsh A.\" -m -iv -u -t -d -p recohut"
      ]
    }
  ],
  "metadata": {
    "kernelspec": {
      "display_name": "Python 3",
      "name": "python3"
    },
    "colab": {
      "name": "datasets.movielens.ipynb",
      "provenance": []
    }
  },
  "nbformat": 4,
  "nbformat_minor": 0
}