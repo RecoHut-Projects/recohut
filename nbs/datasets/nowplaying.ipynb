{
  "nbformat": 4,
  "nbformat_minor": 0,
  "metadata": {
    "colab": {
      "name": "M717024 | datasets > nowplaying",
      "provenance": [],
      "collapsed_sections": [],
      "mount_file_id": "1FEZmnoLGIsTsGiK2gi1TsIHLAaWCXF_a",
      "authorship_tag": "ABX9TyN8x3vNi10L2fytI7eNdyxq"
    },
    "kernelspec": {
      "name": "python3",
      "display_name": "Python 3"
    },
    "language_info": {
      "name": "python"
    }
  },
  "cells": [
    {
      "cell_type": "code",
      "execution_count": null,
      "metadata": {
        "id": "fycOO2OxKHEF"
      },
      "outputs": [],
      "source": [
        "# default_exp datasets.nowplaying"
      ]
    },
    {
      "cell_type": "markdown",
      "metadata": {
        "id": "1KypvcFZI64_"
      },
      "source": [
        "# NowPlaying dataset\n",
        "> NowPlaying dataset."
      ]
    },
    {
      "cell_type": "code",
      "execution_count": null,
      "metadata": {
        "id": "RGwuVx5oI65E"
      },
      "outputs": [],
      "source": [
        "#hide\n",
        "from nbdev.showdoc import *"
      ]
    },
    {
      "cell_type": "code",
      "execution_count": null,
      "metadata": {
        "id": "32ibt_XlI65I"
      },
      "outputs": [],
      "source": [
        "#export\n",
        "from typing import List, Optional, Callable, Union, Any, Tuple\n",
        "\n",
        "import os\n",
        "import os.path as osp\n",
        "from collections.abc import Sequence\n",
        "import sys\n",
        "\n",
        "import numpy as np\n",
        "import pandas as pd\n",
        "from datetime import timezone, datetime, timedelta\n",
        "import time\n",
        "\n",
        "from recohut.datasets.base import SessionDataset\n",
        "from recohut.utils.common_utils import download_url, extract_zip, makedirs"
      ]
    },
    {
      "cell_type": "code",
      "source": [
        "#export\n",
        "class NowPlayingDataset(SessionDataset):\n",
        "    url = 'https://github.com/RecoHut-Datasets/nowplaying/raw/v2/nowplaying.zip'\n",
        "    \n",
        "    def __init__(self, root, process_method, min_session_length=2, min_item_support=2,\n",
        "                 num_slices=5, days_offset=0, days_shift=95, days_train=90, days_test=5):\n",
        "        min_date = session_length = None\n",
        "        super().__init__(root, process_method, min_date, session_length, \n",
        "                         min_session_length, min_item_support, num_slices, days_offset, \n",
        "                         days_shift, days_train, days_test)\n",
        "    \n",
        "    @property\n",
        "    def raw_file_names(self) -> str:\n",
        "        return 'nowplaying.csv'\n",
        "\n",
        "    @property\n",
        "    def processed_file_names(self) -> str:\n",
        "        return 'dataset.pkl'\n",
        "\n",
        "    def download(self):\n",
        "        path = download_url(self.url, self.raw_dir)\n",
        "        extract_zip(path, self.raw_dir)\n",
        "        from shutil import move, rmtree\n",
        "        move(osp.join(self.raw_dir, 'nowplaying', 'raw', 'nowplaying.csv'),\n",
        "             osp.join(self.raw_dir, 'nowplaying.csv'))\n",
        "        rmtree(osp.join(self.raw_dir, 'nowplaying'))\n",
        "        os.unlink(path)\n",
        "\n",
        "    def load(self):\n",
        "        #load csv\n",
        "        data = pd.read_csv(osp.join(self.raw_dir,self.raw_file_names), sep='\\t')\n",
        "        data.sort_values(by=['SessionId','Time'], inplace=True)\n",
        "        \n",
        "        #output\n",
        "        data_start = datetime.fromtimestamp(data.Time.min(), timezone.utc)\n",
        "        data_end = datetime.fromtimestamp(data.Time.max(), timezone.utc)\n",
        "        \n",
        "        print('Loaded data set\\n\\tEvents: {}\\n\\tSessions: {}\\n\\tItems: {}\\n\\tSpan: {} / {}\\n\\n'.\n",
        "            format(len(data), data.SessionId.nunique(), data.ItemId.nunique(), data_start.date().isoformat(), data_end.date().isoformat()))\n",
        "    \n",
        "        self.data = data"
      ],
      "metadata": {
        "id": "Ly0yKo2VOSgu"
      },
      "execution_count": null,
      "outputs": []
    },
    {
      "cell_type": "code",
      "execution_count": null,
      "metadata": {
        "colab": {
          "base_uri": "https://localhost:8080/"
        },
        "outputId": "9d1700e1-f28e-4342-9e25-9e27652e7d39",
        "id": "ZLbSXgy5P_TS"
      },
      "outputs": [
        {
          "output_type": "stream",
          "name": "stderr",
          "text": [
            "Downloading https://github.com/RecoHut-Datasets/nowplaying/raw/v2/nowplaying.zip\n",
            "Extracting /content/nowplaying/raw/nowplaying.zip\n",
            "Processing...\n"
          ]
        },
        {
          "output_type": "stream",
          "name": "stdout",
          "text": [
            "Loaded data set\n",
            "\tEvents: 1587776\n",
            "\tSessions: 156958\n",
            "\tItems: 258322\n",
            "\tSpan: 2014-01-03 / 2015-06-22\n",
            "\n",
            "\n",
            "Filtered data set\n",
            "\tEvents: 1471664\n",
            "\tSessions: 153383\n",
            "\tItems: 145045\n",
            "\tSpan: 2014-01-03 / 2015-06-22\n",
            "\n",
            "\n",
            "Full train set\n",
            "\tEvents: 1469377\n",
            "\tSessions: 153168\n",
            "\tItems: 145037\n",
            "Test set\n",
            "\tEvents: 2262\n",
            "\tSessions: 215\n",
            "\tItems: 1841\n",
            "Train set\n",
            "\tEvents: 1466700\n",
            "\tSessions: 152892\n",
            "\tItems: 145019\n",
            "Validation set\n",
            "\tEvents: 2634\n",
            "\tSessions: 276\n",
            "\tItems: 2238\n"
          ]
        },
        {
          "output_type": "stream",
          "name": "stderr",
          "text": [
            "Done!\n"
          ]
        }
      ],
      "source": [
        "!rm -r /content/nowplaying/processed/*\n",
        "npdata = NowPlayingDataset(root='/content/nowplaying', process_method='last')"
      ]
    },
    {
      "cell_type": "code",
      "execution_count": null,
      "metadata": {
        "outputId": "d2a98c87-1657-43b6-a7f8-51f5bcd88a27",
        "colab": {
          "base_uri": "https://localhost:8080/"
        },
        "id": "nS-2k0EBP_TU"
      },
      "outputs": [
        {
          "output_type": "stream",
          "name": "stdout",
          "text": [
            "\u001b[01;34m/content/nowplaying\u001b[00m\n",
            "├── [ 96M]  \u001b[01;34mprocessed\u001b[00m\n",
            "│   ├── [ 76K]  events_test.txt\n",
            "│   ├── [ 48M]  events_train_full.txt\n",
            "│   ├── [ 48M]  events_train_tr.txt\n",
            "│   └── [ 89K]  events_train_valid.txt\n",
            "└── [ 54M]  \u001b[01;34mraw\u001b[00m\n",
            "    └── [ 54M]  nowplaying.csv\n",
            "\n",
            " 150M used in 2 directories, 5 files\n"
          ]
        }
      ],
      "source": [
        "!tree --du -h -C /content/nowplaying"
      ]
    },
    {
      "cell_type": "code",
      "execution_count": null,
      "metadata": {
        "colab": {
          "base_uri": "https://localhost:8080/"
        },
        "outputId": "0d16541b-2924-49fa-89ba-15ebe66ca3b9",
        "id": "iX_ntuFrQgbl"
      },
      "outputs": [
        {
          "output_type": "stream",
          "name": "stderr",
          "text": [
            "Processing...\n"
          ]
        },
        {
          "output_type": "stream",
          "name": "stdout",
          "text": [
            "Loaded data set\n",
            "\tEvents: 1587776\n",
            "\tSessions: 156958\n",
            "\tItems: 258322\n",
            "\tSpan: 2014-01-03 / 2015-06-22\n",
            "\n",
            "\n",
            "Filtered data set\n",
            "\tEvents: 1471664\n",
            "\tSessions: 153383\n",
            "\tItems: 145045\n",
            "\tSpan: 2014-01-03 / 2015-06-22\n",
            "\n",
            "\n",
            "Full train set\n",
            "\tEvents: 1459201\n",
            "\tSessions: 152086\n",
            "\tItems: 144863\n",
            "Test set\n",
            "\tEvents: 11993\n",
            "\tSessions: 1286\n",
            "\tItems: 8449\n"
          ]
        },
        {
          "output_type": "stream",
          "name": "stderr",
          "text": [
            "Done!\n"
          ]
        }
      ],
      "source": [
        "!rm -r /content/nowplaying/processed/*\n",
        "npdata = NowPlayingDataset(root='/content/nowplaying', process_method='days_test')"
      ]
    },
    {
      "cell_type": "code",
      "execution_count": null,
      "metadata": {
        "outputId": "9e228795-98bc-427d-edb6-0724530888dc",
        "colab": {
          "base_uri": "https://localhost:8080/"
        },
        "id": "dMGI_G4AQgbo"
      },
      "outputs": [
        {
          "output_type": "stream",
          "name": "stdout",
          "text": [
            "\u001b[01;34m/content/nowplaying\u001b[00m\n",
            "├── [ 48M]  \u001b[01;34mprocessed\u001b[00m\n",
            "│   ├── [406K]  events_test.txt\n",
            "│   └── [ 48M]  events_train_full.txt\n",
            "└── [ 54M]  \u001b[01;34mraw\u001b[00m\n",
            "    └── [ 54M]  nowplaying.csv\n",
            "\n",
            " 102M used in 2 directories, 3 files\n"
          ]
        }
      ],
      "source": [
        "!tree --du -h -C /content/nowplaying"
      ]
    },
    {
      "cell_type": "code",
      "execution_count": null,
      "metadata": {
        "colab": {
          "base_uri": "https://localhost:8080/"
        },
        "outputId": "10a8f31d-9d01-43c4-8ab9-2f02671b63c4",
        "id": "z1PrliTzQguM"
      },
      "outputs": [
        {
          "output_type": "stream",
          "name": "stderr",
          "text": [
            "Processing...\n"
          ]
        },
        {
          "output_type": "stream",
          "name": "stdout",
          "text": [
            "Loaded data set\n",
            "\tEvents: 1587776\n",
            "\tSessions: 156958\n",
            "\tItems: 258322\n",
            "\tSpan: 2014-01-03 / 2015-06-22\n",
            "\n",
            "\n",
            "Filtered data set\n",
            "\tEvents: 1471664\n",
            "\tSessions: 153383\n",
            "\tItems: 145045\n",
            "\tSpan: 2014-01-03 / 2015-06-22\n",
            "\n",
            "\n",
            "Full data set 0\n",
            "\tEvents: 1471664\n",
            "\tSessions: 153383\n",
            "\tItems: 145045\n",
            "\tSpan: 2014-01-03T00:56:05+00:00 / 2015-06-22T01:09:22+00:00\n",
            "Slice data set 0\n",
            "\tEvents: 181916\n",
            "\tSessions: 19510\n",
            "\tItems: 57310\n",
            "\tSpan: 2014-01-03 / 2014-04-03 / 2014-04-08\n",
            "Train set 0\n",
            "\tEvents: 162294\n",
            "\tSessions: 17418\n",
            "\tItems: 53350\n",
            "\tSpan: 2014-01-03 / 2014-04-03\n",
            "Test set 0\n",
            "\tEvents: 14641\n",
            "\tSessions: 1930\n",
            "\tItems: 8273\n",
            "\tSpan: 2014-04-03 / 2014-04-08 \n",
            "\n",
            "\n",
            "Full data set 1\n",
            "\tEvents: 1471664\n",
            "\tSessions: 153383\n",
            "\tItems: 145045\n",
            "\tSpan: 2014-01-03T00:56:05+00:00 / 2015-06-22T01:09:22+00:00\n",
            "Slice data set 1\n",
            "\tEvents: 306065\n",
            "\tSessions: 33152\n",
            "\tItems: 76007\n",
            "\tSpan: 2014-04-08 / 2014-07-07 / 2014-07-12\n",
            "Train set 1\n",
            "\tEvents: 289659\n",
            "\tSessions: 31264\n",
            "\tItems: 73786\n",
            "\tSpan: 2014-04-08 / 2014-07-07\n",
            "Test set 1\n",
            "\tEvents: 13730\n",
            "\tSessions: 1812\n",
            "\tItems: 8835\n",
            "\tSpan: 2014-07-07 / 2014-07-12 \n",
            "\n",
            "\n",
            "Full data set 2\n",
            "\tEvents: 1471664\n",
            "\tSessions: 153383\n",
            "\tItems: 145045\n",
            "\tSpan: 2014-01-03T00:56:05+00:00 / 2015-06-22T01:09:22+00:00\n",
            "Slice data set 2\n",
            "\tEvents: 313537\n",
            "\tSessions: 31904\n",
            "\tItems: 75732\n",
            "\tSpan: 2014-07-12 / 2014-10-10 / 2014-10-15\n",
            "Train set 2\n",
            "\tEvents: 297065\n",
            "\tSessions: 30308\n",
            "\tItems: 73746\n",
            "\tSpan: 2014-07-12 / 2014-10-10\n",
            "Test set 2\n",
            "\tEvents: 14148\n",
            "\tSessions: 1535\n",
            "\tItems: 7955\n",
            "\tSpan: 2014-10-10 / 2014-10-15 \n",
            "\n",
            "\n",
            "Full data set 3\n",
            "\tEvents: 1471664\n",
            "\tSessions: 153383\n",
            "\tItems: 145045\n",
            "\tSpan: 2014-01-03T00:56:05+00:00 / 2015-06-22T01:09:22+00:00\n",
            "Slice data set 3\n",
            "\tEvents: 217179\n",
            "\tSessions: 22175\n",
            "\tItems: 64982\n",
            "\tSpan: 2014-10-15 / 2015-01-13 / 2015-01-18\n",
            "Train set 3\n",
            "\tEvents: 217179\n",
            "\tSessions: 22175\n",
            "\tItems: 64982\n",
            "\tSpan: 2014-10-15 / 2015-01-13\n",
            "Test set 3\n",
            "\tEvents: 0\n",
            "\tSessions: 0\n",
            "\tItems: 0\n",
            "\tSpan: 2015-01-13 / 2015-01-18 \n",
            "\n",
            "\n",
            "Full data set 4\n",
            "\tEvents: 1471664\n",
            "\tSessions: 153383\n",
            "\tItems: 145045\n",
            "\tSpan: 2014-01-03T00:56:05+00:00 / 2015-06-22T01:09:22+00:00\n",
            "Slice data set 4\n",
            "\tEvents: 293509\n",
            "\tSessions: 30423\n",
            "\tItems: 80761\n",
            "\tSpan: 2015-01-18 / 2015-04-18 / 2015-04-23\n",
            "Train set 4\n",
            "\tEvents: 278156\n",
            "\tSessions: 29059\n",
            "\tItems: 78269\n",
            "\tSpan: 2015-01-18 / 2015-04-18\n",
            "Test set 4\n",
            "\tEvents: 12287\n",
            "\tSessions: 1276\n",
            "\tItems: 8609\n",
            "\tSpan: 2015-04-18 / 2015-04-23 \n",
            "\n",
            "\n"
          ]
        },
        {
          "output_type": "stream",
          "name": "stderr",
          "text": [
            "Done!\n"
          ]
        }
      ],
      "source": [
        "!rm -r /content/nowplaying/processed/*\n",
        "npdata = NowPlayingDataset(root='/content/nowplaying', process_method='slice')"
      ]
    },
    {
      "cell_type": "code",
      "execution_count": null,
      "metadata": {
        "outputId": "bb18741e-0e97-43aa-eb6e-9453970ce69d",
        "colab": {
          "base_uri": "https://localhost:8080/"
        },
        "id": "KUu9GXU2QguN"
      },
      "outputs": [
        {
          "output_type": "stream",
          "name": "stdout",
          "text": [
            "\u001b[01;34m/content/nowplaying\u001b[00m\n",
            "├── [ 43M]  \u001b[01;34mprocessed\u001b[00m\n",
            "│   ├── [486K]  events_test.0.txt\n",
            "│   ├── [458K]  events_test.1.txt\n",
            "│   ├── [474K]  events_test.2.txt\n",
            "│   ├── [  36]  events_test.3.txt\n",
            "│   ├── [415K]  events_test.4.txt\n",
            "│   ├── [5.3M]  events_train_full.0.txt\n",
            "│   ├── [9.5M]  events_train_full.1.txt\n",
            "│   ├── [9.7M]  events_train_full.2.txt\n",
            "│   ├── [7.1M]  events_train_full.3.txt\n",
            "│   └── [9.2M]  events_train_full.4.txt\n",
            "└── [ 54M]  \u001b[01;34mraw\u001b[00m\n",
            "    └── [ 54M]  nowplaying.csv\n",
            "\n",
            "  96M used in 2 directories, 11 files\n"
          ]
        }
      ],
      "source": [
        "!tree --du -h -C /content/nowplaying"
      ]
    },
    {
      "cell_type": "code",
      "execution_count": null,
      "metadata": {
        "id": "yXwRDjpKI65c",
        "outputId": "0573212f-1319-4b07-eedb-8793c332d45d",
        "colab": {
          "base_uri": "https://localhost:8080/"
        }
      },
      "outputs": [
        {
          "output_type": "stream",
          "name": "stdout",
          "text": [
            "Author: Sparsh A.\n",
            "\n",
            "Last updated: 2021-12-22 09:23:49\n",
            "\n",
            "recohut: 0.0.5\n",
            "\n",
            "Compiler    : GCC 7.5.0\n",
            "OS          : Linux\n",
            "Release     : 5.4.144+\n",
            "Machine     : x86_64\n",
            "Processor   : x86_64\n",
            "CPU cores   : 2\n",
            "Architecture: 64bit\n",
            "\n",
            "pandas : 1.1.5\n",
            "IPython: 5.5.0\n",
            "numpy  : 1.19.5\n",
            "sys    : 3.7.12 (default, Sep 10 2021, 00:21:48) \n",
            "[GCC 7.5.0]\n",
            "\n"
          ]
        }
      ],
      "source": [
        "#hide\n",
        "%reload_ext watermark\n",
        "%watermark -a \"Sparsh A.\" -m -iv -u -t -d -p recohut"
      ]
    }
  ]
}