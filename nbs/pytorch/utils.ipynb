{
  "nbformat": 4,
  "nbformat_minor": 0,
  "metadata": {
    "kernelspec": {
      "display_name": "Python 3",
      "name": "python3"
    },
    "colab": {
      "name": "logging.ipynb",
      "provenance": []
    }
  },
  "cells": [
    {
      "cell_type": "code",
      "metadata": {
        "id": "bhcgJN62Ej4m"
      },
      "source": [
        "#hide\n",
        "!pip install -q nbdev \n",
        "!pip install -q git+https://github.com/RecoHut-Projects/recohut"
      ],
      "execution_count": null,
      "outputs": []
    },
    {
      "cell_type": "code",
      "metadata": {
        "id": "_HFE-WXOEj4v"
      },
      "source": [
        "# default_exp pytorch.utils"
      ],
      "execution_count": null,
      "outputs": []
    },
    {
      "cell_type": "markdown",
      "metadata": {
        "id": "0kJRvN6pEj4w"
      },
      "source": [
        "# PyTorch Utils\n",
        "> Utilities for PyTorch-dependent modules."
      ]
    },
    {
      "cell_type": "code",
      "metadata": {
        "id": "htCNh2vMEj4x"
      },
      "source": [
        "#hide\n",
        "from nbdev.showdoc import *"
      ],
      "execution_count": null,
      "outputs": []
    },
    {
      "cell_type": "code",
      "metadata": {
        "id": "a5CgPmEMEj4x"
      },
      "source": [
        "#export\n",
        "import sys\n",
        "import os\n",
        "import numpy as np\n",
        "import torch\n",
        "import random"
      ],
      "execution_count": null,
      "outputs": []
    },
    {
      "cell_type": "code",
      "metadata": {
        "id": "nPYWaSAZEj4y"
      },
      "source": [
        "#export\n",
        "def seed_everything(seed=40):\n",
        "    \"\"\"sets the random seed to establish deterministic behaviors\n",
        "\n",
        "    Args:\n",
        "        seed (int): the random seed integer\n",
        "    \"\"\"\n",
        "    random.seed(seed)\n",
        "    os.environ[\"PYTHONHASHSEED\"] = str(seed)\n",
        "    np.random.seed(seed)\n",
        "    torch.manual_seed(seed)\n",
        "    torch.cuda.manual_seed(seed)\n",
        "    torch.backends.cudnn.deterministic = True"
      ],
      "execution_count": null,
      "outputs": []
    },
    {
      "cell_type": "markdown",
      "metadata": {
        "id": "B6nA92E1Ej40"
      },
      "source": [
        "---"
      ]
    },
    {
      "cell_type": "code",
      "metadata": {
        "id": "fsxm8v9QEj41"
      },
      "source": [
        "import doctest\n",
        "\n",
        "doctest.run_docstring_examples(seed_everything, globals())"
      ],
      "execution_count": null,
      "outputs": []
    },
    {
      "cell_type": "markdown",
      "metadata": {
        "id": "nDpdnztaEj42"
      },
      "source": [
        "---"
      ]
    },
    {
      "cell_type": "code",
      "metadata": {
        "colab": {
          "base_uri": "https://localhost:8080/"
        },
        "id": "XWX7UEnigAmV",
        "outputId": "40c13dab-4818-4893-afec-959756ec6aa0"
      },
      "source": [
        "#hide-input\n",
        "!pip install -q watermark\n",
        "%reload_ext watermark\n",
        "%watermark -a \"Sparsh A.\" -m -iv -u -t -d"
      ],
      "execution_count": null,
      "outputs": [
        {
          "output_type": "stream",
          "name": "stdout",
          "text": [
            "Author: Sparsh A.\n",
            "\n",
            "Last updated: 2021-12-04 08:12:30\n",
            "\n",
            "Compiler    : GCC 7.5.0\n",
            "OS          : Linux\n",
            "Release     : 5.4.104+\n",
            "Machine     : x86_64\n",
            "Processor   : x86_64\n",
            "CPU cores   : 2\n",
            "Architecture: 64bit\n",
            "\n",
            "torch  : 1.10.0+cu111\n",
            "IPython: 5.5.0\n",
            "sys    : 3.7.12 (default, Sep 10 2021, 00:21:48) \n",
            "[GCC 7.5.0]\n",
            "numpy  : 1.19.5\n",
            "\n"
          ]
        }
      ]
    },
    {
      "cell_type": "markdown",
      "metadata": {
        "id": "I1jluiw4Ej45"
      },
      "source": [
        "---"
      ]
    }
  ]
}