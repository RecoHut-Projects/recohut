{
 "cells": [
  {
   "cell_type": "code",
   "execution_count": null,
   "metadata": {},
   "outputs": [],
   "source": [
    "# default_exp models.all"
   ]
  },
  {
   "cell_type": "markdown",
   "metadata": {},
   "source": [
    "# Models\n",
    "> Import all models."
   ]
  },
  {
   "cell_type": "code",
   "execution_count": null,
   "metadata": {},
   "outputs": [],
   "source": [
    "#hide\n",
    "from nbdev.showdoc import *"
   ]
  },
  {
   "cell_type": "code",
   "execution_count": null,
   "metadata": {},
   "outputs": [],
   "source": [
    "#export\n",
    "from recohut.models.actor_critic import *\n",
    "from recohut.models.afm import *\n",
    "from recohut.models.afn import *\n",
    "from recohut.models.ar import *\n",
    "from recohut.models.autoint import *\n",
    "from recohut.models.bandits import *\n",
    "from recohut.models.bcq import *\n",
    "from recohut.models.bert import *\n",
    "from recohut.models.cotrec import *\n",
    "from recohut.models.dcn import *\n",
    "from recohut.models.deepfm import *\n",
    "from recohut.models.dnn import *\n",
    "from recohut.models.dssm import *\n",
    "from recohut.models.embedding import *\n",
    "from recohut.models.epsilon import *\n",
    "from recohut.models.factorization import *\n",
    "from recohut.models.ffm import *\n",
    "from recohut.models.fm import *\n",
    "from recohut.models.fnfm import *\n",
    "from recohut.models.fnn import *\n",
    "from recohut.models.gmf import *\n",
    "from recohut.models.groupim import *\n",
    "from recohut.models.hofm import *\n",
    "from recohut.models.lr import *\n",
    "from recohut.models.mlp import *\n",
    "from recohut.models.mpm import *\n",
    "from recohut.models.narm import *\n",
    "from recohut.models.ncf import *\n",
    "from recohut.models.nfm import *\n",
    "from recohut.models.nmf import *\n",
    "from recohut.models.pnn import *\n",
    "from recohut.models.prod2vec import *\n",
    "from recohut.models.sasrec import *\n",
    "# from recohut.models.siren import *\n",
    "from recohut.models.spop import *\n",
    "from recohut.models.sr import *\n",
    "from recohut.models.srgnn import *\n",
    "from recohut.models.tagnn import *\n",
    "from recohut.models.tagnn_pp import *\n",
    "from recohut.models.ultragcn import *\n",
    "from recohut.models.vsknn import *\n",
    "from recohut.models.wide_and_deep import *\n",
    "from recohut.models.xdeepfm import *"
   ]
  }
 ],
 "metadata": {
  "kernelspec": {
   "display_name": "Python 3",
   "name": "python3"
  }
 },
 "nbformat": 4,
 "nbformat_minor": 0
}
