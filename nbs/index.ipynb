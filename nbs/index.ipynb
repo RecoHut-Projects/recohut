{
 "cells": [
  {
   "cell_type": "code",
   "execution_count": null,
   "metadata": {},
   "outputs": [],
   "source": [
    "#hide\n",
    "from recohut.core import *"
   ]
  },
  {
   "cell_type": "markdown",
   "metadata": {},
   "source": [
    "# recohut\n",
    "\n",
    "> This is a python library for building recommender systems."
   ]
  },
  {
   "cell_type": "markdown",
   "metadata": {},
   "source": [
    "## Install"
   ]
  },
  {
   "cell_type": "markdown",
   "metadata": {},
   "source": [
    "`pip install your_project_name`"
   ]
  },
  {
   "cell_type": "markdown",
   "metadata": {},
   "source": [
    "## How to use"
   ]
  },
  {
   "cell_type": "code",
   "execution_count": null,
   "metadata": {},
   "outputs": [],
   "source": [
    "# # import the required modules\n",
    "# import recohut\n",
    "# from recohut.datasets import MovieLens\n",
    "# from recohut.models import MatrixFactorization\n",
    "\n",
    "# # define the data and model\n",
    "# data = MovieLens(version='100k', download=True)\n",
    "# model = MatrixFactorization()\n",
    "\n",
    "# # train the matrix factorization model\n",
    "# model.train(data)\n",
    "\n",
    "# # evaluate the model\n",
    "# model.evaluate(metrics=['MRR','HR'])"
   ]
  }
 ],
 "metadata": {
  "kernelspec": {
   "display_name": "Python 3",
   "language": "python",
   "name": "python3"
  }
 },
 "nbformat": 4,
 "nbformat_minor": 0
}
