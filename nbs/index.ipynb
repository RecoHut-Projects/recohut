{
  "nbformat": 4,
  "nbformat_minor": 0,
  "metadata": {
    "kernelspec": {
      "display_name": "Python 3",
      "language": "python",
      "name": "python3"
    },
    "colab": {
      "name": "index.ipynb",
      "provenance": []
    }
  },
  "cells": [
    {
      "cell_type": "code",
      "metadata": {
        "id": "jCE7SnQ7lOVR"
      },
      "source": [
        "#hide\n",
        "from recohut.core import *"
      ],
      "execution_count": null,
      "outputs": []
    },
    {
      "cell_type": "markdown",
      "metadata": {
        "id": "p6GXLBd2lOVZ"
      },
      "source": [
        "# recohut\n",
        "\n",
        "> This is a python library for building recommender systems."
      ]
    },
    {
      "cell_type": "markdown",
      "metadata": {
        "id": "m9f6YQdrlOVc"
      },
      "source": [
        "## Install"
      ]
    },
    {
      "cell_type": "markdown",
      "metadata": {
        "id": "xkogAYSjlOVd"
      },
      "source": [
        "`pip install your_project_name`"
      ]
    },
    {
      "cell_type": "markdown",
      "metadata": {
        "id": "gtLpUu3hlOVe"
      },
      "source": [
        "## How to use"
      ]
    },
    {
      "cell_type": "code",
      "metadata": {
        "id": "tQUCFeaElOVg"
      },
      "source": [
        "# # import the required modules\n",
        "# import recohut\n",
        "# from recohut.datasets import MovieLens\n",
        "# from recohut.models import MatrixFactorization\n",
        "\n",
        "# # define the data and model\n",
        "# data = MovieLens(version='100k', download=True)\n",
        "# model = MatrixFactorization()\n",
        "\n",
        "# # train the matrix factorization model\n",
        "# model.train(data)\n",
        "\n",
        "# # evaluate the model\n",
        "# model.evaluate(metrics=['MRR','HR'])"
      ],
      "execution_count": null,
      "outputs": []
    }
  ]
}